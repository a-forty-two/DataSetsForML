{
  "nbformat": 4,
  "nbformat_minor": 0,
  "metadata": {
    "colab": {
      "name": "KMeans.ipynb",
      "provenance": [],
      "collapsed_sections": [],
      "authorship_tag": "ABX9TyMKC+lqEi+aoBskPco+9O8r",
      "include_colab_link": true
    },
    "kernelspec": {
      "name": "python3",
      "display_name": "Python 3"
    }
  },
  "cells": [
    {
      "cell_type": "markdown",
      "metadata": {
        "id": "view-in-github",
        "colab_type": "text"
      },
      "source": [
        "<a href=\"https://colab.research.google.com/github/a-forty-two/DataSetsForML/blob/master/KMeans.ipynb\" target=\"_parent\"><img src=\"https://colab.research.google.com/assets/colab-badge.svg\" alt=\"Open In Colab\"/></a>"
      ]
    },
    {
      "cell_type": "code",
      "metadata": {
        "id": "EEAmrpecrJBW",
        "colab_type": "code",
        "colab": {}
      },
      "source": [
        "# Objective is to divide n points into k clusters\n",
        "# for our example, let's assume k=3\n",
        "import pandas as pd\n",
        "import numpy as np\n",
        "import matplotlib.pyplot as plt \n",
        "%matplotlib inline \n",
        "# MATPLOTLIB => instead of using official definition, use local definition\n",
        "# local def is from Google Colab, Anaconda or Jupyter or iPython "
      ],
      "execution_count": 0,
      "outputs": []
    },
    {
      "cell_type": "code",
      "metadata": {
        "id": "CmgiSSh5u1Pj",
        "colab_type": "code",
        "colab": {}
      },
      "source": [
        "df = pd.DataFrame({\n",
        "    'x':[12,20,28,18,29,33,24,45,52,45,51,52,55,53,55,61,65,66,72,22],\n",
        "    'y':[39, 35, 30, 52, 55, 53, 46, 55, 59, 63,70, 66,63,58,23,14,8,19,7,24]\n",
        "})"
      ],
      "execution_count": 0,
      "outputs": []
    },
    {
      "cell_type": "code",
      "metadata": {
        "id": "V84xS4Nswqxe",
        "colab_type": "code",
        "colab": {}
      },
      "source": [
        "np.random.seed(42) # random is pseudorandom! that's why np.random instead of random.random\n",
        "k = 3 # __init__(self,k=5): self.k = k; alternately command line argument! argv!\n",
        "# choose random k centroids\n",
        "# centroid logic, feel free to experiment with a diff logic\n",
        "centroids = {\n",
        "   i+1: [np.random.randint(0,80), np.random.randint(0,80)] for i in range(k)\n",
        "}\n",
        "\n",
        "\n"
      ],
      "execution_count": 0,
      "outputs": []
    },
    {
      "cell_type": "code",
      "metadata": {
        "id": "1sgpuZk88Jw2",
        "colab_type": "code",
        "outputId": "fe1b808b-df87-4e0f-d8fb-15b3dc7d6ce5",
        "colab": {
          "base_uri": "https://localhost:8080/",
          "height": 324
        }
      },
      "source": [
        "# plot the points and centroids, plot only during dev/test, of course not in production\n",
        "fig = plt.figure(figsize=(5,5))\n",
        "plt.scatter(df['x'],df['y'], color='k')\n",
        "cdic = {1:'r',2:'b',3:'g'}\n",
        "for i in centroids.keys():\n",
        "  plt.scatter(*centroids[i],color=cdic[i])\n",
        "plt.xlim(0,80)\n",
        "plt.ylim(0,80)\n",
        "plt.show()"
      ],
      "execution_count": 0,
      "outputs": [
        {
          "output_type": "display_data",
          "data": {
            "image/png": "[encoded data removed]",
            "text/plain": [
              "<Figure size 360x360 with 1 Axes>"
            ]
          },
          "metadata": {
            "tags": []
          }
        }
      ]
    },
    {
      "cell_type": "code",
      "metadata": {
        "id": "kg1ZWaOR88tr",
        "colab_type": "code",
        "colab": {}
      },
      "source": [
        "def doWork(df, centroids):\n",
        "  for i in centroids.keys():\n",
        "    #SQUARED ROOT DISTANCE\n",
        "    df['distance_from_{}'.format(i)] = (np.sqrt((df['x']-centroids[i][0])**2 +(df['y']-centroids[i][1])**2 ))\n",
        "  centroid_dis_cols = ['distance_from_{}'.format(i) for i in centroids.keys()] # list of col names that we need\n",
        "  df['closest'] = df.loc[:,centroid_dis_cols].idxmin(axis=1) # axis control dimension of data, this means, create new col\n",
        "  df['closest'] = df['closest'].map(lambda x: int(x.lstrip('distance_from_')))\n",
        "  df['color'] = df['closest'].map(lambda x: cdic[x])\n",
        "  return df\n",
        "\n",
        "# 1)distance_from_1 : 25, distance_from_2:45, distance_from_3: 15\n",
        "# 2)closest: \"distance_from_3\"\n",
        "# 3)closest: 3\n",
        "# 4)color: g"
      ],
      "execution_count": 0,
      "outputs": []
    },
    {
      "cell_type": "code",
      "metadata": {
        "id": "Und9Ly6E_ZHr",
        "colab_type": "code",
        "outputId": "0bc188ec-066e-45a1-9045-2ab1dbbd2065",
        "colab": {
          "base_uri": "https://localhost:8080/",
          "height": 195
        }
      },
      "source": [
        "df_modified = doWork(df, centroids)\n",
        "df_modified.head()"
      ],
      "execution_count": 0,
      "outputs": [
        {
          "output_type": "execute_result",
          "data": {
            "text/html": [
              "<div>\n",
              "<style scoped>\n",
              "    .dataframe tbody tr th:only-of-type {\n",
              "        vertical-align: middle;\n",
              "    }\n",
              "\n",
              "    .dataframe tbody tr th {\n",
              "        vertical-align: top;\n",
              "    }\n",
              "\n",
              "    .dataframe thead th {\n",
              "        text-align: right;\n",
              "    }\n",
              "</style>\n",
              "<table border=\"1\" class=\"dataframe\">\n",
              "  <thead>\n",
              "    <tr style=\"text-align: right;\">\n",
              "      <th></th>\n",
              "      <th>x</th>\n",
              "      <th>y</th>\n",
              "      <th>distance_from_1</th>\n",
              "      <th>closest</th>\n",
              "      <th>color</th>\n",
              "      <th>distance_from_2</th>\n",
              "      <th>distance_from_3</th>\n",
              "    </tr>\n",
              "  </thead>\n",
              "  <tbody>\n",
              "    <tr>\n",
              "      <th>0</th>\n",
              "      <td>12</td>\n",
              "      <td>39</td>\n",
              "      <td>41.260037</td>\n",
              "      <td>3</td>\n",
              "      <td>g</td>\n",
              "      <td>44.785657</td>\n",
              "      <td>15.014660</td>\n",
              "    </tr>\n",
              "    <tr>\n",
              "      <th>1</th>\n",
              "      <td>20</td>\n",
              "      <td>35</td>\n",
              "      <td>32.317033</td>\n",
              "      <td>3</td>\n",
              "      <td>g</td>\n",
              "      <td>40.680437</td>\n",
              "      <td>14.361058</td>\n",
              "    </tr>\n",
              "    <tr>\n",
              "      <th>2</th>\n",
              "      <td>28</td>\n",
              "      <td>30</td>\n",
              "      <td>22.921401</td>\n",
              "      <td>3</td>\n",
              "      <td>g</td>\n",
              "      <td>39.077370</td>\n",
              "      <td>19.596939</td>\n",
              "    </tr>\n",
              "    <tr>\n",
              "      <th>3</th>\n",
              "      <td>18</td>\n",
              "      <td>52</td>\n",
              "      <td>44.293235</td>\n",
              "      <td>3</td>\n",
              "      <td>g</td>\n",
              "      <td>33.935413</td>\n",
              "      <td>6.003332</td>\n",
              "    </tr>\n",
              "    <tr>\n",
              "      <th>4</th>\n",
              "      <td>29</td>\n",
              "      <td>55</td>\n",
              "      <td>40.126558</td>\n",
              "      <td>3</td>\n",
              "      <td>g</td>\n",
              "      <td>22.542930</td>\n",
              "      <td>8.345058</td>\n",
              "    </tr>\n",
              "  </tbody>\n",
              "</table>\n",
              "</div>"
            ],
            "text/plain": [
              "    x   y  distance_from_1  closest color  distance_from_2  distance_from_3\n",
              "0  12  39        41.260037        3     g        44.785657        15.014660\n",
              "1  20  35        32.317033        3     g        40.680437        14.361058\n",
              "2  28  30        22.921401        3     g        39.077370        19.596939\n",
              "3  18  52        44.293235        3     g        33.935413         6.003332\n",
              "4  29  55        40.126558        3     g        22.542930         8.345058"
            ]
          },
          "metadata": {
            "tags": []
          },
          "execution_count": 41
        }
      ]
    },
    {
      "cell_type": "code",
      "metadata": {
        "id": "jHZ0TzK1CSA4",
        "colab_type": "code",
        "outputId": "ebfde526-75fb-47f9-8b75-e15e1f0e1f4a",
        "colab": {
          "base_uri": "https://localhost:8080/",
          "height": 324
        }
      },
      "source": [
        "plt.figure(figsize=(5,5))\n",
        "plt.scatter(df_modified['x'],df_modified['y'],color=df_modified['color'], alpha=0.5)\n",
        "for i in centroids.keys():\n",
        "  plt.scatter(*centroids[i],color=cdic[i])\n",
        "plt.xlim(0,90)\n",
        "plt.ylim(0,90)\n",
        "plt.show()\n"
      ],
      "execution_count": 0,
      "outputs": [
        {
          "output_type": "display_data",
          "data": {
            "image/png": "[encoded data removed]",
            "text/plain": [
              "<Figure size 360x360 with 1 Axes>"
            ]
          },
          "metadata": {
            "tags": []
          }
        }
      ]
    },
    {
      "cell_type": "code",
      "metadata": {
        "id": "S8g-Z-T_Keld",
        "colab_type": "code",
        "outputId": "e052ad06-f7af-4d86-8946-83eb44019442",
        "colab": {
          "base_uri": "https://localhost:8080/",
          "height": 34
        }
      },
      "source": [
        "import copy\n",
        "old_centroids = copy.deepcopy(centroids)\n",
        "# Update here to create your own logic to update centroids\n",
        "def newCentroids(df,k):\n",
        "  centroids_new = centroids\n",
        "  for i in centroids.keys():\n",
        "    centroids_new[i][0] = np.mean(df[df['closest']== i]['x'])\n",
        "    centroids_new[i][1] = np.mean(df[df['closest']== i]['y'])\n",
        "  return centroids_new\n",
        "\n",
        "centroids_new = newCentroids(df_modified, k)\n",
        "centroids_new"
      ],
      "execution_count": 0,
      "outputs": [
        {
          "output_type": "execute_result",
          "data": {
            "text/plain": [
              "{1: [63.8, 14.2], 2: [50.42857142857143, 62.0], 3: [23.25, 41.75]}"
            ]
          },
          "metadata": {
            "tags": []
          },
          "execution_count": 43
        }
      ]
    },
    {
      "cell_type": "code",
      "metadata": {
        "id": "BiBfElsJLnK_",
        "colab_type": "code",
        "outputId": "8ce26163-9859-4c88-c9a1-b509b7deccac",
        "colab": {
          "base_uri": "https://localhost:8080/",
          "height": 324
        }
      },
      "source": [
        "fig = plt.figure(figsize=(5,5))\n",
        "ax = plt.axes()\n",
        "plt.scatter(df_modified['x'],df_modified['y'],color=df_modified['color'],alpha=0.75)\n",
        "for i in centroids_new.keys():\n",
        "  plt.scatter(*centroids[i], color=cdic[i])\n",
        "plt.xlim(0,80)\n",
        "plt.ylim(0,80)\n",
        "#plt.show()\n",
        "# difference between our old and new centroids\n",
        "for i in old_centroids.keys():\n",
        "  oldx = old_centroids[i][0]\n",
        "  oldy = old_centroids[i][1]\n",
        "  dx = (centroids_new[i][0]-old_centroids[i][0])\n",
        "  dy = (centroids_new[i][1]-old_centroids[i][1])\n",
        "  ax.arrow(oldx,oldy,dx,dy,head_width=2,head_length=3,fc=cdic[i],ec=cdic[i])\n",
        "plt.show()\n"
      ],
      "execution_count": 0,
      "outputs": [
        {
          "output_type": "display_data",
          "data": {
            "image/png": "[encoded data removed]",
            "text/plain": [
              "<Figure size 360x360 with 1 Axes>"
            ]
          },
          "metadata": {
            "tags": []
          }
        }
      ]
    },
    {
      "cell_type": "code",
      "metadata": {
        "id": "G7JAJ4-qNfXu",
        "colab_type": "code",
        "outputId": "af445992-f259-49d0-cd50-251d0cc139a9",
        "colab": {
          "base_uri": "https://localhost:8080/",
          "height": 324
        }
      },
      "source": [
        "df_new = doWork(df_modified, centroids_new)\n",
        "fig = plt.figure(figsize=(5,5))\n",
        "plt.scatter(df_new['x'],df_new['y'],color=df_new['color'])\n",
        "for i in centroids.keys():\n",
        "  plt.scatter(*centroids[i], color=cdic[i])\n",
        "plt.xlim(0,80)\n",
        "plt.ylim(0,80)\n",
        "plt.show()"
      ],
      "execution_count": 0,
      "outputs": [
        {
          "output_type": "display_data",
          "data": {
            "image/png": "[encoded data removed]",
            "text/plain": [
              "<Figure size 360x360 with 1 Axes>"
            ]
          },
          "metadata": {
            "tags": []
          }
        }
      ]
    },
    {
      "cell_type": "code",
      "metadata": {
        "id": "VYVLj7uxQ0a_",
        "colab_type": "code",
        "outputId": "ff4e5ba5-50e4-4c25-ae3e-a8930d945ab8",
        "colab": {
          "base_uri": "https://localhost:8080/",
          "height": 324
        }
      },
      "source": [
        "while True:\n",
        "  closest_centroids = df_new['closest'].copy(deep=True)\n",
        "  centroids = newCentroids(df_new,centroids)\n",
        "  df_new = doWork(df_new, centroids)\n",
        "  # write the logic to compare which clustering is better\n",
        "  if closest_centroids.equals(df['closest']):\n",
        "    break\n",
        "\n",
        "fig = plt.figure(figsize=(5,5))\n",
        "plt.scatter(df_new['x'],df_new['y'],color=df_new['color'])\n",
        "for i in centroids.keys():\n",
        "  plt.scatter(*centroids[i], color=cdic[i])\n",
        "plt.xlim(0,80)\n",
        "plt.ylim(0,80)\n",
        "plt.show()\n"
      ],
      "execution_count": 0,
      "outputs": [
        {
          "output_type": "display_data",
          "data": {
            "image/png": "[encoded data removed]",
            "text/plain": [
              "<Figure size 360x360 with 1 Axes>"
            ]
          },
          "metadata": {
            "tags": []
          }
        }
      ]
    },
    {
      "cell_type": "code",
      "metadata": {
        "id": "F7VcdxwkTt-l",
        "colab_type": "code",
        "colab": {}
      },
      "source": [
        "class PandaKMeans:\n",
        "  def __init__(this,k=5):\n",
        "    this.k = k\n",
        "  def fit(this,df): # no trainx,trainy because this is clustering and we don't have a y!\n",
        "    this.df_new = doWork(df,)\n",
        "  def doWork(this,df, centroids):\n",
        "  for i in centroids.keys():\n",
        "    #SQUARED ROOT DISTANCE\n",
        "    df['distance_from_{}'.format(i)] = (np.sqrt((df['x']-centroids[i][0])**2 +(df['y']-centroids[i][1])**2 ))\n",
        "  centroid_dis_cols = ['distance_from_{}'.format(i) for i in centroids.keys()] # list of col names that we need\n",
        "  df['closest'] = df.loc[:,centroid_dis_cols].idxmin(axis=1) # axis control dimension of data, this means, create new col\n",
        "  df['closest'] = df['closest'].map(lambda x: int(x.lstrip('distance_from_')))\n",
        "  df['color'] = df['closest'].map(lambda x: cdic[x])\n",
        "  return df "
      ],
      "execution_count": 0,
      "outputs": []
    }
  ]
}