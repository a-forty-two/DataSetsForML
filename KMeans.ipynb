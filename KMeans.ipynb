{
  "nbformat": 4,
  "nbformat_minor": 0,
  "metadata": {
    "colab": {
      "name": "KMeans.ipynb",
      "provenance": [],
      "authorship_tag": "ABX9TyMwTLqCXKij4p0jyNCKA3u4",
      "include_colab_link": true
    },
    "kernelspec": {
      "name": "python3",
      "display_name": "Python 3"
    }
  },
  "cells": [
    {
      "cell_type": "markdown",
      "metadata": {
        "id": "view-in-github",
        "colab_type": "text"
      },
      "source": [
        "<a href=\"https://colab.research.google.com/github/a-forty-two/DataSetsForML/blob/master/KMeans.ipynb\" target=\"_parent\"><img src=\"https://colab.research.google.com/assets/colab-badge.svg\" alt=\"Open In Colab\"/></a>"
      ]
    },
    {
      "cell_type": "code",
      "metadata": {
        "id": "EEAmrpecrJBW",
        "colab_type": "code",
        "colab": {}
      },
      "source": [
        "# Objective is to divide n points into k clusters\n",
        "# for our example, let's assume k=3\n",
        "import pandas as pd\n",
        "import numpy as np\n",
        "import matplotlib.pyplot as plt \n",
        "%matplotlib inline \n",
        "# MATPLOTLIB => instead of using official definition, use local definition\n",
        "# local def is from Google Colab, Anaconda or Jupyter or iPython "
      ],
      "execution_count": 0,
      "outputs": []
    },
    {
      "cell_type": "code",
      "metadata": {
        "id": "CmgiSSh5u1Pj",
        "colab_type": "code",
        "colab": {}
      },
      "source": [
        "df = pd.DataFrame({\n",
        "    'x':[12,20,28,18,29,33,24,45,52,45,51,52,55,53,55,61,65,66,72,22],\n",
        "    'y':[39, 35, 30, 52, 55, 53, 46, 55, 59, 63,70, 66,63,58,23,14,8,19,7,24]\n",
        "})"
      ],
      "execution_count": 0,
      "outputs": []
    },
    {
      "cell_type": "code",
      "metadata": {
        "id": "V84xS4Nswqxe",
        "colab_type": "code",
        "colab": {}
      },
      "source": [
        "np.random.seed(42) # random is pseudorandom! that's why np.random instead of random.random\n",
        "k = 3 # __init__(self,k=5): self.k = k; alternately command line argument! argv!\n",
        "# choose random k centroids\n",
        "# centroid logic, feel free to experiment with a diff logic\n",
        "centroids = {\n",
        "   i+1: [np.random.randint(0,80), np.random.randint(0,80)] for i in range(k)\n",
        "}\n",
        "\n",
        "\n"
      ],
      "execution_count": 0,
      "outputs": []
    },
    {
      "cell_type": "code",
      "metadata": {
        "id": "1sgpuZk88Jw2",
        "colab_type": "code",
        "colab": {
          "base_uri": "https://localhost:8080/",
          "height": 324
        },
        "outputId": "18634173-777a-45a8-b1d7-cf95c3b61d6a"
      },
      "source": [
        "# plot the points and centroids, plot only during dev/test, of course not in production\n",
        "fig = plt.figure(figsize=(5,5))\n",
        "plt.scatter(df['x'],df['y'], color='k')\n",
        "cdic = {1:'r',2:'b',3:'g'}\n",
        "for i in centroids.keys():\n",
        "  plt.scatter(*centroids[i],color=cdic[i])\n",
        "plt.xlim(0,80)\n",
        "plt.ylim(0,80)\n",
        "plt.show()"
      ],
      "execution_count": 14,
      "outputs": [
        {
          "output_type": "display_data",
          "data": {
            "image/png": "[encoded data removed]",
            "text/plain": [
              "<Figure size 360x360 with 1 Axes>"
            ]
          },
          "metadata": {
            "tags": []
          }
        }
      ]
    },
    {
      "cell_type": "code",
      "metadata": {
        "id": "kg1ZWaOR88tr",
        "colab_type": "code",
        "colab": {}
      },
      "source": [
        "def doWork(df, centroids):\n",
        "  for i in centroids.keys():\n",
        "    #SQUARED ROOT DISTANCE\n",
        "    df['distance_from_{}'.format(i)] = (np.sqrt((df['x']-centroids[i][0])**2 +(df['y']-centroids[i][1])**2 ))\n",
        "    centroid_dis_cols = ['distance_from_{}'.format(i) for i in centroids.keys()] # list of col names that we need\n",
        "    df['closest'] = df.loc[:,centroid_dis_cols].idxmin(axis=1) # axis control dimension of data, this means, create new col\n",
        "    df['closest'] = df['closest'].map(lambda x: int(x.lstrip('distance_from_')))\n",
        "    df['color'] = df['closest'].map(lambda x: cdic[x])\n",
        "    return df\n",
        "    \n",
        "# 1)distance_from_1 : 25, distance_from_2:45, distance_from_3: 15\n",
        "# 2)closest: \"distance_from_3\"\n",
        "# 3)closest: 3\n",
        "# 4)color: g"
      ],
      "execution_count": 0,
      "outputs": []
    },
    {
      "cell_type": "code",
      "metadata": {
        "id": "Und9Ly6E_ZHr",
        "colab_type": "code",
        "colab": {
          "base_uri": "https://localhost:8080/",
          "height": 313
        },
        "outputId": "4bdcce49-43b3-4ee1-c752-d80232cc5fab"
      },
      "source": [
        "df_modified = doWork(df, centroids)\n",
        "df_modified.head()"
      ],
      "execution_count": 18,
      "outputs": [
        {
          "output_type": "stream",
          "text": [
            "/usr/local/lib/python3.6/dist-packages/pandas/core/indexing.py:1418: FutureWarning: \n",
            "Passing list-likes to .loc or [] with any missing label will raise\n",
            "KeyError in the future, you can use .reindex() as an alternative.\n",
            "\n",
            "See the documentation here:\n",
            "https://pandas.pydata.org/pandas-docs/stable/user_guide/indexing.html#deprecate-loc-reindex-listlike\n",
            "  return self._getitem_tuple(key)\n"
          ],
          "name": "stderr"
        },
        {
          "output_type": "execute_result",
          "data": {
            "text/html": [
              "<div>\n",
              "<style scoped>\n",
              "    .dataframe tbody tr th:only-of-type {\n",
              "        vertical-align: middle;\n",
              "    }\n",
              "\n",
              "    .dataframe tbody tr th {\n",
              "        vertical-align: top;\n",
              "    }\n",
              "\n",
              "    .dataframe thead th {\n",
              "        text-align: right;\n",
              "    }\n",
              "</style>\n",
              "<table border=\"1\" class=\"dataframe\">\n",
              "  <thead>\n",
              "    <tr style=\"text-align: right;\">\n",
              "      <th></th>\n",
              "      <th>x</th>\n",
              "      <th>y</th>\n",
              "      <th>distance_from_1</th>\n",
              "      <th>closest</th>\n",
              "      <th>color</th>\n",
              "    </tr>\n",
              "  </thead>\n",
              "  <tbody>\n",
              "    <tr>\n",
              "      <th>0</th>\n",
              "      <td>12</td>\n",
              "      <td>39</td>\n",
              "      <td>46.324939</td>\n",
              "      <td>1</td>\n",
              "      <td>r</td>\n",
              "    </tr>\n",
              "    <tr>\n",
              "      <th>1</th>\n",
              "      <td>20</td>\n",
              "      <td>35</td>\n",
              "      <td>37.443290</td>\n",
              "      <td>1</td>\n",
              "      <td>r</td>\n",
              "    </tr>\n",
              "    <tr>\n",
              "      <th>2</th>\n",
              "      <td>28</td>\n",
              "      <td>30</td>\n",
              "      <td>28.017851</td>\n",
              "      <td>1</td>\n",
              "      <td>r</td>\n",
              "    </tr>\n",
              "    <tr>\n",
              "      <th>3</th>\n",
              "      <td>18</td>\n",
              "      <td>52</td>\n",
              "      <td>50.328918</td>\n",
              "      <td>1</td>\n",
              "      <td>r</td>\n",
              "    </tr>\n",
              "    <tr>\n",
              "      <th>4</th>\n",
              "      <td>29</td>\n",
              "      <td>55</td>\n",
              "      <td>46.529560</td>\n",
              "      <td>1</td>\n",
              "      <td>r</td>\n",
              "    </tr>\n",
              "  </tbody>\n",
              "</table>\n",
              "</div>"
            ],
            "text/plain": [
              "    x   y  distance_from_1  closest color\n",
              "0  12  39        46.324939        1     r\n",
              "1  20  35        37.443290        1     r\n",
              "2  28  30        28.017851        1     r\n",
              "3  18  52        50.328918        1     r\n",
              "4  29  55        46.529560        1     r"
            ]
          },
          "metadata": {
            "tags": []
          },
          "execution_count": 18
        }
      ]
    },
    {
      "cell_type": "code",
      "metadata": {
        "id": "jHZ0TzK1CSA4",
        "colab_type": "code",
        "colab": {}
      },
      "source": [
        ""
      ],
      "execution_count": 0,
      "outputs": []
    }
  ]
}