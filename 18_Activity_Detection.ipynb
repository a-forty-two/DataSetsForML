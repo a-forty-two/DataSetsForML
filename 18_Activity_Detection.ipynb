{
  "nbformat": 4,
  "nbformat_minor": 0,
  "metadata": {
    "colab": {
      "name": "18 Activity Detection.ipynb",
      "provenance": [],
      "collapsed_sections": [],
      "authorship_tag": "ABX9TyMvedrN4fxHMiR+H8wEnCvu",
      "include_colab_link": true
    },
    "kernelspec": {
      "name": "python3",
      "display_name": "Python 3"
    }
  },
  "cells": [
    {
      "cell_type": "markdown",
      "metadata": {
        "id": "view-in-github",
        "colab_type": "text"
      },
      "source": [
        "<a href=\"https://colab.research.google.com/github/a-forty-two/DataSetsForML/blob/master/18_Activity_Detection.ipynb\" target=\"_parent\"><img src=\"https://colab.research.google.com/assets/colab-badge.svg\" alt=\"Open In Colab\"/></a>"
      ]
    },
    {
      "cell_type": "code",
      "metadata": {
        "id": "a7PUz0znBOfA",
        "colab_type": "code",
        "colab": {}
      },
      "source": [
        "# we will use a hardcoded video as test data\n",
        "# if doing on laptop you can even use webcab for same program \n",
        "# as input stream \n",
        "\n",
        "# inputs were hardcoded,video is not a user input but an mp4 or avi file\n",
        "\n",
        "# Algorithm\n",
        "# 1. Input a video (or live stream)\n",
        "# 2. open the frames as images\n",
        "# 3. Run object detection on images to understand continous usage of objects\n",
        "# 4. Continous usage of objects is called ACTIVITY\n",
        "# 5. in each frame of video, classify the frame as an activity\n",
        "# 6. combine the frames back into a video to deliver as classified output! \n",
        "\n"
      ],
      "execution_count": 0,
      "outputs": []
    },
    {
      "cell_type": "code",
      "metadata": {
        "id": "Zd5QlZ0FEjHs",
        "colab_type": "code",
        "colab": {}
      },
      "source": [
        "######## start of: TRAIN.py\n",
        "\n",
        "\n",
        "from keras.preprocessing.image import ImageDataGenerator \n",
        "import matplotlib.pyplot as plt\n",
        "import matplotlib\n",
        "import numpy as np\n",
        "import pickle # to read/write binary files as dumps (for weights and biases or binarized labels)\n",
        "import cv2\n",
        "import os # os.separators to separate path names and get file name and file folder name\n",
        "from keras.applications import ResNet50\n",
        "# to customize models with own layers\n",
        "from keras.layers.core import Flatten, Dropout, Dense\n",
        "from keras.layers.pooling import AveragePooling2D # AVERAGE pixel -> do this when color of object shouldn't matter \n",
        "from keras.layers import Input # input layer can take general or any input size (dynamic input size but once decalred cannot be changed)\n",
        "from keras.models import Model\n",
        "#label binarizer to encode/decode binarized outputs \n",
        "from sklearn.preprocessing import LabelBinarizer\n",
        "import imutils\n",
        "from imutils import paths\n",
        "# but what if i wanted to take average without losing channels?\n",
        "# Conv2D -> GlobalAveragePooling-> Conv2D would split data into R, G and B channels \n",
        "# then GAP will calculate averages for R, G, and B separately thus preserving colors \n",
        "from keras.optimizers import SGD\n",
        "from sklearn.metrics import classification_report\n",
        "from sklearn.model_selection import train_test_split\n"
      ],
      "execution_count": 0,
      "outputs": []
    },
    {
      "cell_type": "code",
      "metadata": {
        "id": "7xU9AiEvE4Qn",
        "colab_type": "code",
        "colab": {}
      },
      "source": [
        "# variables that should have been collected from user through UI or command line or API post\n",
        "dataset = 'data'\n",
        "model_path = 'bin'\n",
        "binarizer_path = 'bin'\n",
        "evaluation_path = 'eval'\n",
        "test_path = 'test'"
      ],
      "execution_count": 0,
      "outputs": []
    },
    {
      "cell_type": "code",
      "metadata": {
        "id": "fatAikFDHPjS",
        "colab_type": "code",
        "colab": {}
      },
      "source": [
        "labels = set([\"weightlifting\",\"swimming\",\"hockey\",\"basketball\"])"
      ],
      "execution_count": 0,
      "outputs": []
    },
    {
      "cell_type": "code",
      "metadata": {
        "id": "heEmQnzIHa_T",
        "colab_type": "code",
        "colab": {
          "base_uri": "https://localhost:8080/",
          "height": 34
        },
        "outputId": "a6215c23-5629-4ce9-dd6e-1270a488f94d"
      },
      "source": [
        "# shuffle the data after reading all paths\n",
        "import random\n",
        "imagePaths = sorted(list( paths.list_images(dataset)))\n",
        "random.seed(42)\n",
        "random.shuffle(imagePaths)\n",
        "imagePaths[:2]"
      ],
      "execution_count": 9,
      "outputs": [
        {
          "output_type": "execute_result",
          "data": {
            "text/plain": [
              "['data/hockey/00000065.jpg', 'data/weightlifting/00000072.jpg']"
            ]
          },
          "metadata": {
            "tags": []
          },
          "execution_count": 9
        }
      ]
    },
    {
      "cell_type": "code",
      "metadata": {
        "id": "-R3or1VFHsVy",
        "colab_type": "code",
        "colab": {}
      },
      "source": [
        ""
      ],
      "execution_count": 0,
      "outputs": []
    }
  ]
}