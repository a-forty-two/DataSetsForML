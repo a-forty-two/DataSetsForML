{
  "nbformat": 4,
  "nbformat_minor": 0,
  "metadata": {
    "colab": {
      "name": "15 LSTM.ipynb",
      "provenance": [],
      "collapsed_sections": [],
      "authorship_tag": "ABX9TyOBbb2wbFCuO8MOVW5/GpiH",
      "include_colab_link": true
    },
    "kernelspec": {
      "name": "python3",
      "display_name": "Python 3"
    }
  },
  "cells": [
    {
      "cell_type": "markdown",
      "metadata": {
        "id": "view-in-github",
        "colab_type": "text"
      },
      "source": [
        "<a href=\"https://colab.research.google.com/github/a-forty-two/DataSetsForML/blob/master/15_LSTM.ipynb\" target=\"_parent\"><img src=\"https://colab.research.google.com/assets/colab-badge.svg\" alt=\"Open In Colab\"/></a>"
      ]
    },
    {
      "cell_type": "code",
      "metadata": {
        "id": "uIo-dB1mc3ZZ",
        "colab_type": "code",
        "colab": {
          "base_uri": "https://localhost:8080/",
          "height": 34
        },
        "outputId": "51e99b9e-1028-44d7-d947-9ac452695599"
      },
      "source": [
        "!ls"
      ],
      "execution_count": 1,
      "outputs": [
        {
          "output_type": "stream",
          "text": [
            "airlinepassengers.csv  sample_data\n"
          ],
          "name": "stdout"
        }
      ]
    },
    {
      "cell_type": "code",
      "metadata": {
        "id": "eSW1PCpCdoTE",
        "colab_type": "code",
        "colab": {
          "base_uri": "https://localhost:8080/",
          "height": 366
        },
        "outputId": "fd6807af-4527-4bbc-e08b-0691d45dc86f"
      },
      "source": [
        "import pandas as pd\n",
        "fl = pd.read_csv('airlinepassengers.csv', header=0)\n",
        "print(fl.head())\n",
        "import matplotlib.pyplot as plt\n",
        "fl.plot()\n",
        "plt.show()"
      ],
      "execution_count": 5,
      "outputs": [
        {
          "output_type": "stream",
          "text": [
            "     Month  Passengers\n",
            "0  1949-01         112\n",
            "1  1949-02         118\n",
            "2  1949-03         132\n",
            "3  1949-04         129\n",
            "4  1949-05         121\n"
          ],
          "name": "stdout"
        },
        {
          "output_type": "display_data",
          "data": {
            "image/png": "[encoded data removed]",
            "text/plain": [
              "<Figure size 432x288 with 1 Axes>"
            ]
          },
          "metadata": {
            "tags": []
          }
        }
      ]
    },
    {
      "cell_type": "code",
      "metadata": {
        "id": "ffBAoRgKd-zR",
        "colab_type": "code",
        "colab": {}
      },
      "source": [
        "# REGRESSION PROBLEM \n",
        "# REGRESS? No. of passengers!\n",
        "# Clearly there are some holiday periods during which people don't travel, hence the rise and drop in graph\n",
        "# but clearly, the no. of parrengers over the years is rising \n",
        "# LSTM -> 3 gates -> INPUT GATE , Output Gate , FORGET GATE \n",
        "# Forget Gate -> Logistic Sigmoid is multiplied to your data. This renormalizes your data in a way that very old \n",
        "# data normalizes to 0. Hence, the old data is forgotten.\n",
        "\n",
        "import numpy as np\n",
        "import math\n",
        "import tensorflow as tf\n",
        "from tensorflow import keras\n",
        "from sklearn.preprocessing import MinMaxScaler\n",
        "from sklearn.metrics import mean_squared_error\n",
        "np.random.seed(42)\n",
        "# initialize the randomness inside numpy "
      ],
      "execution_count": 0,
      "outputs": []
    },
    {
      "cell_type": "code",
      "metadata": {
        "id": "O6kVUq08g57l",
        "colab_type": "code",
        "colab": {
          "base_uri": "https://localhost:8080/",
          "height": 101
        },
        "outputId": "e05f3e43-21ce-4bcb-9b5b-593a12212b92"
      },
      "source": [
        "#fl.values.astype('float32')\n",
        "data = fl.set_index('Month')\n",
        "unnorm_x = data.values.astype('float32')\n",
        "unnorm_x[:5]"
      ],
      "execution_count": 15,
      "outputs": [
        {
          "output_type": "execute_result",
          "data": {
            "text/plain": [
              "array([[112.],\n",
              "       [118.],\n",
              "       [132.],\n",
              "       [129.],\n",
              "       [121.]], dtype=float32)"
            ]
          },
          "metadata": {
            "tags": []
          },
          "execution_count": 15
        }
      ]
    },
    {
      "cell_type": "code",
      "metadata": {
        "id": "4-g168a2hHLZ",
        "colab_type": "code",
        "colab": {
          "base_uri": "https://localhost:8080/",
          "height": 101
        },
        "outputId": "9abe5d6b-b630-4735-f86c-93aec0f5635f"
      },
      "source": [
        "# MinMax custom scaler \n",
        "scaler = MinMaxScaler(feature_range=(0,1))\n",
        "x = scaler.fit_transform(unnorm_x)\n",
        "x[:5]"
      ],
      "execution_count": 17,
      "outputs": [
        {
          "output_type": "execute_result",
          "data": {
            "text/plain": [
              "array([[0.01544401],\n",
              "       [0.02702703],\n",
              "       [0.05405405],\n",
              "       [0.04826255],\n",
              "       [0.03281853]], dtype=float32)"
            ]
          },
          "metadata": {
            "tags": []
          },
          "execution_count": 17
        }
      ]
    },
    {
      "cell_type": "code",
      "metadata": {
        "id": "p9REXtjdiu4P",
        "colab_type": "code",
        "colab": {
          "base_uri": "https://localhost:8080/",
          "height": 67
        },
        "outputId": "1ba46549-eae0-4ae3-821f-8d7153bbf6d2"
      },
      "source": [
        "# build train/test datasets \n",
        "# PLEASE REMEMBER NOT TO USE TRAINTESTSPLIT OR ANYTHING THAT LEADS TO SHUFFLING DATA\n",
        "# This is time-series so order matters\n",
        "print(len(x))\n",
        "trainsize = int(0.7 * len(x))\n",
        "testsize = len(x) - trainsize \n",
        "trainx, testx = x[:trainsize,:], x[trainsize:len(x),:]\n",
        "# from beginning till trainsize excluding trainsize -> training\n",
        "# from trainsize till len(trainsize) excluding len(trainsize) -> elements are 0 indexed, so the last element\n",
        "# captured is len(trainsize)-1  \n",
        "print(len(trainx))\n",
        "print(len(testx))"
      ],
      "execution_count": 48,
      "outputs": [
        {
          "output_type": "stream",
          "text": [
            "144\n",
            "100\n",
            "44\n"
          ],
          "name": "stdout"
        }
      ]
    },
    {
      "cell_type": "code",
      "metadata": {
        "id": "URXS7Sk5jJrm",
        "colab_type": "code",
        "colab": {
          "base_uri": "https://localhost:8080/",
          "height": 185
        },
        "outputId": "a3e52501-3ea2-42c2-8761-578ce20bed5e"
      },
      "source": [
        "trainx[:10]\n"
      ],
      "execution_count": 49,
      "outputs": [
        {
          "output_type": "execute_result",
          "data": {
            "text/plain": [
              "array([[0.01544401],\n",
              "       [0.02702703],\n",
              "       [0.05405405],\n",
              "       [0.04826255],\n",
              "       [0.03281853],\n",
              "       [0.05984557],\n",
              "       [0.08494207],\n",
              "       [0.08494207],\n",
              "       [0.06177607],\n",
              "       [0.02895753]], dtype=float32)"
            ]
          },
          "metadata": {
            "tags": []
          },
          "execution_count": 49
        }
      ]
    },
    {
      "cell_type": "markdown",
      "metadata": {
        "id": "PvL4r9aylDTS",
        "colab_type": "text"
      },
      "source": [
        "Asssume time series data was 1 3 4 5 6 7\n",
        "So basically, we could arrange our output as \n",
        "\n",
        "Input      1 3 4 5 6 \n",
        "\n",
        "Output     3 4 5 6 7"
      ]
    },
    {
      "cell_type": "code",
      "metadata": {
        "id": "5pS4_UaZk2-P",
        "colab_type": "code",
        "colab": {
          "base_uri": "https://localhost:8080/",
          "height": 218
        },
        "outputId": "15c07a7b-c68b-4657-96a6-1a80b71bcdfa"
      },
      "source": [
        "# write the logic of this conversion as function because it needs to be repeated for train/test or even \n",
        "# validation set if you had one\n",
        "\n",
        "def builder(data, lookback=1):\n",
        "   x,y = [], []\n",
        "   for i in range(len(data)-lookback-1):\n",
        "     xtemp = data[i:i+lookback,0]\n",
        "     x.append(xtemp)\n",
        "     y.append(data[i+lookback,0])\n",
        "   return np.array(x),np.array(y)\n",
        "\n",
        "trainx, trainy = builder(trainx, 1)\n",
        "testx, testy = builder(testx, 1)\n",
        "print(trainx[:10])\n",
        "print(trainy[:10])"
      ],
      "execution_count": 50,
      "outputs": [
        {
          "output_type": "stream",
          "text": [
            "[[0.01544401]\n",
            " [0.02702703]\n",
            " [0.05405405]\n",
            " [0.04826255]\n",
            " [0.03281853]\n",
            " [0.05984557]\n",
            " [0.08494207]\n",
            " [0.08494207]\n",
            " [0.06177607]\n",
            " [0.02895753]]\n",
            "[0.02702703 0.05405405 0.04826255 0.03281853 0.05984557 0.08494207\n",
            " 0.08494207 0.06177607 0.02895753 0.        ]\n"
          ],
          "name": "stdout"
        }
      ]
    },
    {
      "cell_type": "code",
      "metadata": {
        "id": "FW7xwgfpm9A4",
        "colab_type": "code",
        "colab": {
          "base_uri": "https://localhost:8080/",
          "height": 151
        },
        "outputId": "4d727481-ce03-48fa-8f77-f8da13dd36c4"
      },
      "source": [
        "# reshape them into a common shape for tensors if they are in diff shapes \n",
        "print(trainx.shape)\n",
        "print(trainy.shape)\n",
        "print(testx.shape)\n",
        "print(testy.shape)\n",
        "trainx = np.reshape(trainx, (trainx.shape[0], 1, trainx.shape[1])) # MATRIX for LSTM \n",
        "testx = np.reshape(testx, (testx.shape[0], 1, trainx.shape[1])) \n",
        "print(trainx.shape)\n",
        "print(trainy.shape)\n",
        "print(testx.shape)\n",
        "print(testy.shape)\n",
        "# Sequence is the extra dim added "
      ],
      "execution_count": 51,
      "outputs": [
        {
          "output_type": "stream",
          "text": [
            "(98, 1)\n",
            "(98,)\n",
            "(42, 1)\n",
            "(42,)\n",
            "(98, 1, 1)\n",
            "(98,)\n",
            "(42, 1, 1)\n",
            "(42,)\n"
          ],
          "name": "stdout"
        }
      ]
    },
    {
      "cell_type": "code",
      "metadata": {
        "id": "El3hFznsoYp9",
        "colab_type": "code",
        "colab": {}
      },
      "source": [
        "# let's build the model\n",
        "lookback = 1\n",
        "lstm_dim =4\n",
        "model = keras.Sequential()\n",
        "model.add(keras.layers.LSTM(lstm_dim, input_shape=(1,lookback)))\n",
        "model.add(keras.layers.Dense(1)) # Regression \n",
        "# classification-> 2, activation=sigmoid\n",
        "\n",
        "model.compile(loss='mean_squared_error', optimizer='adam', metrics=['mse','mae']) # metrics are checked for early stopping\n"
      ],
      "execution_count": 0,
      "outputs": []
    },
    {
      "cell_type": "code",
      "metadata": {
        "id": "Mz8UNt5LpRsO",
        "colab_type": "code",
        "colab": {
          "base_uri": "https://localhost:8080/",
          "height": 34
        },
        "outputId": "d9c5281e-723d-46d7-e162-98fb85add620"
      },
      "source": [
        "model.fit(trainx, trainy, epochs=100, batch_size=1, verbose=0)"
      ],
      "execution_count": 53,
      "outputs": [
        {
          "output_type": "execute_result",
          "data": {
            "text/plain": [
              "<tensorflow.python.keras.callbacks.History at 0x7f87251676d8>"
            ]
          },
          "metadata": {
            "tags": []
          },
          "execution_count": 53
        }
      ]
    },
    {
      "cell_type": "code",
      "metadata": {
        "id": "OetUjyX7q_UC",
        "colab_type": "code",
        "colab": {
          "base_uri": "https://localhost:8080/",
          "height": 437
        },
        "outputId": "f196ac2e-57b6-47c9-a823-5e2f6f610683"
      },
      "source": [
        "trainpredictions = model.predict(trainx)\n",
        "testpredictions = model.predict(testx)\n",
        "# MinMax can be reversed\n",
        "trainpredictions = scaler.inverse_transform(trainpredictions)\n",
        "testpredictions = scaler.inverse_transform(testpredictions)\n",
        "trainy = scaler.inverse_transform([trainy])\n",
        "testy = scaler.inverse_transform([testy])\n",
        "print(trainpredictions[:5])\n",
        "print(trainy[:5])\n"
      ],
      "execution_count": 54,
      "outputs": [
        {
          "output_type": "stream",
          "text": [
            "[[121.285675]\n",
            " [126.65339 ]\n",
            " [139.30338 ]\n",
            " [136.57845 ]\n",
            " [129.34962 ]]\n",
            "[[117.99999916 131.99999879 129.00000163 120.99999632 135.00000368\n",
            "  147.99999397 147.99999397 136.00000531 119.00000078 103.99999952\n",
            "  117.99999916 115.00000199 125.99999674 140.99999801 135.00000368\n",
            "  125.00000283 148.9999956  169.99999891 169.99999891 157.99999481\n",
            "  133.00000042 114.00000036 139.99999638 145.00000452 149.99999723\n",
            "  177.9999965  163.00000295 172.00000217 177.9999965  198.99999982\n",
            "  198.99999982 184.00000627 162.00000133 146.00000615 165.9999924\n",
            "  171.00000054 179.99999976 193.00000549 181.00000139 183.00000464\n",
            "  217.99999988 230.00000398 241.99999264 209.00000066 191.00000223\n",
            "  172.00000217 194.00000712 195.99999493 195.99999493 235.99999831\n",
            "  234.99999668 229.00000235 242.99999427 263.99999759 272.00001061\n",
            "  236.99999994 211.00000392 179.99999976 201.00000308 203.99999252\n",
            "  187.99999735 234.99999668 226.9999991  233.99999506 263.99999759\n",
            "  301.99999771 292.99999849 259.00000488 229.00000235 203.00000633\n",
            "  229.00000235 241.99999264 232.99999343 266.99998703 268.99999029\n",
            "  270.00000736 315.00000344 363.99999059 346.99999379 312.00001399\n",
            "  274.00001387 236.99999994 277.99998951 283.99999928 277.00000332\n",
            "  317.00000669 313.00000018 317.99999288 373.999976   412.99999319\n",
            "  404.99998016 355.00000681 306.00000422 270.99999355 306.00000422\n",
            "  315.00000344 301.00001152 355.999993  ]]\n"
          ],
          "name": "stdout"
        }
      ]
    },
    {
      "cell_type": "code",
      "metadata": {
        "id": "2escwbdcsWQz",
        "colab_type": "code",
        "colab": {
          "base_uri": "https://localhost:8080/",
          "height": 50
        },
        "outputId": "3a86e9a1-a954-4cb8-cf1d-66bd7c5539a1"
      },
      "source": [
        "trainscore = math.sqrt(mean_squared_error(trainy[0], trainpredictions[:,0]))\n",
        "testscore = math.sqrt(mean_squared_error(testy[0], testpredictions[:,0]))\n",
        "print(trainscore)\n",
        "print(testscore)"
      ],
      "execution_count": 55,
      "outputs": [
        {
          "output_type": "stream",
          "text": [
            "23.337104790976444\n",
            "49.19320845067039\n"
          ],
          "name": "stdout"
        }
      ]
    },
    {
      "cell_type": "code",
      "metadata": {
        "id": "JF9coiZ0tyxE",
        "colab_type": "code",
        "colab": {
          "base_uri": "https://localhost:8080/",
          "height": 282
        },
        "outputId": "7a8f1062-2011-4ec2-f41e-de4d5b1b31f8"
      },
      "source": [
        "# shift predictions 1 step for training so that plots are visibly comparable \n",
        "trainPlot = np.empty_like(x) # returns an empty array of exactly same shape and size\n",
        "trainPlot[:,:] = np.nan # nullify all other positions (the ones we want to print we'll add to this)\n",
        "trainPlot[lookback:len(trainpredictions)+lookback,:] = trainpredictions # trainP is added to be printed\n",
        "testPlot = np.empty_like(x)\n",
        "testPlot[:,:] = np.nan\n",
        "testPlot[len(trainpredictions)+(lookback*2)+1:len(x)-1,:] = testpredictions # len(data) + lookback*2 + 1\n",
        "# to fix the one-step ahead error that i had assumed while plotting training data \n",
        "plt.plot(scaler.inverse_transform(x)) # original graph\n",
        "plt.plot(trainPlot)\n",
        "\n",
        "plt.plot(testPlot)"
      ],
      "execution_count": 60,
      "outputs": [
        {
          "output_type": "execute_result",
          "data": {
            "text/plain": [
              "[<matplotlib.lines.Line2D at 0x7f8724c1d978>]"
            ]
          },
          "metadata": {
            "tags": []
          },
          "execution_count": 60
        },
        {
          "output_type": "display_data",
          "data": {
            "image/png": "[encoded data removed]",
            "text/plain": [
              "<Figure size 432x288 with 1 Axes>"
            ]
          },
          "metadata": {
            "tags": []
          }
        }
      ]
    },
    {
      "cell_type": "code",
      "metadata": {
        "id": "BR395t0Rvexc",
        "colab_type": "code",
        "colab": {}
      },
      "source": [
        "# SARIMAX -> Seasonal -> Auto Regression, Integrated Seasons and Moving Averages \n",
        "# 3 algos across -> The overall preiod on the data, the trend on the data, the residue left \n",
        "# 9 algorithms -> with and without season \n",
        "# (Season, P,T,R),(AR,I,MA) -> few possible 0 and 1 combinations of algos could have given best predictions\n",
        "# (1,0,1,1),(1,0,1) -> example. We selected best algo combination through GridSearch \n",
        "# then we used the best hyperparam combination and generated predictions \n",
        "# LONG, tiring method, high error\n",
        "\n",
        "# LSTM -> LSTM + 1 dense -> all you need in most cases \n",
        "# FASTER, much lesser error \n",
        "\n",
        "# if NN is not possible, use SARIMAX. \n",
        "# else use both SARIMAX and LSTM, and see which is better\n"
      ],
      "execution_count": 0,
      "outputs": []
    }
  ]
}