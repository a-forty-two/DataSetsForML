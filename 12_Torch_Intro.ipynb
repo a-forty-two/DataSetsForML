{
  "nbformat": 4,
  "nbformat_minor": 0,
  "metadata": {
    "colab": {
      "name": "12 Torch Intro.ipynb",
      "provenance": [],
      "collapsed_sections": [],
      "authorship_tag": "ABX9TyO+a9PMj+/wOX4I1ogjf90A",
      "include_colab_link": true
    },
    "kernelspec": {
      "name": "python3",
      "display_name": "Python 3"
    }
  },
  "cells": [
    {
      "cell_type": "markdown",
      "metadata": {
        "id": "view-in-github",
        "colab_type": "text"
      },
      "source": [
        "<a href=\"https://colab.research.google.com/github/a-forty-two/DataSetsForML/blob/master/12_Torch_Intro.ipynb\" target=\"_parent\"><img src=\"https://colab.research.google.com/assets/colab-badge.svg\" alt=\"Open In Colab\"/></a>"
      ]
    },
    {
      "cell_type": "code",
      "metadata": {
        "id": "tNHhl8WdFCTM",
        "colab_type": "code",
        "colab": {
          "base_uri": "https://localhost:8080/",
          "height": 34
        },
        "outputId": "5aed7630-5532-41be-e124-218aae125b56"
      },
      "source": [
        "import torch\n",
        "torch.manual_seed(42) # similar to random_state in tf, random number to initialize randomness\n",
        "# ensures that same randomness happens everytime when parallel models are running\n",
        "# PYTORCH IS BUILT FOR CLUSTERS \n",
        "# PYTORCH much more similar to NumPy \n",
        "# TF is not just for DL, it is for MATH , just like PyTorch \n"
      ],
      "execution_count": 2,
      "outputs": [
        {
          "output_type": "execute_result",
          "data": {
            "text/plain": [
              "<torch._C.Generator at 0x7f428665ee50>"
            ]
          },
          "metadata": {
            "tags": []
          },
          "execution_count": 2
        }
      ]
    },
    {
      "cell_type": "code",
      "metadata": {
        "id": "E0dyWnyNFL0G",
        "colab_type": "code",
        "colab": {
          "base_uri": "https://localhost:8080/",
          "height": 52
        },
        "outputId": "88644a93-40ea-4af9-a88e-53cfc9ae0a86"
      },
      "source": [
        "# Torch -> Dynamic Computing Graph + functions and prebuilt models\n",
        "# TF -> Directed Acyclic Graph \n",
        "data = [[2,342,-42],[1,2,3]]\n",
        "v = torch.tensor(data)\n",
        "v # tf representation -> [ [1], [2], [3]]"
      ],
      "execution_count": 4,
      "outputs": [
        {
          "output_type": "execute_result",
          "data": {
            "text/plain": [
              "tensor([[  2, 342, -42],\n",
              "        [  1,   2,   3]])"
            ]
          },
          "metadata": {
            "tags": []
          },
          "execution_count": 4
        }
      ]
    },
    {
      "cell_type": "code",
      "metadata": {
        "id": "NnbyqdBuHFob",
        "colab_type": "code",
        "colab": {
          "base_uri": "https://localhost:8080/",
          "height": 34
        },
        "outputId": "65f16a25-1fc3-4853-e27a-c33ab4ba602a"
      },
      "source": [
        "v.shape"
      ],
      "execution_count": 5,
      "outputs": [
        {
          "output_type": "execute_result",
          "data": {
            "text/plain": [
              "torch.Size([2, 3])"
            ]
          },
          "metadata": {
            "tags": []
          },
          "execution_count": 5
        }
      ]
    },
    {
      "cell_type": "code",
      "metadata": {
        "id": "55n-OcqdHkm0",
        "colab_type": "code",
        "colab": {
          "base_uri": "https://localhost:8080/",
          "height": 122
        },
        "outputId": "3f64559d-2c6d-4524-a5d3-0b29fa087d13"
      },
      "source": [
        "data = [[[1.,2.],[2,3]],[[42,42],[-1,-1]]]\n",
        "v = torch.tensor(data)\n",
        "print(v)\n",
        "print(v.shape) # tf -> variable dimension sized tensors\n",
        "# since this is meant for DL, and nn ip is hardcoded, this works for us!"
      ],
      "execution_count": 10,
      "outputs": [
        {
          "output_type": "stream",
          "text": [
            "tensor([[[ 1.,  2.],\n",
            "         [ 2.,  3.]],\n",
            "\n",
            "        [[42., 42.],\n",
            "         [-1., -1.]]])\n",
            "torch.Size([2, 2, 2])\n"
          ],
          "name": "stdout"
        }
      ]
    },
    {
      "cell_type": "markdown",
      "metadata": {
        "id": "zxOVEIbGKH5D",
        "colab_type": "text"
      },
      "source": [
        ""
      ]
    },
    {
      "cell_type": "code",
      "metadata": {
        "id": "F0QewZ49IME6",
        "colab_type": "code",
        "colab": {
          "base_uri": "https://localhost:8080/",
          "height": 52
        },
        "outputId": "7a3e3f64-7899-4266-9cf1-f664898f96a4"
      },
      "source": [
        "# get any scalar out of it\n",
        "print(v[0][0][1])\n",
        "# get any number out of it\n",
        "print(v[0][0][1].item())"
      ],
      "execution_count": 17,
      "outputs": [
        {
          "output_type": "stream",
          "text": [
            "tensor(2.)\n",
            "2.0\n"
          ],
          "name": "stdout"
        }
      ]
    },
    {
      "cell_type": "code",
      "metadata": {
        "id": "Kf7BTp-oJNq0",
        "colab_type": "code",
        "colab": {
          "base_uri": "https://localhost:8080/",
          "height": 52
        },
        "outputId": "fc2ca72e-7475-45c4-9a42-e8524c61d2d7"
      },
      "source": [
        "x = torch.randn((1,2,3)) # tuple passed for size of tensor\n",
        "x"
      ],
      "execution_count": 20,
      "outputs": [
        {
          "output_type": "execute_result",
          "data": {
            "text/plain": [
              "tensor([[[ 0.3783,  1.7652,  0.1254],\n",
              "         [-1.5088,  1.7508,  1.7792]]])"
            ]
          },
          "metadata": {
            "tags": []
          },
          "execution_count": 20
        }
      ]
    },
    {
      "cell_type": "code",
      "metadata": {
        "id": "ldsVm6srK7qA",
        "colab_type": "code",
        "colab": {
          "base_uri": "https://localhost:8080/",
          "height": 87
        },
        "outputId": "2e6ce7a7-2fde-43cc-e688-d7d8a48b8b15"
      },
      "source": [
        "# TENSORs are for math!\n",
        "a = torch.tensor([1.,2.,3.])\n",
        "b = torch.tensor([3.,2.,1.])\n",
        "z = a+b\n",
        "y = a-b\n",
        "x = a*b\n",
        "w = a/b \n",
        "print(w)\n",
        "print(x)\n",
        "print(y)\n",
        "print(z)\n"
      ],
      "execution_count": 22,
      "outputs": [
        {
          "output_type": "stream",
          "text": [
            "tensor([0.3333, 1.0000, 3.0000])\n",
            "tensor([3., 4., 3.])\n",
            "tensor([-2.,  0.,  2.])\n",
            "tensor([4., 4., 4.])\n"
          ],
          "name": "stdout"
        }
      ]
    },
    {
      "cell_type": "code",
      "metadata": {
        "id": "A5oA1FQULfZ4",
        "colab_type": "code",
        "colab": {
          "base_uri": "https://localhost:8080/",
          "height": 34
        },
        "outputId": "534c776f-30fb-45d2-a83a-fdb2690af818"
      },
      "source": [
        "# MATRICES RULES APPLY \n",
        "a = torch.tensor([1.,2.,3.,4.])\n",
        "b = torch.tensor([3.,2.,1.])\n",
        "c = torch.cat([a,b]) # concatenate\n",
        "c-1 # still tensors"
      ],
      "execution_count": 25,
      "outputs": [
        {
          "output_type": "execute_result",
          "data": {
            "text/plain": [
              "tensor([0., 1., 2., 3., 2., 1., 0.])"
            ]
          },
          "metadata": {
            "tags": []
          },
          "execution_count": 25
        }
      ]
    },
    {
      "cell_type": "code",
      "metadata": {
        "id": "WjiHRSiCMNGM",
        "colab_type": "code",
        "colab": {
          "base_uri": "https://localhost:8080/",
          "height": 122
        },
        "outputId": "dea26f46-c38e-4326-9d34-f5e06abd3b87"
      },
      "source": [
        "# MATRICES RULES APPLY \n",
        "a = torch.randn(2,1)\n",
        "b = torch.randn(2,3)\n",
        "c = torch.cat([a,b], 1) # concatenation of diff sizes along an AXIS \n",
        "print(a)\n",
        "print(b)\n",
        "print(c) # still tensors"
      ],
      "execution_count": 30,
      "outputs": [
        {
          "output_type": "stream",
          "text": [
            "tensor([[-0.6912],\n",
            "        [ 0.3082]])\n",
            "tensor([[ 0.4275,  0.7243, -0.2954],\n",
            "        [-0.1840,  0.6900, -0.8083]])\n",
            "tensor([[-0.6912,  0.4275,  0.7243, -0.2954],\n",
            "        [ 0.3082, -0.1840,  0.6900, -0.8083]])\n"
          ],
          "name": "stdout"
        }
      ]
    },
    {
      "cell_type": "code",
      "metadata": {
        "id": "MTKGHsB4M36H",
        "colab_type": "code",
        "colab": {
          "base_uri": "https://localhost:8080/",
          "height": 34
        },
        "outputId": "274de5ec-db82-4871-cd94-9e94bbb0ece4"
      },
      "source": [
        "c.shape"
      ],
      "execution_count": 31,
      "outputs": [
        {
          "output_type": "execute_result",
          "data": {
            "text/plain": [
              "torch.Size([2, 4])"
            ]
          },
          "metadata": {
            "tags": []
          },
          "execution_count": 31
        }
      ]
    },
    {
      "cell_type": "code",
      "metadata": {
        "id": "4QNC8DOHNtiX",
        "colab_type": "code",
        "colab": {
          "base_uri": "https://localhost:8080/",
          "height": 105
        },
        "outputId": "1daa4acf-7ea9-4839-e009-f4b0bcf07ce5"
      },
      "source": [
        "# reshape tensors into any size neurals need\n",
        "print(c.view(2,2,2))"
      ],
      "execution_count": 41,
      "outputs": [
        {
          "output_type": "stream",
          "text": [
            "tensor([[[-0.6912,  0.4275],\n",
            "         [ 0.7243, -0.2954]],\n",
            "\n",
            "        [[ 0.3082, -0.1840],\n",
            "         [ 0.6900, -0.8083]]])\n"
          ],
          "name": "stdout"
        }
      ]
    },
    {
      "cell_type": "code",
      "metadata": {
        "id": "Vdz2sgqtODMm",
        "colab_type": "code",
        "colab": {
          "base_uri": "https://localhost:8080/",
          "height": 210
        },
        "outputId": "908ef171-da26-4f5e-a730-9ed6bce51b3f"
      },
      "source": [
        "x = torch.randn(2,3,4)\n",
        "print(x)\n",
        "print(x.view(2,-1)) # -1 -> infer the size yourself, mr computer"
      ],
      "execution_count": 43,
      "outputs": [
        {
          "output_type": "stream",
          "text": [
            "tensor([[[-0.2847, -1.3338, -0.4887,  0.2118],\n",
            "         [-0.5269,  0.2512,  0.0330, -0.1701],\n",
            "         [ 0.9434,  0.8822,  0.0876, -0.7372]],\n",
            "\n",
            "        [[ 0.3701, -1.0297,  0.0140, -0.2083],\n",
            "         [-0.8440,  0.3626,  1.1649,  1.2681],\n",
            "         [ 1.3787, -0.1720, -1.3166,  0.3852]]])\n",
            "tensor([[-0.2847, -1.3338, -0.4887,  0.2118, -0.5269,  0.2512,  0.0330, -0.1701,\n",
            "          0.9434,  0.8822,  0.0876, -0.7372],\n",
            "        [ 0.3701, -1.0297,  0.0140, -0.2083, -0.8440,  0.3626,  1.1649,  1.2681,\n",
            "          1.3787, -0.1720, -1.3166,  0.3852]])\n"
          ],
          "name": "stdout"
        }
      ]
    },
    {
      "cell_type": "code",
      "metadata": {
        "id": "vGGsqkSSO3pR",
        "colab_type": "code",
        "colab": {}
      },
      "source": [
        "import torch.autograd as autograd\n",
        "import torch.nn as nn\n",
        "import torch.nn.functional as F\n",
        "import torch.optim as optim"
      ],
      "execution_count": 0,
      "outputs": []
    },
    {
      "cell_type": "code",
      "metadata": {
        "id": "UXUGiDwnPhRU",
        "colab_type": "code",
        "colab": {
          "base_uri": "https://localhost:8080/",
          "height": 70
        },
        "outputId": "5ded09bf-ff7d-4c5c-fe9b-6ae7aed86956"
      },
      "source": [
        "# track objects as they are created\n",
        "x = torch.tensor([1.,2.,3.], requires_grad=True) # Starts recording objects\n",
        "y = torch.tensor([3.,2.,1.], requires_grad=True)\n",
        "z = x + y # THis is a node that is connecting two nodes, this is just a math operation\n",
        "# NO BACKPROP CAN HAPPEN ON SUCH A NODE \n",
        "print(z)\n",
        "print(z.grad_fn) # Z knows that X and Y created it. This track-record is the below address\n",
        "s = z.sum()\n",
        "print(s.grad_fn)\n",
        "# Gradient function is DIFFERENTIATION on existing data which gives you the slope\n",
        "# SLOPE is the direction in which to travel! "
      ],
      "execution_count": 63,
      "outputs": [
        {
          "output_type": "stream",
          "text": [
            "tensor([4., 4., 4.], grad_fn=<AddBackward0>)\n",
            "<AddBackward0 object at 0x7f428604ffd0>\n",
            "<SumBackward0 object at 0x7f428604ffd0>\n"
          ],
          "name": "stdout"
        }
      ]
    },
    {
      "cell_type": "code",
      "metadata": {
        "id": "0P2Pt0yhP5Tr",
        "colab_type": "code",
        "colab": {
          "base_uri": "https://localhost:8080/",
          "height": 34
        },
        "outputId": "91a8e597-7868-4b29-bb34-6281251a852a"
      },
      "source": [
        "print(x.grad) # FOrward prop happened when you did z.sum() but no back_prop happened\n",
        "# that is why no weights or biases have been adjusted yet \n",
        "# to adjust them, new gradients from the learning are required. This requires Gradient Descent going backwords\n",
        "# into the network-> this will create new values for GRADIENTS, which in turn will readjust weights and biases\n",
        "\n"
      ],
      "execution_count": 56,
      "outputs": [
        {
          "output_type": "stream",
          "text": [
            "None\n"
          ],
          "name": "stdout"
        }
      ]
    },
    {
      "cell_type": "code",
      "metadata": {
        "id": "ED2W56cpQ5ID",
        "colab_type": "code",
        "colab": {
          "base_uri": "https://localhost:8080/",
          "height": 87
        },
        "outputId": "5c53b2ee-c36b-4f99-d8dc-006141632aa9"
      },
      "source": [
        "s.backward() # backprop running from S. THIS WILL ALSO EXECUTE THE NETWORK. \n",
        "# My network became s->z->(x,y)\n",
        "print(x.grad)\n",
        "print(y.grad)\n",
        "print(x)\n",
        "print(y)"
      ],
      "execution_count": 66,
      "outputs": [
        {
          "output_type": "stream",
          "text": [
            "tensor([2., 2., 2.])\n",
            "tensor([2., 2., 2.])\n",
            "tensor([1., 2., 3.], requires_grad=True)\n",
            "tensor([3., 2., 1.], requires_grad=True)\n"
          ],
          "name": "stdout"
        }
      ]
    },
    {
      "cell_type": "code",
      "metadata": {
        "id": "53P-NCs0RHfw",
        "colab_type": "code",
        "colab": {
          "base_uri": "https://localhost:8080/",
          "height": 434
        },
        "outputId": "9030dd95-af9f-453a-d664-9af5528dd4c2"
      },
      "source": [
        "# y = weights * x + bias\n",
        "# weights and bias is updated via Gradients learnt from Gradient Descent \n",
        "# PARTIAL DIFFERNTIATION \n",
        "import matplotlib.pyplot as plt\n",
        "import cv2\n",
        "x = cv2.imread('pd.jpg')\n",
        "plt.figure(figsize=(15,10))\n",
        "plt.imshow(x)"
      ],
      "execution_count": 71,
      "outputs": [
        {
          "output_type": "execute_result",
          "data": {
            "text/plain": [
              "<matplotlib.image.AxesImage at 0x7f427b57ae80>"
            ]
          },
          "metadata": {
            "tags": []
          },
          "execution_count": 71
        },
        {
          "output_type": "display_data",
          "data": {
            "image/png": "[encoded data removed]",
            "text/plain": [
              "<Figure size 1080x720 with 1 Axes>"
            ]
          },
          "metadata": {
            "tags": []
          }
        }
      ]
    },
    {
      "cell_type": "code",
      "metadata": {
        "id": "T0vTAfdGW7eV",
        "colab_type": "code",
        "colab": {}
      },
      "source": [
        ""
      ],
      "execution_count": 0,
      "outputs": []
    }
  ]
}