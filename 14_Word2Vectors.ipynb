{
  "nbformat": 4,
  "nbformat_minor": 0,
  "metadata": {
    "colab": {
      "name": "14 Word2Vectors.ipynb",
      "provenance": [],
      "collapsed_sections": [],
      "authorship_tag": "ABX9TyPZ68RZqMJx01KUKL4LudJ5",
      "include_colab_link": true
    },
    "kernelspec": {
      "name": "python3",
      "display_name": "Python 3"
    }
  },
  "cells": [
    {
      "cell_type": "markdown",
      "metadata": {
        "id": "view-in-github",
        "colab_type": "text"
      },
      "source": [
        "<a href=\"https://colab.research.google.com/github/a-forty-two/DataSetsForML/blob/master/14_Word2Vectors.ipynb\" target=\"_parent\"><img src=\"https://colab.research.google.com/assets/colab-badge.svg\" alt=\"Open In Colab\"/></a>"
      ]
    },
    {
      "cell_type": "code",
      "metadata": {
        "id": "S3lWQJofvJe7",
        "colab_type": "code",
        "colab": {}
      },
      "source": [
        "\n",
        "\n",
        "# NLTK/Spacy, Textacy, Gensim \n",
        "# NLTK/SPACY -> token,segmentation, pieces of NLP\n",
        "# Textacy/Gensim -> rich functions to make NLP tasks easy \n",
        "# 0.5 > pos, <0.5 neg \n",
        "# CLASSIFICATIOn (Language/Sentiment/Chatbot) and REGRESSION (Prediction neighboring word)\n",
        "\n",
        "# words = { the, day, looks , good } -> bag of words -> a set of words (note that order doesn't matter in set)\n",
        "# yesterday-> classification using Bag or Words -> Spanish and English \n",
        "\n",
        "# the day looks ____ -> good \n",
        "# EMBEDDING Layer has to somehow generate embeddings that can help you predict next word (Rather than predicting the \n",
        "# class of existing word)\n",
        "\n",
        "# Idea behind vectorization to predict neighbor -> Train a network to predict next word, and transfer learn its weights\n",
        "# 1) Word pairs -> continuous bag of words! \n",
        "# 2) Then prep this as training\n",
        "# 3) create a 3 layer network-> feed the word and predict the output! \n",
        "# 4) remove the last layer! keep the input/hidden layer\n",
        "# 5) whatever weight recieved from hidden layer the new vector for the word!!! -> Generating feature from NN"
      ],
      "execution_count": 0,
      "outputs": []
    },
    {
      "cell_type": "code",
      "metadata": {
        "id": "499OZA94x2-n",
        "colab_type": "code",
        "outputId": "abae15b4-623c-41e0-af11-3c8279546188",
        "colab": {
          "base_uri": "https://localhost:8080/",
          "height": 99
        }
      },
      "source": [
        "import numpy as np\n",
        "import tensorflow as tf\n",
        "corpus_raw = \"\"\"He is the rich guy. The rich guy is happy person. She is rich girl. The Hundred Years War had begun in 1337. As an inheritance dispute over the French throne, interspersed with occasional periods of relative peace. Nearly all the fighting had taken place in France, and the English armys use of chevauchée tactics, destructive \"scorched earth\" raids, had devastated the economy. I'm not your pal, guy. I'm not your guy, friend. I'm not your friend, pal. I'm not your pal, buddy.\"\"\"\n",
        "corpus_raw = corpus_raw.lower()\n",
        "corpus_raw"
      ],
      "execution_count": 0,
      "outputs": [
        {
          "output_type": "display_data",
          "data": {
            "text/html": [
              "<p style=\"color: red;\">\n",
              "The default version of TensorFlow in Colab will soon switch to TensorFlow 2.x.<br>\n",
              "We recommend you <a href=\"https://www.tensorflow.org/guide/migrate\" target=\"_blank\">upgrade</a> now \n",
              "or ensure your notebook will continue to use TensorFlow 1.x via the <code>%tensorflow_version 1.x</code> magic:\n",
              "<a href=\"https://colab.research.google.com/notebooks/tensorflow_version.ipynb\" target=\"_blank\">more info</a>.</p>\n"
            ],
            "text/plain": [
              "<IPython.core.display.HTML object>"
            ]
          },
          "metadata": {
            "tags": []
          }
        },
        {
          "output_type": "execute_result",
          "data": {
            "text/plain": [
              "'he is the rich guy. the rich guy is happy person. she is rich girl. the hundred years war had begun in 1337. as an inheritance dispute over the french throne, interspersed with occasional periods of relative peace. nearly all the fighting had taken place in france, and the english armys use of chevauchée tactics, destructive \"scorched earth\" raids, had devastated the economy. i\\'m not your pal, guy. i\\'m not your guy, friend. i\\'m not your friend, pal. i\\'m not your pal, buddy.'"
            ]
          },
          "metadata": {
            "tags": []
          },
          "execution_count": 1
        }
      ]
    },
    {
      "cell_type": "code",
      "metadata": {
        "id": "08X1-RfPyVpW",
        "colab_type": "code",
        "outputId": "24315282-570b-4346-cf27-40372ab4e8ae",
        "colab": {
          "base_uri": "https://localhost:8080/",
          "height": 104
        }
      },
      "source": [
        "# a whole bag of words \n",
        "words = []\n",
        "for word in corpus_raw.split():\n",
        "  if word != '.' and word!=',':\n",
        "    word = word.replace('.', '') # REPLACE WITH REGEX for , and other chars you want ignored\n",
        "    words.append(word)\n",
        "\n",
        "print(words)\n",
        "print(len(words))\n",
        "words = set(words)\n",
        "print(words)\n",
        "print(len(words))"
      ],
      "execution_count": 0,
      "outputs": [
        {
          "output_type": "stream",
          "text": [
            "['he', 'is', 'the', 'rich', 'guy', 'the', 'rich', 'guy', 'is', 'happy', 'person', 'she', 'is', 'rich', 'girl', 'the', 'hundred', 'years', 'war', 'had', 'begun', 'in', '1337', 'as', 'an', 'inheritance', 'dispute', 'over', 'the', 'french', 'throne,', 'interspersed', 'with', 'occasional', 'periods', 'of', 'relative', 'peace', 'nearly', 'all', 'the', 'fighting', 'had', 'taken', 'place', 'in', 'france,', 'and', 'the', 'english', 'armys', 'use', 'of', 'chevauchée', 'tactics,', 'destructive', '\"scorched', 'earth\"', 'raids,', 'had', 'devastated', 'the', 'economy', \"i'm\", 'not', 'your', 'pal,', 'guy', \"i'm\", 'not', 'your', 'guy,', 'friend', \"i'm\", 'not', 'your', 'friend,', 'pal', \"i'm\", 'not', 'your', 'pal,', 'buddy']\n",
            "83\n",
            "{'1337', 'an', 'over', 'happy', 'devastated', 'as', 'years', 'nearly', 'english', 'your', 'place', 'person', 'pal', 'buddy', 'use', \"i'm\", '\"scorched', 'fighting', 'girl', 'in', 'of', 'with', 'relative', 'peace', 'all', 'and', 'had', 'occasional', 'pal,', 'armys', 'raids,', 'begun', 'is', 'friend,', 'tactics,', 'destructive', 'she', 'hundred', 'interspersed', 'the', 'war', 'not', 'guy,', 'dispute', 'inheritance', 'earth\"', 'rich', 'guy', 'economy', 'he', 'france,', 'taken', 'periods', 'friend', 'french', 'throne,', 'chevauchée'}\n",
            "57\n"
          ],
          "name": "stdout"
        }
      ]
    },
    {
      "cell_type": "code",
      "metadata": {
        "id": "FR-xV_qfy6W4",
        "colab_type": "code",
        "outputId": "b85eff78-4000-49af-ef4c-44f2d01c8b31",
        "colab": {
          "base_uri": "https://localhost:8080/",
          "height": 70
        }
      },
      "source": [
        "word2int = {}\n",
        "int2word = {}\n",
        "vocab_size = len(words)\n",
        "for i,word in enumerate(words): # ANY ORDER OF APPEAREANCE IS FINE \n",
        "  word2int[word] = i\n",
        "  int2word[i] = word \n",
        "print(word2int)\n",
        "print(int2word)"
      ],
      "execution_count": 0,
      "outputs": [
        {
          "output_type": "stream",
          "text": [
            "{'1337': 0, 'an': 1, 'over': 2, 'happy': 3, 'devastated': 4, 'as': 5, 'years': 6, 'nearly': 7, 'english': 8, 'your': 9, 'place': 10, 'person': 11, 'pal': 12, 'buddy': 13, 'use': 14, \"i'm\": 15, '\"scorched': 16, 'fighting': 17, 'girl': 18, 'in': 19, 'of': 20, 'with': 21, 'relative': 22, 'peace': 23, 'all': 24, 'and': 25, 'had': 26, 'occasional': 27, 'pal,': 28, 'armys': 29, 'raids,': 30, 'begun': 31, 'is': 32, 'friend,': 33, 'tactics,': 34, 'destructive': 35, 'she': 36, 'hundred': 37, 'interspersed': 38, 'the': 39, 'war': 40, 'not': 41, 'guy,': 42, 'dispute': 43, 'inheritance': 44, 'earth\"': 45, 'rich': 46, 'guy': 47, 'economy': 48, 'he': 49, 'france,': 50, 'taken': 51, 'periods': 52, 'friend': 53, 'french': 54, 'throne,': 55, 'chevauchée': 56}\n",
            "{0: '1337', 1: 'an', 2: 'over', 3: 'happy', 4: 'devastated', 5: 'as', 6: 'years', 7: 'nearly', 8: 'english', 9: 'your', 10: 'place', 11: 'person', 12: 'pal', 13: 'buddy', 14: 'use', 15: \"i'm\", 16: '\"scorched', 17: 'fighting', 18: 'girl', 19: 'in', 20: 'of', 21: 'with', 22: 'relative', 23: 'peace', 24: 'all', 25: 'and', 26: 'had', 27: 'occasional', 28: 'pal,', 29: 'armys', 30: 'raids,', 31: 'begun', 32: 'is', 33: 'friend,', 34: 'tactics,', 35: 'destructive', 36: 'she', 37: 'hundred', 38: 'interspersed', 39: 'the', 40: 'war', 41: 'not', 42: 'guy,', 43: 'dispute', 44: 'inheritance', 45: 'earth\"', 46: 'rich', 47: 'guy', 48: 'economy', 49: 'he', 50: 'france,', 51: 'taken', 52: 'periods', 53: 'friend', 54: 'french', 55: 'throne,', 56: 'chevauchée'}\n"
          ],
          "name": "stdout"
        }
      ]
    },
    {
      "cell_type": "code",
      "metadata": {
        "id": "gKAKWUtAzufo",
        "colab_type": "code",
        "outputId": "c71a5bfb-768c-4e5e-f6e6-60f578fb8040",
        "colab": {
          "base_uri": "https://localhost:8080/",
          "height": 34
        }
      },
      "source": [
        "print(word2int['rich'])"
      ],
      "execution_count": 0,
      "outputs": [
        {
          "output_type": "stream",
          "text": [
            "46\n"
          ],
          "name": "stdout"
        }
      ]
    },
    {
      "cell_type": "code",
      "metadata": {
        "id": "Pqw9OYHK0MWb",
        "colab_type": "code",
        "outputId": "ccd0570a-1b06-4563-c270-486a652cc36d",
        "colab": {
          "base_uri": "https://localhost:8080/",
          "height": 34
        }
      },
      "source": [
        "print(int2word[3])"
      ],
      "execution_count": 0,
      "outputs": [
        {
          "output_type": "stream",
          "text": [
            "happy\n"
          ],
          "name": "stdout"
        }
      ]
    },
    {
      "cell_type": "code",
      "metadata": {
        "id": "2gkG1uV60Oe6",
        "colab_type": "code",
        "colab": {}
      },
      "source": [
        "# extract raw sentences from the corpus\n",
        "rawSentences = corpus_raw.split('.') # . are end of sentences\n",
        "sentences = []\n",
        "for sentence in rawSentences:\n",
        "  sentences.append(sentence.split())\n",
        "\n",
        "#sentences"
      ],
      "execution_count": 0,
      "outputs": []
    },
    {
      "cell_type": "code",
      "metadata": {
        "id": "TDt0BRA00udh",
        "colab_type": "code",
        "colab": {}
      },
      "source": [
        "# to predict next word, given word, basically i need to create all possible word-sequence pairs\n",
        "# longest word-sequnce we want to detect is 2-> Rich ___ ? GUY! \n",
        "WINDOW_SIZE = 2\n",
        "data = []\n",
        "# The algo below will create, all possible combinations of my words, within WINDOW RANGE\n",
        "for sentence in sentences:\n",
        "  for wordIndex, word in enumerate(sentence):\n",
        "    for xword in sentence[max(wordIndex- WINDOW_SIZE,0):min(wordIndex+ WINDOW_SIZE,len(sentence))+1]: \n",
        "      if xword != word: # pair detected, check for self detection\n",
        "        data.append([word,xword])\n",
        "\n",
        "#data\n",
        "\n",
        "#wordIndex,word -> 0,Ba 1,ba 2,black 3,sheep\n",
        "#wordIndex = 1, word = ba\n",
        "#\n",
        "#xword =Ba   0:3 -> FIRST 2 words will be selected, if they are different, they are considered word-pair\n",
        "#word =ba    1:4 -> 2nd and 3rd words will be select, considered word-pair \n",
        "#            2:5\n",
        "#            3:6\n",
        "#            4:7....\n"
      ],
      "execution_count": 0,
      "outputs": []
    },
    {
      "cell_type": "markdown",
      "metadata": {
        "id": "SnsHRb0yD-bX",
        "colab_type": "text"
      },
      "source": [
        "Bye bye guys, i am going home. \n",
        "\n",
        "For given Window_size = 3\n",
        "\n",
        "Bye bye guys, -> {all combinations}\n",
        "\n",
        "bye guys, i -> all combos\n",
        "\n",
        "guys, i am ->...\n",
        "\n",
        "am going home -> all combos "
      ]
    },
    {
      "cell_type": "code",
      "metadata": {
        "id": "UGBnuDHT2n2W",
        "colab_type": "code",
        "colab": {}
      },
      "source": [
        "# how to prep numbers for NN?\n",
        "# Label ENcoder -> 233, 16 -> does this mean that a word is smaller than the word?\n",
        "# One-HOT Encoding of Dictionary -> [ 0 0 0 0 ... 0 0] -> mark 1 wherever word is present -> [0 1 0 0 ...0 0]\n",
        "\n",
        "# convert from words to numbers! Label Encoder, One-Hot (INPUT), Label Binarizer(OUTPUT)!!! \n",
        "def Encoder(datapointindex, vocabsize):\n",
        "  temp = np.zeros(vocabsize) # initialize with a cold vector\n",
        "  temp[datapointindex] = 1 # wherever word is present, encode that position as hot\n",
        "  return temp\n",
        "\n",
        "trainx, trainy = [], []"
      ],
      "execution_count": 0,
      "outputs": []
    },
    {
      "cell_type": "code",
      "metadata": {
        "id": "Rc2pAXHz7P-H",
        "colab_type": "code",
        "outputId": "e043369f-fdd3-49a1-c523-1434a0c8b485",
        "colab": {
          "base_uri": "https://localhost:8080/",
          "height": 151
        }
      },
      "source": [
        "# ONE-HOT Encoding\n",
        "for worddata in data:\n",
        "  try:\n",
        "    trainx.append(Encoder(word2int[worddata[0]], vocab_size))\n",
        "    trainy.append(Encoder(word2int[worddata[1]], vocab_size))\n",
        "  except:\n",
        "    continue \n",
        "\n",
        "trainx = np.asarray(trainx)\n",
        "trainy = np.asarray(trainy)\n",
        "print(trainx[0])\n",
        "print(trainy[0])\n",
        "print(len(trainx))\n",
        "print(len(trainy))"
      ],
      "execution_count": 0,
      "outputs": [
        {
          "output_type": "stream",
          "text": [
            "[0. 0. 0. 0. 0. 0. 0. 0. 0. 0. 0. 0. 0. 0. 0. 0. 0. 0. 0. 0. 0. 0. 0. 0.\n",
            " 0. 0. 0. 0. 0. 0. 0. 0. 0. 0. 0. 0. 0. 0. 0. 0. 0. 0. 0. 0. 0. 0. 0. 0.\n",
            " 0. 1. 0. 0. 0. 0. 0. 0. 0.]\n",
            "[0. 0. 0. 0. 0. 0. 0. 0. 0. 0. 0. 0. 0. 0. 0. 0. 0. 0. 0. 0. 0. 0. 0. 0.\n",
            " 0. 0. 0. 0. 0. 0. 0. 0. 1. 0. 0. 0. 0. 0. 0. 0. 0. 0. 0. 0. 0. 0. 0. 0.\n",
            " 0. 0. 0. 0. 0. 0. 0. 0. 0.]\n",
            "272\n",
            "272\n"
          ],
          "name": "stdout"
        }
      ]
    },
    {
      "cell_type": "code",
      "metadata": {
        "id": "KyDbETuU7zSG",
        "colab_type": "code",
        "outputId": "f93c0836-770d-4702-b1f5-cf19cf19a9c2",
        "colab": {
          "base_uri": "https://localhost:8080/",
          "height": 50
        }
      },
      "source": [
        "print(trainx.shape)\n",
        "print(trainy.shape)"
      ],
      "execution_count": 0,
      "outputs": [
        {
          "output_type": "stream",
          "text": [
            "(272, 57)\n",
            "(272, 57)\n"
          ],
          "name": "stdout"
        }
      ]
    },
    {
      "cell_type": "code",
      "metadata": {
        "id": "SpfKJOlT9vCD",
        "colab_type": "code",
        "colab": {}
      },
      "source": [
        "# BEGIN THE LEARNING PROCESS \n",
        "# Stop word removal may or may not be required, check if it is really required or can you do without it\n",
        "# because every step takes time! \n",
        "# answer questions after reading a topic\n",
        "# Manoj is good at singing. Pinky was good at singing. \n",
        "# is, was , at\n",
        "# {manoj, good, singing} {pinky, good, singing}\n",
        "\n",
        "# Q- Back in the days, who would sing good?"
      ],
      "execution_count": 0,
      "outputs": []
    },
    {
      "cell_type": "code",
      "metadata": {
        "id": "GtLQmv4B_dkP",
        "colab_type": "code",
        "colab": {}
      },
      "source": [
        "HP_embeddims = 5\n",
        "EPOCHS = 100\n",
        "\n",
        "x = tf.placeholder(tf.float32, shape=(None, vocab_size)) # infinite rows, dictionary size/column size is fixed\n",
        "y = tf.placeholder(tf.float32, shape=(None, vocab_size))\n",
        "w1 = tf.Variable(tf.random_normal([vocab_size, HP_embeddims]))\n",
        "b1 = tf.Variable(tf.random_normal([HP_embeddims]))\n",
        "hidden_rep = tf.add(tf.matmul(x,w1), b1) # hidden_rep = x*w1 + b\n",
        "w2 = tf.Variable(tf.random_normal([HP_embeddims, vocab_size])) # truncated_normal -> between limits, random_normal\n",
        "b2 = tf.Variable(tf.random_normal([vocab_size]))\n",
        "prediction = tf.nn.softmax(tf.add(tf.matmul(hidden_rep,w2), b2)) \n",
        "# every_layer = prev_layer*new_weights + new_bias\n",
        "# 3 layered model! First layer->w1->Second->w2->Output\n"
      ],
      "execution_count": 0,
      "outputs": []
    },
    {
      "cell_type": "code",
      "metadata": {
        "id": "BX03-kJsBXFz",
        "colab_type": "code",
        "outputId": "e3ea3506-6a2a-451a-a713-3e4e0658ceee",
        "colab": {
          "base_uri": "https://localhost:8080/",
          "height": 34
        }
      },
      "source": [
        "prediction # Pytorch -> like Numpy, was dynamic, and gave you answers immediately!\n",
        "# tf.session() is required to run the code in tf!"
      ],
      "execution_count": 0,
      "outputs": [
        {
          "output_type": "execute_result",
          "data": {
            "text/plain": [
              "<tf.Tensor 'Softmax:0' shape=(?, 57) dtype=float32>"
            ]
          },
          "metadata": {
            "tags": []
          },
          "execution_count": 13
        }
      ]
    },
    {
      "cell_type": "code",
      "metadata": {
        "id": "MmJwJrT1Ba2B",
        "colab_type": "code",
        "colab": {}
      },
      "source": [
        "session = tf.Session()\n",
        "init = tf.global_variables_initializer() # THIS FUNCTION NEEDS TO BE EXECUTED VIA TF SESSION\n",
        "session.run(init) # all global variables initiated\n",
        "\n",
        "#y = mx + c"
      ],
      "execution_count": 0,
      "outputs": []
    },
    {
      "cell_type": "code",
      "metadata": {
        "id": "lR7eEekeDhcF",
        "colab_type": "code",
        "colab": {}
      },
      "source": [
        "# LOSS FUNCTION\n",
        "crossEntropy = tf.reduce_mean(-tf.reduce_sum(y*tf.log(prediction), reduction_indices=[1])) \n",
        "# FORMULA for cross entropy\n",
        "# define the training step\n",
        "trainStep = tf.train.GradientDescentOptimizer(learning_rate=0.001).minimize(crossEntropy)\n",
        "HP_epoch = 1000\n",
        "\n",
        "# train the model\n",
        "for _ in range(HP_epoch):\n",
        "  session.run(trainStep, feed_dict={x:trainx, y:trainy})\n",
        "  #print(\".\")\n",
        "  #print(session.run(crossEntropy, feed_dict={x:trainx, y:trainy}))"
      ],
      "execution_count": 0,
      "outputs": []
    },
    {
      "cell_type": "code",
      "metadata": {
        "id": "poS8GsUsEcet",
        "colab_type": "code",
        "colab": {}
      },
      "source": [
        "#print(session.run(w2))\n",
        "#print(\"******\")\n",
        "#print(session.run(w1 + b1))\n",
        "#print(\"******\")\n",
        "#print(session.run(w2 + b2))\n",
        "# #p(y) = w * p(x) + bias = w + bias\n",
        "# #p(x) = 1! that's why i am predict y! p(x)-> probability a word is spoken! "
      ],
      "execution_count": 0,
      "outputs": []
    },
    {
      "cell_type": "code",
      "metadata": {
        "id": "2rDb_XSzF0AC",
        "colab_type": "code",
        "outputId": "1720c925-01da-44db-903a-79b233ea9646",
        "colab": {
          "base_uri": "https://localhost:8080/",
          "height": 50
        }
      },
      "source": [
        "# p(y) = weights * p(x) + bias \n",
        "# X is already the input, hence present, and hence say p(x) = 1\n",
        "# p(y) = weights + bias \n",
        "\n",
        "\n",
        "\n",
        "\n",
        "vectors = session.run(w1+b1) # this is the layer calculating the vectors for conversion!!!\n",
        "\n",
        "print(vectors[word2int['happy']]) # LEARNING TRANSFERRED!!!! \n",
        "print(vectors[word2int['pal']]) # LEARNING TRANSFERRED!!!! "
      ],
      "execution_count": 0,
      "outputs": [
        {
          "output_type": "stream",
          "text": [
            "[-0.46795237 -1.1781824   1.1407243   1.7646775   0.23983225]\n",
            "[-0.35225546 -0.89992696  1.5022633   0.31927037 -0.9660231 ]\n"
          ],
          "name": "stdout"
        }
      ]
    },
    {
      "cell_type": "code",
      "metadata": {
        "id": "sfl60fHNHcRJ",
        "colab_type": "code",
        "colab": {}
      },
      "source": [
        "# VECTORIZATION of my data -> convert string into numbers \n",
        "# prediction of next word, we have broken every word into learnable dimensions\n",
        "# BAD EXAMPLE:\n",
        "# he is a happy boy. he died happy. \n",
        "# dim1= happy_before_boy , dim2 = happy_after_died, dim3= happy_asLastWord "
      ],
      "execution_count": 0,
      "outputs": []
    },
    {
      "cell_type": "code",
      "metadata": {
        "id": "mNPVDhhSN8QH",
        "colab_type": "code",
        "colab": {}
      },
      "source": [
        "# WORD_VECTOR_SPACE\n",
        "def euD(v1, v2):\n",
        "  # ROOT(for_every_point_in_vectors: SQUARE(v2-v1))\n",
        "  eucledian_distance = np.sqrt(np.sum((v1-v2)**2))\n",
        "  return eucledian_distance\n"
      ],
      "execution_count": 0,
      "outputs": []
    },
    {
      "cell_type": "code",
      "metadata": {
        "id": "nE0oaf45S0TS",
        "colab_type": "code",
        "colab": {}
      },
      "source": [
        "# Min and max values in array! except, now we are doing it on a network of paths!!! \n",
        "# path = connection between vector (v2-v1)\n",
        "# min -> take a no. tending to inf. Compare a number with it. If the new no. is smaller than min, replace it \n",
        "# with min. Repeat this for all numbers. \n",
        "\n",
        "def findClosest(wordIndex, vectors):\n",
        "  min_dist = 99999\n",
        "  minIndex = -99999\n",
        "  query = vectors[wordIndex] # TREAT this vector as ORIGIN. And calculate distance with respect to this vector.\n",
        "  for index, vector in enumerate(vectors):\n",
        "    # don't calculate distance from same word!\n",
        "    # else the word itself will be the closest all the time\n",
        "    ed = euD(vector, query)\n",
        "    if ed < min_dist and not np.array_equal(vector, query):\n",
        "      min_dist = ed\n",
        "      minIndex = index\n",
        "  return minIndex\n",
        "# ENGIMA MACHINES -> german , TURING test -> chat is ai or not\n",
        "# NN hardcoded electrical and mechanical circuits \n",
        "# "
      ],
      "execution_count": 0,
      "outputs": []
    },
    {
      "cell_type": "code",
      "metadata": {
        "id": "MB5efRpQUuom",
        "colab_type": "code",
        "outputId": "6a0c2014-996a-4c5e-e529-f80188380f1e",
        "colab": {
          "base_uri": "https://localhost:8080/",
          "height": 34
        }
      },
      "source": [
        "vec = word2int['she']\n",
        "closest = findClosest(vec, vectors)\n",
        "int2word[closest] \n",
        "# if this was a business case, new language or text in a specific way then follow the same approach\n",
        "# else, for global usage, DON't use this"
      ],
      "execution_count": 0,
      "outputs": [
        {
          "output_type": "execute_result",
          "data": {
            "text/plain": [
              "'friend,'"
            ]
          },
          "metadata": {
            "tags": []
          },
          "execution_count": 24
        }
      ]
    },
    {
      "cell_type": "code",
      "metadata": {
        "id": "ew4JTq5zVBJ3",
        "colab_type": "code",
        "colab": {}
      },
      "source": [
        "# lABEL encoding and one-hot both were out\n",
        "# label encoder -> easily guessable! it's simply a map! \n",
        "# one-hot -> increased the siZe!!! each vector is represented by 1-hot vector-sized matrix!\n",
        "# if dic_size = 5 , and i had a sentence 1st,2nd, 1st, 2nd, 5th, 4th\n",
        "# [1 0 0 0 0], [0 1 0 0 0], [1 0 0 0 0], [0 1 0 0 0], [0 0 0 1 0]\n",
        "\n",
        "# T-distributed Stochastic Neighbor Embedding -> plot based on probability of strings being nearby \n",
        "# https://www.statisticshowto.datasciencecentral.com/probability-and-statistics/hypothesis-testing/t-score-vs-z-score/ \n"
      ],
      "execution_count": 0,
      "outputs": []
    },
    {
      "cell_type": "code",
      "metadata": {
        "id": "4g1s8vU5MYzm",
        "colab_type": "code",
        "outputId": "317d5fa1-ad9b-4094-f8f8-ea743bf90889",
        "colab": {
          "base_uri": "https://localhost:8080/",
          "height": 34
        }
      },
      "source": [
        "from sklearn.manifold import TSNE\n",
        "model = TSNE(n_components=2, random_state=42)\n",
        "v2 = model.fit_transform(vectors)\n",
        "# FIT -> calc mu, sigma\n",
        "# transform -> apply the function and make actual value changes\n",
        "# normalize after transformation\n",
        "from sklearn import preprocessing\n",
        "norm = preprocessing.Normalizer()\n",
        "v2 = norm.fit_transform(v2,'l2')\n",
        "v2.shape\n",
        "\n",
        "# y = mx + c\n",
        "# y_actual = 1\n",
        "# y_predicted = 0.99 \n",
        "# loss = 0.01 \n",
        "# l2 -> very small no. that is added to the equation such that the 'm' tends to 0. That way\n",
        "# mx becomes very, very small and large changes in x do not impact mx so much. \n",
        "# l1 -> almost 0 -> mx almost becomes 0, and entire equation depends on bias heavily "
      ],
      "execution_count": 0,
      "outputs": [
        {
          "output_type": "execute_result",
          "data": {
            "text/plain": [
              "(57, 2)"
            ]
          },
          "metadata": {
            "tags": []
          },
          "execution_count": 27
        }
      ]
    },
    {
      "cell_type": "code",
      "metadata": {
        "id": "j5YLCXm2O1Xe",
        "colab_type": "code",
        "outputId": "14cb1ce0-da5f-4328-ae3f-97f1edfa10bf",
        "colab": {
          "base_uri": "https://localhost:8080/",
          "height": 318
        }
      },
      "source": [
        "import matplotlib.pyplot as plt\n",
        "plt.figure(figsize=(15,15))\n",
        "fig,ax = plt.subplots()\n",
        "print(words)\n",
        "for word in words:\n",
        "  #print(word, vectors[word2int[word]][1])\n",
        "  ax.annotate(word, (v2[word2int[word]][0],v2[word2int[word]][1])) # (word, (x, y)) to plot\n",
        "\n",
        "xlimmin= min([v2[word2int[w]][0] for w in words ]) -0.25\n",
        "xlimmax= max([v2[word2int[w]][0] for w in words ]) +0.25\n",
        "ylimmin= min([v2[word2int[w]][1] for w in words ]) -0.25\n",
        "ylimmax= max([v2[word2int[w]][1] for w in words ]) +0.25\n",
        "\n",
        "ax.set_xlim(xlimmin, xlimmax)\n",
        "ax.set_ylim(ylimmin, ylimmax)\n",
        "plt.show()\n",
        "\n",
        "# IN all dimensions, this a Pie-Volume not a CIRCLE (we can only see it in 2D)\n",
        "\n"
      ],
      "execution_count": 0,
      "outputs": [
        {
          "output_type": "stream",
          "text": [
            "{'1337', 'an', 'over', 'happy', 'devastated', 'as', 'years', 'nearly', 'english', 'your', 'place', 'person', 'pal', 'buddy', 'use', \"i'm\", '\"scorched', 'fighting', 'girl', 'in', 'of', 'with', 'relative', 'peace', 'all', 'and', 'had', 'occasional', 'pal,', 'armys', 'raids,', 'begun', 'is', 'friend,', 'tactics,', 'destructive', 'she', 'hundred', 'interspersed', 'the', 'war', 'not', 'guy,', 'dispute', 'inheritance', 'earth\"', 'rich', 'guy', 'economy', 'he', 'france,', 'taken', 'periods', 'friend', 'french', 'throne,', 'chevauchée'}\n"
          ],
          "name": "stdout"
        },
        {
          "output_type": "display_data",
          "data": {
            "text/plain": [
              "<Figure size 1080x1080 with 0 Axes>"
            ]
          },
          "metadata": {
            "tags": []
          }
        },
        {
          "output_type": "display_data",
          "data": {
            "image/png": "[encoded data removed]",
            "text/plain": [
              "<Figure size 432x288 with 1 Axes>"
            ]
          },
          "metadata": {
            "tags": []
          }
        }
      ]
    },
    {
      "cell_type": "code",
      "metadata": {
        "id": "4ke07W76REQb",
        "colab_type": "code",
        "outputId": "d107e434-bc94-43eb-9d41-428536d3974b",
        "colab": {
          "base_uri": "https://localhost:8080/",
          "height": 322
        }
      },
      "source": [
        "# GENSIM + Spacy + textacy + NLTK + GATE -> text processing in production before passing to NN\n",
        "# Sklearn, Stanford NLP -> academic models, good for prototyping/explorations/experiements\n",
        "# !pip install genesis\n",
        "!pip install gensim\n",
        "\n",
        "\n",
        "\n"
      ],
      "execution_count": 0,
      "outputs": [
        {
          "output_type": "stream",
          "text": [
            "Requirement already satisfied: gensim in /usr/local/lib/python3.6/dist-packages (3.6.0)\n",
            "Requirement already satisfied: smart-open>=1.2.1 in /usr/local/lib/python3.6/dist-packages (from gensim) (1.9.0)\n",
            "Requirement already satisfied: numpy>=1.11.3 in /usr/local/lib/python3.6/dist-packages (from gensim) (1.18.1)\n",
            "Requirement already satisfied: six>=1.5.0 in /usr/local/lib/python3.6/dist-packages (from gensim) (1.12.0)\n",
            "Requirement already satisfied: scipy>=0.18.1 in /usr/local/lib/python3.6/dist-packages (from gensim) (1.4.1)\n",
            "Requirement already satisfied: boto>=2.32 in /usr/local/lib/python3.6/dist-packages (from smart-open>=1.2.1->gensim) (2.49.0)\n",
            "Requirement already satisfied: requests in /usr/local/lib/python3.6/dist-packages (from smart-open>=1.2.1->gensim) (2.21.0)\n",
            "Requirement already satisfied: boto3 in /usr/local/lib/python3.6/dist-packages (from smart-open>=1.2.1->gensim) (1.12.18)\n",
            "Requirement already satisfied: urllib3<1.25,>=1.21.1 in /usr/local/lib/python3.6/dist-packages (from requests->smart-open>=1.2.1->gensim) (1.24.3)\n",
            "Requirement already satisfied: certifi>=2017.4.17 in /usr/local/lib/python3.6/dist-packages (from requests->smart-open>=1.2.1->gensim) (2019.11.28)\n",
            "Requirement already satisfied: idna<2.9,>=2.5 in /usr/local/lib/python3.6/dist-packages (from requests->smart-open>=1.2.1->gensim) (2.8)\n",
            "Requirement already satisfied: chardet<3.1.0,>=3.0.2 in /usr/local/lib/python3.6/dist-packages (from requests->smart-open>=1.2.1->gensim) (3.0.4)\n",
            "Requirement already satisfied: s3transfer<0.4.0,>=0.3.0 in /usr/local/lib/python3.6/dist-packages (from boto3->smart-open>=1.2.1->gensim) (0.3.3)\n",
            "Requirement already satisfied: botocore<1.16.0,>=1.15.18 in /usr/local/lib/python3.6/dist-packages (from boto3->smart-open>=1.2.1->gensim) (1.15.18)\n",
            "Requirement already satisfied: jmespath<1.0.0,>=0.7.1 in /usr/local/lib/python3.6/dist-packages (from boto3->smart-open>=1.2.1->gensim) (0.9.5)\n",
            "Requirement already satisfied: docutils<0.16,>=0.10 in /usr/local/lib/python3.6/dist-packages (from botocore<1.16.0,>=1.15.18->boto3->smart-open>=1.2.1->gensim) (0.15.2)\n",
            "Requirement already satisfied: python-dateutil<3.0.0,>=2.1 in /usr/local/lib/python3.6/dist-packages (from botocore<1.16.0,>=1.15.18->boto3->smart-open>=1.2.1->gensim) (2.8.1)\n"
          ],
          "name": "stdout"
        }
      ]
    },
    {
      "cell_type": "code",
      "metadata": {
        "id": "T9kOjrupbGKP",
        "colab_type": "code",
        "outputId": "fdae66ee-5893-42fc-d459-6c4792fa50d1",
        "colab": {
          "base_uri": "https://localhost:8080/",
          "height": 168
        }
      },
      "source": [
        "from gensim.models import Word2Vec\n",
        "from gensim.test.utils import common_texts, get_tmpfile\n",
        "common_texts"
      ],
      "execution_count": 0,
      "outputs": [
        {
          "output_type": "execute_result",
          "data": {
            "text/plain": [
              "[['human', 'interface', 'computer'],\n",
              " ['survey', 'user', 'computer', 'system', 'response', 'time'],\n",
              " ['eps', 'user', 'interface', 'system'],\n",
              " ['system', 'human', 'system', 'eps'],\n",
              " ['user', 'response', 'time'],\n",
              " ['trees'],\n",
              " ['graph', 'trees'],\n",
              " ['graph', 'minors', 'trees'],\n",
              " ['graph', 'minors', 'survey']]"
            ]
          },
          "metadata": {
            "tags": []
          },
          "execution_count": 52
        }
      ]
    },
    {
      "cell_type": "code",
      "metadata": {
        "id": "Q46F7jjFbbhY",
        "colab_type": "code",
        "outputId": "3cc0d792-bbaf-4c99-a554-2803ecf4dad0",
        "colab": {
          "base_uri": "https://localhost:8080/",
          "height": 70
        }
      },
      "source": [
        "# ENTIRE english dictionary cannot be stored as a model on a machine\n",
        "# SO GENSIM STREAMS the weights and biases into your machine dynamically, and removes when no \n",
        "# longer needed \n",
        "path = get_tmpfile('word2vec.model')\n",
        "# all elements below are hyperparams\n",
        "# LARGER window size => more words will be classified as same\n",
        "# SMALLER window size => less words in bag-of-word, less combinations \n",
        "model = Word2Vec(common_texts, size=100, window=5,min_count=1, workers=4) # parallel threads to process 1,2,4,8\n",
        "model.save(\"w2v.model\")"
      ],
      "execution_count": 0,
      "outputs": [
        {
          "output_type": "stream",
          "text": [
            "/usr/local/lib/python3.6/dist-packages/smart_open/smart_open_lib.py:402: UserWarning: This function is deprecated, use smart_open.open instead. See the migration notes for details: https://github.com/RaRe-Technologies/smart_open/blob/master/README.rst#migrating-to-the-new-open-function\n",
            "  'See the migration notes for details: %s' % _MIGRATION_NOTES_URL\n"
          ],
          "name": "stderr"
        }
      ]
    },
    {
      "cell_type": "code",
      "metadata": {
        "id": "iA1H22WxcEpa",
        "colab_type": "code",
        "outputId": "6474158a-f5e5-41bb-a7c0-f00e7e6c188f",
        "colab": {
          "base_uri": "https://localhost:8080/",
          "height": 507
        }
      },
      "source": [
        "# once your model is available locally, you can train it with your own data!\n",
        "\n",
        "model = Word2Vec.load('w2v.model') # load a pretrained Word2Vec model\n",
        "train_data = [['ba','black','sheep']]\n",
        "\n",
        "x = Word2Vec(train_data+common_texts,size=100, window=5, min_count=1, workers=4  ) # didn't work for unknown reasons, no error either, correct output - still no training done\n",
        "# model.train() threw error, but new model creation is working fine\n",
        "v = x.wv['black']\n",
        "v"
      ],
      "execution_count": 0,
      "outputs": [
        {
          "output_type": "stream",
          "text": [
            "/usr/local/lib/python3.6/dist-packages/smart_open/smart_open_lib.py:402: UserWarning: This function is deprecated, use smart_open.open instead. See the migration notes for details: https://github.com/RaRe-Technologies/smart_open/blob/master/README.rst#migrating-to-the-new-open-function\n",
            "  'See the migration notes for details: %s' % _MIGRATION_NOTES_URL\n"
          ],
          "name": "stderr"
        },
        {
          "output_type": "execute_result",
          "data": {
            "text/plain": [
              "array([ 3.17964586e-03,  3.62161850e-03, -1.43890129e-03, -8.32643345e-05,\n",
              "        2.02608979e-04, -4.50908765e-03, -2.89211818e-03, -2.08158954e-03,\n",
              "       -2.73584947e-03, -3.46351694e-03,  1.14787137e-03,  7.04684120e-04,\n",
              "        3.18287080e-03,  3.22343176e-03,  4.01951745e-03, -1.02600614e-04,\n",
              "       -2.38119392e-04, -6.09386363e-04, -2.22305395e-03, -2.24055862e-03,\n",
              "        2.71522277e-03, -3.98551114e-03, -1.84104498e-03,  4.63945884e-03,\n",
              "        2.31186184e-03, -4.41087410e-03,  4.01052181e-03, -3.09691881e-03,\n",
              "        3.19418078e-03, -9.61725949e-04, -3.01591284e-03,  2.53090425e-03,\n",
              "       -4.68183076e-03,  2.27649012e-04,  1.84950966e-03,  3.47575103e-03,\n",
              "       -4.82736062e-03,  1.38496421e-03,  4.55117691e-03, -6.61056489e-04,\n",
              "        3.06622591e-04, -4.78097657e-03, -1.74520956e-03, -3.39975557e-03,\n",
              "        4.42660041e-03,  1.45749724e-03, -4.12633643e-03,  3.45844310e-03,\n",
              "        2.68453080e-03,  4.75705415e-03, -1.11403468e-03, -7.44789257e-04,\n",
              "       -3.46083101e-03,  4.45214286e-03,  4.67304606e-03, -4.42847935e-03,\n",
              "        2.62241741e-03, -3.22380592e-03,  3.13263526e-03, -3.78397782e-03,\n",
              "       -2.95725721e-03,  1.55294919e-03,  3.87243228e-03,  2.87347566e-03,\n",
              "        3.30692716e-03,  1.56790030e-03,  1.72056636e-04, -9.54204763e-04,\n",
              "        7.97893736e-04, -3.52862780e-03, -4.18430008e-03, -8.77714541e-04,\n",
              "        2.13442277e-03, -2.62662768e-03,  2.43161991e-03,  9.93338064e-04,\n",
              "        1.06185128e-03, -2.52552284e-03,  5.34782128e-04,  1.50188443e-03,\n",
              "       -4.84742550e-03,  4.41182591e-03, -3.09216999e-03, -1.31085736e-03,\n",
              "        2.41432968e-03,  1.16833590e-03, -8.95894773e-04,  2.41376692e-03,\n",
              "        4.32067597e-03, -4.96516144e-03,  4.68213297e-03, -3.82257742e-04,\n",
              "       -2.10391334e-03,  1.18080690e-03, -3.86534887e-03,  3.51140578e-03,\n",
              "        1.42576301e-03, -1.02084107e-03,  7.61688862e-04,  8.26437143e-04],\n",
              "      dtype=float32)"
            ]
          },
          "metadata": {
            "tags": []
          },
          "execution_count": 80
        }
      ]
    },
    {
      "cell_type": "code",
      "metadata": {
        "id": "oTchGdUmhgAw",
        "colab_type": "code",
        "outputId": "1d934c86-5b6a-4d59-bcc0-d0bbf6644151",
        "colab": {
          "base_uri": "https://localhost:8080/",
          "height": 70
        }
      },
      "source": [
        "from gensim.models import KeyedVectors\n",
        "path = get_tmpfile('wordvectors.kv')\n",
        "model.wv.save(path)\n",
        "wv = KeyedVectors.load(path, mmap='r' )\n",
        "v = wv['system']"
      ],
      "execution_count": 0,
      "outputs": [
        {
          "output_type": "stream",
          "text": [
            "/usr/local/lib/python3.6/dist-packages/smart_open/smart_open_lib.py:402: UserWarning: This function is deprecated, use smart_open.open instead. See the migration notes for details: https://github.com/RaRe-Technologies/smart_open/blob/master/README.rst#migrating-to-the-new-open-function\n",
            "  'See the migration notes for details: %s' % _MIGRATION_NOTES_URL\n"
          ],
          "name": "stderr"
        }
      ]
    },
    {
      "cell_type": "code",
      "metadata": {
        "id": "5LmJjhOihxy8",
        "colab_type": "code",
        "colab": {}
      },
      "source": [
        "# spacy -> segment/token.... NLP pipeline steps  -> verb, noun,adverb,adjective,GPE\n",
        "# textacy -> special function -> extract_facts, extract_semistructured_statements, verb/facts/subject "
      ],
      "execution_count": 0,
      "outputs": []
    }
  ]
}