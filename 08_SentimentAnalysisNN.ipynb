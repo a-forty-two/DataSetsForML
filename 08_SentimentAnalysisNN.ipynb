{
  "nbformat": 4,
  "nbformat_minor": 0,
  "metadata": {
    "colab": {
      "name": "08 SentimentAnalysisNN",
      "provenance": [],
      "collapsed_sections": [],
      "machine_shape": "hm",
      "authorship_tag": "ABX9TyNI+LmoNIO8st9o90OHdBsk",
      "include_colab_link": true
    },
    "kernelspec": {
      "name": "python3",
      "display_name": "Python 3"
    }
  },
  "cells": [
    {
      "cell_type": "markdown",
      "metadata": {
        "id": "view-in-github",
        "colab_type": "text"
      },
      "source": [
        "<a href=\"https://colab.research.google.com/github/a-forty-two/DataSetsForML/blob/master/08_SentimentAnalysisNN.ipynb\" target=\"_parent\"><img src=\"https://colab.research.google.com/assets/colab-badge.svg\" alt=\"Open In Colab\"/></a>"
      ]
    },
    {
      "cell_type": "code",
      "metadata": {
        "id": "EjI9ILX8zAy3",
        "colab_type": "code",
        "colab": {
          "base_uri": "https://localhost:8080/",
          "height": 63
        },
        "outputId": "f94481ae-2075-4c75-d23b-b03a6cb9f984"
      },
      "source": [
        "#ENCODING TYPES \n",
        "import tensorflow as tf\n",
        "from tensorflow import keras\n",
        "import numpy as np\n",
        "import matplotlib.pyplot as plt \n",
        "\n"
      ],
      "execution_count": 1,
      "outputs": [
        {
          "output_type": "display_data",
          "data": {
            "text/html": [
              "<p style=\"color: red;\">\n",
              "The default version of TensorFlow in Colab will soon switch to TensorFlow 2.x.<br>\n",
              "We recommend you <a href=\"https://www.tensorflow.org/guide/migrate\" target=\"_blank\">upgrade</a> now \n",
              "or ensure your notebook will continue to use TensorFlow 1.x via the <code>%tensorflow_version 1.x</code> magic:\n",
              "<a href=\"https://colab.research.google.com/notebooks/tensorflow_version.ipynb\" target=\"_blank\">more info</a>.</p>\n"
            ],
            "text/plain": [
              "<IPython.core.display.HTML object>"
            ]
          },
          "metadata": {
            "tags": []
          }
        }
      ]
    },
    {
      "cell_type": "code",
      "metadata": {
        "id": "pX_Vqr9F0YKl",
        "colab_type": "code",
        "colab": {
          "base_uri": "https://localhost:8080/",
          "height": 52
        },
        "outputId": "d3de6d84-44c2-4bc8-8330-63254af95cd9"
      },
      "source": [
        "wordcount = 10000\n",
        "(trainx, trainy),(testx,testy) = keras.datasets.imdb.load_data(num_words=wordcount)\n",
        "# THIS IS AN TENSORFLOW FUNCTION -> own syntax, train_test_split \n"
      ],
      "execution_count": 2,
      "outputs": [
        {
          "output_type": "stream",
          "text": [
            "Downloading data from https://storage.googleapis.com/tensorflow/tf-keras-datasets/imdb.npz\n",
            "17465344/17464789 [==============================] - 0s 0us/step\n"
          ],
          "name": "stdout"
        }
      ]
    },
    {
      "cell_type": "code",
      "metadata": {
        "id": "YACvR9EI5I4C",
        "colab_type": "code",
        "colab": {
          "base_uri": "https://localhost:8080/",
          "height": 369
        },
        "outputId": "ee5063d6-989e-4227-fa42-98761f8c8580"
      },
      "source": [
        "# Currently Label Encoding, let's convert to Multi-Hot encoding\n",
        "def multi_hot_seq(text, dim):\n",
        "  seq = np.zeros((len(text), dim)) # index of this seq is the word index!\n",
        "  for i,word in enumerate(text):\n",
        "    seq[i,word] = 1 # on index i and for column number \"word\" -> set 0 to 1 \n",
        "  return seq\n",
        "\n",
        "trainx_mod = multi_hot_seq(trainx, wordcount)\n",
        "testx_mod = multi_hot_seq(testx, wordcount)\n",
        "for i in range(20):\n",
        "  print(trainx_mod[i])"
      ],
      "execution_count": 3,
      "outputs": [
        {
          "output_type": "stream",
          "text": [
            "[0. 1. 1. ... 0. 0. 0.]\n",
            "[0. 1. 1. ... 0. 0. 0.]\n",
            "[0. 1. 1. ... 0. 0. 0.]\n",
            "[0. 1. 1. ... 0. 0. 0.]\n",
            "[0. 1. 1. ... 0. 0. 0.]\n",
            "[0. 1. 1. ... 0. 0. 0.]\n",
            "[0. 1. 1. ... 0. 0. 0.]\n",
            "[0. 1. 1. ... 0. 0. 0.]\n",
            "[0. 1. 1. ... 0. 0. 0.]\n",
            "[0. 1. 1. ... 0. 0. 0.]\n",
            "[0. 1. 1. ... 0. 0. 0.]\n",
            "[0. 1. 0. ... 0. 0. 0.]\n",
            "[0. 1. 1. ... 0. 0. 0.]\n",
            "[0. 1. 1. ... 0. 0. 0.]\n",
            "[0. 1. 1. ... 0. 0. 0.]\n",
            "[0. 1. 1. ... 0. 0. 0.]\n",
            "[0. 1. 1. ... 0. 0. 0.]\n",
            "[0. 1. 1. ... 0. 0. 0.]\n",
            "[0. 1. 1. ... 0. 0. 0.]\n",
            "[0. 1. 1. ... 0. 0. 0.]\n"
          ],
          "name": "stdout"
        }
      ]
    },
    {
      "cell_type": "code",
      "metadata": {
        "id": "hyYrMDXi6WNq",
        "colab_type": "code",
        "colab": {
          "base_uri": "https://localhost:8080/",
          "height": 282
        },
        "outputId": "d61aa467-750f-43c1-f1ab-ded80aead909"
      },
      "source": [
        "plt.plot(trainx_mod[100])"
      ],
      "execution_count": 4,
      "outputs": [
        {
          "output_type": "execute_result",
          "data": {
            "text/plain": [
              "[<matplotlib.lines.Line2D at 0x7ff2ce86eac8>]"
            ]
          },
          "metadata": {
            "tags": []
          },
          "execution_count": 4
        },
        {
          "output_type": "display_data",
          "data": {
            "image/png": "[encoded data removed]",
            "text/plain": [
              "<Figure size 432x288 with 1 Axes>"
            ]
          },
          "metadata": {
            "tags": []
          }
        }
      ]
    },
    {
      "cell_type": "code",
      "metadata": {
        "id": "R0MY0Q068W04",
        "colab_type": "code",
        "colab": {
          "base_uri": "https://localhost:8080/",
          "height": 389
        },
        "outputId": "b15cd3df-f0a6-4d2a-ded9-51394ecbe879"
      },
      "source": [
        "# NO EMBEDDINGS PRESENT! Direct hot-cold map of words to derive sentiment logic\n",
        "# Our neural network doesn't require an Embedding layer now- there is no embedding to detect!!!\n",
        "HP_l1 = 16\n",
        "HP_l2 = 16\n",
        "HP_epochs = 30\n",
        "HP_batchsize = 512\n",
        "model = keras.Sequential()\n",
        "model.add(keras.layers.Dense(HP_l1, activation=tf.nn.relu, input_shape=(wordcount,)))\n",
        "model.add(keras.layers.Dense(HP_l2, activation=tf.nn.relu))\n",
        "model.add(keras.layers.Dense(1, activation=tf.nn.sigmoid))\n",
        "model.compile(optimizer='adam', loss='binary_crossentropy', metrics=['acc','binary_crossentropy'])\n",
        "model.summary()\n",
        "# 10,000 X 16 + 16\n",
        "# 16 X 16 + 16\n",
        "# 16 X 1 + 1"
      ],
      "execution_count": 5,
      "outputs": [
        {
          "output_type": "stream",
          "text": [
            "WARNING:tensorflow:From /usr/local/lib/python3.6/dist-packages/tensorflow_core/python/ops/resource_variable_ops.py:1630: calling BaseResourceVariable.__init__ (from tensorflow.python.ops.resource_variable_ops) with constraint is deprecated and will be removed in a future version.\n",
            "Instructions for updating:\n",
            "If using Keras pass *_constraint arguments to layers.\n",
            "WARNING:tensorflow:From /usr/local/lib/python3.6/dist-packages/tensorflow_core/python/ops/nn_impl.py:183: where (from tensorflow.python.ops.array_ops) is deprecated and will be removed in a future version.\n",
            "Instructions for updating:\n",
            "Use tf.where in 2.0, which has the same broadcast rule as np.where\n",
            "Model: \"sequential\"\n",
            "_________________________________________________________________\n",
            "Layer (type)                 Output Shape              Param #   \n",
            "=================================================================\n",
            "dense (Dense)                (None, 16)                160016    \n",
            "_________________________________________________________________\n",
            "dense_1 (Dense)              (None, 16)                272       \n",
            "_________________________________________________________________\n",
            "dense_2 (Dense)              (None, 1)                 17        \n",
            "=================================================================\n",
            "Total params: 160,305\n",
            "Trainable params: 160,305\n",
            "Non-trainable params: 0\n",
            "_________________________________________________________________\n"
          ],
          "name": "stdout"
        }
      ]
    },
    {
      "cell_type": "code",
      "metadata": {
        "id": "H95KwdXV_vWj",
        "colab_type": "code",
        "colab": {
          "base_uri": "https://localhost:8080/",
          "height": 334
        },
        "outputId": "84b08104-99e3-4ba8-ec1a-dbca7851bcae"
      },
      "source": [
        "HP_l1_large = 128\n",
        "HP_l2_large = 128\n",
        "HP_epochs_large = 30\n",
        "HP_batchsize_large = 512\n",
        "model_large = keras.Sequential()\n",
        "model_large.add(keras.layers.Dense(HP_l1_large, activation=tf.nn.relu, input_shape=(wordcount,)))\n",
        "model_large.add(keras.layers.Dropout(0.5))\n",
        "model_large.add(keras.layers.Dense(HP_l2_large, activation=tf.nn.relu))\n",
        "model_large.add(keras.layers.Dropout(0.25))\n",
        "model_large.add(keras.layers.Dense(1, activation=tf.nn.sigmoid))\n",
        "model_large.compile(optimizer='adam', loss='binary_crossentropy', metrics=['acc','binary_crossentropy'])\n",
        "model_large.summary()"
      ],
      "execution_count": 10,
      "outputs": [
        {
          "output_type": "stream",
          "text": [
            "Model: \"sequential_3\"\n",
            "_________________________________________________________________\n",
            "Layer (type)                 Output Shape              Param #   \n",
            "=================================================================\n",
            "dense_9 (Dense)              (None, 128)               1280128   \n",
            "_________________________________________________________________\n",
            "dropout (Dropout)            (None, 128)               0         \n",
            "_________________________________________________________________\n",
            "dense_10 (Dense)             (None, 128)               16512     \n",
            "_________________________________________________________________\n",
            "dropout_1 (Dropout)          (None, 128)               0         \n",
            "_________________________________________________________________\n",
            "dense_11 (Dense)             (None, 1)                 129       \n",
            "=================================================================\n",
            "Total params: 1,296,769\n",
            "Trainable params: 1,296,769\n",
            "Non-trainable params: 0\n",
            "_________________________________________________________________\n"
          ],
          "name": "stdout"
        }
      ]
    },
    {
      "cell_type": "code",
      "metadata": {
        "id": "kKgonzRVA-3Z",
        "colab_type": "code",
        "colab": {
          "base_uri": "https://localhost:8080/",
          "height": 263
        },
        "outputId": "50f56d77-5414-4f4b-ade4-a83442bb24fd"
      },
      "source": [
        "HP_l1_small = 4\n",
        "HP_l2_small = 4\n",
        "HP_epochs_small = 30\n",
        "HP_batchsize_small = 512\n",
        "model_small = keras.Sequential()\n",
        "model_small.add(keras.layers.Dense(HP_l1_small, activation=tf.nn.relu, input_shape=(wordcount,)))\n",
        "model_small.add(keras.layers.Dense(HP_l2_small, activation=tf.nn.relu, kernel_regularizer= keras.regularizers.l2(0.001)))\n",
        "model_small.add(keras.layers.Dense(1, activation=tf.nn.sigmoid))\n",
        "model_small.compile(optimizer='adam', loss='binary_crossentropy', metrics=['acc','binary_crossentropy'])\n",
        "model_small.summary()"
      ],
      "execution_count": 11,
      "outputs": [
        {
          "output_type": "stream",
          "text": [
            "Model: \"sequential_4\"\n",
            "_________________________________________________________________\n",
            "Layer (type)                 Output Shape              Param #   \n",
            "=================================================================\n",
            "dense_12 (Dense)             (None, 4)                 40004     \n",
            "_________________________________________________________________\n",
            "dense_13 (Dense)             (None, 4)                 20        \n",
            "_________________________________________________________________\n",
            "dense_14 (Dense)             (None, 1)                 5         \n",
            "=================================================================\n",
            "Total params: 40,029\n",
            "Trainable params: 40,029\n",
            "Non-trainable params: 0\n",
            "_________________________________________________________________\n"
          ],
          "name": "stdout"
        }
      ]
    },
    {
      "cell_type": "code",
      "metadata": {
        "id": "20yDfpfCBYbr",
        "colab_type": "code",
        "colab": {
          "base_uri": "https://localhost:8080/",
          "height": 70
        },
        "outputId": "edf738e8-4881-4236-b98d-446bb06defd0"
      },
      "source": [
        "myModels = [model_small, model, model_large]\n",
        "# compare in loop\n",
        "hist = model.fit(trainx_mod, trainy, epochs=20, batch_size=HP_batchsize, validation_data=(testx_mod, testy),verbose=0)\n",
        "print('first over')\n",
        "hist_small= model_small.fit(trainx_mod, trainy, epochs=20, batch_size=HP_batchsize, validation_data=(testx_mod, testy),verbose=0)\n",
        "print('second over')\n",
        "hist_large= model_large.fit(trainx_mod, trainy, epochs=20, batch_size=HP_batchsize, validation_data=(testx_mod, testy),verbose=0)\n",
        "print('all over')"
      ],
      "execution_count": 12,
      "outputs": [
        {
          "output_type": "stream",
          "text": [
            "first over\n",
            "second over\n",
            "all over\n"
          ],
          "name": "stdout"
        }
      ]
    },
    {
      "cell_type": "code",
      "metadata": {
        "id": "Js6me7zODBl9",
        "colab_type": "code",
        "colab": {
          "base_uri": "https://localhost:8080/",
          "height": 279
        },
        "outputId": "af99961e-965e-4d0a-e332-d17b9457d72d"
      },
      "source": [
        "def plots(histories): # this could have been loss or acc\n",
        "  plt.figure()\n",
        "  for i, history in enumerate(histories):\n",
        "    val = plt.plot(history.epoch, history.history['acc'], '--', label=str(i)+' acc')\n",
        "    plt.plot(history.epoch, history.history['val_acc'], color='g', label=str(i)+' val_acc')\n",
        "  plt.xlabel('Epochs')\n",
        "  plt.ylabel('Accuracy')\n",
        "  plt.legend()\n",
        "\n",
        "plots([hist, hist_small, hist_large])\n",
        "  \n",
        "\n"
      ],
      "execution_count": 9,
      "outputs": [
        {
          "output_type": "display_data",
          "data": {
            "image/png": "[encoded data removed]",
            "text/plain": [
              "<Figure size 432x288 with 1 Axes>"
            ]
          },
          "metadata": {
            "tags": []
          }
        }
      ]
    },
    {
      "cell_type": "code",
      "metadata": {
        "id": "f9ECRkI6F8d2",
        "colab_type": "code",
        "colab": {
          "base_uri": "https://localhost:8080/",
          "height": 279
        },
        "outputId": "9794f33d-5d14-4ab3-ed7a-7ab367821676"
      },
      "source": [
        "\n",
        "plots([hist, hist_small, hist_large])"
      ],
      "execution_count": 13,
      "outputs": [
        {
          "output_type": "display_data",
          "data": {
            "image/png": "[encoded data removed]",
            "text/plain": [
              "<Figure size 432x288 with 1 Axes>"
            ]
          },
          "metadata": {
            "tags": []
          }
        }
      ]
    },
    {
      "cell_type": "code",
      "metadata": {
        "id": "hyT6FRm0GvFq",
        "colab_type": "code",
        "colab": {}
      },
      "source": [
        ""
      ],
      "execution_count": 0,
      "outputs": []
    }
  ]
}