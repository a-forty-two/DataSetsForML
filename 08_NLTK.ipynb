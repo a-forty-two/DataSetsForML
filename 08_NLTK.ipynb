{
  "nbformat": 4,
  "nbformat_minor": 0,
  "metadata": {
    "colab": {
      "name": "08 NLTK.ipynb",
      "provenance": [],
      "collapsed_sections": [],
      "authorship_tag": "ABX9TyNVy3Pon5UYMmXk0JYjnvT7",
      "include_colab_link": true
    },
    "kernelspec": {
      "name": "python3",
      "display_name": "Python 3"
    }
  },
  "cells": [
    {
      "cell_type": "markdown",
      "metadata": {
        "id": "view-in-github",
        "colab_type": "text"
      },
      "source": [
        "<a href=\"https://colab.research.google.com/github/a-forty-two/DataSetsForML/blob/master/08_NLTK.ipynb\" target=\"_parent\"><img src=\"https://colab.research.google.com/assets/colab-badge.svg\" alt=\"Open In Colab\"/></a>"
      ]
    },
    {
      "cell_type": "code",
      "metadata": {
        "id": "1ieD5R4I2jom",
        "colab_type": "code",
        "colab": {
          "base_uri": "https://localhost:8080/",
          "height": 1000
        },
        "outputId": "85f0421f-52a7-475f-a1ca-5b53157afdc4"
      },
      "source": [
        "import nltk\n",
        "nltk.download('all')\n",
        "from nltk.tokenize import sent_tokenize"
      ],
      "execution_count": 5,
      "outputs": [
        {
          "output_type": "stream",
          "text": [
            "[nltk_data] Downloading collection 'all'\n",
            "[nltk_data]    | \n",
            "[nltk_data]    | Downloading package abc to /root/nltk_data...\n",
            "[nltk_data]    |   Unzipping corpora/abc.zip.\n",
            "[nltk_data]    | Downloading package alpino to /root/nltk_data...\n",
            "[nltk_data]    |   Unzipping corpora/alpino.zip.\n",
            "[nltk_data]    | Downloading package biocreative_ppi to\n",
            "[nltk_data]    |     /root/nltk_data...\n",
            "[nltk_data]    |   Unzipping corpora/biocreative_ppi.zip.\n",
            "[nltk_data]    | Downloading package brown to /root/nltk_data...\n",
            "[nltk_data]    |   Unzipping corpora/brown.zip.\n",
            "[nltk_data]    | Downloading package brown_tei to /root/nltk_data...\n",
            "[nltk_data]    |   Unzipping corpora/brown_tei.zip.\n",
            "[nltk_data]    | Downloading package cess_cat to /root/nltk_data...\n",
            "[nltk_data]    |   Unzipping corpora/cess_cat.zip.\n",
            "[nltk_data]    | Downloading package cess_esp to /root/nltk_data...\n",
            "[nltk_data]    |   Unzipping corpora/cess_esp.zip.\n",
            "[nltk_data]    | Downloading package chat80 to /root/nltk_data...\n",
            "[nltk_data]    |   Unzipping corpora/chat80.zip.\n",
            "[nltk_data]    | Downloading package city_database to\n",
            "[nltk_data]    |     /root/nltk_data...\n",
            "[nltk_data]    |   Unzipping corpora/city_database.zip.\n",
            "[nltk_data]    | Downloading package cmudict to /root/nltk_data...\n",
            "[nltk_data]    |   Unzipping corpora/cmudict.zip.\n",
            "[nltk_data]    | Downloading package comparative_sentences to\n",
            "[nltk_data]    |     /root/nltk_data...\n",
            "[nltk_data]    |   Unzipping corpora/comparative_sentences.zip.\n",
            "[nltk_data]    | Downloading package comtrans to /root/nltk_data...\n",
            "[nltk_data]    | Downloading package conll2000 to /root/nltk_data...\n",
            "[nltk_data]    |   Unzipping corpora/conll2000.zip.\n",
            "[nltk_data]    | Downloading package conll2002 to /root/nltk_data...\n",
            "[nltk_data]    |   Unzipping corpora/conll2002.zip.\n",
            "[nltk_data]    | Downloading package conll2007 to /root/nltk_data...\n",
            "[nltk_data]    | Downloading package crubadan to /root/nltk_data...\n",
            "[nltk_data]    |   Unzipping corpora/crubadan.zip.\n",
            "[nltk_data]    | Downloading package dependency_treebank to\n",
            "[nltk_data]    |     /root/nltk_data...\n",
            "[nltk_data]    |   Unzipping corpora/dependency_treebank.zip.\n",
            "[nltk_data]    | Downloading package dolch to /root/nltk_data...\n",
            "[nltk_data]    |   Unzipping corpora/dolch.zip.\n",
            "[nltk_data]    | Downloading package europarl_raw to\n",
            "[nltk_data]    |     /root/nltk_data...\n",
            "[nltk_data]    |   Unzipping corpora/europarl_raw.zip.\n",
            "[nltk_data]    | Downloading package floresta to /root/nltk_data...\n",
            "[nltk_data]    |   Unzipping corpora/floresta.zip.\n",
            "[nltk_data]    | Downloading package framenet_v15 to\n",
            "[nltk_data]    |     /root/nltk_data...\n",
            "[nltk_data]    |   Unzipping corpora/framenet_v15.zip.\n",
            "[nltk_data]    | Downloading package framenet_v17 to\n",
            "[nltk_data]    |     /root/nltk_data...\n",
            "[nltk_data]    |   Unzipping corpora/framenet_v17.zip.\n",
            "[nltk_data]    | Downloading package gazetteers to /root/nltk_data...\n",
            "[nltk_data]    |   Unzipping corpora/gazetteers.zip.\n",
            "[nltk_data]    | Downloading package genesis to /root/nltk_data...\n",
            "[nltk_data]    |   Unzipping corpora/genesis.zip.\n",
            "[nltk_data]    | Downloading package gutenberg to /root/nltk_data...\n",
            "[nltk_data]    |   Unzipping corpora/gutenberg.zip.\n",
            "[nltk_data]    | Downloading package ieer to /root/nltk_data...\n",
            "[nltk_data]    |   Unzipping corpora/ieer.zip.\n",
            "[nltk_data]    | Downloading package inaugural to /root/nltk_data...\n",
            "[nltk_data]    |   Unzipping corpora/inaugural.zip.\n",
            "[nltk_data]    | Downloading package indian to /root/nltk_data...\n",
            "[nltk_data]    |   Unzipping corpora/indian.zip.\n",
            "[nltk_data]    | Downloading package jeita to /root/nltk_data...\n",
            "[nltk_data]    | Downloading package kimmo to /root/nltk_data...\n",
            "[nltk_data]    |   Unzipping corpora/kimmo.zip.\n",
            "[nltk_data]    | Downloading package knbc to /root/nltk_data...\n",
            "[nltk_data]    | Downloading package lin_thesaurus to\n",
            "[nltk_data]    |     /root/nltk_data...\n",
            "[nltk_data]    |   Unzipping corpora/lin_thesaurus.zip.\n",
            "[nltk_data]    | Downloading package mac_morpho to /root/nltk_data...\n",
            "[nltk_data]    |   Unzipping corpora/mac_morpho.zip.\n",
            "[nltk_data]    | Downloading package machado to /root/nltk_data...\n",
            "[nltk_data]    | Downloading package masc_tagged to /root/nltk_data...\n",
            "[nltk_data]    | Downloading package moses_sample to\n",
            "[nltk_data]    |     /root/nltk_data...\n",
            "[nltk_data]    |   Unzipping models/moses_sample.zip.\n",
            "[nltk_data]    | Downloading package movie_reviews to\n",
            "[nltk_data]    |     /root/nltk_data...\n",
            "[nltk_data]    |   Unzipping corpora/movie_reviews.zip.\n",
            "[nltk_data]    | Downloading package names to /root/nltk_data...\n",
            "[nltk_data]    |   Unzipping corpora/names.zip.\n",
            "[nltk_data]    | Downloading package nombank.1.0 to /root/nltk_data...\n",
            "[nltk_data]    | Downloading package nps_chat to /root/nltk_data...\n",
            "[nltk_data]    |   Unzipping corpora/nps_chat.zip.\n",
            "[nltk_data]    | Downloading package omw to /root/nltk_data...\n",
            "[nltk_data]    |   Unzipping corpora/omw.zip.\n",
            "[nltk_data]    | Downloading package opinion_lexicon to\n",
            "[nltk_data]    |     /root/nltk_data...\n",
            "[nltk_data]    |   Unzipping corpora/opinion_lexicon.zip.\n",
            "[nltk_data]    | Downloading package paradigms to /root/nltk_data...\n",
            "[nltk_data]    |   Unzipping corpora/paradigms.zip.\n",
            "[nltk_data]    | Downloading package pil to /root/nltk_data...\n",
            "[nltk_data]    |   Unzipping corpora/pil.zip.\n",
            "[nltk_data]    | Downloading package pl196x to /root/nltk_data...\n",
            "[nltk_data]    |   Unzipping corpora/pl196x.zip.\n",
            "[nltk_data]    | Downloading package ppattach to /root/nltk_data...\n",
            "[nltk_data]    |   Unzipping corpora/ppattach.zip.\n",
            "[nltk_data]    | Downloading package problem_reports to\n",
            "[nltk_data]    |     /root/nltk_data...\n",
            "[nltk_data]    |   Unzipping corpora/problem_reports.zip.\n",
            "[nltk_data]    | Downloading package propbank to /root/nltk_data...\n",
            "[nltk_data]    | Downloading package ptb to /root/nltk_data...\n",
            "[nltk_data]    |   Unzipping corpora/ptb.zip.\n",
            "[nltk_data]    | Downloading package product_reviews_1 to\n",
            "[nltk_data]    |     /root/nltk_data...\n",
            "[nltk_data]    |   Unzipping corpora/product_reviews_1.zip.\n",
            "[nltk_data]    | Downloading package product_reviews_2 to\n",
            "[nltk_data]    |     /root/nltk_data...\n",
            "[nltk_data]    |   Unzipping corpora/product_reviews_2.zip.\n",
            "[nltk_data]    | Downloading package pros_cons to /root/nltk_data...\n",
            "[nltk_data]    |   Unzipping corpora/pros_cons.zip.\n",
            "[nltk_data]    | Downloading package qc to /root/nltk_data...\n",
            "[nltk_data]    |   Unzipping corpora/qc.zip.\n",
            "[nltk_data]    | Downloading package reuters to /root/nltk_data...\n",
            "[nltk_data]    | Downloading package rte to /root/nltk_data...\n",
            "[nltk_data]    |   Unzipping corpora/rte.zip.\n",
            "[nltk_data]    | Downloading package semcor to /root/nltk_data...\n",
            "[nltk_data]    | Downloading package senseval to /root/nltk_data...\n",
            "[nltk_data]    |   Unzipping corpora/senseval.zip.\n",
            "[nltk_data]    | Downloading package sentiwordnet to\n",
            "[nltk_data]    |     /root/nltk_data...\n",
            "[nltk_data]    |   Unzipping corpora/sentiwordnet.zip.\n",
            "[nltk_data]    | Downloading package sentence_polarity to\n",
            "[nltk_data]    |     /root/nltk_data...\n",
            "[nltk_data]    |   Unzipping corpora/sentence_polarity.zip.\n",
            "[nltk_data]    | Downloading package shakespeare to /root/nltk_data...\n",
            "[nltk_data]    |   Unzipping corpora/shakespeare.zip.\n",
            "[nltk_data]    | Downloading package sinica_treebank to\n",
            "[nltk_data]    |     /root/nltk_data...\n",
            "[nltk_data]    |   Unzipping corpora/sinica_treebank.zip.\n",
            "[nltk_data]    | Downloading package smultron to /root/nltk_data...\n",
            "[nltk_data]    |   Unzipping corpora/smultron.zip.\n",
            "[nltk_data]    | Downloading package state_union to /root/nltk_data...\n",
            "[nltk_data]    |   Unzipping corpora/state_union.zip.\n",
            "[nltk_data]    | Downloading package stopwords to /root/nltk_data...\n",
            "[nltk_data]    |   Unzipping corpora/stopwords.zip.\n",
            "[nltk_data]    | Downloading package subjectivity to\n",
            "[nltk_data]    |     /root/nltk_data...\n",
            "[nltk_data]    |   Unzipping corpora/subjectivity.zip.\n",
            "[nltk_data]    | Downloading package swadesh to /root/nltk_data...\n",
            "[nltk_data]    |   Unzipping corpora/swadesh.zip.\n",
            "[nltk_data]    | Downloading package switchboard to /root/nltk_data...\n",
            "[nltk_data]    |   Unzipping corpora/switchboard.zip.\n",
            "[nltk_data]    | Downloading package timit to /root/nltk_data...\n",
            "[nltk_data]    |   Unzipping corpora/timit.zip.\n",
            "[nltk_data]    | Downloading package toolbox to /root/nltk_data...\n",
            "[nltk_data]    |   Unzipping corpora/toolbox.zip.\n",
            "[nltk_data]    | Downloading package treebank to /root/nltk_data...\n",
            "[nltk_data]    |   Unzipping corpora/treebank.zip.\n",
            "[nltk_data]    | Downloading package twitter_samples to\n",
            "[nltk_data]    |     /root/nltk_data...\n",
            "[nltk_data]    |   Unzipping corpora/twitter_samples.zip.\n",
            "[nltk_data]    | Downloading package udhr to /root/nltk_data...\n",
            "[nltk_data]    |   Unzipping corpora/udhr.zip.\n",
            "[nltk_data]    | Downloading package udhr2 to /root/nltk_data...\n",
            "[nltk_data]    |   Unzipping corpora/udhr2.zip.\n",
            "[nltk_data]    | Downloading package unicode_samples to\n",
            "[nltk_data]    |     /root/nltk_data...\n",
            "[nltk_data]    |   Unzipping corpora/unicode_samples.zip.\n",
            "[nltk_data]    | Downloading package universal_treebanks_v20 to\n",
            "[nltk_data]    |     /root/nltk_data...\n",
            "[nltk_data]    | Downloading package verbnet to /root/nltk_data...\n",
            "[nltk_data]    |   Unzipping corpora/verbnet.zip.\n",
            "[nltk_data]    | Downloading package verbnet3 to /root/nltk_data...\n",
            "[nltk_data]    |   Unzipping corpora/verbnet3.zip.\n",
            "[nltk_data]    | Downloading package webtext to /root/nltk_data...\n",
            "[nltk_data]    |   Unzipping corpora/webtext.zip.\n",
            "[nltk_data]    | Downloading package wordnet to /root/nltk_data...\n",
            "[nltk_data]    |   Unzipping corpora/wordnet.zip.\n",
            "[nltk_data]    | Downloading package wordnet_ic to /root/nltk_data...\n",
            "[nltk_data]    |   Unzipping corpora/wordnet_ic.zip.\n",
            "[nltk_data]    | Downloading package words to /root/nltk_data...\n",
            "[nltk_data]    |   Unzipping corpora/words.zip.\n",
            "[nltk_data]    | Downloading package ycoe to /root/nltk_data...\n",
            "[nltk_data]    |   Unzipping corpora/ycoe.zip.\n",
            "[nltk_data]    | Downloading package rslp to /root/nltk_data...\n",
            "[nltk_data]    |   Unzipping stemmers/rslp.zip.\n",
            "[nltk_data]    | Downloading package maxent_treebank_pos_tagger to\n",
            "[nltk_data]    |     /root/nltk_data...\n",
            "[nltk_data]    |   Unzipping taggers/maxent_treebank_pos_tagger.zip.\n",
            "[nltk_data]    | Downloading package universal_tagset to\n",
            "[nltk_data]    |     /root/nltk_data...\n",
            "[nltk_data]    |   Unzipping taggers/universal_tagset.zip.\n",
            "[nltk_data]    | Downloading package maxent_ne_chunker to\n",
            "[nltk_data]    |     /root/nltk_data...\n",
            "[nltk_data]    |   Unzipping chunkers/maxent_ne_chunker.zip.\n",
            "[nltk_data]    | Downloading package punkt to /root/nltk_data...\n",
            "[nltk_data]    |   Unzipping tokenizers/punkt.zip.\n",
            "[nltk_data]    | Downloading package book_grammars to\n",
            "[nltk_data]    |     /root/nltk_data...\n",
            "[nltk_data]    |   Unzipping grammars/book_grammars.zip.\n",
            "[nltk_data]    | Downloading package sample_grammars to\n",
            "[nltk_data]    |     /root/nltk_data...\n",
            "[nltk_data]    |   Unzipping grammars/sample_grammars.zip.\n",
            "[nltk_data]    | Downloading package spanish_grammars to\n",
            "[nltk_data]    |     /root/nltk_data...\n",
            "[nltk_data]    |   Unzipping grammars/spanish_grammars.zip.\n",
            "[nltk_data]    | Downloading package basque_grammars to\n",
            "[nltk_data]    |     /root/nltk_data...\n",
            "[nltk_data]    |   Unzipping grammars/basque_grammars.zip.\n",
            "[nltk_data]    | Downloading package large_grammars to\n",
            "[nltk_data]    |     /root/nltk_data...\n",
            "[nltk_data]    |   Unzipping grammars/large_grammars.zip.\n",
            "[nltk_data]    | Downloading package tagsets to /root/nltk_data...\n",
            "[nltk_data]    |   Unzipping help/tagsets.zip.\n",
            "[nltk_data]    | Downloading package snowball_data to\n",
            "[nltk_data]    |     /root/nltk_data...\n",
            "[nltk_data]    | Downloading package bllip_wsj_no_aux to\n",
            "[nltk_data]    |     /root/nltk_data...\n",
            "[nltk_data]    |   Unzipping models/bllip_wsj_no_aux.zip.\n",
            "[nltk_data]    | Downloading package word2vec_sample to\n",
            "[nltk_data]    |     /root/nltk_data...\n",
            "[nltk_data]    |   Unzipping models/word2vec_sample.zip.\n",
            "[nltk_data]    | Downloading package panlex_swadesh to\n",
            "[nltk_data]    |     /root/nltk_data...\n",
            "[nltk_data]    | Downloading package mte_teip5 to /root/nltk_data...\n",
            "[nltk_data]    |   Unzipping corpora/mte_teip5.zip.\n",
            "[nltk_data]    | Downloading package averaged_perceptron_tagger to\n",
            "[nltk_data]    |     /root/nltk_data...\n",
            "[nltk_data]    |   Unzipping taggers/averaged_perceptron_tagger.zip.\n",
            "[nltk_data]    | Downloading package averaged_perceptron_tagger_ru to\n",
            "[nltk_data]    |     /root/nltk_data...\n",
            "[nltk_data]    |   Unzipping\n",
            "[nltk_data]    |       taggers/averaged_perceptron_tagger_ru.zip.\n",
            "[nltk_data]    | Downloading package perluniprops to\n",
            "[nltk_data]    |     /root/nltk_data...\n",
            "[nltk_data]    |   Unzipping misc/perluniprops.zip.\n",
            "[nltk_data]    | Downloading package nonbreaking_prefixes to\n",
            "[nltk_data]    |     /root/nltk_data...\n",
            "[nltk_data]    |   Unzipping corpora/nonbreaking_prefixes.zip.\n",
            "[nltk_data]    | Downloading package vader_lexicon to\n",
            "[nltk_data]    |     /root/nltk_data...\n",
            "[nltk_data]    | Downloading package porter_test to /root/nltk_data...\n",
            "[nltk_data]    |   Unzipping stemmers/porter_test.zip.\n",
            "[nltk_data]    | Downloading package wmt15_eval to /root/nltk_data...\n",
            "[nltk_data]    |   Unzipping models/wmt15_eval.zip.\n",
            "[nltk_data]    | Downloading package mwa_ppdb to /root/nltk_data...\n",
            "[nltk_data]    |   Unzipping misc/mwa_ppdb.zip.\n",
            "[nltk_data]    | \n",
            "[nltk_data]  Done downloading collection all\n"
          ],
          "name": "stdout"
        }
      ]
    },
    {
      "cell_type": "code",
      "metadata": {
        "id": "A6fIAZxx4Eph",
        "colab_type": "code",
        "colab": {}
      },
      "source": [
        "# Analysis of Text using NLTK\n",
        "# Tensorflow , y = mx + c\n",
        "# Web Crawler -> API key\n",
        "# Week last -> to build custom datasets, you have more than a week to build your dataset \n"
      ],
      "execution_count": 0,
      "outputs": []
    },
    {
      "cell_type": "code",
      "metadata": {
        "id": "QwaAgJdE4nCn",
        "colab_type": "code",
        "colab": {
          "base_uri": "https://localhost:8080/",
          "height": 70
        },
        "outputId": "f27c4694-83eb-4a2e-ec82-cdb593ad4923"
      },
      "source": [
        "# EVERYTHING WAS A TOKEN \n",
        "# Paragraph broken into sentences\n",
        "text = \"\"\"It's a beautiful day. He said- \"Johnny Depp wore green but looked blue\". \"Smurfs had too many puddings\", it's a shame.\"\"\"\n",
        "tokens = sent_tokenize(text)\n",
        "tokens"
      ],
      "execution_count": 7,
      "outputs": [
        {
          "output_type": "execute_result",
          "data": {
            "text/plain": [
              "[\"It's a beautiful day.\",\n",
              " 'He said- \"Johnny Depp wore green but looked blue\".',\n",
              " '\"Smurfs had too many puddings\", it\\'s a shame.']"
            ]
          },
          "metadata": {
            "tags": []
          },
          "execution_count": 7
        }
      ]
    },
    {
      "cell_type": "code",
      "metadata": {
        "id": "MXQmEYRc8epN",
        "colab_type": "code",
        "colab": {}
      },
      "source": [
        "# Sentences broken into words\n",
        "from nltk.tokenize import word_tokenize\n",
        "wordTokens = word_tokenize(text)\n",
        "#wordTokens"
      ],
      "execution_count": 0,
      "outputs": []
    },
    {
      "cell_type": "code",
      "metadata": {
        "id": "0fEVEazS9rEP",
        "colab_type": "code",
        "colab": {
          "base_uri": "https://localhost:8080/",
          "height": 34
        },
        "outputId": "0fe2b695-8a06-48af-d55a-6a8e8bf3b8f1"
      },
      "source": [
        "from nltk.probability import FreqDist\n",
        "distr = FreqDist(wordTokens)\n",
        "distr.most_common(3) # highest frequency from top "
      ],
      "execution_count": 12,
      "outputs": [
        {
          "output_type": "execute_result",
          "data": {
            "text/plain": [
              "[('.', 3), (\"'s\", 2), ('a', 2)]"
            ]
          },
          "metadata": {
            "tags": []
          },
          "execution_count": 12
        }
      ]
    },
    {
      "cell_type": "code",
      "metadata": {
        "id": "-VaXvpDn-Kqy",
        "colab_type": "code",
        "colab": {
          "base_uri": "https://localhost:8080/",
          "height": 34
        },
        "outputId": "1f6d8539-b2b8-476b-a68c-d680e7d23b99"
      },
      "source": [
        "from nltk.tokenize import word_tokenize\n",
        "from nltk.probability import FreqDist\n",
        "fl = open('cogni_data.txt', 'rt') # wt for writing\n",
        "data = fl.read() # fl.write() to write \n",
        "tokens = word_tokenize(data)\n",
        "distr = FreqDist(tokens)\n",
        "# to save this\n",
        "# fl = open('myfreq.csv', 'wt')\n",
        "# fl.write(distr)\n",
        "# fl.close()\n",
        "distr.most_common(5)"
      ],
      "execution_count": 16,
      "outputs": [
        {
          "output_type": "execute_result",
          "data": {
            "text/plain": [
              "[(',', 39), ('the', 32), ('to', 20), ('.', 17), ('a', 16)]"
            ]
          },
          "metadata": {
            "tags": []
          },
          "execution_count": 16
        }
      ]
    },
    {
      "cell_type": "code",
      "metadata": {
        "id": "o6G1nHV1_t94",
        "colab_type": "code",
        "colab": {
          "base_uri": "https://localhost:8080/",
          "height": 333
        },
        "outputId": "1c42c878-9ec8-46e0-926d-5ce6622530e9"
      },
      "source": [
        "# plot the frequencies!\n",
        "import matplotlib.pyplot as plt\n",
        "distr.plot(25, cumulative=False)\n",
        "plt.show()\n",
        "plt.savefig('abc.png')"
      ],
      "execution_count": 23,
      "outputs": [
        {
          "output_type": "display_data",
          "data": {
            "image/png": "[encoded data removed]",
            "text/plain": [
              "<Figure size 432x288 with 1 Axes>"
            ]
          },
          "metadata": {
            "tags": []
          }
        },
        {
          "output_type": "display_data",
          "data": {
            "text/plain": [
              "<Figure size 432x288 with 0 Axes>"
            ]
          },
          "metadata": {
            "tags": []
          }
        }
      ]
    },
    {
      "cell_type": "code",
      "metadata": {
        "id": "n2f3mHVOBCtv",
        "colab_type": "code",
        "colab": {
          "base_uri": "https://localhost:8080/",
          "height": 54
        },
        "outputId": "0ac81f41-4789-4bf1-f16e-e935252d0fdd"
      },
      "source": [
        "from nltk.corpus import stopwords \n",
        "stopWords = set(stopwords.words('english'))\n",
        "print(stopWords)"
      ],
      "execution_count": 25,
      "outputs": [
        {
          "output_type": "stream",
          "text": [
            "{\"it's\", \"you'd\", 'been', 'yourself', 'own', 'too', 'each', 'mustn', 'don', 'no', 'couldn', 'there', 'whom', 'they', 'down', 'this', 're', 'yours', \"you're\", 'how', \"hadn't\", 'up', 'why', 'her', 'has', \"you've\", 'now', 'when', 'himself', 'here', 'is', \"aren't\", \"weren't\", 'because', 'yourselves', 'below', 'will', 'which', 'the', 'and', 'doesn', 'hasn', 'itself', 'out', \"mightn't\", 'shan', 'further', 'its', \"mustn't\", 'if', 'between', \"doesn't\", 'same', 'again', 's', 'their', 'shouldn', 'his', 've', \"needn't\", 'theirs', 'does', \"she's\", 'over', 'that', 'or', \"don't\", 'didn', 'above', 'not', 'those', 'in', 'wasn', 'from', 'then', 'off', 'only', 'can', 'we', 'through', \"won't\", 'but', 'it', 'he', 'was', 'most', 'where', 'than', 'ain', \"didn't\", 'd', 'into', 'all', 'do', 'did', 'weren', \"shouldn't\", 'some', 'haven', 'who', 'very', 'by', 'under', 'on', 'about', 'themselves', 't', 'my', 'ours', 'at', 'such', 'she', 'being', 'during', 'more', 'me', 'against', 'our', 'both', 'him', \"wasn't\", 'needn', 'isn', 'to', 'won', 'herself', 'were', 'what', 'having', 'hers', \"haven't\", 'for', 'ma', 'be', 'am', 'mightn', 'nor', \"couldn't\", 'wouldn', 'doing', 'of', 'a', 'once', 'other', 'just', \"shan't\", 'after', 'll', 'with', 'y', 'hadn', 'them', 'an', 'o', 'as', 'your', 'these', \"hasn't\", \"isn't\", \"you'll\", 'any', 'you', 'should', 'few', 'ourselves', 'before', \"should've\", 'i', 'myself', 'm', 'while', \"wouldn't\", 'have', 'until', 'so', 'aren', 'had', 'are', \"that'll\"}\n"
          ],
          "name": "stdout"
        }
      ]
    },
    {
      "cell_type": "code",
      "metadata": {
        "id": "rOHSF9LNCVzU",
        "colab_type": "code",
        "colab": {
          "base_uri": "https://localhost:8080/",
          "height": 72
        },
        "outputId": "8fda2d2d-5984-48bd-f564-f3bf3ea1a5a9"
      },
      "source": [
        "# remove stopwords\n",
        "cleanData = []\n",
        "for word in tokens:\n",
        "  if word not in stopWords:\n",
        "    cleanData.append(word)\n",
        "distr = FreqDist(tokens)\n",
        "distr_clean = FreqDist(cleanData)\n"
      ],
      "execution_count": 27,
      "outputs": [
        {
          "output_type": "stream",
          "text": [
            "['eveloped', 'by', 'Game', 'Freak', 'and', 'published', 'by', 'Nintendo', ',', 'the', 'Pokémon', 'series', 'began', 'in', 'Japan', 'in', '1996', ',', 'and', 'features', 'several', 'species', 'of', 'creatures', 'called', '``', 'Pokémon', \"''\", 'that', 'players', ',', 'called', '``', 'trainers', \"''\", ',', 'are', 'encouraged', 'to', 'capture', ',', 'train', ',', 'and', 'use', 'to', 'battle', 'other', 'players', \"'\", 'Pokémon', 'or', 'interact', 'with', 'the', 'game', \"'s\", 'world', '.', '[', '2', ']', '[', '3', ']', 'Pikachu', 'was', 'one', 'of', 'several', 'different', 'Pokémon', 'designs', 'conceived', 'by', 'Game', 'Freak', \"'s\", 'character', 'development', 'team', '.', 'Artist', 'Atsuko', 'Nishida', 'is', 'credited', 'as', 'the', 'main', 'person', 'behind', 'Pikachu', \"'s\", 'design', ',', '[', '4', ']', '[', '5', ']', 'which', 'was', 'later', 'finalized', 'by', 'artist', 'Ken', 'Sugimori', '.', '[', '6', ']', '[', '7', ']', 'According', 'to', 'series', 'producer', 'Satoshi', 'Tajiri', ',', 'the', 'name', 'is', 'derived', 'from', 'a', 'combination', 'of', 'two', 'Japanese', 'sounds', ':', 'pika', ',', 'a', 'sound', 'an', 'electric', 'spark', 'makes', ',', 'and', 'chu', ',', 'a', 'sound', 'a', 'mouse', 'makes', '.', '[', '8', ']', 'Despite', 'its', 'name', \"'s\", 'origins', ',', 'however', ',', 'Nishida', 'based', 'Pikachu', \"'s\", 'generation', '1', 'design', ',', 'especially', 'its', 'cheeks', ',', 'on', 'squirrels', '.', '[', '9', ']', 'Developer', 'Junichi', 'Masuda', 'noted', 'Pikachu', \"'s\", 'name', 'as', 'one', 'of', 'the', 'most', 'difficult', 'to', 'create', ',', 'due', 'to', 'an', 'effort', 'to', 'make', 'it', 'appealing', 'to', 'both', 'Japanese', 'and', 'American', 'audiences', '.', '[', '10', ']', 'Standing', '40', 'centimetres', '(', '1', 'ft', '4', 'in', ')', 'tall', ',', 'Pikachu', 'were', 'the', 'first', '``', 'Electric-type', \"''\", 'Pokémon', 'created', ',', 'their', 'design', 'intended', 'to', 'revolve', 'around', 'the', 'concept', 'of', 'electricity', '.', '[', '11', ']', 'They', 'appear', 'as', 'Pika-like', 'creatures', 'that', 'have', 'short', ',', 'yellow', 'fur', 'with', 'brown', 'markings', 'covering', 'their', 'backs', 'and', 'parts', 'of', 'their', 'lightning', 'bolt-shaped', 'tails', '.', 'They', 'have', 'black-tipped', ',', 'pointed', 'ears', 'and', 'red', 'circular', 'pouches', 'on', 'their', 'cheeks', ',', 'which', 'can', 'spark', 'with', 'electricity', '.', '[', '12', ']', 'In', 'Pokémon', 'Diamond', 'and', 'Pearl', ',', 'gender', 'differences', 'were', 'introduced', ';', 'a', 'female', 'Pikachu', 'now', 'has', 'an', 'indent', 'at', 'the', 'end', 'of', 'its', 'tail', ',', 'giving', 'it', 'a', 'heart-shaped', 'appearance', '.', 'They', 'attack', 'primarily', 'by', 'projecting', 'electricity', 'from', 'their', 'bodies', 'at', 'their', 'targets', '.', 'Within', 'the', 'context', 'of', 'the', 'franchise', ',', 'a', 'Pikachu', 'can', 'transform', ',', 'or', '``', 'evolve', ',', \"''\", 'into', 'a', 'Raichu', 'when', 'exposed', 'to', 'a', '``', 'Thunderstone', '.', \"''\", 'In', 'later', 'titles', 'an', 'evolutionary', 'predecessor', 'was', 'introduced', 'named', '``', 'Pichu', \"''\", ',', 'which', 'evolves', 'into', 'a', 'Pikachu', 'after', 'establishing', 'a', 'close', 'friendship', 'with', 'its', 'trainer', '.', 'Initially', 'both', 'Pikachu', 'and', 'the', 'Pokémon', 'Clefairy', 'were', 'chosen', 'to', 'be', 'lead', 'characters', 'for', 'the', 'franchise', 'merchandising', ',', 'with', 'the', 'latter', 'as', 'the', 'primary', 'mascot', 'to', 'make', 'the', 'early', 'comic', 'book', 'series', 'more', '``', 'engaging', \"''\", '.', 'However', ',', 'with', 'the', 'production', 'of', 'the', 'animated', 'series', ',', 'Pikachu', 'was', 'chosen', 'as', 'the', 'primary', 'mascot', ',', 'in', 'an', 'attempt', 'to', 'appeal', 'to', 'female', 'viewers', 'and', 'their', 'mothers', ',', 'and', 'because', 'it', 'was', 'believed', 'that', 'Pikachu', 'presented', 'the', 'image', 'of', 'a', 'recognizable', 'intimate', 'pet', 'to', 'children', '.', 'Its', 'color', 'was', 'also', 'a', 'deciding', 'factor', ',', 'as', 'yellow', 'is', 'a', 'primary', 'color', 'and', 'easier', 'for', 'children', 'to', 'recognize', 'from', 'a', 'distance', ',', 'and', 'with', 'consideration', 'to', 'the', 'fact', 'that', 'the', 'only', 'other', 'competing', 'yellow', 'mascot', 'at', 'the', 'time', 'was', 'Winnie-the-Pooh', '.', '[', '13', ']', 'Though', 'Tajiri', 'acknowledged', 'that', 'the', 'character', 'was', 'relatively', 'popular', 'with', 'both', 'boys', 'and', 'girls', ',', 'the', 'idea', 'of', 'Pikachu', 'as', 'the', 'mascot', 'was', 'not', 'his', 'own', ',', 'with', 'the', 'company', 'responsible', 'for', 'the', 'production', 'of', 'the', 'animated', 'series', 'OLM', ',', 'Inc.', 'giving', 'the', 'suggestion', 'to', 'utilize', 'Pikachu', '’', 's', 'potential', 'to', 'Game', 'Freak', ',', 'and', 'stated', 'he', 'felt', 'the', 'human', 'aspect', 'of', 'the', 'series', 'was', 'overlooked', 'by', 'Japanese', 'children', 'who', 'embraced', 'Pikachu', 'by', 'itself', 'more', 'readily', '.', '[', '14', ']', '[', '15', ']', 'Pikachu', 'was', 'originally', 'going', 'to', 'have', 'a', 'second', 'evolution', 'called', 'Gorochu', ',', 'which', 'was', 'intended', 'to', 'be', 'the', 'evolved', 'form', 'of', 'Raichu']\n",
            "['eveloped', 'Game', 'Freak', 'published', 'Nintendo', ',', 'Pokémon', 'series', 'began', 'Japan', '1996', ',', 'features', 'several', 'species', 'creatures', 'called', '``', 'Pokémon', \"''\", 'players', ',', 'called', '``', 'trainers', \"''\", ',', 'encouraged', 'capture', ',', 'train', ',', 'use', 'battle', 'players', \"'\", 'Pokémon', 'interact', 'game', \"'s\", 'world', '.', '[', '2', ']', '[', '3', ']', 'Pikachu', 'one', 'several', 'different', 'Pokémon', 'designs', 'conceived', 'Game', 'Freak', \"'s\", 'character', 'development', 'team', '.', 'Artist', 'Atsuko', 'Nishida', 'credited', 'main', 'person', 'behind', 'Pikachu', \"'s\", 'design', ',', '[', '4', ']', '[', '5', ']', 'later', 'finalized', 'artist', 'Ken', 'Sugimori', '.', '[', '6', ']', '[', '7', ']', 'According', 'series', 'producer', 'Satoshi', 'Tajiri', ',', 'name', 'derived', 'combination', 'two', 'Japanese', 'sounds', ':', 'pika', ',', 'sound', 'electric', 'spark', 'makes', ',', 'chu', ',', 'sound', 'mouse', 'makes', '.', '[', '8', ']', 'Despite', 'name', \"'s\", 'origins', ',', 'however', ',', 'Nishida', 'based', 'Pikachu', \"'s\", 'generation', '1', 'design', ',', 'especially', 'cheeks', ',', 'squirrels', '.', '[', '9', ']', 'Developer', 'Junichi', 'Masuda', 'noted', 'Pikachu', \"'s\", 'name', 'one', 'difficult', 'create', ',', 'due', 'effort', 'make', 'appealing', 'Japanese', 'American', 'audiences', '.', '[', '10', ']', 'Standing', '40', 'centimetres', '(', '1', 'ft', '4', ')', 'tall', ',', 'Pikachu', 'first', '``', 'Electric-type', \"''\", 'Pokémon', 'created', ',', 'design', 'intended', 'revolve', 'around', 'concept', 'electricity', '.', '[', '11', ']', 'They', 'appear', 'Pika-like', 'creatures', 'short', ',', 'yellow', 'fur', 'brown', 'markings', 'covering', 'backs', 'parts', 'lightning', 'bolt-shaped', 'tails', '.', 'They', 'black-tipped', ',', 'pointed', 'ears', 'red', 'circular', 'pouches', 'cheeks', ',', 'spark', 'electricity', '.', '[', '12', ']', 'In', 'Pokémon', 'Diamond', 'Pearl', ',', 'gender', 'differences', 'introduced', ';', 'female', 'Pikachu', 'indent', 'end', 'tail', ',', 'giving', 'heart-shaped', 'appearance', '.', 'They', 'attack', 'primarily', 'projecting', 'electricity', 'bodies', 'targets', '.', 'Within', 'context', 'franchise', ',', 'Pikachu', 'transform', ',', '``', 'evolve', ',', \"''\", 'Raichu', 'exposed', '``', 'Thunderstone', '.', \"''\", 'In', 'later', 'titles', 'evolutionary', 'predecessor', 'introduced', 'named', '``', 'Pichu', \"''\", ',', 'evolves', 'Pikachu', 'establishing', 'close', 'friendship', 'trainer', '.', 'Initially', 'Pikachu', 'Pokémon', 'Clefairy', 'chosen', 'lead', 'characters', 'franchise', 'merchandising', ',', 'latter', 'primary', 'mascot', 'make', 'early', 'comic', 'book', 'series', '``', 'engaging', \"''\", '.', 'However', ',', 'production', 'animated', 'series', ',', 'Pikachu', 'chosen', 'primary', 'mascot', ',', 'attempt', 'appeal', 'female', 'viewers', 'mothers', ',', 'believed', 'Pikachu', 'presented', 'image', 'recognizable', 'intimate', 'pet', 'children', '.', 'Its', 'color', 'also', 'deciding', 'factor', ',', 'yellow', 'primary', 'color', 'easier', 'children', 'recognize', 'distance', ',', 'consideration', 'fact', 'competing', 'yellow', 'mascot', 'time', 'Winnie-the-Pooh', '.', '[', '13', ']', 'Though', 'Tajiri', 'acknowledged', 'character', 'relatively', 'popular', 'boys', 'girls', ',', 'idea', 'Pikachu', 'mascot', ',', 'company', 'responsible', 'production', 'animated', 'series', 'OLM', ',', 'Inc.', 'giving', 'suggestion', 'utilize', 'Pikachu', '’', 'potential', 'Game', 'Freak', ',', 'stated', 'felt', 'human', 'aspect', 'series', 'overlooked', 'Japanese', 'children', 'embraced', 'Pikachu', 'readily', '.', '[', '14', ']', '[', '15', ']', 'Pikachu', 'originally', 'going', 'second', 'evolution', 'called', 'Gorochu', ',', 'intended', 'evolved', 'form', 'Raichu']\n"
          ],
          "name": "stdout"
        }
      ]
    },
    {
      "cell_type": "code",
      "metadata": {
        "id": "qpRSKa2SC8AG",
        "colab_type": "code",
        "colab": {}
      },
      "source": [
        ""
      ],
      "execution_count": 0,
      "outputs": []
    },
    {
      "cell_type": "code",
      "metadata": {
        "id": "-6gOV3m0EHJz",
        "colab_type": "code",
        "colab": {
          "base_uri": "https://localhost:8080/",
          "height": 288
        },
        "outputId": "3f196fff-e762-4a37-b21f-31822c0eb49a"
      },
      "source": [
        "import matplotlib.pyplot as plt\n",
        "distr.plot(5, cumulative=False)\n",
        "plt.show()\n"
      ],
      "execution_count": 33,
      "outputs": [
        {
          "output_type": "display_data",
          "data": {
            "image/png": "[encoded data removed]",
            "text/plain": [
              "<Figure size 432x288 with 1 Axes>"
            ]
          },
          "metadata": {
            "tags": []
          }
        }
      ]
    },
    {
      "cell_type": "code",
      "metadata": {
        "id": "yEzhIUTKEOBY",
        "colab_type": "code",
        "colab": {
          "base_uri": "https://localhost:8080/",
          "height": 319
        },
        "outputId": "e67515d5-09e6-4039-86d8-7570a911af8e"
      },
      "source": [
        "distr_clean.plot(30, cumulative=False)\n",
        "plt.show()\n"
      ],
      "execution_count": 37,
      "outputs": [
        {
          "output_type": "display_data",
          "data": {
            "image/png": "[encoded data removed]",
            "text/plain": [
              "<Figure size 432x288 with 1 Axes>"
            ]
          },
          "metadata": {
            "tags": []
          }
        }
      ]
    },
    {
      "cell_type": "markdown",
      "metadata": {
        "id": "ZVKvE8IBKev5",
        "colab_type": "text"
      },
      "source": [
        "We had Z-Score, Min/Max etc. for normalization of tabular numerical data. For strings, we have Stemming and Lemma!"
      ]
    },
    {
      "cell_type": "code",
      "metadata": {
        "id": "NHZZEJbgER08",
        "colab_type": "code",
        "colab": {
          "base_uri": "https://localhost:8080/",
          "height": 72
        },
        "outputId": "30633285-a0be-4eea-8a8c-aca9ad387bac"
      },
      "source": [
        "from nltk.stem import PorterStemmer\n",
        "# NORMALIZE STRINGS \n",
        "ps = PorterStemmer()\n",
        "normalized_data = []\n",
        "for word in cleanData:\n",
        "  normalized_data.append(ps.stem(word))\n",
        "print(cleanData)\n",
        "print(normalized_data)"
      ],
      "execution_count": 34,
      "outputs": [
        {
          "output_type": "stream",
          "text": [
            "['eveloped', 'Game', 'Freak', 'published', 'Nintendo', ',', 'Pokémon', 'series', 'began', 'Japan', '1996', ',', 'features', 'several', 'species', 'creatures', 'called', '``', 'Pokémon', \"''\", 'players', ',', 'called', '``', 'trainers', \"''\", ',', 'encouraged', 'capture', ',', 'train', ',', 'use', 'battle', 'players', \"'\", 'Pokémon', 'interact', 'game', \"'s\", 'world', '.', '[', '2', ']', '[', '3', ']', 'Pikachu', 'one', 'several', 'different', 'Pokémon', 'designs', 'conceived', 'Game', 'Freak', \"'s\", 'character', 'development', 'team', '.', 'Artist', 'Atsuko', 'Nishida', 'credited', 'main', 'person', 'behind', 'Pikachu', \"'s\", 'design', ',', '[', '4', ']', '[', '5', ']', 'later', 'finalized', 'artist', 'Ken', 'Sugimori', '.', '[', '6', ']', '[', '7', ']', 'According', 'series', 'producer', 'Satoshi', 'Tajiri', ',', 'name', 'derived', 'combination', 'two', 'Japanese', 'sounds', ':', 'pika', ',', 'sound', 'electric', 'spark', 'makes', ',', 'chu', ',', 'sound', 'mouse', 'makes', '.', '[', '8', ']', 'Despite', 'name', \"'s\", 'origins', ',', 'however', ',', 'Nishida', 'based', 'Pikachu', \"'s\", 'generation', '1', 'design', ',', 'especially', 'cheeks', ',', 'squirrels', '.', '[', '9', ']', 'Developer', 'Junichi', 'Masuda', 'noted', 'Pikachu', \"'s\", 'name', 'one', 'difficult', 'create', ',', 'due', 'effort', 'make', 'appealing', 'Japanese', 'American', 'audiences', '.', '[', '10', ']', 'Standing', '40', 'centimetres', '(', '1', 'ft', '4', ')', 'tall', ',', 'Pikachu', 'first', '``', 'Electric-type', \"''\", 'Pokémon', 'created', ',', 'design', 'intended', 'revolve', 'around', 'concept', 'electricity', '.', '[', '11', ']', 'They', 'appear', 'Pika-like', 'creatures', 'short', ',', 'yellow', 'fur', 'brown', 'markings', 'covering', 'backs', 'parts', 'lightning', 'bolt-shaped', 'tails', '.', 'They', 'black-tipped', ',', 'pointed', 'ears', 'red', 'circular', 'pouches', 'cheeks', ',', 'spark', 'electricity', '.', '[', '12', ']', 'In', 'Pokémon', 'Diamond', 'Pearl', ',', 'gender', 'differences', 'introduced', ';', 'female', 'Pikachu', 'indent', 'end', 'tail', ',', 'giving', 'heart-shaped', 'appearance', '.', 'They', 'attack', 'primarily', 'projecting', 'electricity', 'bodies', 'targets', '.', 'Within', 'context', 'franchise', ',', 'Pikachu', 'transform', ',', '``', 'evolve', ',', \"''\", 'Raichu', 'exposed', '``', 'Thunderstone', '.', \"''\", 'In', 'later', 'titles', 'evolutionary', 'predecessor', 'introduced', 'named', '``', 'Pichu', \"''\", ',', 'evolves', 'Pikachu', 'establishing', 'close', 'friendship', 'trainer', '.', 'Initially', 'Pikachu', 'Pokémon', 'Clefairy', 'chosen', 'lead', 'characters', 'franchise', 'merchandising', ',', 'latter', 'primary', 'mascot', 'make', 'early', 'comic', 'book', 'series', '``', 'engaging', \"''\", '.', 'However', ',', 'production', 'animated', 'series', ',', 'Pikachu', 'chosen', 'primary', 'mascot', ',', 'attempt', 'appeal', 'female', 'viewers', 'mothers', ',', 'believed', 'Pikachu', 'presented', 'image', 'recognizable', 'intimate', 'pet', 'children', '.', 'Its', 'color', 'also', 'deciding', 'factor', ',', 'yellow', 'primary', 'color', 'easier', 'children', 'recognize', 'distance', ',', 'consideration', 'fact', 'competing', 'yellow', 'mascot', 'time', 'Winnie-the-Pooh', '.', '[', '13', ']', 'Though', 'Tajiri', 'acknowledged', 'character', 'relatively', 'popular', 'boys', 'girls', ',', 'idea', 'Pikachu', 'mascot', ',', 'company', 'responsible', 'production', 'animated', 'series', 'OLM', ',', 'Inc.', 'giving', 'suggestion', 'utilize', 'Pikachu', '’', 'potential', 'Game', 'Freak', ',', 'stated', 'felt', 'human', 'aspect', 'series', 'overlooked', 'Japanese', 'children', 'embraced', 'Pikachu', 'readily', '.', '[', '14', ']', '[', '15', ']', 'Pikachu', 'originally', 'going', 'second', 'evolution', 'called', 'Gorochu', ',', 'intended', 'evolved', 'form', 'Raichu']\n",
            "['evelop', 'game', 'freak', 'publish', 'nintendo', ',', 'pokémon', 'seri', 'began', 'japan', '1996', ',', 'featur', 'sever', 'speci', 'creatur', 'call', '``', 'pokémon', \"''\", 'player', ',', 'call', '``', 'trainer', \"''\", ',', 'encourag', 'captur', ',', 'train', ',', 'use', 'battl', 'player', \"'\", 'pokémon', 'interact', 'game', \"'s\", 'world', '.', '[', '2', ']', '[', '3', ']', 'pikachu', 'one', 'sever', 'differ', 'pokémon', 'design', 'conceiv', 'game', 'freak', \"'s\", 'charact', 'develop', 'team', '.', 'artist', 'atsuko', 'nishida', 'credit', 'main', 'person', 'behind', 'pikachu', \"'s\", 'design', ',', '[', '4', ']', '[', '5', ']', 'later', 'final', 'artist', 'ken', 'sugimori', '.', '[', '6', ']', '[', '7', ']', 'accord', 'seri', 'produc', 'satoshi', 'tajiri', ',', 'name', 'deriv', 'combin', 'two', 'japanes', 'sound', ':', 'pika', ',', 'sound', 'electr', 'spark', 'make', ',', 'chu', ',', 'sound', 'mous', 'make', '.', '[', '8', ']', 'despit', 'name', \"'s\", 'origin', ',', 'howev', ',', 'nishida', 'base', 'pikachu', \"'s\", 'gener', '1', 'design', ',', 'especi', 'cheek', ',', 'squirrel', '.', '[', '9', ']', 'develop', 'junichi', 'masuda', 'note', 'pikachu', \"'s\", 'name', 'one', 'difficult', 'creat', ',', 'due', 'effort', 'make', 'appeal', 'japanes', 'american', 'audienc', '.', '[', '10', ']', 'stand', '40', 'centimetr', '(', '1', 'ft', '4', ')', 'tall', ',', 'pikachu', 'first', '``', 'electric-typ', \"''\", 'pokémon', 'creat', ',', 'design', 'intend', 'revolv', 'around', 'concept', 'electr', '.', '[', '11', ']', 'they', 'appear', 'pika-lik', 'creatur', 'short', ',', 'yellow', 'fur', 'brown', 'mark', 'cover', 'back', 'part', 'lightn', 'bolt-shap', 'tail', '.', 'they', 'black-tip', ',', 'point', 'ear', 'red', 'circular', 'pouch', 'cheek', ',', 'spark', 'electr', '.', '[', '12', ']', 'In', 'pokémon', 'diamond', 'pearl', ',', 'gender', 'differ', 'introduc', ';', 'femal', 'pikachu', 'indent', 'end', 'tail', ',', 'give', 'heart-shap', 'appear', '.', 'they', 'attack', 'primarili', 'project', 'electr', 'bodi', 'target', '.', 'within', 'context', 'franchis', ',', 'pikachu', 'transform', ',', '``', 'evolv', ',', \"''\", 'raichu', 'expos', '``', 'thunderston', '.', \"''\", 'In', 'later', 'titl', 'evolutionari', 'predecessor', 'introduc', 'name', '``', 'pichu', \"''\", ',', 'evolv', 'pikachu', 'establish', 'close', 'friendship', 'trainer', '.', 'initi', 'pikachu', 'pokémon', 'clefairi', 'chosen', 'lead', 'charact', 'franchis', 'merchandis', ',', 'latter', 'primari', 'mascot', 'make', 'earli', 'comic', 'book', 'seri', '``', 'engag', \"''\", '.', 'howev', ',', 'product', 'anim', 'seri', ',', 'pikachu', 'chosen', 'primari', 'mascot', ',', 'attempt', 'appeal', 'femal', 'viewer', 'mother', ',', 'believ', 'pikachu', 'present', 'imag', 'recogniz', 'intim', 'pet', 'children', '.', 'it', 'color', 'also', 'decid', 'factor', ',', 'yellow', 'primari', 'color', 'easier', 'children', 'recogn', 'distanc', ',', 'consider', 'fact', 'compet', 'yellow', 'mascot', 'time', 'winnie-the-pooh', '.', '[', '13', ']', 'though', 'tajiri', 'acknowledg', 'charact', 'rel', 'popular', 'boy', 'girl', ',', 'idea', 'pikachu', 'mascot', ',', 'compani', 'respons', 'product', 'anim', 'seri', 'olm', ',', 'inc.', 'give', 'suggest', 'util', 'pikachu', '’', 'potenti', 'game', 'freak', ',', 'state', 'felt', 'human', 'aspect', 'seri', 'overlook', 'japanes', 'children', 'embrac', 'pikachu', 'readili', '.', '[', '14', ']', '[', '15', ']', 'pikachu', 'origin', 'go', 'second', 'evolut', 'call', 'gorochu', ',', 'intend', 'evolv', 'form', 'raichu']\n"
          ],
          "name": "stdout"
        }
      ]
    },
    {
      "cell_type": "code",
      "metadata": {
        "id": "mQ3HHDfiMGD0",
        "colab_type": "code",
        "colab": {
          "base_uri": "https://localhost:8080/",
          "height": 315
        },
        "outputId": "8b96bf77-70bd-4a63-c9e5-91bb49c80308"
      },
      "source": [
        "normDistr = FreqDist(normalized_data)\n",
        "normDistr.plot(30, cumulative=False)\n",
        "plt.show()"
      ],
      "execution_count": 36,
      "outputs": [
        {
          "output_type": "display_data",
          "data": {
            "image/png": "[encoded data removed]",
            "text/plain": [
              "<Figure size 432x288 with 1 Axes>"
            ]
          },
          "metadata": {
            "tags": []
          }
        }
      ]
    },
    {
      "cell_type": "code",
      "metadata": {
        "id": "GznBmZrDMpMD",
        "colab_type": "code",
        "colab": {
          "base_uri": "https://localhost:8080/",
          "height": 52
        },
        "outputId": "f1c4c95e-f261-4fdb-d843-5e6f2cb7708c"
      },
      "source": [
        "word = 'studying' # this is a verb\n",
        "from nltk.stem.wordnet import WordNetLemmatizer\n",
        "wl = WordNetLemmatizer()\n",
        "ps = PorterStemmer()\n",
        "print(wl.lemmatize(word,\"v\"))\n",
        "print(ps.stem(word))"
      ],
      "execution_count": 39,
      "outputs": [
        {
          "output_type": "stream",
          "text": [
            "study\n",
            "studi\n"
          ],
          "name": "stdout"
        }
      ]
    },
    {
      "cell_type": "code",
      "metadata": {
        "id": "OAyIR6A3OXqS",
        "colab_type": "code",
        "colab": {}
      },
      "source": [
        "# DICTIONARY IS FINITE, LANGUAGE IS NOT \n",
        "# conversational CHAT BOT -> Lemma \n",
        "# answer questions chat bot ->tense mattered, neither lemma nor stemma \n",
        "# VECTORS -> Word2Vector approach for U.F.A., U.S.A., U.F. and UEA <- these words are similar \n",
        "# for above, lemma would treat them as diff tokens, and their reduced forms may not match\n",
        "# to normalize them, such that they become close, use word2vector approach\n",
        "# or write custom code to create custom PORTEM STEMMING length\n",
        "# FLAMES -> names, keep reducing similar characters \n"
      ],
      "execution_count": 0,
      "outputs": []
    },
    {
      "cell_type": "code",
      "metadata": {
        "id": "T08ML3fxP_4O",
        "colab_type": "code",
        "colab": {
          "base_uri": "https://localhost:8080/",
          "height": 34
        },
        "outputId": "f8e9a97c-f026-4dd6-fec3-3fbf496b0d09"
      },
      "source": [
        "grammar = nltk.pos_tag(cleanData)\n",
        "grammar[0][1]"
      ],
      "execution_count": 50,
      "outputs": [
        {
          "output_type": "execute_result",
          "data": {
            "text/plain": [
              "'JJ'"
            ]
          },
          "metadata": {
            "tags": []
          },
          "execution_count": 50
        }
      ]
    },
    {
      "cell_type": "code",
      "metadata": {
        "id": "_Cv-kAjZQMlc",
        "colab_type": "code",
        "colab": {
          "base_uri": "https://localhost:8080/",
          "height": 350
        },
        "outputId": "72b221e2-9f90-4355-df40-9066165ea450"
      },
      "source": [
        ""
      ],
      "execution_count": 43,
      "outputs": [
        {
          "output_type": "error",
          "ename": "KeyError",
          "evalue": "ignored",
          "traceback": [
            "\u001b[0;31m---------------------------------------------------------------------------\u001b[0m",
            "\u001b[0;31mKeyError\u001b[0m                                  Traceback (most recent call last)",
            "\u001b[0;32m<ipython-input-43-f9cab564a7ec>\u001b[0m in \u001b[0;36m<module>\u001b[0;34m()\u001b[0m\n\u001b[1;32m      1\u001b[0m \u001b[0mlemmas\u001b[0m \u001b[0;34m=\u001b[0m \u001b[0;34m[\u001b[0m\u001b[0;34m]\u001b[0m\u001b[0;34m\u001b[0m\u001b[0;34m\u001b[0m\u001b[0m\n\u001b[1;32m      2\u001b[0m \u001b[0;32mfor\u001b[0m \u001b[0mi\u001b[0m\u001b[0;34m,\u001b[0m\u001b[0mword\u001b[0m \u001b[0;32min\u001b[0m \u001b[0menumerate\u001b[0m\u001b[0;34m(\u001b[0m\u001b[0mcleanData\u001b[0m\u001b[0;34m)\u001b[0m\u001b[0;34m:\u001b[0m\u001b[0;34m\u001b[0m\u001b[0;34m\u001b[0m\u001b[0m\n\u001b[0;32m----> 3\u001b[0;31m   \u001b[0mlemmas\u001b[0m\u001b[0;34m.\u001b[0m\u001b[0mappend\u001b[0m\u001b[0;34m(\u001b[0m\u001b[0mwl\u001b[0m\u001b[0;34m.\u001b[0m\u001b[0mlemmatize\u001b[0m\u001b[0;34m(\u001b[0m\u001b[0mword\u001b[0m\u001b[0;34m,\u001b[0m\u001b[0mgrammar\u001b[0m\u001b[0;34m[\u001b[0m\u001b[0mi\u001b[0m\u001b[0;34m]\u001b[0m\u001b[0;34m[\u001b[0m\u001b[0;36m1\u001b[0m\u001b[0;34m]\u001b[0m\u001b[0;34m)\u001b[0m\u001b[0;34m)\u001b[0m\u001b[0;34m\u001b[0m\u001b[0;34m\u001b[0m\u001b[0m\n\u001b[0m",
            "\u001b[0;32m/usr/local/lib/python3.6/dist-packages/nltk/stem/wordnet.py\u001b[0m in \u001b[0;36mlemmatize\u001b[0;34m(self, word, pos)\u001b[0m\n\u001b[1;32m     38\u001b[0m \u001b[0;34m\u001b[0m\u001b[0m\n\u001b[1;32m     39\u001b[0m     \u001b[0;32mdef\u001b[0m \u001b[0mlemmatize\u001b[0m\u001b[0;34m(\u001b[0m\u001b[0mself\u001b[0m\u001b[0;34m,\u001b[0m \u001b[0mword\u001b[0m\u001b[0;34m,\u001b[0m \u001b[0mpos\u001b[0m\u001b[0;34m=\u001b[0m\u001b[0mNOUN\u001b[0m\u001b[0;34m)\u001b[0m\u001b[0;34m:\u001b[0m\u001b[0;34m\u001b[0m\u001b[0;34m\u001b[0m\u001b[0m\n\u001b[0;32m---> 40\u001b[0;31m         \u001b[0mlemmas\u001b[0m \u001b[0;34m=\u001b[0m \u001b[0mwordnet\u001b[0m\u001b[0;34m.\u001b[0m\u001b[0m_morphy\u001b[0m\u001b[0;34m(\u001b[0m\u001b[0mword\u001b[0m\u001b[0;34m,\u001b[0m \u001b[0mpos\u001b[0m\u001b[0;34m)\u001b[0m\u001b[0;34m\u001b[0m\u001b[0;34m\u001b[0m\u001b[0m\n\u001b[0m\u001b[1;32m     41\u001b[0m         \u001b[0;32mreturn\u001b[0m \u001b[0mmin\u001b[0m\u001b[0;34m(\u001b[0m\u001b[0mlemmas\u001b[0m\u001b[0;34m,\u001b[0m \u001b[0mkey\u001b[0m\u001b[0;34m=\u001b[0m\u001b[0mlen\u001b[0m\u001b[0;34m)\u001b[0m \u001b[0;32mif\u001b[0m \u001b[0mlemmas\u001b[0m \u001b[0;32melse\u001b[0m \u001b[0mword\u001b[0m\u001b[0;34m\u001b[0m\u001b[0;34m\u001b[0m\u001b[0m\n\u001b[1;32m     42\u001b[0m \u001b[0;34m\u001b[0m\u001b[0m\n",
            "\u001b[0;32m/usr/local/lib/python3.6/dist-packages/nltk/corpus/reader/wordnet.py\u001b[0m in \u001b[0;36m_morphy\u001b[0;34m(self, form, pos, check_exceptions)\u001b[0m\n\u001b[1;32m   1772\u001b[0m         \u001b[0;31m#    find a match or you can't go any further\u001b[0m\u001b[0;34m\u001b[0m\u001b[0;34m\u001b[0m\u001b[0;34m\u001b[0m\u001b[0m\n\u001b[1;32m   1773\u001b[0m \u001b[0;34m\u001b[0m\u001b[0m\n\u001b[0;32m-> 1774\u001b[0;31m         \u001b[0mexceptions\u001b[0m \u001b[0;34m=\u001b[0m \u001b[0mself\u001b[0m\u001b[0;34m.\u001b[0m\u001b[0m_exception_map\u001b[0m\u001b[0;34m[\u001b[0m\u001b[0mpos\u001b[0m\u001b[0;34m]\u001b[0m\u001b[0;34m\u001b[0m\u001b[0;34m\u001b[0m\u001b[0m\n\u001b[0m\u001b[1;32m   1775\u001b[0m         \u001b[0msubstitutions\u001b[0m \u001b[0;34m=\u001b[0m \u001b[0mself\u001b[0m\u001b[0;34m.\u001b[0m\u001b[0mMORPHOLOGICAL_SUBSTITUTIONS\u001b[0m\u001b[0;34m[\u001b[0m\u001b[0mpos\u001b[0m\u001b[0;34m]\u001b[0m\u001b[0;34m\u001b[0m\u001b[0;34m\u001b[0m\u001b[0m\n\u001b[1;32m   1776\u001b[0m \u001b[0;34m\u001b[0m\u001b[0m\n",
            "\u001b[0;31mKeyError\u001b[0m: 'JJ'"
          ]
        }
      ]
    },
    {
      "cell_type": "code",
      "metadata": {
        "id": "eBkrz3HSRAej",
        "colab_type": "code",
        "colab": {}
      },
      "source": [
        ""
      ],
      "execution_count": 0,
      "outputs": []
    }
  ]
}