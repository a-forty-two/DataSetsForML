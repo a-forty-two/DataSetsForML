{
  "nbformat": 4,
  "nbformat_minor": 0,
  "metadata": {
    "colab": {
      "name": "pyintro.ipynb",
      "provenance": [],
      "collapsed_sections": [],
      "authorship_tag": "ABX9TyMABQLosXnWHM5uuzCpVw1P"
    },
    "kernelspec": {
      "name": "python3",
      "display_name": "Python 3"
    }
  },
  "cells": [
    {
      "cell_type": "code",
      "metadata": {
        "id": "4CYkexqVlFH8",
        "colab_type": "code",
        "colab": {
          "base_uri": "https://localhost:8080/",
          "height": 50
        },
        "outputId": "47ddb40b-e465-4778-b687-5550d513b94d"
      },
      "source": [
        "list1 = [1,1.5,'hello world', False]\n",
        "# ORDERED -> It preserves the sequence in which elements were inserted\n",
        "# INDEXED -> we can access it via a[2] <- notation \n",
        "print(list1[-2]) # POS-> left to right, NEG -> right to left # LIST\n",
        "print(list1) # THIS IS A LINKED LIST \n",
        "# GENERAL PURPOSE -> manage data, clean data, create n-dimension structures "
      ],
      "execution_count": 7,
      "outputs": [
        {
          "output_type": "stream",
          "text": [
            "hello world\n",
            "[1, 1.5, 'hello world', False]\n"
          ],
          "name": "stdout"
        }
      ]
    },
    {
      "cell_type": "code",
      "metadata": {
        "id": "AHvPm6M8n9j0",
        "colab_type": "code",
        "colab": {
          "base_uri": "https://localhost:8080/",
          "height": 34
        },
        "outputId": "73d1715c-b0a3-4ab9-c678-185715e1a9c0"
      },
      "source": [
        "# BANANA, MANGO and MANGO, BANANA are same set!!!! \\\n",
        "set1 = {3,\"Pikachu\", \"Mango\", 23, False, 42, 23}\n",
        "# UNIQUE REPRESENTATION\n",
        "# ORDER DOES NOT MATTER! \n",
        "# IF ORDER DIDN'T MATTER, INDEX WASN't possible \n",
        "print(set1)\n",
        "# making a list of items where only existence check matters "
      ],
      "execution_count": 19,
      "outputs": [
        {
          "output_type": "stream",
          "text": [
            "{False, 3, 'Mango', 42, 23, 'Pikachu'}\n"
          ],
          "name": "stdout"
        }
      ]
    },
    {
      "cell_type": "code",
      "metadata": {
        "id": "0rh0P9YPpgvO",
        "colab_type": "code",
        "colab": {
          "base_uri": "https://localhost:8080/",
          "height": 34
        },
        "outputId": "ae5cb041-e0bc-4999-f3ac-f9b0c9ef232f"
      },
      "source": [
        "# TUPLES ARE READ ONLY -> once created, cannot be edited \n",
        "tup1 = (1,'Mango', 'banana')\n",
        "print(tup1)\n",
        "# ORDER is preserved\n",
        "# no editing possible "
      ],
      "execution_count": 8,
      "outputs": [
        {
          "output_type": "stream",
          "text": [
            "(1, 'Mango', 'banana')\n"
          ],
          "name": "stdout"
        }
      ]
    },
    {
      "cell_type": "code",
      "metadata": {
        "id": "qGZ2xwQFqHIS",
        "colab_type": "code",
        "colab": {
          "base_uri": "https://localhost:8080/",
          "height": 50
        },
        "outputId": "ba61ad18-3031-4da0-d628-657298a0bba4"
      },
      "source": [
        "# DICTIONARY is KEY-VALUE PAIRS\n",
        "# My key can be ANYTHING, value can be anything!\n",
        "# JUST LIKE SET, UNIQUENESS matters! No two keys can be same!\n",
        "dct = {'key1':23, False:42, -3:'hello world'}\n",
        "print(dct[False])\n",
        "print(dct[0])\n",
        "# UNORDERED [no guarrantee that order will be followed], but INDEXABLE [with help of key-values]\n",
        "# SET is single values, dictionary is key-value\n",
        "# DICT -> 2 lists-> one list containing keys, one list containing values"
      ],
      "execution_count": 13,
      "outputs": [
        {
          "output_type": "stream",
          "text": [
            "42\n",
            "42\n"
          ],
          "name": "stdout"
        }
      ]
    },
    {
      "cell_type": "code",
      "metadata": {
        "id": "F39hmaKbrmUA",
        "colab_type": "code",
        "colab": {
          "base_uri": "https://localhost:8080/",
          "height": 67
        },
        "outputId": "13ff9270-edb2-4f86-c973-c2d2d3ef00ee"
      },
      "source": [
        "for key, val in dct.items(): # two variables -> one in key, one in value\n",
        "  print(str(key) + \" *** \" + str(val)) # DICTIONARY and LIST are 2 most critical DS that we will use"
      ],
      "execution_count": 17,
      "outputs": [
        {
          "output_type": "stream",
          "text": [
            "key1 *** 23\n",
            "False *** 42\n",
            "-3 *** hello world\n"
          ],
          "name": "stdout"
        }
      ]
    },
    {
      "cell_type": "markdown",
      "metadata": {
        "id": "mnmjCoHbtpHs",
        "colab_type": "text"
      },
      "source": [
        ""
      ]
    },
    {
      "cell_type": "code",
      "metadata": {
        "id": "haDImizNsQiU",
        "colab_type": "code",
        "colab": {}
      },
      "source": [
        "# List -> store and clean data \n",
        "# Tuple -> store and pass READONLY data between functions or data structures\n",
        "# Set -> to make sure that elements are present/exist\n",
        "# Dictionary -> wherever i need match-the-following style data or table or hash table or map!\n"
      ],
      "execution_count": 0,
      "outputs": []
    },
    {
      "cell_type": "code",
      "metadata": {
        "id": "U3c_qdhGvbFx",
        "colab_type": "code",
        "colab": {
          "base_uri": "https://localhost:8080/",
          "height": 134
        },
        "outputId": "e4605d34-9b6f-4a3c-9e9c-ed1f0eaddea1"
      },
      "source": [
        "import numpy as np\n",
        "import pandas as pd # pandas = panel dataframes = rectangular window-like data strcutures\n",
        "# SERIES are special LISTS -> LISTS that are traveling in a direction [time, a vector or any direction]\n",
        "ls = [1,2,3,np.nan]\n",
        "srs = pd.Series(ls) # it is expecting a LIST that it will convert into series\n",
        "print(ls)\n",
        "print('***')\n",
        "print(srs) # A SERIES has 2 lists -> first for index, 2nd for value \n",
        "# DICTIONARY was unordered but indexable, Series is both ordered and indexable \n",
        "# SERIES is a MULTIDIMENSION LIST\n",
        "# NaN (some data processing happening), None (null pointer or end of line), NULL (its a value that came from a database)\n",
        "# SERIES -> CONTINUOUS DATA \n",
        "# TIME SERIES -> Index is time  based\n",
        "# LIST -> is just values, may not mandatorily follow any sequence or dimension"
      ],
      "execution_count": 22,
      "outputs": [
        {
          "output_type": "stream",
          "text": [
            "[1, 2, 3, nan]\n",
            "***\n",
            "0    1.0\n",
            "1    2.0\n",
            "2    3.0\n",
            "3    NaN\n",
            "dtype: float64\n"
          ],
          "name": "stdout"
        }
      ]
    },
    {
      "cell_type": "code",
      "metadata": {
        "id": "HBr0jiTpvnFn",
        "colab_type": "code",
        "colab": {
          "base_uri": "https://localhost:8080/",
          "height": 84
        },
        "outputId": "cfd753bc-5273-4ec4-e373-dd91398e7a36"
      },
      "source": [
        "dates = pd.date_range('20190301', periods=10) # SERIES IS ALWAYS CONTINUOUS \n",
        "print(dates)"
      ],
      "execution_count": 24,
      "outputs": [
        {
          "output_type": "stream",
          "text": [
            "DatetimeIndex(['2019-03-01', '2019-03-02', '2019-03-03', '2019-03-04',\n",
            "               '2019-03-05', '2019-03-06', '2019-03-07', '2019-03-08',\n",
            "               '2019-03-09', '2019-03-10'],\n",
            "              dtype='datetime64[ns]', freq='D')\n"
          ],
          "name": "stdout"
        }
      ]
    },
    {
      "cell_type": "code",
      "metadata": {
        "id": "PLnJILgNxicx",
        "colab_type": "code",
        "colab": {
          "base_uri": "https://localhost:8080/",
          "height": 218
        },
        "outputId": "002a7a57-ae84-48d6-908e-c50097e93851"
      },
      "source": [
        "# WHEN we have MULTIPLE columns following the same index, then we call it a DataFrame\n",
        "# Marks in English, Marks in Math -> both are for 5 students \n",
        "# ROLL No. of these students was INDEX (not value), and VALUE was 2 columns -> Eng and Math\n",
        "# TABULAR STRUCTURE\n",
        "# RANGE is an inbuilt function to generate numbers from 0 to N -> [0,N)\n",
        "dc = {'myCol':1, 'col2':dates, 'col3': range(10)}\n",
        "df = pd.DataFrame(dc) # pass a dictionary-> KEY VALUE PAIR. EACH key represents a column\n",
        "age = df.col3.to_numpy() # convert a column to list\n",
        "print(age)\n",
        "print(df)"
      ],
      "execution_count": 103,
      "outputs": [
        {
          "output_type": "stream",
          "text": [
            "[0 1 2 3 4 5 6 7 8 9]\n",
            "   myCol       col2  col3\n",
            "0      1 2019-03-01     0\n",
            "1      1 2019-03-02     1\n",
            "2      1 2019-03-03     2\n",
            "3      1 2019-03-04     3\n",
            "4      1 2019-03-05     4\n",
            "5      1 2019-03-06     5\n",
            "6      1 2019-03-07     6\n",
            "7      1 2019-03-08     7\n",
            "8      1 2019-03-09     8\n",
            "9      1 2019-03-10     9\n"
          ],
          "name": "stdout"
        }
      ]
    },
    {
      "cell_type": "code",
      "metadata": {
        "id": "b3Z7Qgh-zXoe",
        "colab_type": "code",
        "colab": {
          "base_uri": "https://localhost:8080/",
          "height": 202
        },
        "outputId": "e45b15f1-56a2-4834-c8fd-85237d122405"
      },
      "source": [
        "index = [1,2,3,4,'pika',6,7,8,10,11]\n",
        "df.index = index\n",
        "print(df)"
      ],
      "execution_count": 28,
      "outputs": [
        {
          "output_type": "stream",
          "text": [
            "      myCol       col2  col3\n",
            "1         1 2019-03-01     0\n",
            "2         1 2019-03-02     1\n",
            "3         1 2019-03-03     2\n",
            "4         1 2019-03-04     3\n",
            "pika      1 2019-03-05     4\n",
            "6         1 2019-03-06     5\n",
            "7         1 2019-03-07     6\n",
            "8         1 2019-03-08     7\n",
            "10        1 2019-03-09     8\n",
            "11        1 2019-03-10     9\n"
          ],
          "name": "stdout"
        }
      ]
    },
    {
      "cell_type": "code",
      "metadata": {
        "id": "oCh7yLmv0O3E",
        "colab_type": "code",
        "colab": {}
      },
      "source": [
        "ls = [1,2,3]\n",
        "st = {1,2,3}\n",
        "tp = (1,2,3)\n",
        "\n",
        "ls2 = [ls, st, tp]\n",
        "#tp2 = (ls,st,tp)\n",
        "#st2 = {ls, st, tp} # INDEXING FAILED, and DS could not be created\n",
        "# SETS SHOULD ONLY BE USED TO SHOW IF_EXISTS relation\n",
        "# all objects should be of color GREEN or BLUE only\n",
        "# if object.color in mySet:\n",
        "#    myobjects.add(object)"
      ],
      "execution_count": 0,
      "outputs": []
    },
    {
      "cell_type": "code",
      "metadata": {
        "id": "45z1Ppz507CV",
        "colab_type": "code",
        "colab": {
          "base_uri": "https://localhost:8080/",
          "height": 343
        },
        "outputId": "e5a6c333-8612-4f8d-99f6-b8ad5d146571"
      },
      "source": [
        "df"
      ],
      "execution_count": 32,
      "outputs": [
        {
          "output_type": "execute_result",
          "data": {
            "text/html": [
              "<div>\n",
              "<style scoped>\n",
              "    .dataframe tbody tr th:only-of-type {\n",
              "        vertical-align: middle;\n",
              "    }\n",
              "\n",
              "    .dataframe tbody tr th {\n",
              "        vertical-align: top;\n",
              "    }\n",
              "\n",
              "    .dataframe thead th {\n",
              "        text-align: right;\n",
              "    }\n",
              "</style>\n",
              "<table border=\"1\" class=\"dataframe\">\n",
              "  <thead>\n",
              "    <tr style=\"text-align: right;\">\n",
              "      <th></th>\n",
              "      <th>myCol</th>\n",
              "      <th>col2</th>\n",
              "      <th>col3</th>\n",
              "    </tr>\n",
              "  </thead>\n",
              "  <tbody>\n",
              "    <tr>\n",
              "      <th>1</th>\n",
              "      <td>1</td>\n",
              "      <td>2019-03-01</td>\n",
              "      <td>0</td>\n",
              "    </tr>\n",
              "    <tr>\n",
              "      <th>2</th>\n",
              "      <td>1</td>\n",
              "      <td>2019-03-02</td>\n",
              "      <td>1</td>\n",
              "    </tr>\n",
              "    <tr>\n",
              "      <th>3</th>\n",
              "      <td>1</td>\n",
              "      <td>2019-03-03</td>\n",
              "      <td>2</td>\n",
              "    </tr>\n",
              "    <tr>\n",
              "      <th>4</th>\n",
              "      <td>1</td>\n",
              "      <td>2019-03-04</td>\n",
              "      <td>3</td>\n",
              "    </tr>\n",
              "    <tr>\n",
              "      <th>pika</th>\n",
              "      <td>1</td>\n",
              "      <td>2019-03-05</td>\n",
              "      <td>4</td>\n",
              "    </tr>\n",
              "    <tr>\n",
              "      <th>6</th>\n",
              "      <td>1</td>\n",
              "      <td>2019-03-06</td>\n",
              "      <td>5</td>\n",
              "    </tr>\n",
              "    <tr>\n",
              "      <th>7</th>\n",
              "      <td>1</td>\n",
              "      <td>2019-03-07</td>\n",
              "      <td>6</td>\n",
              "    </tr>\n",
              "    <tr>\n",
              "      <th>8</th>\n",
              "      <td>1</td>\n",
              "      <td>2019-03-08</td>\n",
              "      <td>7</td>\n",
              "    </tr>\n",
              "    <tr>\n",
              "      <th>10</th>\n",
              "      <td>1</td>\n",
              "      <td>2019-03-09</td>\n",
              "      <td>8</td>\n",
              "    </tr>\n",
              "    <tr>\n",
              "      <th>11</th>\n",
              "      <td>1</td>\n",
              "      <td>2019-03-10</td>\n",
              "      <td>9</td>\n",
              "    </tr>\n",
              "  </tbody>\n",
              "</table>\n",
              "</div>"
            ],
            "text/plain": [
              "      myCol       col2  col3\n",
              "1         1 2019-03-01     0\n",
              "2         1 2019-03-02     1\n",
              "3         1 2019-03-03     2\n",
              "4         1 2019-03-04     3\n",
              "pika      1 2019-03-05     4\n",
              "6         1 2019-03-06     5\n",
              "7         1 2019-03-07     6\n",
              "8         1 2019-03-08     7\n",
              "10        1 2019-03-09     8\n",
              "11        1 2019-03-10     9"
            ]
          },
          "metadata": {
            "tags": []
          },
          "execution_count": 32
        }
      ]
    },
    {
      "cell_type": "code",
      "metadata": {
        "id": "uNhuxK6-6NRB",
        "colab_type": "code",
        "colab": {
          "base_uri": "https://localhost:8080/",
          "height": 136
        },
        "outputId": "2f1b9c4b-cac5-491d-bbfb-03016d626012"
      },
      "source": [
        "df.head(3)"
      ],
      "execution_count": 34,
      "outputs": [
        {
          "output_type": "execute_result",
          "data": {
            "text/html": [
              "<div>\n",
              "<style scoped>\n",
              "    .dataframe tbody tr th:only-of-type {\n",
              "        vertical-align: middle;\n",
              "    }\n",
              "\n",
              "    .dataframe tbody tr th {\n",
              "        vertical-align: top;\n",
              "    }\n",
              "\n",
              "    .dataframe thead th {\n",
              "        text-align: right;\n",
              "    }\n",
              "</style>\n",
              "<table border=\"1\" class=\"dataframe\">\n",
              "  <thead>\n",
              "    <tr style=\"text-align: right;\">\n",
              "      <th></th>\n",
              "      <th>myCol</th>\n",
              "      <th>col2</th>\n",
              "      <th>col3</th>\n",
              "    </tr>\n",
              "  </thead>\n",
              "  <tbody>\n",
              "    <tr>\n",
              "      <th>1</th>\n",
              "      <td>1</td>\n",
              "      <td>2019-03-01</td>\n",
              "      <td>0</td>\n",
              "    </tr>\n",
              "    <tr>\n",
              "      <th>2</th>\n",
              "      <td>1</td>\n",
              "      <td>2019-03-02</td>\n",
              "      <td>1</td>\n",
              "    </tr>\n",
              "    <tr>\n",
              "      <th>3</th>\n",
              "      <td>1</td>\n",
              "      <td>2019-03-03</td>\n",
              "      <td>2</td>\n",
              "    </tr>\n",
              "  </tbody>\n",
              "</table>\n",
              "</div>"
            ],
            "text/plain": [
              "   myCol       col2  col3\n",
              "1      1 2019-03-01     0\n",
              "2      1 2019-03-02     1\n",
              "3      1 2019-03-03     2"
            ]
          },
          "metadata": {
            "tags": []
          },
          "execution_count": 34
        }
      ]
    },
    {
      "cell_type": "code",
      "metadata": {
        "id": "ZXv7GxYh6RHU",
        "colab_type": "code",
        "colab": {
          "base_uri": "https://localhost:8080/",
          "height": 106
        },
        "outputId": "33d7b989-84dd-4f7e-f114-518fda29a722"
      },
      "source": [
        "df.tail(2)"
      ],
      "execution_count": 37,
      "outputs": [
        {
          "output_type": "execute_result",
          "data": {
            "text/html": [
              "<div>\n",
              "<style scoped>\n",
              "    .dataframe tbody tr th:only-of-type {\n",
              "        vertical-align: middle;\n",
              "    }\n",
              "\n",
              "    .dataframe tbody tr th {\n",
              "        vertical-align: top;\n",
              "    }\n",
              "\n",
              "    .dataframe thead th {\n",
              "        text-align: right;\n",
              "    }\n",
              "</style>\n",
              "<table border=\"1\" class=\"dataframe\">\n",
              "  <thead>\n",
              "    <tr style=\"text-align: right;\">\n",
              "      <th></th>\n",
              "      <th>myCol</th>\n",
              "      <th>col2</th>\n",
              "      <th>col3</th>\n",
              "    </tr>\n",
              "  </thead>\n",
              "  <tbody>\n",
              "    <tr>\n",
              "      <th>10</th>\n",
              "      <td>1</td>\n",
              "      <td>2019-03-09</td>\n",
              "      <td>8</td>\n",
              "    </tr>\n",
              "    <tr>\n",
              "      <th>11</th>\n",
              "      <td>1</td>\n",
              "      <td>2019-03-10</td>\n",
              "      <td>9</td>\n",
              "    </tr>\n",
              "  </tbody>\n",
              "</table>\n",
              "</div>"
            ],
            "text/plain": [
              "    myCol       col2  col3\n",
              "10      1 2019-03-09     8\n",
              "11      1 2019-03-10     9"
            ]
          },
          "metadata": {
            "tags": []
          },
          "execution_count": 37
        }
      ]
    },
    {
      "cell_type": "code",
      "metadata": {
        "id": "BtcyzpDX6bq2",
        "colab_type": "code",
        "colab": {
          "base_uri": "https://localhost:8080/",
          "height": 34
        },
        "outputId": "acc27d9f-287c-42a9-df87-722bb38f6c7d"
      },
      "source": [
        "ls[0:1] #  [ ) -> [ ] inclusion, ( ) exclusion-> [2,5) -> [2,3,4] \n",
        "# : acts like a wildcard -> from/to\n",
        "ls = [1,2,3,4,5,6,6,7,7,232,22.3]\n",
        "ls[:3] # [0,3)\n",
        "ls[3:]\n",
        "ls[5:9]"
      ],
      "execution_count": 42,
      "outputs": [
        {
          "output_type": "execute_result",
          "data": {
            "text/plain": [
              "[6, 6, 7, 7]"
            ]
          },
          "metadata": {
            "tags": []
          },
          "execution_count": 42
        }
      ]
    },
    {
      "cell_type": "code",
      "metadata": {
        "id": "ZrftGCkr6p1l",
        "colab_type": "code",
        "colab": {
          "base_uri": "https://localhost:8080/",
          "height": 34
        },
        "outputId": "6f657e65-665b-4c7e-eeec-d4a321f2080a"
      },
      "source": [
        "ls[-3:]"
      ],
      "execution_count": 43,
      "outputs": [
        {
          "output_type": "execute_result",
          "data": {
            "text/plain": [
              "[7, 232, 22.3]"
            ]
          },
          "metadata": {
            "tags": []
          },
          "execution_count": 43
        }
      ]
    },
    {
      "cell_type": "code",
      "metadata": {
        "id": "_2rrTAGW7ckK",
        "colab_type": "code",
        "colab": {
          "base_uri": "https://localhost:8080/",
          "height": 34
        },
        "outputId": "24c7ef94-6498-4749-fc35-cdb3205cbbbe"
      },
      "source": [
        "ls[:-4]"
      ],
      "execution_count": 44,
      "outputs": [
        {
          "output_type": "execute_result",
          "data": {
            "text/plain": [
              "[1, 2, 3, 4, 5, 6, 6]"
            ]
          },
          "metadata": {
            "tags": []
          },
          "execution_count": 44
        }
      ]
    },
    {
      "cell_type": "code",
      "metadata": {
        "id": "KTMpjvBW7gUU",
        "colab_type": "code",
        "colab": {
          "base_uri": "https://localhost:8080/",
          "height": 34
        },
        "outputId": "a5490e36-e4db-4a9c-ced2-16c745b2547b"
      },
      "source": [
        "a = [1,2,3,4,5]\n",
        "a[3:11] # PYTHON IS VERY UNSTABLE LANGUAGE -> KEEP IT ONLY IN THE COMFORT ZONE\n",
        "# OUT OF BOUNDS , IPython\n",
        "# EXCEPTION WAS IN C++ or OS -> PYTHON HAS NO IDEA WHAT TO TELL YOU\n",
        "# UNEXPECTED behavior"
      ],
      "execution_count": 46,
      "outputs": [
        {
          "output_type": "execute_result",
          "data": {
            "text/plain": [
              "[4, 5]"
            ]
          },
          "metadata": {
            "tags": []
          },
          "execution_count": 46
        }
      ]
    },
    {
      "cell_type": "code",
      "metadata": {
        "id": "JO5uk8Li8RrJ",
        "colab_type": "code",
        "colab": {
          "base_uri": "https://localhost:8080/",
          "height": 343
        },
        "outputId": "82ecf07b-f0d1-41ec-c0aa-0ba2013a162c"
      },
      "source": [
        "df"
      ],
      "execution_count": 47,
      "outputs": [
        {
          "output_type": "execute_result",
          "data": {
            "text/html": [
              "<div>\n",
              "<style scoped>\n",
              "    .dataframe tbody tr th:only-of-type {\n",
              "        vertical-align: middle;\n",
              "    }\n",
              "\n",
              "    .dataframe tbody tr th {\n",
              "        vertical-align: top;\n",
              "    }\n",
              "\n",
              "    .dataframe thead th {\n",
              "        text-align: right;\n",
              "    }\n",
              "</style>\n",
              "<table border=\"1\" class=\"dataframe\">\n",
              "  <thead>\n",
              "    <tr style=\"text-align: right;\">\n",
              "      <th></th>\n",
              "      <th>myCol</th>\n",
              "      <th>col2</th>\n",
              "      <th>col3</th>\n",
              "    </tr>\n",
              "  </thead>\n",
              "  <tbody>\n",
              "    <tr>\n",
              "      <th>1</th>\n",
              "      <td>1</td>\n",
              "      <td>2019-03-01</td>\n",
              "      <td>0</td>\n",
              "    </tr>\n",
              "    <tr>\n",
              "      <th>2</th>\n",
              "      <td>1</td>\n",
              "      <td>2019-03-02</td>\n",
              "      <td>1</td>\n",
              "    </tr>\n",
              "    <tr>\n",
              "      <th>3</th>\n",
              "      <td>1</td>\n",
              "      <td>2019-03-03</td>\n",
              "      <td>2</td>\n",
              "    </tr>\n",
              "    <tr>\n",
              "      <th>4</th>\n",
              "      <td>1</td>\n",
              "      <td>2019-03-04</td>\n",
              "      <td>3</td>\n",
              "    </tr>\n",
              "    <tr>\n",
              "      <th>pika</th>\n",
              "      <td>1</td>\n",
              "      <td>2019-03-05</td>\n",
              "      <td>4</td>\n",
              "    </tr>\n",
              "    <tr>\n",
              "      <th>6</th>\n",
              "      <td>1</td>\n",
              "      <td>2019-03-06</td>\n",
              "      <td>5</td>\n",
              "    </tr>\n",
              "    <tr>\n",
              "      <th>7</th>\n",
              "      <td>1</td>\n",
              "      <td>2019-03-07</td>\n",
              "      <td>6</td>\n",
              "    </tr>\n",
              "    <tr>\n",
              "      <th>8</th>\n",
              "      <td>1</td>\n",
              "      <td>2019-03-08</td>\n",
              "      <td>7</td>\n",
              "    </tr>\n",
              "    <tr>\n",
              "      <th>10</th>\n",
              "      <td>1</td>\n",
              "      <td>2019-03-09</td>\n",
              "      <td>8</td>\n",
              "    </tr>\n",
              "    <tr>\n",
              "      <th>11</th>\n",
              "      <td>1</td>\n",
              "      <td>2019-03-10</td>\n",
              "      <td>9</td>\n",
              "    </tr>\n",
              "  </tbody>\n",
              "</table>\n",
              "</div>"
            ],
            "text/plain": [
              "      myCol       col2  col3\n",
              "1         1 2019-03-01     0\n",
              "2         1 2019-03-02     1\n",
              "3         1 2019-03-03     2\n",
              "4         1 2019-03-04     3\n",
              "pika      1 2019-03-05     4\n",
              "6         1 2019-03-06     5\n",
              "7         1 2019-03-07     6\n",
              "8         1 2019-03-08     7\n",
              "10        1 2019-03-09     8\n",
              "11        1 2019-03-10     9"
            ]
          },
          "metadata": {
            "tags": []
          },
          "execution_count": 47
        }
      ]
    },
    {
      "cell_type": "code",
      "metadata": {
        "id": "ixpfCvoi82UA",
        "colab_type": "code",
        "colab": {}
      },
      "source": [
        "stats = df.describe().T # MEAN-> SUM/N, MEDIAN-> CENTRAL DATA IN THE SET, MODE-> Most frequent"
      ],
      "execution_count": 0,
      "outputs": []
    },
    {
      "cell_type": "code",
      "metadata": {
        "id": "4X2nV63t8410",
        "colab_type": "code",
        "colab": {
          "base_uri": "https://localhost:8080/",
          "height": 67
        },
        "outputId": "a0d7afd3-73a9-4e73-8d3b-889cf0bc7bef"
      },
      "source": [
        "stats['max']"
      ],
      "execution_count": 59,
      "outputs": [
        {
          "output_type": "execute_result",
          "data": {
            "text/plain": [
              "myCol    1.0\n",
              "col3     9.0\n",
              "Name: max, dtype: float64"
            ]
          },
          "metadata": {
            "tags": []
          },
          "execution_count": 59
        }
      ]
    },
    {
      "cell_type": "code",
      "metadata": {
        "id": "Wgzejt1V9nv2",
        "colab_type": "code",
        "colab": {
          "base_uri": "https://localhost:8080/",
          "height": 373
        },
        "outputId": "b69d97b6-75bd-401d-8b82-9625965caf86"
      },
      "source": [
        "df_temp = df.set_index('col2')\n",
        "df_temp.sort_index(ascending=False)"
      ],
      "execution_count": 62,
      "outputs": [
        {
          "output_type": "execute_result",
          "data": {
            "text/html": [
              "<div>\n",
              "<style scoped>\n",
              "    .dataframe tbody tr th:only-of-type {\n",
              "        vertical-align: middle;\n",
              "    }\n",
              "\n",
              "    .dataframe tbody tr th {\n",
              "        vertical-align: top;\n",
              "    }\n",
              "\n",
              "    .dataframe thead th {\n",
              "        text-align: right;\n",
              "    }\n",
              "</style>\n",
              "<table border=\"1\" class=\"dataframe\">\n",
              "  <thead>\n",
              "    <tr style=\"text-align: right;\">\n",
              "      <th></th>\n",
              "      <th>myCol</th>\n",
              "      <th>col3</th>\n",
              "    </tr>\n",
              "    <tr>\n",
              "      <th>col2</th>\n",
              "      <th></th>\n",
              "      <th></th>\n",
              "    </tr>\n",
              "  </thead>\n",
              "  <tbody>\n",
              "    <tr>\n",
              "      <th>2019-03-10</th>\n",
              "      <td>1</td>\n",
              "      <td>9</td>\n",
              "    </tr>\n",
              "    <tr>\n",
              "      <th>2019-03-09</th>\n",
              "      <td>1</td>\n",
              "      <td>8</td>\n",
              "    </tr>\n",
              "    <tr>\n",
              "      <th>2019-03-08</th>\n",
              "      <td>1</td>\n",
              "      <td>7</td>\n",
              "    </tr>\n",
              "    <tr>\n",
              "      <th>2019-03-07</th>\n",
              "      <td>1</td>\n",
              "      <td>6</td>\n",
              "    </tr>\n",
              "    <tr>\n",
              "      <th>2019-03-06</th>\n",
              "      <td>1</td>\n",
              "      <td>5</td>\n",
              "    </tr>\n",
              "    <tr>\n",
              "      <th>2019-03-05</th>\n",
              "      <td>1</td>\n",
              "      <td>4</td>\n",
              "    </tr>\n",
              "    <tr>\n",
              "      <th>2019-03-04</th>\n",
              "      <td>1</td>\n",
              "      <td>3</td>\n",
              "    </tr>\n",
              "    <tr>\n",
              "      <th>2019-03-03</th>\n",
              "      <td>1</td>\n",
              "      <td>2</td>\n",
              "    </tr>\n",
              "    <tr>\n",
              "      <th>2019-03-02</th>\n",
              "      <td>1</td>\n",
              "      <td>1</td>\n",
              "    </tr>\n",
              "    <tr>\n",
              "      <th>2019-03-01</th>\n",
              "      <td>1</td>\n",
              "      <td>0</td>\n",
              "    </tr>\n",
              "  </tbody>\n",
              "</table>\n",
              "</div>"
            ],
            "text/plain": [
              "            myCol  col3\n",
              "col2                   \n",
              "2019-03-10      1     9\n",
              "2019-03-09      1     8\n",
              "2019-03-08      1     7\n",
              "2019-03-07      1     6\n",
              "2019-03-06      1     5\n",
              "2019-03-05      1     4\n",
              "2019-03-04      1     3\n",
              "2019-03-03      1     2\n",
              "2019-03-02      1     1\n",
              "2019-03-01      1     0"
            ]
          },
          "metadata": {
            "tags": []
          },
          "execution_count": 62
        }
      ]
    },
    {
      "cell_type": "code",
      "metadata": {
        "id": "zcms0HXI-bIf",
        "colab_type": "code",
        "colab": {}
      },
      "source": [
        "# BY COLUMN NAMES OR BY COLUMN INDEX\n",
        "# LOCATION or by INDEXED LOCATION \n",
        "# 'myCol' or by [0]\n",
        "# .loc and .iloc -> [row slicing, column slicing] -> 2:3 or :-3 "
      ],
      "execution_count": 0,
      "outputs": []
    },
    {
      "cell_type": "code",
      "metadata": {
        "id": "kD497Id-_GHg",
        "colab_type": "code",
        "colab": {
          "base_uri": "https://localhost:8080/",
          "height": 225
        },
        "outputId": "e04abe46-42e3-4418-9b9e-b44f9c15ccbf"
      },
      "source": [
        "df_temp.loc[:'20190307',['col3','myCol']] # NAMES\n",
        "df_temp.iloc[:5,[1,0]] # INDEXES"
      ],
      "execution_count": 69,
      "outputs": [
        {
          "output_type": "execute_result",
          "data": {
            "text/html": [
              "<div>\n",
              "<style scoped>\n",
              "    .dataframe tbody tr th:only-of-type {\n",
              "        vertical-align: middle;\n",
              "    }\n",
              "\n",
              "    .dataframe tbody tr th {\n",
              "        vertical-align: top;\n",
              "    }\n",
              "\n",
              "    .dataframe thead th {\n",
              "        text-align: right;\n",
              "    }\n",
              "</style>\n",
              "<table border=\"1\" class=\"dataframe\">\n",
              "  <thead>\n",
              "    <tr style=\"text-align: right;\">\n",
              "      <th></th>\n",
              "      <th>col3</th>\n",
              "      <th>myCol</th>\n",
              "    </tr>\n",
              "    <tr>\n",
              "      <th>col2</th>\n",
              "      <th></th>\n",
              "      <th></th>\n",
              "    </tr>\n",
              "  </thead>\n",
              "  <tbody>\n",
              "    <tr>\n",
              "      <th>2019-03-01</th>\n",
              "      <td>0</td>\n",
              "      <td>1</td>\n",
              "    </tr>\n",
              "    <tr>\n",
              "      <th>2019-03-02</th>\n",
              "      <td>1</td>\n",
              "      <td>1</td>\n",
              "    </tr>\n",
              "    <tr>\n",
              "      <th>2019-03-03</th>\n",
              "      <td>2</td>\n",
              "      <td>1</td>\n",
              "    </tr>\n",
              "    <tr>\n",
              "      <th>2019-03-04</th>\n",
              "      <td>3</td>\n",
              "      <td>1</td>\n",
              "    </tr>\n",
              "    <tr>\n",
              "      <th>2019-03-05</th>\n",
              "      <td>4</td>\n",
              "      <td>1</td>\n",
              "    </tr>\n",
              "  </tbody>\n",
              "</table>\n",
              "</div>"
            ],
            "text/plain": [
              "            col3  myCol\n",
              "col2                   \n",
              "2019-03-01     0      1\n",
              "2019-03-02     1      1\n",
              "2019-03-03     2      1\n",
              "2019-03-04     3      1\n",
              "2019-03-05     4      1"
            ]
          },
          "metadata": {
            "tags": []
          },
          "execution_count": 69
        }
      ]
    },
    {
      "cell_type": "code",
      "metadata": {
        "id": "Hjv_jl0F_bdy",
        "colab_type": "code",
        "colab": {
          "base_uri": "https://localhost:8080/",
          "height": 284
        },
        "outputId": "c08b73ae-5bb8-47a1-b9a2-d2db043f2bd7"
      },
      "source": [
        "df_temp[df_temp.index>'20190303'] #NUMPY -> MAGICAL library \n",
        "#df_temp.col3"
      ],
      "execution_count": 74,
      "outputs": [
        {
          "output_type": "execute_result",
          "data": {
            "text/html": [
              "<div>\n",
              "<style scoped>\n",
              "    .dataframe tbody tr th:only-of-type {\n",
              "        vertical-align: middle;\n",
              "    }\n",
              "\n",
              "    .dataframe tbody tr th {\n",
              "        vertical-align: top;\n",
              "    }\n",
              "\n",
              "    .dataframe thead th {\n",
              "        text-align: right;\n",
              "    }\n",
              "</style>\n",
              "<table border=\"1\" class=\"dataframe\">\n",
              "  <thead>\n",
              "    <tr style=\"text-align: right;\">\n",
              "      <th></th>\n",
              "      <th>myCol</th>\n",
              "      <th>col3</th>\n",
              "    </tr>\n",
              "    <tr>\n",
              "      <th>col2</th>\n",
              "      <th></th>\n",
              "      <th></th>\n",
              "    </tr>\n",
              "  </thead>\n",
              "  <tbody>\n",
              "    <tr>\n",
              "      <th>2019-03-04</th>\n",
              "      <td>1</td>\n",
              "      <td>3</td>\n",
              "    </tr>\n",
              "    <tr>\n",
              "      <th>2019-03-05</th>\n",
              "      <td>1</td>\n",
              "      <td>4</td>\n",
              "    </tr>\n",
              "    <tr>\n",
              "      <th>2019-03-06</th>\n",
              "      <td>1</td>\n",
              "      <td>5</td>\n",
              "    </tr>\n",
              "    <tr>\n",
              "      <th>2019-03-07</th>\n",
              "      <td>1</td>\n",
              "      <td>6</td>\n",
              "    </tr>\n",
              "    <tr>\n",
              "      <th>2019-03-08</th>\n",
              "      <td>1</td>\n",
              "      <td>7</td>\n",
              "    </tr>\n",
              "    <tr>\n",
              "      <th>2019-03-09</th>\n",
              "      <td>1</td>\n",
              "      <td>8</td>\n",
              "    </tr>\n",
              "    <tr>\n",
              "      <th>2019-03-10</th>\n",
              "      <td>1</td>\n",
              "      <td>9</td>\n",
              "    </tr>\n",
              "  </tbody>\n",
              "</table>\n",
              "</div>"
            ],
            "text/plain": [
              "            myCol  col3\n",
              "col2                   \n",
              "2019-03-04      1     3\n",
              "2019-03-05      1     4\n",
              "2019-03-06      1     5\n",
              "2019-03-07      1     6\n",
              "2019-03-08      1     7\n",
              "2019-03-09      1     8\n",
              "2019-03-10      1     9"
            ]
          },
          "metadata": {
            "tags": []
          },
          "execution_count": 74
        }
      ]
    },
    {
      "cell_type": "code",
      "metadata": {
        "id": "P9tsrMFnAyZv",
        "colab_type": "code",
        "colab": {}
      },
      "source": [
        "# STRING and DS -> Are most difficult to manipulate \n",
        "# instead of manipulation, a new DS is created \\\n",
        "# when reverse string, xyz and converting into zyx, it will just create a new string called zyx\n",
        "# COMPUTATION COMPLEXITY OF STRINGS and DS is VERY VERY HIGH \n",
        "# SHALLOW and DEEP COPY\n",
        "# a=1, x is a shallow copy of a\n",
        "# a=1, y is a DEEP copy of a\n",
        "# make a change, a=2, then y will remain 1, while X will become 2\n",
        "# PYTHON's default behavior is a shallow copy -> pointer copy pasting (C++ behavior)\n",
        "df2 = df_temp.copy() # deep copy # PRODUCTION MUST, for tutorials, we'll be lazy\n",
        "df3 = df_temp # shallow copy # ONLY THEORITICAL, python has a unexpected behavior on this on run time so .copy() is the \n",
        "# recommmended safe way\n"
      ],
      "execution_count": 0,
      "outputs": []
    },
    {
      "cell_type": "code",
      "metadata": {
        "id": "mSam6jPuB-Ih",
        "colab_type": "code",
        "colab": {
          "base_uri": "https://localhost:8080/",
          "height": 84
        },
        "outputId": "175a90f1-c212-4fe1-8d70-912d30c988dc"
      },
      "source": [
        "-df2 # -1 * df2\n",
        "df4 = df3 - df2 # df3 + -1*df2\n",
        "# ELEMENT WISE MATHEMATICAL OPS BETWEEN DFs\n",
        "# df3.myCol-df2.myCol , df3.col3 -df2.col3 # ALL THIS MAGIC THANKS TO NUMPY\n",
        "print(df4.index)\n",
        "# LINE2: INDEX, LINE1: NAME of COLS\n",
        "# COL2 -> INDEX"
      ],
      "execution_count": 84,
      "outputs": [
        {
          "output_type": "stream",
          "text": [
            "DatetimeIndex(['2019-03-01', '2019-03-02', '2019-03-03', '2019-03-04',\n",
            "               '2019-03-05', '2019-03-06', '2019-03-07', '2019-03-08',\n",
            "               '2019-03-09', '2019-03-10'],\n",
            "              dtype='datetime64[ns]', name='col2', freq=None)\n"
          ],
          "name": "stdout"
        }
      ]
    },
    {
      "cell_type": "code",
      "metadata": {
        "id": "BOAZAmf4Exnb",
        "colab_type": "code",
        "colab": {}
      },
      "source": [
        "df = pd.DataFrame({'a':range(10),'b':42})\n",
        "df_dirty = df[df>3]"
      ],
      "execution_count": 0,
      "outputs": []
    },
    {
      "cell_type": "code",
      "metadata": {
        "id": "E6nE7SiOF_py",
        "colab_type": "code",
        "colab": {
          "base_uri": "https://localhost:8080/",
          "height": 343
        },
        "outputId": "f2d77036-1ae2-4529-8e61-b58ce60b3203"
      },
      "source": [
        "df_dirty # fake df to demo missing values\n",
        "# 2 things missing values:\n",
        "# remove them\n",
        "# or manage them -> replace them (logic? MEAN, MEDIAN, MODE, CUSTOM VALUE?)\n",
        "xyz = df_dirty.dropna()\n",
        "xyz\n",
        "# replacing\n",
        "wxy = df_dirty.fillna(value=42)\n",
        "wxy"
      ],
      "execution_count": 105,
      "outputs": [
        {
          "output_type": "execute_result",
          "data": {
            "text/html": [
              "<div>\n",
              "<style scoped>\n",
              "    .dataframe tbody tr th:only-of-type {\n",
              "        vertical-align: middle;\n",
              "    }\n",
              "\n",
              "    .dataframe tbody tr th {\n",
              "        vertical-align: top;\n",
              "    }\n",
              "\n",
              "    .dataframe thead th {\n",
              "        text-align: right;\n",
              "    }\n",
              "</style>\n",
              "<table border=\"1\" class=\"dataframe\">\n",
              "  <thead>\n",
              "    <tr style=\"text-align: right;\">\n",
              "      <th></th>\n",
              "      <th>a</th>\n",
              "      <th>b</th>\n",
              "    </tr>\n",
              "  </thead>\n",
              "  <tbody>\n",
              "    <tr>\n",
              "      <th>0</th>\n",
              "      <td>42.0</td>\n",
              "      <td>42</td>\n",
              "    </tr>\n",
              "    <tr>\n",
              "      <th>1</th>\n",
              "      <td>42.0</td>\n",
              "      <td>42</td>\n",
              "    </tr>\n",
              "    <tr>\n",
              "      <th>2</th>\n",
              "      <td>42.0</td>\n",
              "      <td>42</td>\n",
              "    </tr>\n",
              "    <tr>\n",
              "      <th>3</th>\n",
              "      <td>42.0</td>\n",
              "      <td>42</td>\n",
              "    </tr>\n",
              "    <tr>\n",
              "      <th>4</th>\n",
              "      <td>4.0</td>\n",
              "      <td>42</td>\n",
              "    </tr>\n",
              "    <tr>\n",
              "      <th>5</th>\n",
              "      <td>5.0</td>\n",
              "      <td>42</td>\n",
              "    </tr>\n",
              "    <tr>\n",
              "      <th>6</th>\n",
              "      <td>6.0</td>\n",
              "      <td>42</td>\n",
              "    </tr>\n",
              "    <tr>\n",
              "      <th>7</th>\n",
              "      <td>7.0</td>\n",
              "      <td>42</td>\n",
              "    </tr>\n",
              "    <tr>\n",
              "      <th>8</th>\n",
              "      <td>8.0</td>\n",
              "      <td>42</td>\n",
              "    </tr>\n",
              "    <tr>\n",
              "      <th>9</th>\n",
              "      <td>9.0</td>\n",
              "      <td>42</td>\n",
              "    </tr>\n",
              "  </tbody>\n",
              "</table>\n",
              "</div>"
            ],
            "text/plain": [
              "      a   b\n",
              "0  42.0  42\n",
              "1  42.0  42\n",
              "2  42.0  42\n",
              "3  42.0  42\n",
              "4   4.0  42\n",
              "5   5.0  42\n",
              "6   6.0  42\n",
              "7   7.0  42\n",
              "8   8.0  42\n",
              "9   9.0  42"
            ]
          },
          "metadata": {
            "tags": []
          },
          "execution_count": 105
        }
      ]
    },
    {
      "cell_type": "code",
      "metadata": {
        "id": "UgRVM36oH7Yg",
        "colab_type": "code",
        "colab": {
          "base_uri": "https://localhost:8080/",
          "height": 67
        },
        "outputId": "baa52681-fe5e-4ec6-ac01-22767c52b490"
      },
      "source": [
        "df.mean()"
      ],
      "execution_count": 99,
      "outputs": [
        {
          "output_type": "execute_result",
          "data": {
            "text/plain": [
              "a     4.5\n",
              "b    42.0\n",
              "dtype: float64"
            ]
          },
          "metadata": {
            "tags": []
          },
          "execution_count": 99
        }
      ]
    },
    {
      "cell_type": "code",
      "metadata": {
        "id": "g2s5oKLgH9BE",
        "colab_type": "code",
        "colab": {
          "base_uri": "https://localhost:8080/",
          "height": 67
        },
        "outputId": "a314e857-de9f-40f8-9ab7-131d30d2ddb0"
      },
      "source": [
        "df.median()"
      ],
      "execution_count": 100,
      "outputs": [
        {
          "output_type": "execute_result",
          "data": {
            "text/plain": [
              "a     4.5\n",
              "b    42.0\n",
              "dtype: float64"
            ]
          },
          "metadata": {
            "tags": []
          },
          "execution_count": 100
        }
      ]
    },
    {
      "cell_type": "code",
      "metadata": {
        "id": "6coWq9PuH-Lt",
        "colab_type": "code",
        "colab": {
          "base_uri": "https://localhost:8080/",
          "height": 284
        },
        "outputId": "8ead3d74-ac37-4523-a5ac-0c6a5a620a91"
      },
      "source": [
        "df.describe() \n",
        "# TRANSPOSE -> FUNCTION ON MATRICES\n",
        "# ROWS become COLS, and COLS become ROWS"
      ],
      "execution_count": 102,
      "outputs": [
        {
          "output_type": "execute_result",
          "data": {
            "text/html": [
              "<div>\n",
              "<style scoped>\n",
              "    .dataframe tbody tr th:only-of-type {\n",
              "        vertical-align: middle;\n",
              "    }\n",
              "\n",
              "    .dataframe tbody tr th {\n",
              "        vertical-align: top;\n",
              "    }\n",
              "\n",
              "    .dataframe thead th {\n",
              "        text-align: right;\n",
              "    }\n",
              "</style>\n",
              "<table border=\"1\" class=\"dataframe\">\n",
              "  <thead>\n",
              "    <tr style=\"text-align: right;\">\n",
              "      <th></th>\n",
              "      <th>a</th>\n",
              "      <th>b</th>\n",
              "    </tr>\n",
              "  </thead>\n",
              "  <tbody>\n",
              "    <tr>\n",
              "      <th>count</th>\n",
              "      <td>10.00000</td>\n",
              "      <td>10.0</td>\n",
              "    </tr>\n",
              "    <tr>\n",
              "      <th>mean</th>\n",
              "      <td>4.50000</td>\n",
              "      <td>42.0</td>\n",
              "    </tr>\n",
              "    <tr>\n",
              "      <th>std</th>\n",
              "      <td>3.02765</td>\n",
              "      <td>0.0</td>\n",
              "    </tr>\n",
              "    <tr>\n",
              "      <th>min</th>\n",
              "      <td>0.00000</td>\n",
              "      <td>42.0</td>\n",
              "    </tr>\n",
              "    <tr>\n",
              "      <th>25%</th>\n",
              "      <td>2.25000</td>\n",
              "      <td>42.0</td>\n",
              "    </tr>\n",
              "    <tr>\n",
              "      <th>50%</th>\n",
              "      <td>4.50000</td>\n",
              "      <td>42.0</td>\n",
              "    </tr>\n",
              "    <tr>\n",
              "      <th>75%</th>\n",
              "      <td>6.75000</td>\n",
              "      <td>42.0</td>\n",
              "    </tr>\n",
              "    <tr>\n",
              "      <th>max</th>\n",
              "      <td>9.00000</td>\n",
              "      <td>42.0</td>\n",
              "    </tr>\n",
              "  </tbody>\n",
              "</table>\n",
              "</div>"
            ],
            "text/plain": [
              "              a     b\n",
              "count  10.00000  10.0\n",
              "mean    4.50000  42.0\n",
              "std     3.02765   0.0\n",
              "min     0.00000  42.0\n",
              "25%     2.25000  42.0\n",
              "50%     4.50000  42.0\n",
              "75%     6.75000  42.0\n",
              "max     9.00000  42.0"
            ]
          },
          "metadata": {
            "tags": []
          },
          "execution_count": 102
        }
      ]
    },
    {
      "cell_type": "code",
      "metadata": {
        "id": "ueLR6VZMH_Kx",
        "colab_type": "code",
        "colab": {
          "base_uri": "https://localhost:8080/",
          "height": 34
        },
        "outputId": "ff825b1b-b971-404e-c9f9-4fe9467ff28a"
      },
      "source": [
        "# FUNCTIONS or PROCEDURES => have repetitive taks written at one place, and use again and again\n",
        "def sum(a,b): # modularize, writing clean code. function is SLOW.\n",
        "  c= a+b\n",
        "  return c\n",
        "\n",
        "sum(1,2)"
      ],
      "execution_count": 106,
      "outputs": [
        {
          "output_type": "execute_result",
          "data": {
            "text/plain": [
              "3"
            ]
          },
          "metadata": {
            "tags": []
          },
          "execution_count": 106
        }
      ]
    },
    {
      "cell_type": "code",
      "metadata": {
        "id": "xCNKgq5Pm62v",
        "colab_type": "code",
        "colab": {
          "base_uri": "https://localhost:8080/",
          "height": 34
        },
        "outputId": "e37ced7b-918e-4295-dad2-72397682cffd"
      },
      "source": [
        "# LAMBDA -> ONE LINE SHORT FUNCTION!\n",
        "sm = lambda a,b: a+b # LOGIC to clean data frames!\n",
        "sm(1,2)"
      ],
      "execution_count": 107,
      "outputs": [
        {
          "output_type": "execute_result",
          "data": {
            "text/plain": [
              "3"
            ]
          },
          "metadata": {
            "tags": []
          },
          "execution_count": 107
        }
      ]
    },
    {
      "cell_type": "code",
      "metadata": {
        "id": "1f1F2Sr0nHsS",
        "colab_type": "code",
        "colab": {
          "base_uri": "https://localhost:8080/",
          "height": 34
        },
        "outputId": "38d7ae07-b265-466c-ed2a-1b7b0db0dedc"
      },
      "source": [
        "xyz = [x for x in range(10)] # write the logic loop to generate numbers\n",
        "dir(xyz)\n",
        "xyz"
      ],
      "execution_count": 115,
      "outputs": [
        {
          "output_type": "execute_result",
          "data": {
            "text/plain": [
              "[0, 1, 2, 3, 4, 5, 6, 7, 8, 9]"
            ]
          },
          "metadata": {
            "tags": []
          },
          "execution_count": 115
        }
      ]
    },
    {
      "cell_type": "code",
      "metadata": {
        "id": "2igKfa4coH9N",
        "colab_type": "code",
        "colab": {
          "base_uri": "https://localhost:8080/",
          "height": 118
        },
        "outputId": "260ed2d7-5756-4a56-e647-048e054bd672"
      },
      "source": [
        "# SERIES and PROPOGATE -> ITERATION \n",
        "# SINGULAR LOGIC of Propagation (NEXT), seed (initiator)\n",
        "# Fibonacci\n",
        "# -1 and 1 -> 0 -> 1-> 1-> 2-> 3 -> 5 -> 8.......\n",
        "# every elements is sum of previous 2 numbers \n",
        "# SIMPLE CLASS -> general purpose\n",
        "# SPECIAL CLASSES -> SERIES and PROPAGATION\n",
        "# 2 4 6 8 ?\n",
        "# iter -> this.seed = 2, next -> this.value = this.seed + 2, return this.value\n",
        "# __ python defined, ALL_CAPS user defined\n",
        "class Fibonacci: # __ before __ after -> PYTHON PREDEFINED OBJECTS\n",
        "  def __iter__(this):\n",
        "    this.first = -1\n",
        "    this.second = 1\n",
        "    return this\n",
        "  def __next__(this):\n",
        "    this.result = this.first + this.second\n",
        "    this.first = this.second\n",
        "    this.second = this.result\n",
        "    return this.result \n",
        "\n",
        "myFiboSeries = Fibonacci()\n",
        "myiter = iter(myFiboSeries)\n",
        "print(next(myiter))\n",
        "print(next(myiter))\n",
        "print(next(myiter))\n",
        "print(next(myiter))\n",
        "print(next(myiter))\n",
        "print(next(myiter))\n"
      ],
      "execution_count": 121,
      "outputs": [
        {
          "output_type": "stream",
          "text": [
            "0\n",
            "1\n",
            "1\n",
            "2\n",
            "3\n",
            "5\n"
          ],
          "name": "stdout"
        }
      ]
    },
    {
      "cell_type": "code",
      "metadata": {
        "id": "Y8gi160MxGHj",
        "colab_type": "code",
        "colab": {
          "base_uri": "https://localhost:8080/",
          "height": 185
        },
        "outputId": "aeea9755-1bad-4fee-8e9b-fbacbe86e92a"
      },
      "source": [
        "for x in range(10):\n",
        "  print(next(myiter))"
      ],
      "execution_count": 122,
      "outputs": [
        {
          "output_type": "stream",
          "text": [
            "8\n",
            "13\n",
            "21\n",
            "34\n",
            "55\n",
            "89\n",
            "144\n",
            "233\n",
            "377\n",
            "610\n"
          ],
          "name": "stdout"
        }
      ]
    },
    {
      "cell_type": "code",
      "metadata": {
        "id": "DPuX0saBxU91",
        "colab_type": "code",
        "colab": {}
      },
      "source": [
        ""
      ],
      "execution_count": 0,
      "outputs": []
    }
  ]
}