{
  "nbformat": 4,
  "nbformat_minor": 0,
  "metadata": {
    "colab": {
      "name": "09 CONVOLUTION VISUALIZATION_2.ipynb",
      "provenance": [],
      "collapsed_sections": [],
      "authorship_tag": "ABX9TyPmC9vR+8Tn8OlF+91FK7Ny",
      "include_colab_link": true
    },
    "kernelspec": {
      "name": "python3",
      "display_name": "Python 3"
    }
  },
  "cells": [
    {
      "cell_type": "markdown",
      "metadata": {
        "id": "view-in-github",
        "colab_type": "text"
      },
      "source": [
        "<a href=\"https://colab.research.google.com/github/a-forty-two/DataSetsForML/blob/master/09_CONVOLUTION_VISUALIZATION_2.ipynb\" target=\"_parent\"><img src=\"https://colab.research.google.com/assets/colab-badge.svg\" alt=\"Open In Colab\"/></a>"
      ]
    },
    {
      "cell_type": "code",
      "metadata": {
        "id": "6Gjd8SQZpB2Y",
        "colab_type": "code",
        "colab": {}
      },
      "source": [
        "# Partially connected or convolutional networks \n",
        "# WE are not building a CNN from scratch today, but rather going to take a pre-trained model\n",
        "\n",
        "# CHALLENGE-> WORLD IS INFINITE\n",
        "# NOBODY CAN GATHER ALL THE DATA THE WORLD \n",
        "# SOMETIMES, we have ambitions but not enough data to train a model\n",
        "# sometimes, we have enough data, but no time to train the model!\n",
        "# CREATING a model from scratch becomes a WASTE of time and money\n",
        "\n",
        "# TRANSFER_LEARNING: ability to transfer a model after it has learnt\n",
        "# what can i transfer?\n",
        "# 1) ENTIRE MODEL -> MODEL.SAVE -> export the entire model as h5 FILE \n",
        "# 2) ONLY THE MODEL SHAPE -> PICKLE -> write model shape into a file and export\n",
        "# 3) ONLY THE MODEL PARAMS -> PICKLE -> write model weights into a file and export\n",
        "# SMART WATCH -capable of AI- you could never train an AI model directly on the watch\n",
        "# so you trained your AI elsewhere, and transfered the learning of (English assistant for example) model \n",
        "# to the smaller device!\n"
      ],
      "execution_count": 0,
      "outputs": []
    },
    {
      "cell_type": "code",
      "metadata": {
        "id": "9PN-ZXvgqc90",
        "colab_type": "code",
        "outputId": "c58a7056-9a56-461e-f6ca-8d584fffceb3",
        "colab": {
          "base_uri": "https://localhost:8080/",
          "height": 1000
        }
      },
      "source": [
        "from keras.applications.vgg16 import VGG16 # Later -> we will implement this from scratch\n",
        "# IMAGE and OBJECT detection \n",
        "# popular transfer learning algos: VGG16, ResNET, AlexNet... many many open transferable models available \n",
        "import matplotlib.pyplot as plt\n",
        "\n",
        "model = VGG16()\n",
        "#model.summary()\n",
        "\n",
        "filters, biases = model.layers[1].get_weights()\n",
        "# MIN-MAX normalization -> 0 to 1 scale\n",
        "# X-Min/Max-Min\n",
        "#NORMALIZE filters, biases so that they are in same scale and represented between 0 and 1\n",
        "f_min, f_max = filters.min(), filters.max()\n",
        "filters_norm = (filters-f_min)/(f_max-f_min)\n",
        "n_filters, ix = 6, 1 # some variables that i need later (hyperparams)\n",
        "\n",
        "for i in range(n_filters):\n",
        "  f = filters[:,:,:,i]\n",
        "  for j in range(3): # once for each dimension of image R,G,B\n",
        "    ax = plt.subplot(n_filters, 3, ix)\n",
        "    plt.imshow(f[:,:,j], cmap='gray')\n",
        "    plt.legend()\n",
        "    ix = ix + 1\n",
        "\n",
        "plt.show()\n",
        "# ANY IMAGE PIXEL gets matmul with FILTER\n",
        "# each filter is a window of weights \n",
        "# [[p1,p2],[p3,p4]] X [[c1,c2],[c3,c4]]\n",
        "# c -> convolution filter \n"
      ],
      "execution_count": 1,
      "outputs": [
        {
          "output_type": "stream",
          "text": [
            "Using TensorFlow backend.\n"
          ],
          "name": "stderr"
        },
        {
          "output_type": "display_data",
          "data": {
            "text/html": [
              "<p style=\"color: red;\">\n",
              "The default version of TensorFlow in Colab will soon switch to TensorFlow 2.x.<br>\n",
              "We recommend you <a href=\"https://www.tensorflow.org/guide/migrate\" target=\"_blank\">upgrade</a> now \n",
              "or ensure your notebook will continue to use TensorFlow 1.x via the <code>%tensorflow_version 1.x</code> magic:\n",
              "<a href=\"https://colab.research.google.com/notebooks/tensorflow_version.ipynb\" target=\"_blank\">more info</a>.</p>\n"
            ],
            "text/plain": [
              "<IPython.core.display.HTML object>"
            ]
          },
          "metadata": {
            "tags": []
          }
        },
        {
          "output_type": "stream",
          "text": [
            "WARNING:tensorflow:From /usr/local/lib/python3.6/dist-packages/keras/backend/tensorflow_backend.py:66: The name tf.get_default_graph is deprecated. Please use tf.compat.v1.get_default_graph instead.\n",
            "\n",
            "WARNING:tensorflow:From /usr/local/lib/python3.6/dist-packages/keras/backend/tensorflow_backend.py:541: The name tf.placeholder is deprecated. Please use tf.compat.v1.placeholder instead.\n",
            "\n",
            "WARNING:tensorflow:From /usr/local/lib/python3.6/dist-packages/keras/backend/tensorflow_backend.py:4432: The name tf.random_uniform is deprecated. Please use tf.random.uniform instead.\n",
            "\n",
            "WARNING:tensorflow:From /usr/local/lib/python3.6/dist-packages/keras/backend/tensorflow_backend.py:4267: The name tf.nn.max_pool is deprecated. Please use tf.nn.max_pool2d instead.\n",
            "\n",
            "Downloading data from https://github.com/fchollet/deep-learning-models/releases/download/v0.1/vgg16_weights_tf_dim_ordering_tf_kernels.h5\n",
            "553467904/553467096 [==============================] - 12s 0us/step\n",
            "WARNING:tensorflow:From /usr/local/lib/python3.6/dist-packages/keras/backend/tensorflow_backend.py:190: The name tf.get_default_session is deprecated. Please use tf.compat.v1.get_default_session instead.\n",
            "\n",
            "WARNING:tensorflow:From /usr/local/lib/python3.6/dist-packages/keras/backend/tensorflow_backend.py:197: The name tf.ConfigProto is deprecated. Please use tf.compat.v1.ConfigProto instead.\n",
            "\n",
            "WARNING:tensorflow:From /usr/local/lib/python3.6/dist-packages/keras/backend/tensorflow_backend.py:203: The name tf.Session is deprecated. Please use tf.compat.v1.Session instead.\n",
            "\n",
            "WARNING:tensorflow:From /usr/local/lib/python3.6/dist-packages/keras/backend/tensorflow_backend.py:207: The name tf.global_variables is deprecated. Please use tf.compat.v1.global_variables instead.\n",
            "\n",
            "WARNING:tensorflow:From /usr/local/lib/python3.6/dist-packages/keras/backend/tensorflow_backend.py:216: The name tf.is_variable_initialized is deprecated. Please use tf.compat.v1.is_variable_initialized instead.\n",
            "\n",
            "WARNING:tensorflow:From /usr/local/lib/python3.6/dist-packages/keras/backend/tensorflow_backend.py:223: The name tf.variables_initializer is deprecated. Please use tf.compat.v1.variables_initializer instead.\n",
            "\n"
          ],
          "name": "stdout"
        },
        {
          "output_type": "stream",
          "text": [
            "No handles with labels found to put in legend.\n",
            "No handles with labels found to put in legend.\n",
            "No handles with labels found to put in legend.\n",
            "No handles with labels found to put in legend.\n",
            "No handles with labels found to put in legend.\n",
            "No handles with labels found to put in legend.\n",
            "No handles with labels found to put in legend.\n",
            "No handles with labels found to put in legend.\n",
            "No handles with labels found to put in legend.\n",
            "No handles with labels found to put in legend.\n",
            "No handles with labels found to put in legend.\n",
            "No handles with labels found to put in legend.\n",
            "No handles with labels found to put in legend.\n",
            "No handles with labels found to put in legend.\n",
            "No handles with labels found to put in legend.\n",
            "No handles with labels found to put in legend.\n",
            "No handles with labels found to put in legend.\n",
            "No handles with labels found to put in legend.\n"
          ],
          "name": "stderr"
        },
        {
          "output_type": "display_data",
          "data": {
            "image/png": "[encoded data removed]",
            "text/plain": [
              "<Figure size 432x288 with 18 Axes>"
            ]
          },
          "metadata": {
            "tags": []
          }
        }
      ]
    },
    {
      "cell_type": "code",
      "metadata": {
        "id": "UXqWhkHQrM9w",
        "colab_type": "code",
        "outputId": "10db893f-4598-420f-f001-f44187b32b0a",
        "colab": {
          "base_uri": "https://localhost:8080/",
          "height": 474
        }
      },
      "source": [
        "# to see convolutions, let's filter out all Convolutional layers\n",
        "# Dense -> FULLY CONNECTED, CONVOLUTIONS-> NOT FULLY CONNECTED\n",
        "# have weights\n",
        "# CONVOLUTIONS ARE CHEAPER THAN DENSE, but many many sequences of convolutions are required for learning \n",
        "# weights are called FILTERS \n",
        "for layer in model.layers:\n",
        "  if 'conv' not in layer.name:\n",
        "    continue\n",
        "  filters, biases = layer.get_weights()\n",
        "  print(layer.name)\n",
        "  print(len(filters[0][0]))\n"
      ],
      "execution_count": 7,
      "outputs": [
        {
          "output_type": "stream",
          "text": [
            "block1_conv1\n",
            "3\n",
            "block1_conv2\n",
            "64\n",
            "block2_conv1\n",
            "64\n",
            "block2_conv2\n",
            "128\n",
            "block3_conv1\n",
            "128\n",
            "block3_conv2\n",
            "256\n",
            "block3_conv3\n",
            "256\n",
            "block4_conv1\n",
            "256\n",
            "block4_conv2\n",
            "512\n",
            "block4_conv3\n",
            "512\n",
            "block5_conv1\n",
            "512\n",
            "block5_conv2\n",
            "512\n",
            "block5_conv3\n",
            "512\n"
          ],
          "name": "stdout"
        }
      ]
    },
    {
      "cell_type": "code",
      "metadata": {
        "id": "X2fNJsQJsTRu",
        "colab_type": "code",
        "outputId": "a6fa139c-43ab-45db-de9f-c9b1d8feb4a8",
        "colab": {
          "base_uri": "https://localhost:8080/",
          "height": 967
        }
      },
      "source": [
        "model.summary()\n",
        "# TRANSFER LEARNING \n",
        "# THESE ALGOS ARE MEANT FOR PRODUCTION -> GENERAL PURPOSE\n",
        "# SPECIALIZED PURPOSES, these algoriths are chopped, and custom models are built on top of them "
      ],
      "execution_count": 0,
      "outputs": [
        {
          "output_type": "stream",
          "text": [
            "Model: \"vgg16\"\n",
            "_________________________________________________________________\n",
            "Layer (type)                 Output Shape              Param #   \n",
            "=================================================================\n",
            "input_1 (InputLayer)         (None, 224, 224, 3)       0         \n",
            "_________________________________________________________________\n",
            "block1_conv1 (Conv2D)        (None, 224, 224, 64)      1792      \n",
            "_________________________________________________________________\n",
            "block1_conv2 (Conv2D)        (None, 224, 224, 64)      36928     \n",
            "_________________________________________________________________\n",
            "block1_pool (MaxPooling2D)   (None, 112, 112, 64)      0         \n",
            "_________________________________________________________________\n",
            "block2_conv1 (Conv2D)        (None, 112, 112, 128)     73856     \n",
            "_________________________________________________________________\n",
            "block2_conv2 (Conv2D)        (None, 112, 112, 128)     147584    \n",
            "_________________________________________________________________\n",
            "block2_pool (MaxPooling2D)   (None, 56, 56, 128)       0         \n",
            "_________________________________________________________________\n",
            "block3_conv1 (Conv2D)        (None, 56, 56, 256)       295168    \n",
            "_________________________________________________________________\n",
            "block3_conv2 (Conv2D)        (None, 56, 56, 256)       590080    \n",
            "_________________________________________________________________\n",
            "block3_conv3 (Conv2D)        (None, 56, 56, 256)       590080    \n",
            "_________________________________________________________________\n",
            "block3_pool (MaxPooling2D)   (None, 28, 28, 256)       0         \n",
            "_________________________________________________________________\n",
            "block4_conv1 (Conv2D)        (None, 28, 28, 512)       1180160   \n",
            "_________________________________________________________________\n",
            "block4_conv2 (Conv2D)        (None, 28, 28, 512)       2359808   \n",
            "_________________________________________________________________\n",
            "block4_conv3 (Conv2D)        (None, 28, 28, 512)       2359808   \n",
            "_________________________________________________________________\n",
            "block4_pool (MaxPooling2D)   (None, 14, 14, 512)       0         \n",
            "_________________________________________________________________\n",
            "block5_conv1 (Conv2D)        (None, 14, 14, 512)       2359808   \n",
            "_________________________________________________________________\n",
            "block5_conv2 (Conv2D)        (None, 14, 14, 512)       2359808   \n",
            "_________________________________________________________________\n",
            "block5_conv3 (Conv2D)        (None, 14, 14, 512)       2359808   \n",
            "_________________________________________________________________\n",
            "block5_pool (MaxPooling2D)   (None, 7, 7, 512)         0         \n",
            "_________________________________________________________________\n",
            "flatten (Flatten)            (None, 25088)             0         \n",
            "_________________________________________________________________\n",
            "fc1 (Dense)                  (None, 4096)              102764544 \n",
            "_________________________________________________________________\n",
            "fc2 (Dense)                  (None, 4096)              16781312  \n",
            "_________________________________________________________________\n",
            "predictions (Dense)          (None, 1000)              4097000   \n",
            "=================================================================\n",
            "Total params: 138,357,544\n",
            "Trainable params: 138,357,544\n",
            "Non-trainable params: 0\n",
            "_________________________________________________________________\n"
          ],
          "name": "stdout"
        }
      ]
    },
    {
      "cell_type": "code",
      "metadata": {
        "id": "VnjGyRXCUmOL",
        "colab_type": "code",
        "outputId": "3e161a74-1e5a-4686-bf5c-0f270dc833de",
        "colab": {
          "base_uri": "https://localhost:8080/",
          "height": 34
        }
      },
      "source": [
        "!ls"
      ],
      "execution_count": 0,
      "outputs": [
        {
          "output_type": "stream",
          "text": [
            "meseeks.jpg  sample_data\n"
          ],
          "name": "stdout"
        }
      ]
    },
    {
      "cell_type": "code",
      "metadata": {
        "id": "hk1KgNtEV7ee",
        "colab_type": "code",
        "colab": {}
      },
      "source": [
        "# early lunch -> 12:30-1:40, 3-3:45 break \n",
        "# TRANSFER learning \n",
        "# parameters + shape, or just part of shape or just parameters\n",
        "import tensorflow as tf\n",
        "from tensorflow import keras\n",
        "from keras.models import Model\n",
        "model = Model(inputs=model.inputs, outputs=model.layers[1].output) # CHOPPED the previous VGG model and\n",
        "# utilized only input and till the next layer's output\n",
        "# PARTIAL SHAPE [beginning of VGG model was transferred to my model]\n"
      ],
      "execution_count": 0,
      "outputs": []
    },
    {
      "cell_type": "code",
      "metadata": {
        "id": "FkraEkhUYI22",
        "colab_type": "code",
        "outputId": "dfc71888-bc85-40f3-e175-607abf2195f6",
        "colab": {
          "base_uri": "https://localhost:8080/",
          "height": 228
        }
      },
      "source": [
        "model.summary() # EXTRACTED FEATURES FROM ANOTHER MODEL AND USE THEM IN MINE "
      ],
      "execution_count": 0,
      "outputs": [
        {
          "output_type": "stream",
          "text": [
            "Model: \"model_1\"\n",
            "_________________________________________________________________\n",
            "Layer (type)                 Output Shape              Param #   \n",
            "=================================================================\n",
            "input_1 (InputLayer)         (None, 224, 224, 3)       0         \n",
            "_________________________________________________________________\n",
            "block1_conv1 (Conv2D)        (None, 224, 224, 64)      1792      \n",
            "=================================================================\n",
            "Total params: 1,792\n",
            "Trainable params: 1,792\n",
            "Non-trainable params: 0\n",
            "_________________________________________________________________\n"
          ],
          "name": "stdout"
        }
      ]
    },
    {
      "cell_type": "code",
      "metadata": {
        "id": "CA_MlZ9WYs6N",
        "colab_type": "code",
        "outputId": "fe5098b3-beaa-4afc-fb82-56bfef3a670e",
        "colab": {
          "base_uri": "https://localhost:8080/",
          "height": 34
        }
      },
      "source": [
        "from keras.preprocessing.image import load_img\n",
        "from keras.preprocessing.image import img_to_array\n",
        "\n",
        "img = load_img('meseeks.jpg', target_size=(224,224)) # because it preserves the dimensions\n",
        "# from image, convert to array of numbers to feed to NN\n",
        "img = img_to_array(img) # this results in a a 2-D matrix array\n",
        "img.shape"
      ],
      "execution_count": 0,
      "outputs": [
        {
          "output_type": "execute_result",
          "data": {
            "text/plain": [
              "(224, 224, 3)"
            ]
          },
          "metadata": {
            "tags": []
          },
          "execution_count": 19
        }
      ]
    },
    {
      "cell_type": "code",
      "metadata": {
        "id": "-c3Ei682aEkE",
        "colab_type": "code",
        "colab": {}
      },
      "source": [
        "from numpy import expand_dims\n",
        "from keras.applications.vgg16 import preprocess_input \n",
        "img = expand_dims(img, axis=0) # CREATES or REMOVES new dimensions into your data \n",
        "# previously img was (Width, Height, Depth)\n",
        "# 1 more dimension to it-> SAMPLE_ID\n",
        "# (SAMPLE_ID, W, H, D)\n",
        "img = preprocess_input(img)\n",
        "# prepares img to be used by VGG16\n",
        "featureMaps = model.predict(img) "
      ],
      "execution_count": 0,
      "outputs": []
    },
    {
      "cell_type": "code",
      "metadata": {
        "id": "6jv7BEVCbXAZ",
        "colab_type": "code",
        "outputId": "ae1e8897-4600-47f1-cf5a-fa439946567a",
        "colab": {
          "base_uri": "https://localhost:8080/",
          "height": 34
        }
      },
      "source": [
        "# VGG16 -> 64 maps\n",
        "featureMaps.shape\n",
        "# DATA (224,244,3) X FILTERS = featureMap (224,224,64)\n",
        "# Inputs X weights = Data\n",
        "# Image pixels and frames X filters = FeatureMap"
      ],
      "execution_count": 0,
      "outputs": [
        {
          "output_type": "execute_result",
          "data": {
            "text/plain": [
              "(1, 224, 224, 64)"
            ]
          },
          "metadata": {
            "tags": []
          },
          "execution_count": 23
        }
      ]
    },
    {
      "cell_type": "code",
      "metadata": {
        "id": "T77IEnK2dOXH",
        "colab_type": "code",
        "outputId": "dc78c4e5-ebe0-4e59-eadf-9bfabf80567e",
        "colab": {
          "base_uri": "https://localhost:8080/",
          "height": 187
        }
      },
      "source": [
        "#let's plot our feature maps\n",
        "sz = 8 # 64 filters, displaying on 8X8 grid \n",
        "index = 1\n",
        "plt.figure(figsize=(20,20))\n",
        "for x in range(sz):\n",
        "  ax = plt.subplot(sz,sz, index)\n",
        "  plt.imshow(featureMaps[0,:,:,index-1], cmap='gray')\n",
        "  index= index+1\n",
        "plt.show()\n",
        "# Take a 5 min break-> 11:50 reassemble plz \n",
        "# 224X224 image -> 64 different kernels to it -> sending it out "
      ],
      "execution_count": 0,
      "outputs": [
        {
          "output_type": "display_data",
          "data": {
            "image/png": "[encoded data removed]",
            "text/plain": [
              "<Figure size 1440x1440 with 8 Axes>"
            ]
          },
          "metadata": {
            "tags": []
          }
        }
      ]
    },
    {
      "cell_type": "code",
      "metadata": {
        "id": "XMbAK_negp2V",
        "colab_type": "code",
        "colab": {}
      },
      "source": [
        "# YOUR TESTS will be on the same portal-> camera is required, cannot be open book -> NO SYNTAX question \n",
        "# TEST LINK-> connect with your teammates on same day and collect the test link\n",
        "# Last Sat -> till Friday, MCQ 1 option correct"
      ],
      "execution_count": 0,
      "outputs": []
    },
    {
      "cell_type": "code",
      "metadata": {
        "id": "KNI25B30frDG",
        "colab_type": "code",
        "colab": {}
      },
      "source": [
        "1:55 -> Reassemble post lunch "
      ],
      "execution_count": 0,
      "outputs": []
    }
  ]
}