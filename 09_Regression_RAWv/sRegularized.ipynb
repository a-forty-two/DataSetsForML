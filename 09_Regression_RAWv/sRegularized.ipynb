{
  "nbformat": 4,
  "nbformat_minor": 0,
  "metadata": {
    "colab": {
      "name": "09 Regression NN.ipynb",
      "provenance": [],
      "collapsed_sections": [],
      "authorship_tag": "ABX9TyN8rQy0jaHtSO3y0RHxogj2",
      "include_colab_link": true
    },
    "kernelspec": {
      "name": "python3",
      "display_name": "Python 3"
    }
  },
  "cells": [
    {
      "cell_type": "markdown",
      "metadata": {
        "id": "view-in-github",
        "colab_type": "text"
      },
      "source": [
        "<a href=\"https://colab.research.google.com/github/a-forty-two/DataSetsForML/blob/master/09_Regression_RAWv/sRegularized.ipynb\" target=\"_parent\"><img src=\"https://colab.research.google.com/assets/colab-badge.svg\" alt=\"Open In Colab\"/></a>"
      ]
    },
    {
      "cell_type": "code",
      "metadata": {
        "id": "JO4sbakFMtuy",
        "colab_type": "code",
        "colab": {
          "base_uri": "https://localhost:8080/",
          "height": 63
        },
        "outputId": "5fc811d2-5817-48d3-94f4-4e468964a0e5"
      },
      "source": [
        "import tensorflow as tf\n",
        "import pandas as pd\n",
        "import numpy as np\n",
        "import matplotlib.pyplot as plt\n",
        "import seaborn as sns\n",
        "from tensorflow import keras\n"
      ],
      "execution_count": 2,
      "outputs": [
        {
          "output_type": "display_data",
          "data": {
            "text/html": [
              "<p style=\"color: red;\">\n",
              "The default version of TensorFlow in Colab will soon switch to TensorFlow 2.x.<br>\n",
              "We recommend you <a href=\"https://www.tensorflow.org/guide/migrate\" target=\"_blank\">upgrade</a> now \n",
              "or ensure your notebook will continue to use TensorFlow 1.x via the <code>%tensorflow_version 1.x</code> magic:\n",
              "<a href=\"https://colab.research.google.com/notebooks/tensorflow_version.ipynb\" target=\"_blank\">more info</a>.</p>\n"
            ],
            "text/plain": [
              "<IPython.core.display.HTML object>"
            ]
          },
          "metadata": {
            "tags": []
          }
        }
      ]
    },
    {
      "cell_type": "code",
      "metadata": {
        "id": "crVxLlv-NCLL",
        "colab_type": "code",
        "colab": {
          "base_uri": "https://localhost:8080/",
          "height": 34
        },
        "outputId": "7602439a-0b51-4097-d8bb-bffb66bdead5"
      },
      "source": [
        "filepath = keras.utils.get_file('auto-mpg.data',\"http://archive.ics.uci.edu/ml/machine-learning-databases/auto-mpg/auto-mpg.data\")\n",
        "filepath"
      ],
      "execution_count": 3,
      "outputs": [
        {
          "output_type": "execute_result",
          "data": {
            "text/plain": [
              "'/root/.keras/datasets/auto-mpg.data'"
            ]
          },
          "metadata": {
            "tags": []
          },
          "execution_count": 3
        }
      ]
    },
    {
      "cell_type": "code",
      "metadata": {
        "id": "q9ZFPyNdOF3N",
        "colab_type": "code",
        "colab": {
          "base_uri": "https://localhost:8080/",
          "height": 195
        },
        "outputId": "78db40fe-50d7-4def-8515-c091ac76d956"
      },
      "source": [
        "colnames=['mpg','cylinders','displacement','horsepower','weight','accelrt','modelyear','origin']\n",
        "data = pd.read_csv(filepath, names=colnames, na_values=\"?\",comment='\\t', sep=' ', skipinitialspace=True) # handles both space and tabs\n",
        "data.head()\n",
        "# PANDAS TUTORIAL\n",
        "# https://pandas.pydata.org/pandas-docs/stable/getting_started/10min.html\n"
      ],
      "execution_count": 4,
      "outputs": [
        {
          "output_type": "execute_result",
          "data": {
            "text/html": [
              "<div>\n",
              "<style scoped>\n",
              "    .dataframe tbody tr th:only-of-type {\n",
              "        vertical-align: middle;\n",
              "    }\n",
              "\n",
              "    .dataframe tbody tr th {\n",
              "        vertical-align: top;\n",
              "    }\n",
              "\n",
              "    .dataframe thead th {\n",
              "        text-align: right;\n",
              "    }\n",
              "</style>\n",
              "<table border=\"1\" class=\"dataframe\">\n",
              "  <thead>\n",
              "    <tr style=\"text-align: right;\">\n",
              "      <th></th>\n",
              "      <th>mpg</th>\n",
              "      <th>cylinders</th>\n",
              "      <th>displacement</th>\n",
              "      <th>horsepower</th>\n",
              "      <th>weight</th>\n",
              "      <th>accelrt</th>\n",
              "      <th>modelyear</th>\n",
              "      <th>origin</th>\n",
              "    </tr>\n",
              "  </thead>\n",
              "  <tbody>\n",
              "    <tr>\n",
              "      <th>0</th>\n",
              "      <td>18.0</td>\n",
              "      <td>8</td>\n",
              "      <td>307.0</td>\n",
              "      <td>130.0</td>\n",
              "      <td>3504.0</td>\n",
              "      <td>12.0</td>\n",
              "      <td>70</td>\n",
              "      <td>1</td>\n",
              "    </tr>\n",
              "    <tr>\n",
              "      <th>1</th>\n",
              "      <td>15.0</td>\n",
              "      <td>8</td>\n",
              "      <td>350.0</td>\n",
              "      <td>165.0</td>\n",
              "      <td>3693.0</td>\n",
              "      <td>11.5</td>\n",
              "      <td>70</td>\n",
              "      <td>1</td>\n",
              "    </tr>\n",
              "    <tr>\n",
              "      <th>2</th>\n",
              "      <td>18.0</td>\n",
              "      <td>8</td>\n",
              "      <td>318.0</td>\n",
              "      <td>150.0</td>\n",
              "      <td>3436.0</td>\n",
              "      <td>11.0</td>\n",
              "      <td>70</td>\n",
              "      <td>1</td>\n",
              "    </tr>\n",
              "    <tr>\n",
              "      <th>3</th>\n",
              "      <td>16.0</td>\n",
              "      <td>8</td>\n",
              "      <td>304.0</td>\n",
              "      <td>150.0</td>\n",
              "      <td>3433.0</td>\n",
              "      <td>12.0</td>\n",
              "      <td>70</td>\n",
              "      <td>1</td>\n",
              "    </tr>\n",
              "    <tr>\n",
              "      <th>4</th>\n",
              "      <td>17.0</td>\n",
              "      <td>8</td>\n",
              "      <td>302.0</td>\n",
              "      <td>140.0</td>\n",
              "      <td>3449.0</td>\n",
              "      <td>10.5</td>\n",
              "      <td>70</td>\n",
              "      <td>1</td>\n",
              "    </tr>\n",
              "  </tbody>\n",
              "</table>\n",
              "</div>"
            ],
            "text/plain": [
              "    mpg  cylinders  displacement  ...  accelrt  modelyear  origin\n",
              "0  18.0          8         307.0  ...     12.0         70       1\n",
              "1  15.0          8         350.0  ...     11.5         70       1\n",
              "2  18.0          8         318.0  ...     11.0         70       1\n",
              "3  16.0          8         304.0  ...     12.0         70       1\n",
              "4  17.0          8         302.0  ...     10.5         70       1\n",
              "\n",
              "[5 rows x 8 columns]"
            ]
          },
          "metadata": {
            "tags": []
          },
          "execution_count": 4
        }
      ]
    },
    {
      "cell_type": "code",
      "metadata": {
        "id": "HL0GgF91QQ0C",
        "colab_type": "code",
        "colab": {
          "base_uri": "https://localhost:8080/",
          "height": 175
        },
        "outputId": "380c7bf5-f563-42d0-ec4f-95e74e00026c"
      },
      "source": [
        "#data.info() # no. of non nulls\n",
        "data.isna().sum() # no. of nulls\n"
      ],
      "execution_count": 5,
      "outputs": [
        {
          "output_type": "execute_result",
          "data": {
            "text/plain": [
              "mpg             0\n",
              "cylinders       0\n",
              "displacement    0\n",
              "horsepower      6\n",
              "weight          0\n",
              "accelrt         0\n",
              "modelyear       0\n",
              "origin          0\n",
              "dtype: int64"
            ]
          },
          "metadata": {
            "tags": []
          },
          "execution_count": 5
        }
      ]
    },
    {
      "cell_type": "code",
      "metadata": {
        "id": "gk5mIaiBSjsg",
        "colab_type": "code",
        "colab": {
          "base_uri": "https://localhost:8080/",
          "height": 175
        },
        "outputId": "a1061445-3779-47d9-8833-3bae7de24e47"
      },
      "source": [
        "# EASIEST WAY TO HANDLE NULLS -> DROP THEM!\n",
        "# 6 null rows/398 total rows = 1.5 % data polluted \n",
        "df = data.dropna()\n",
        "df.isna().sum()"
      ],
      "execution_count": 6,
      "outputs": [
        {
          "output_type": "execute_result",
          "data": {
            "text/plain": [
              "mpg             0\n",
              "cylinders       0\n",
              "displacement    0\n",
              "horsepower      0\n",
              "weight          0\n",
              "accelrt         0\n",
              "modelyear       0\n",
              "origin          0\n",
              "dtype: int64"
            ]
          },
          "metadata": {
            "tags": []
          },
          "execution_count": 6
        }
      ]
    },
    {
      "cell_type": "code",
      "metadata": {
        "id": "1yTXWLALTRPM",
        "colab_type": "code",
        "colab": {
          "base_uri": "https://localhost:8080/",
          "height": 354
        },
        "outputId": "be9bec49-dcd8-4cf6-d2a4-27f7583173b8"
      },
      "source": [
        "# LABEL ENCODING, MULTI-HOT ENCODING <- already seen\n",
        "# but here, ORIGIN is a categorical column\n",
        "# 1-> USA, 2-> Europe, 3-> Japan \n",
        "# CATEGORICAL VALUES SHOULD BE ONE-HOT ENCODING\n",
        "# 1-hot encoding-> each category becomes it's own column\n",
        "# Assume ORIGIN 1-> BLR, 2-> NDLS, 3-> BOM\n",
        "origin = df.pop('origin') # pop function returns and deletes the column from the dataset\n",
        "df['BLR'] = (origin==1)*1\n",
        "df['NDLS'] = (origin==2)*1\n",
        "df['BOM'] = (origin==3)*1\n",
        "\n",
        "\n"
      ],
      "execution_count": 7,
      "outputs": [
        {
          "output_type": "stream",
          "text": [
            "/usr/local/lib/python3.6/dist-packages/ipykernel_launcher.py:2: SettingWithCopyWarning: \n",
            "A value is trying to be set on a copy of a slice from a DataFrame.\n",
            "Try using .loc[row_indexer,col_indexer] = value instead\n",
            "\n",
            "See the caveats in the documentation: http://pandas.pydata.org/pandas-docs/stable/user_guide/indexing.html#returning-a-view-versus-a-copy\n",
            "  \n",
            "/usr/local/lib/python3.6/dist-packages/ipykernel_launcher.py:3: SettingWithCopyWarning: \n",
            "A value is trying to be set on a copy of a slice from a DataFrame.\n",
            "Try using .loc[row_indexer,col_indexer] = value instead\n",
            "\n",
            "See the caveats in the documentation: http://pandas.pydata.org/pandas-docs/stable/user_guide/indexing.html#returning-a-view-versus-a-copy\n",
            "  This is separate from the ipykernel package so we can avoid doing imports until\n",
            "/usr/local/lib/python3.6/dist-packages/ipykernel_launcher.py:4: SettingWithCopyWarning: \n",
            "A value is trying to be set on a copy of a slice from a DataFrame.\n",
            "Try using .loc[row_indexer,col_indexer] = value instead\n",
            "\n",
            "See the caveats in the documentation: http://pandas.pydata.org/pandas-docs/stable/user_guide/indexing.html#returning-a-view-versus-a-copy\n",
            "  after removing the cwd from sys.path.\n"
          ],
          "name": "stderr"
        }
      ]
    },
    {
      "cell_type": "code",
      "metadata": {
        "id": "KmRkT_KqbWsf",
        "colab_type": "code",
        "colab": {
          "base_uri": "https://localhost:8080/",
          "height": 195
        },
        "outputId": "c385d8c8-12ed-4b07-e8bc-1898bd5777e3"
      },
      "source": [
        "df.tail() # opposite of head-> shows data from bottom"
      ],
      "execution_count": 8,
      "outputs": [
        {
          "output_type": "execute_result",
          "data": {
            "text/html": [
              "<div>\n",
              "<style scoped>\n",
              "    .dataframe tbody tr th:only-of-type {\n",
              "        vertical-align: middle;\n",
              "    }\n",
              "\n",
              "    .dataframe tbody tr th {\n",
              "        vertical-align: top;\n",
              "    }\n",
              "\n",
              "    .dataframe thead th {\n",
              "        text-align: right;\n",
              "    }\n",
              "</style>\n",
              "<table border=\"1\" class=\"dataframe\">\n",
              "  <thead>\n",
              "    <tr style=\"text-align: right;\">\n",
              "      <th></th>\n",
              "      <th>mpg</th>\n",
              "      <th>cylinders</th>\n",
              "      <th>displacement</th>\n",
              "      <th>horsepower</th>\n",
              "      <th>weight</th>\n",
              "      <th>accelrt</th>\n",
              "      <th>modelyear</th>\n",
              "      <th>BLR</th>\n",
              "      <th>NDLS</th>\n",
              "      <th>BOM</th>\n",
              "    </tr>\n",
              "  </thead>\n",
              "  <tbody>\n",
              "    <tr>\n",
              "      <th>393</th>\n",
              "      <td>27.0</td>\n",
              "      <td>4</td>\n",
              "      <td>140.0</td>\n",
              "      <td>86.0</td>\n",
              "      <td>2790.0</td>\n",
              "      <td>15.6</td>\n",
              "      <td>82</td>\n",
              "      <td>1</td>\n",
              "      <td>0</td>\n",
              "      <td>0</td>\n",
              "    </tr>\n",
              "    <tr>\n",
              "      <th>394</th>\n",
              "      <td>44.0</td>\n",
              "      <td>4</td>\n",
              "      <td>97.0</td>\n",
              "      <td>52.0</td>\n",
              "      <td>2130.0</td>\n",
              "      <td>24.6</td>\n",
              "      <td>82</td>\n",
              "      <td>0</td>\n",
              "      <td>1</td>\n",
              "      <td>0</td>\n",
              "    </tr>\n",
              "    <tr>\n",
              "      <th>395</th>\n",
              "      <td>32.0</td>\n",
              "      <td>4</td>\n",
              "      <td>135.0</td>\n",
              "      <td>84.0</td>\n",
              "      <td>2295.0</td>\n",
              "      <td>11.6</td>\n",
              "      <td>82</td>\n",
              "      <td>1</td>\n",
              "      <td>0</td>\n",
              "      <td>0</td>\n",
              "    </tr>\n",
              "    <tr>\n",
              "      <th>396</th>\n",
              "      <td>28.0</td>\n",
              "      <td>4</td>\n",
              "      <td>120.0</td>\n",
              "      <td>79.0</td>\n",
              "      <td>2625.0</td>\n",
              "      <td>18.6</td>\n",
              "      <td>82</td>\n",
              "      <td>1</td>\n",
              "      <td>0</td>\n",
              "      <td>0</td>\n",
              "    </tr>\n",
              "    <tr>\n",
              "      <th>397</th>\n",
              "      <td>31.0</td>\n",
              "      <td>4</td>\n",
              "      <td>119.0</td>\n",
              "      <td>82.0</td>\n",
              "      <td>2720.0</td>\n",
              "      <td>19.4</td>\n",
              "      <td>82</td>\n",
              "      <td>1</td>\n",
              "      <td>0</td>\n",
              "      <td>0</td>\n",
              "    </tr>\n",
              "  </tbody>\n",
              "</table>\n",
              "</div>"
            ],
            "text/plain": [
              "      mpg  cylinders  displacement  horsepower  ...  modelyear  BLR  NDLS  BOM\n",
              "393  27.0          4         140.0        86.0  ...         82    1     0    0\n",
              "394  44.0          4          97.0        52.0  ...         82    0     1    0\n",
              "395  32.0          4         135.0        84.0  ...         82    1     0    0\n",
              "396  28.0          4         120.0        79.0  ...         82    1     0    0\n",
              "397  31.0          4         119.0        82.0  ...         82    1     0    0\n",
              "\n",
              "[5 rows x 10 columns]"
            ]
          },
          "metadata": {
            "tags": []
          },
          "execution_count": 8
        }
      ]
    },
    {
      "cell_type": "code",
      "metadata": {
        "id": "nIaKVosAblTq",
        "colab_type": "code",
        "colab": {
          "base_uri": "https://localhost:8080/",
          "height": 747
        },
        "outputId": "af47167c-b863-4752-ca0e-8f593133daae"
      },
      "source": [
        "# SAMPLING is another way of creating training/testing/validation data \n",
        "traindata = df.sample(frac=0.75, random_state=42)\n",
        "# for testing-> i cannot do sampling again, else we can end up with repeat rows in train/test\n",
        "testdata = df.drop(traindata.index)\n",
        "# DROP train from main data, whatever is left is testing data \n",
        "# WE SHUFFLED AND COLLECTED TRAINING DATA\n",
        "# CORRELATION- HEATMAP, SCATTERPLOT (output distributed), distribution of inputs also \n",
        "# did all of this to arrive at most usable variable, discard the unsuitable ones \n",
        "sns.pairplot(traindata[['mpg','cylinders','displacement','weight']], diag_kind='kde')\n",
        "plt.show()\n",
        "# WHY WERE NOT 1-HOT-CATEGORIES ALSO PLOTTED?\n",
        "# We have created 1-hot mapping, so that we could distinctly filter out data exclusively related to\n",
        "# that category \n",
        "# these columns should be used ONLY for filtering and NOT for ML or DL "
      ],
      "execution_count": 9,
      "outputs": [
        {
          "output_type": "display_data",
          "data": {
            "image/png": "[encoded data removed]",
            "text/plain": [
              "<Figure size 720x720 with 20 Axes>"
            ]
          },
          "metadata": {
            "tags": []
          }
        }
      ]
    },
    {
      "cell_type": "code",
      "metadata": {
        "id": "lkpG3QZQd7dg",
        "colab_type": "code",
        "colab": {}
      },
      "source": [
        "# 2 discrete values in a category? Label Encoding is good enough-> 1 and 0 will create a gap between data, good enough for\n",
        "# classification or filtering(regression)\n",
        "# >2 discrete values in a category? One-Hot Encoding\n",
        " # WHATEVER MU and SIGMA, i decide for train, i can also use for test <- another way to fight overfitting \n",
        "trainy = traindata.pop('mpg')\n",
        "testy = testdata.pop('mpg')\n",
        "# std, mean -> z-score for normalization\n",
        "# T -> transpose\n"
      ],
      "execution_count": 0,
      "outputs": []
    },
    {
      "cell_type": "code",
      "metadata": {
        "id": "H4qpAu8wlLCA",
        "colab_type": "code",
        "colab": {}
      },
      "source": [
        "stats = traindata.describe().T"
      ],
      "execution_count": 0,
      "outputs": []
    },
    {
      "cell_type": "code",
      "metadata": {
        "id": "DefQykhVlrLU",
        "colab_type": "code",
        "colab": {}
      },
      "source": [
        "# to fight overfitting, you can calculate mu and sigma only for training dataset,\n",
        "# and apply same values to test dataset also \n",
        "mu = stats['mean']\n",
        "sigma = stats['std']\n",
        "trainx = (traindata - mu)/sigma \n",
        "testx = (testdata - mu)/sigma \n",
        "# Z-Score Normalization from -inf to +inf"
      ],
      "execution_count": 0,
      "outputs": []
    },
    {
      "cell_type": "code",
      "metadata": {
        "id": "RQ9EnZ7um7Xu",
        "colab_type": "code",
        "colab": {
          "base_uri": "https://localhost:8080/",
          "height": 195
        },
        "outputId": "f85fb84b-5d71-4668-cea6-daf5aaa65114"
      },
      "source": [
        "trainx.head()\n",
        "# Either I can proceed with this data and see how model behaves\n",
        "# Above works, because the correct category becomes positive, while other categories become negative \n",
        "# as a result, the gap between these discrete values will be even more than 0 and 1 gap  \n",
        "# or normalize only the required columns and create a diff model to see how that behaves "
      ],
      "execution_count": 13,
      "outputs": [
        {
          "output_type": "execute_result",
          "data": {
            "text/html": [
              "<div>\n",
              "<style scoped>\n",
              "    .dataframe tbody tr th:only-of-type {\n",
              "        vertical-align: middle;\n",
              "    }\n",
              "\n",
              "    .dataframe tbody tr th {\n",
              "        vertical-align: top;\n",
              "    }\n",
              "\n",
              "    .dataframe thead th {\n",
              "        text-align: right;\n",
              "    }\n",
              "</style>\n",
              "<table border=\"1\" class=\"dataframe\">\n",
              "  <thead>\n",
              "    <tr style=\"text-align: right;\">\n",
              "      <th></th>\n",
              "      <th>cylinders</th>\n",
              "      <th>displacement</th>\n",
              "      <th>horsepower</th>\n",
              "      <th>weight</th>\n",
              "      <th>accelrt</th>\n",
              "      <th>modelyear</th>\n",
              "      <th>BLR</th>\n",
              "      <th>NDLS</th>\n",
              "      <th>BOM</th>\n",
              "    </tr>\n",
              "  </thead>\n",
              "  <tbody>\n",
              "    <tr>\n",
              "      <th>79</th>\n",
              "      <td>-0.876718</td>\n",
              "      <td>-0.947883</td>\n",
              "      <td>-0.924091</td>\n",
              "      <td>-0.939884</td>\n",
              "      <td>0.877874</td>\n",
              "      <td>-1.059696</td>\n",
              "      <td>-1.263456</td>\n",
              "      <td>2.153606</td>\n",
              "      <td>-0.510796</td>\n",
              "    </tr>\n",
              "    <tr>\n",
              "      <th>276</th>\n",
              "      <td>-0.876718</td>\n",
              "      <td>-0.710868</td>\n",
              "      <td>0.245640</td>\n",
              "      <td>-0.226985</td>\n",
              "      <td>0.062016</td>\n",
              "      <td>0.562963</td>\n",
              "      <td>-1.263456</td>\n",
              "      <td>2.153606</td>\n",
              "      <td>-0.510796</td>\n",
              "    </tr>\n",
              "    <tr>\n",
              "      <th>248</th>\n",
              "      <td>-0.876718</td>\n",
              "      <td>-0.995286</td>\n",
              "      <td>-1.152951</td>\n",
              "      <td>-1.397504</td>\n",
              "      <td>0.310321</td>\n",
              "      <td>0.562963</td>\n",
              "      <td>-1.263456</td>\n",
              "      <td>-0.462758</td>\n",
              "      <td>1.951072</td>\n",
              "    </tr>\n",
              "    <tr>\n",
              "      <th>56</th>\n",
              "      <td>-0.876718</td>\n",
              "      <td>-0.995286</td>\n",
              "      <td>-0.898662</td>\n",
              "      <td>-1.215162</td>\n",
              "      <td>1.764677</td>\n",
              "      <td>-1.330139</td>\n",
              "      <td>0.788788</td>\n",
              "      <td>-0.462758</td>\n",
              "      <td>-0.510796</td>\n",
              "    </tr>\n",
              "    <tr>\n",
              "      <th>393</th>\n",
              "      <td>-0.876718</td>\n",
              "      <td>-0.530736</td>\n",
              "      <td>-0.491799</td>\n",
              "      <td>-0.232867</td>\n",
              "      <td>0.026544</td>\n",
              "      <td>1.644736</td>\n",
              "      <td>0.788788</td>\n",
              "      <td>-0.462758</td>\n",
              "      <td>-0.510796</td>\n",
              "    </tr>\n",
              "  </tbody>\n",
              "</table>\n",
              "</div>"
            ],
            "text/plain": [
              "     cylinders  displacement  horsepower  ...       BLR      NDLS       BOM\n",
              "79   -0.876718     -0.947883   -0.924091  ... -1.263456  2.153606 -0.510796\n",
              "276  -0.876718     -0.710868    0.245640  ... -1.263456  2.153606 -0.510796\n",
              "248  -0.876718     -0.995286   -1.152951  ... -1.263456 -0.462758  1.951072\n",
              "56   -0.876718     -0.995286   -0.898662  ...  0.788788 -0.462758 -0.510796\n",
              "393  -0.876718     -0.530736   -0.491799  ...  0.788788 -0.462758 -0.510796\n",
              "\n",
              "[5 rows x 9 columns]"
            ]
          },
          "metadata": {
            "tags": []
          },
          "execution_count": 13
        }
      ]
    },
    {
      "cell_type": "code",
      "metadata": {
        "id": "322sz9ACm9BN",
        "colab_type": "code",
        "colab": {}
      },
      "source": [
        "# let's build the model\n",
        "# Python -> Flask, C# -> either WEbAPI/ASP.netCore/Xamarin, Java-> JSP, NodeJS -> server.js \n",
        "# Being able to bring my model into use\n",
        "# Collecting the data: because a common user doesn't know how to write program or clean data!\n",
        "# they would provide us raw inputs, a ds should be efficient enough to write an API to take such input\n",
        "# POST API to accept an image an return it's class! <- at least this much should be known\n",
        "# Deployment: API (on premise), bare-minimum docker and kubernetes to deploy model as a container (on premise or IoT or dev/test)\n",
        "# or kubernetes (production usage) [ON CLOUD ONLY- you don't need to know this on premise]\n",
        "# on prem=> API [YOU] or Docker [SysAdmin will configure, you should only know how to deploy to docker]\n",
        "# on cloud=> API, Docker, Kubernetes -> none of them will require a separate ADMIN! [You]\n",
        "\n",
        "HP_epochs = 1000\n",
        "HP_Layer1 = 64\n",
        "HP_Layer2 = 64\n",
        "HP_LR = 1e-3 # 10 to the power -3 or 0.001\n",
        "\n",
        "#Write user-defined optimizer, no Adam optimizer\n",
        "optimizer = tf.keras.optimizers.RMSprop(HP_LR) # RMSProp is used for Regression-Root Mean Squared Propogation\n",
        "# Adam Optimizer is RMSProp with additional vector Momentum \n",
        "\n",
        "model = keras.Sequential()\n",
        "model.add(keras.layers.Dense(HP_Layer1, activation=tf.nn.relu, input_shape=[len(trainx.keys())]))\n",
        "model.add(keras.layers.Dense(HP_Layer2, activation=tf.nn.relu))\n",
        "model.add(keras.layers.Dense(1))\n",
        "\n",
        "model.compile(optimizer=optimizer, loss='mean_squared_error', metrics=['mean_squared_error','mean_absolute_error'])\n",
        "# CLassification -> ENTROPY\n",
        "# REGRESSION -> MEAN SQUARED ERROR (Normalized data), MEAN ABSOLUTE ERROR (unnormalized and norm. data)\n",
        "\n",
        "# MOMENTUM application resulted in change of learning rate\n",
        "# 2 things could change -> Magnitude or Direction \n",
        "# Angular Momentum -> BOTH MAGNITUDE AND DIRECTION to find the cheapest path \n",
        "# \n",
        "\n",
        "\n"
      ],
      "execution_count": 0,
      "outputs": []
    },
    {
      "cell_type": "code",
      "metadata": {
        "id": "fZxeZuLeTT5-",
        "colab_type": "code",
        "colab": {}
      },
      "source": [
        "HP_epochs = 1000\n",
        "HP_Layer1 = 64\n",
        "HP_Layer2 = 128\n",
        "HP_Layer3 = 256\n",
        "HP_LR = 1e-4 # 10 to the power -3 or 0.001\n",
        "\n",
        "#Write user-defined optimizer, no Adam optimizer\n",
        "optimizer = tf.keras.optimizers.Adam(HP_LR) # RMSProp is used for Regression-Root Mean Squared Propogation\n",
        "# Adam Optimizer is RMSProp with additional vector Momentum \n",
        "\n",
        "model2 = keras.Sequential()\n",
        "model2.add(keras.layers.Dense(HP_Layer1, activation=tf.nn.relu, input_shape=[len(trainx.keys())]))\n",
        "model2.add(keras.layers.Dense(HP_Layer2, activation=tf.nn.relu))\n",
        "model2.add(keras.layers.Dropout(0.25))\n",
        "model2.add(keras.layers.Dense(HP_Layer3, activation=tf.nn.relu))\n",
        "model2.add(keras.layers.Dropout(0.25))\n",
        "model2.add(keras.layers.Dense(1))\n",
        "\n",
        "model2.compile(optimizer=optimizer, loss='mean_squared_error', metrics=['mean_squared_error','mean_absolute_error'])"
      ],
      "execution_count": 0,
      "outputs": []
    },
    {
      "cell_type": "code",
      "metadata": {
        "id": "qu3VowSLID18",
        "colab_type": "code",
        "colab": {
          "base_uri": "https://localhost:8080/",
          "height": 615
        },
        "outputId": "734c4fac-9a0a-4a7c-8dc5-15e85345d89d"
      },
      "source": [
        "model.summary()\n",
        "# 9 inputs X 64 + 64 = 640\n",
        "# 64 X 64 + 64 = 4160\n",
        "# 64 X 1 + 1 = 65\n",
        "model2.summary()"
      ],
      "execution_count": 34,
      "outputs": [
        {
          "output_type": "stream",
          "text": [
            "Model: \"sequential_1\"\n",
            "_________________________________________________________________\n",
            "Layer (type)                 Output Shape              Param #   \n",
            "=================================================================\n",
            "dense_3 (Dense)              (None, 64)                640       \n",
            "_________________________________________________________________\n",
            "dense_4 (Dense)              (None, 64)                4160      \n",
            "_________________________________________________________________\n",
            "dense_5 (Dense)              (None, 1)                 65        \n",
            "=================================================================\n",
            "Total params: 4,865\n",
            "Trainable params: 4,865\n",
            "Non-trainable params: 0\n",
            "_________________________________________________________________\n",
            "Model: \"sequential_2\"\n",
            "_________________________________________________________________\n",
            "Layer (type)                 Output Shape              Param #   \n",
            "=================================================================\n",
            "dense_6 (Dense)              (None, 64)                640       \n",
            "_________________________________________________________________\n",
            "dense_7 (Dense)              (None, 128)               8320      \n",
            "_________________________________________________________________\n",
            "dropout (Dropout)            (None, 128)               0         \n",
            "_________________________________________________________________\n",
            "dense_8 (Dense)              (None, 256)               33024     \n",
            "_________________________________________________________________\n",
            "dropout_1 (Dropout)          (None, 256)               0         \n",
            "_________________________________________________________________\n",
            "dense_9 (Dense)              (None, 1)                 257       \n",
            "=================================================================\n",
            "Total params: 42,241\n",
            "Trainable params: 42,241\n",
            "Non-trainable params: 0\n",
            "_________________________________________________________________\n"
          ],
          "name": "stdout"
        }
      ]
    },
    {
      "cell_type": "code",
      "metadata": {
        "id": "5a_8zHPLJGUs",
        "colab_type": "code",
        "colab": {
          "base_uri": "https://localhost:8080/",
          "height": 52
        },
        "outputId": "d5d31b68-cdf3-49b4-b8b9-65a5dee6201f"
      },
      "source": [
        "# instead of heavy printing on screen or a blank waiting time period, let's create a custom print function\n",
        "class Printer(keras.callbacks.Callback):\n",
        "  def on_epoch_end(self, epoch, logs):\n",
        "    if epoch % 100 == 0: print('')\n",
        "    print('.', end='')\n",
        "# delay_evaluation, evaluation_interval -> they were controlling when to early stop\n",
        "# patience=10 -> keep checking for 10 epochs-> if all of them are poorly performing then stop \n",
        "# EARLY STOPPING -> STOP IF POOR PERFORMANCE \n",
        "early_stop = keras.callbacks.EarlyStopping(monitor='val_loss', patience=10)\n",
        "# patience -> how long before you take action?\n",
        "\n",
        "history = model.fit(trainx, trainy, epochs=HP_epochs, validation_split=0.2, verbose=0, callbacks=[early_stop, Printer()])\n",
        "print(len(history.epoch))"
      ],
      "execution_count": 23,
      "outputs": [
        {
          "output_type": "stream",
          "text": [
            "\n",
            "................................................................64\n"
          ],
          "name": "stdout"
        }
      ]
    },
    {
      "cell_type": "code",
      "metadata": {
        "id": "z2rlPjhsT9zR",
        "colab_type": "code",
        "colab": {
          "base_uri": "https://localhost:8080/",
          "height": 70
        },
        "outputId": "53ae3b45-b729-43ae-ff47-359ac05efb24"
      },
      "source": [
        "class Printer(keras.callbacks.Callback):\n",
        "  def on_epoch_end(self, epoch, logs):\n",
        "    if epoch % 100 == 0: print('')\n",
        "    print('.', end='')\n",
        "# delay_evaluation, evaluation_interval -> they were controlling when to early stop\n",
        "# patience=10 -> keep checking for 10 epochs-> if all of them are poorly performing then stop \n",
        "# EARLY STOPPING -> STOP IF POOR PERFORMANCE \n",
        "early_stop = keras.callbacks.EarlyStopping(monitor='val_loss', patience=10)\n",
        "# patience -> how long before you take action?\n",
        "\n",
        "history = model2.fit(trainx, trainy, epochs=HP_epochs, validation_split=0.2, verbose=0, callbacks=[early_stop, Printer()])\n",
        "print(len(history.epoch))"
      ],
      "execution_count": 35,
      "outputs": [
        {
          "output_type": "stream",
          "text": [
            "\n",
            "....................................................................................................\n",
            "...........................................................................................191\n"
          ],
          "name": "stdout"
        }
      ]
    },
    {
      "cell_type": "code",
      "metadata": {
        "id": "JyhFECdbLPtE",
        "colab_type": "code",
        "colab": {
          "base_uri": "https://localhost:8080/",
          "height": 279
        },
        "outputId": "3558ba4d-fac3-4141-b1b8-26806369c2dd"
      },
      "source": [
        "# let's plot!\n",
        "hist = pd.DataFrame( history.history)\n",
        "hist['epoch'] = history.epoch\n",
        "plt.figure()\n",
        "plt.xlabel('Epoch')\n",
        "plt.ylabel('MAE')\n",
        "plt.plot(hist['epoch'], hist['mean_absolute_error'], label='train-error')\n",
        "plt.plot(hist['epoch'], hist['val_mean_absolute_error'], label='val-error')\n",
        "plt.legend()\n",
        "plt.show()\n",
        "\n",
        "\n",
        "#hist.head()\n",
        "# Mean Squared Error -> minimize the square of the error so that error is automatically reduced"
      ],
      "execution_count": 26,
      "outputs": [
        {
          "output_type": "display_data",
          "data": {
            "image/png": "[encoded data removed]",
            "text/plain": [
              "<Figure size 432x288 with 1 Axes>"
            ]
          },
          "metadata": {
            "tags": []
          }
        }
      ]
    },
    {
      "cell_type": "code",
      "metadata": {
        "id": "R_egGFU7L72B",
        "colab_type": "code",
        "colab": {
          "base_uri": "https://localhost:8080/",
          "height": 279
        },
        "outputId": "fd45ed5f-7cbf-41f2-f34d-6aad716117a5"
      },
      "source": [
        "#let's score/test the model 1\n",
        "predictions = model.predict(testx).flatten() # Flatten converts Tensor into Array\n",
        "\n",
        "error = predictions - testy\n",
        "plt.hist(error, bins=25)\n",
        "plt.xlabel(\"Error in MPG\")\n",
        "plt.show()\n",
        "\n",
        "# negative: predicted MPG < actual MPG \n",
        "# positive: predicted MPG > actual MPG\n",
        "# which section is best? 0!!!! Why-> because that's the point where prediction = actual\n",
        "\n",
        "#plt.scatter(testy, predictions)\n",
        "#plt.xlabel('Actual')\n",
        "#plt.ylabel('predicted')\n",
        "#plt.show()\n",
        "#predictions\n",
        "# let's evaluate the model\n",
        "#loss, mse, mae = model.evaluate(testx, testy)"
      ],
      "execution_count": 31,
      "outputs": [
        {
          "output_type": "display_data",
          "data": {
            "image/png": "[encoded data removed]",
            "text/plain": [
              "<Figure size 432x288 with 1 Axes>"
            ]
          },
          "metadata": {
            "tags": []
          }
        }
      ]
    },
    {
      "cell_type": "code",
      "metadata": {
        "id": "2UR8IBLzUPWk",
        "colab_type": "code",
        "colab": {
          "base_uri": "https://localhost:8080/",
          "height": 279
        },
        "outputId": "f055de43-6a41-4d4f-a5bd-2367eee8453d"
      },
      "source": [
        "predictions = model2.predict(testx).flatten() # Flatten converts Tensor into Array\n",
        "\n",
        "error = predictions - testy\n",
        "plt.hist(error, bins=25)\n",
        "plt.xlabel(\"Error in MPG\")\n",
        "plt.show()"
      ],
      "execution_count": 36,
      "outputs": [
        {
          "output_type": "display_data",
          "data": {
            "image/png": "[encoded data removed]",
            "text/plain": [
              "<Figure size 432x288 with 1 Axes>"
            ]
          },
          "metadata": {
            "tags": []
          }
        }
      ]
    },
    {
      "cell_type": "code",
      "metadata": {
        "id": "BBC3JObYMr9X",
        "colab_type": "code",
        "colab": {}
      },
      "source": [
        "\n",
        "\n"
      ],
      "execution_count": 0,
      "outputs": []
    }
  ]
}