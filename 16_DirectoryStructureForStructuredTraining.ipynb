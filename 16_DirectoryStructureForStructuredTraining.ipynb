{
  "nbformat": 4,
  "nbformat_minor": 0,
  "metadata": {
    "colab": {
      "name": "16 PandaVGG Implementation.ipynb",
      "provenance": [],
      "collapsed_sections": [],
      "authorship_tag": "ABX9TyP4IOPbOeP8GamSZn7w7A7I",
      "include_colab_link": true
    },
    "kernelspec": {
      "name": "python3",
      "display_name": "Python 3"
    }
  },
  "cells": [
    {
      "cell_type": "markdown",
      "metadata": {
        "id": "view-in-github",
        "colab_type": "text"
      },
      "source": [
        "<a href=\"https://colab.research.google.com/github/a-forty-two/DataSetsForML/blob/master/16_DirectoryStructureForStructuredTraining.ipynb\" target=\"_parent\"><img src=\"https://colab.research.google.com/assets/colab-badge.svg\" alt=\"Open In Colab\"/></a>"
      ]
    },
    {
      "cell_type": "code",
      "metadata": {
        "id": "1891QBk3PJJE",
        "colab_type": "code",
        "colab": {
          "base_uri": "https://localhost:8080/",
          "height": 1000
        },
        "outputId": "dc54711d-ec19-41b0-d33e-b91bba210585"
      },
      "source": [
        "# Our very own version of VGG implementation\n",
        "# First let's check out how VGG looks like \n",
        "from keras.applications.vgg19 import VGG19\n",
        "import numpy as np\n",
        "\n",
        "model = VGG19()\n",
        "model.summary()"
      ],
      "execution_count": 4,
      "outputs": [
        {
          "output_type": "stream",
          "text": [
            "Downloading data from https://github.com/fchollet/deep-learning-models/releases/download/v0.1/vgg19_weights_tf_dim_ordering_tf_kernels.h5\n",
            "574717952/574710816 [==============================] - 6s 0us/step\n",
            "Model: \"vgg19\"\n",
            "_________________________________________________________________\n",
            "Layer (type)                 Output Shape              Param #   \n",
            "=================================================================\n",
            "input_3 (InputLayer)         (None, 224, 224, 3)       0         \n",
            "_________________________________________________________________\n",
            "block1_conv1 (Conv2D)        (None, 224, 224, 64)      1792      \n",
            "_________________________________________________________________\n",
            "block1_conv2 (Conv2D)        (None, 224, 224, 64)      36928     \n",
            "_________________________________________________________________\n",
            "block1_pool (MaxPooling2D)   (None, 112, 112, 64)      0         \n",
            "_________________________________________________________________\n",
            "block2_conv1 (Conv2D)        (None, 112, 112, 128)     73856     \n",
            "_________________________________________________________________\n",
            "block2_conv2 (Conv2D)        (None, 112, 112, 128)     147584    \n",
            "_________________________________________________________________\n",
            "block2_pool (MaxPooling2D)   (None, 56, 56, 128)       0         \n",
            "_________________________________________________________________\n",
            "block3_conv1 (Conv2D)        (None, 56, 56, 256)       295168    \n",
            "_________________________________________________________________\n",
            "block3_conv2 (Conv2D)        (None, 56, 56, 256)       590080    \n",
            "_________________________________________________________________\n",
            "block3_conv3 (Conv2D)        (None, 56, 56, 256)       590080    \n",
            "_________________________________________________________________\n",
            "block3_conv4 (Conv2D)        (None, 56, 56, 256)       590080    \n",
            "_________________________________________________________________\n",
            "block3_pool (MaxPooling2D)   (None, 28, 28, 256)       0         \n",
            "_________________________________________________________________\n",
            "block4_conv1 (Conv2D)        (None, 28, 28, 512)       1180160   \n",
            "_________________________________________________________________\n",
            "block4_conv2 (Conv2D)        (None, 28, 28, 512)       2359808   \n",
            "_________________________________________________________________\n",
            "block4_conv3 (Conv2D)        (None, 28, 28, 512)       2359808   \n",
            "_________________________________________________________________\n",
            "block4_conv4 (Conv2D)        (None, 28, 28, 512)       2359808   \n",
            "_________________________________________________________________\n",
            "block4_pool (MaxPooling2D)   (None, 14, 14, 512)       0         \n",
            "_________________________________________________________________\n",
            "block5_conv1 (Conv2D)        (None, 14, 14, 512)       2359808   \n",
            "_________________________________________________________________\n",
            "block5_conv2 (Conv2D)        (None, 14, 14, 512)       2359808   \n",
            "_________________________________________________________________\n",
            "block5_conv3 (Conv2D)        (None, 14, 14, 512)       2359808   \n",
            "_________________________________________________________________\n",
            "block5_conv4 (Conv2D)        (None, 14, 14, 512)       2359808   \n",
            "_________________________________________________________________\n",
            "block5_pool (MaxPooling2D)   (None, 7, 7, 512)         0         \n",
            "_________________________________________________________________\n",
            "flatten (Flatten)            (None, 25088)             0         \n",
            "_________________________________________________________________\n",
            "fc1 (Dense)                  (None, 4096)              102764544 \n",
            "_________________________________________________________________\n",
            "fc2 (Dense)                  (None, 4096)              16781312  \n",
            "_________________________________________________________________\n",
            "predictions (Dense)          (None, 1000)              4097000   \n",
            "=================================================================\n",
            "Total params: 143,667,240\n",
            "Trainable params: 143,667,240\n",
            "Non-trainable params: 0\n",
            "_________________________________________________________________\n"
          ],
          "name": "stdout"
        }
      ]
    },
    {
      "cell_type": "code",
      "metadata": {
        "id": "J67VcEIPRE8p",
        "colab_type": "code",
        "colab": {}
      },
      "source": [
        "# Directory structure to follow for production training of model\n",
        "# Objective: Lowest latency : Training is usually done in clusters -> data is distributed as well-> so keeping their names\n",
        "# highly organized becomes very important to quickly reference them \n",
        "# Solution: keep data highly structured \n",
        "# Objective: Ease of bug detection\n",
        "# Solution: follow hierarchy \n",
        "# Objective: Highly mobile code\n",
        "# Solution: mention dependencies \n"
      ],
      "execution_count": 0,
      "outputs": []
    },
    {
      "cell_type": "code",
      "metadata": {
        "id": "ryY57boeUyi3",
        "colab_type": "code",
        "colab": {
          "base_uri": "https://localhost:8080/",
          "height": 34
        },
        "outputId": "0746a00e-fc51-4c31-fdb4-50cf178d4690"
      },
      "source": [
        "!ls"
      ],
      "execution_count": 5,
      "outputs": [
        {
          "output_type": "stream",
          "text": [
            "'16 cogni Directory for portable model training.PNG'   sample_data\n"
          ],
          "name": "stdout"
        }
      ]
    },
    {
      "cell_type": "code",
      "metadata": {
        "id": "CTb5iodjU0Rw",
        "colab_type": "code",
        "colab": {
          "base_uri": "https://localhost:8080/",
          "height": 286
        },
        "outputId": "5fd5fa05-78d2-4372-ec77-b9cbc9d34114"
      },
      "source": [
        "import cv2\n",
        "x = cv2.imread('16 cogni Directory for portable model training.PNG')\n",
        "import matplotlib.pyplot as plt\n",
        "plt.imshow(x)"
      ],
      "execution_count": 7,
      "outputs": [
        {
          "output_type": "execute_result",
          "data": {
            "text/plain": [
              "<matplotlib.image.AxesImage at 0x7fcb86faf0b8>"
            ]
          },
          "metadata": {
            "tags": []
          },
          "execution_count": 7
        },
        {
          "output_type": "display_data",
          "data": {
            "image/png": "[encoded data removed]",
            "text/plain": [
              "<Figure size 432x288 with 1 Axes>"
            ]
          },
          "metadata": {
            "tags": []
          }
        }
      ]
    },
    {
      "cell_type": "markdown",
      "metadata": {
        "id": "XwQgd01CVAZd",
        "colab_type": "text"
      },
      "source": [
        "#Directory Structure (Diagram above)\n",
        "\n",
        "Config.py/ install.py : all installations, properties, constants, global variables, required for libraries used in program\n",
        "\n",
        "example: !pip install tensorflow keras\n",
        "\n",
        "example: import numpy as np\n",
        "\n",
        "example: PI=3.1\n",
        "\n",
        "example: system.globalvars.PATH = system.globalvars.PATH + 'some new dependency path' <example only>\n",
        "\n",
        "train.py : actual program that uses 'MODEL class' and generates a 'MODEL object' as a result of training \n",
        "\n",
        "test.py : actual program that Scores the model after training\n",
        "\n",
        "eval.py : Evaluates the model post training\n",
        "\n",
        "data folder-> all our raw data (CSV, images, audio, text, URLs for HTTP written in excel or text files everything!)\n",
        "\n",
        "This should be highly structured and hierarchial (more folders and more division, the better- more columns the better)\n",
        "\n",
        "bin folder -> output of your activities- all your plots, the model.h5 or model.pickle, any other artifacts of training, cleaned data \n",
        "\n",
        "if cleaned data is too much -> created different folders inside data-> dirty and clean \n",
        "\n",
        "First keep data by default in dirty-> after transformations/manual cleaning/magic no. removal/outlier removal/ image augmentation/ encoding etc etc.. move to CLEAN data \n",
        "\n",
        "\n",
        "CLEAN DATA should contain data that can be used for ML/DL as it is. \n",
        "\n",
        "Test Data should contain CLEAN data for model testing \n",
        "\n",
        "Val Data -> validation data (if any)\n",
        "\n",
        "\n",
        "\n"
      ]
    },
    {
      "cell_type": "code",
      "metadata": {
        "id": "t0_HjiWUU96K",
        "colab_type": "code",
        "colab": {}
      },
      "source": [
        ""
      ],
      "execution_count": 0,
      "outputs": []
    }
  ]
}