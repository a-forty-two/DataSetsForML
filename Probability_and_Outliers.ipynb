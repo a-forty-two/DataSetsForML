{
  "nbformat": 4,
  "nbformat_minor": 0,
  "metadata": {
    "colab": {
      "name": "Probability and Outliers.ipynb",
      "provenance": [],
      "collapsed_sections": [],
      "authorship_tag": "ABX9TyONSTN6u61WxVNpJ8ddtZHl",
      "include_colab_link": true
    },
    "kernelspec": {
      "name": "python3",
      "display_name": "Python 3"
    }
  },
  "cells": [
    {
      "cell_type": "markdown",
      "metadata": {
        "id": "view-in-github",
        "colab_type": "text"
      },
      "source": [
        "<a href=\"https://colab.research.google.com/github/a-forty-two/DataSetsForML/blob/master/Probability_and_Outliers.ipynb\" target=\"_parent\"><img src=\"https://colab.research.google.com/assets/colab-badge.svg\" alt=\"Open In Colab\"/></a>"
      ]
    },
    {
      "cell_type": "markdown",
      "metadata": {
        "id": "6ET1XGgJ2dKn",
        "colab_type": "text"
      },
      "source": [
        "A tossed coin has 2 outputs -> head or tail\n",
        "So on a single toss, probability of head = no. of heads/total outcomes. \n",
        "p(head) = 1/2\n",
        "p(tail) = 1/2\n",
        "p(tossed_coin) = p(head) + p(tail) = 1\n",
        "\n",
        "A card deck has 52 cards. \n",
        "So\n",
        "p(heart_ace) = 1/52. \n",
        "p(a_card_drawn) = p(heart_king) + p(diamond_jacK).... = 1\n"
      ]
    },
    {
      "cell_type": "code",
      "metadata": {
        "id": "pTA-TwJY3DZU",
        "colab_type": "code",
        "colab": {
          "base_uri": "https://localhost:8080/",
          "height": 134
        },
        "outputId": "11de7b29-5ca6-44a4-dff7-f624612fdb18"
      },
      "source": [
        "# GUESS \n",
        "# There are 20 people in the room\n",
        "# 16-> blue\n",
        "# 3 -> red\n",
        "# 1 -> white\n",
        "# A new person walks in. ?\n",
        "# 16/20 = 4/5\n",
        "import random\n",
        "\n",
        "def tossTheCoin():\n",
        "  heads = 0\n",
        "  if random.random() > 0.5:\n",
        "    heads = 1\n",
        "  return heads\n",
        "\n",
        "def simulate(n): # n is no. of times to simulate, return the probability of heads \n",
        "  tosses = []\n",
        "  for toss in range(n):\n",
        "    result = tossTheCoin()\n",
        "    tosses.append(result)\n",
        "  return(sum(tosses)/n)\n",
        "\n",
        "\n",
        "\n",
        "# 20 20.1 20.2 20.3 20.4 20.5 20.6... 21.... 21.1 .. 21.2... 21.3\n",
        "#  2 4 6 8 10?]\n",
        "\n",
        "\n",
        "\n",
        "print(simulate(10))\n",
        "print(simulate(75))\n",
        "print(simulate(100))\n",
        "print(simulate(125))\n",
        "print(simulate(1000))\n",
        "print(simulate(10000))\n",
        "print(simulate(1000000))"
      ],
      "execution_count": 2,
      "outputs": [
        {
          "output_type": "stream",
          "text": [
            "0.4\n",
            "0.48\n",
            "0.54\n",
            "0.464\n",
            "0.499\n",
            "0.4941\n",
            "0.500019\n"
          ],
          "name": "stdout"
        }
      ]
    },
    {
      "cell_type": "code",
      "metadata": {
        "id": "L2gfgEl56fwt",
        "colab_type": "code",
        "colab": {}
      },
      "source": [
        ""
      ],
      "execution_count": 0,
      "outputs": []
    },
    {
      "cell_type": "markdown",
      "metadata": {
        "id": "ExBCnwj0Ii6g",
        "colab_type": "text"
      },
      "source": [
        "Let's get started with outlier detection. Our formula is Z-Score for outliers. If Z score is greater than 3 ( or less than -3), we assume such values to be outliers. \n",
        "Formula:   (x-mean)/std or (x-mu)/sigma"
      ]
    },
    {
      "cell_type": "code",
      "metadata": {
        "id": "_8_fKTXlIyXd",
        "colab_type": "code",
        "colab": {
          "base_uri": "https://localhost:8080/",
          "height": 34
        },
        "outputId": "71de6e94-0b64-47fa-db42-284186fb8886"
      },
      "source": [
        "!ls"
      ],
      "execution_count": 3,
      "outputs": [
        {
          "output_type": "stream",
          "text": [
            "data.csv  sample_data\n"
          ],
          "name": "stdout"
        }
      ]
    },
    {
      "cell_type": "code",
      "metadata": {
        "id": "yx9CnUTJJOYy",
        "colab_type": "code",
        "colab": {}
      },
      "source": [
        "import pandas as pd\n",
        "data = pd.read_csv('data.csv', header=0) # read fns in pandas return a ready-to-use DataFrame!\n",
        "data.head()\n",
        "myCols = [2,3,4,5,6,7,8,9,10]\n",
        "df = data.iloc[:,myCols]"
      ],
      "execution_count": 0,
      "outputs": []
    },
    {
      "cell_type": "code",
      "metadata": {
        "id": "ry9HfRGeJkRl",
        "colab_type": "code",
        "colab": {}
      },
      "source": [
        "stats = df.describe().T\n",
        "mu = stats['mean']\n",
        "sigma = stats['std']"
      ],
      "execution_count": 0,
      "outputs": []
    },
    {
      "cell_type": "code",
      "metadata": {
        "id": "VKUBuvQdJ5ob",
        "colab_type": "code",
        "colab": {
          "base_uri": "https://localhost:8080/",
          "height": 202
        },
        "outputId": "66c03af2-58f5-4ffd-987b-52280100d4ec"
      },
      "source": [
        "# zscore = x-mu/sigma\n",
        "data_postZScore = (df-mu)/sigma # POWER OF NUMPY-> ELEMENT WISE SUBTRACTION and DIVISION between DataFrames\n",
        "data_postZScore.head()\n",
        "outliers_pos = data_postZScore[data_postZScore.smoothness_mean > 3]\n",
        "outliers_neg = data_postZScore[data_postZScore.smoothness_mean< -3]\n",
        "outliers_pos.head()\n",
        "#data_postZScore['new_col'] = 42\n",
        "#data_postZScore.head()"
      ],
      "execution_count": 22,
      "outputs": [
        {
          "output_type": "execute_result",
          "data": {
            "text/html": [
              "<div>\n",
              "<style scoped>\n",
              "    .dataframe tbody tr th:only-of-type {\n",
              "        vertical-align: middle;\n",
              "    }\n",
              "\n",
              "    .dataframe tbody tr th {\n",
              "        vertical-align: top;\n",
              "    }\n",
              "\n",
              "    .dataframe thead th {\n",
              "        text-align: right;\n",
              "    }\n",
              "</style>\n",
              "<table border=\"1\" class=\"dataframe\">\n",
              "  <thead>\n",
              "    <tr style=\"text-align: right;\">\n",
              "      <th></th>\n",
              "      <th>radius_mean</th>\n",
              "      <th>texture_mean</th>\n",
              "      <th>perimeter_mean</th>\n",
              "      <th>area_mean</th>\n",
              "      <th>smoothness_mean</th>\n",
              "      <th>compactness_mean</th>\n",
              "      <th>concavity_mean</th>\n",
              "      <th>concave points_mean</th>\n",
              "      <th>symmetry_mean</th>\n",
              "    </tr>\n",
              "  </thead>\n",
              "  <tbody>\n",
              "    <tr>\n",
              "      <th>3</th>\n",
              "      <td>-0.768233</td>\n",
              "      <td>0.253509</td>\n",
              "      <td>-0.592166</td>\n",
              "      <td>-0.763792</td>\n",
              "      <td>3.280667</td>\n",
              "      <td>3.399917</td>\n",
              "      <td>1.914213</td>\n",
              "      <td>1.450431</td>\n",
              "      <td>2.864862</td>\n",
              "    </tr>\n",
              "    <tr>\n",
              "      <th>105</th>\n",
              "      <td>-0.288671</td>\n",
              "      <td>-0.867151</td>\n",
              "      <td>-0.195853</td>\n",
              "      <td>-0.354317</td>\n",
              "      <td>3.088689</td>\n",
              "      <td>1.366318</td>\n",
              "      <td>1.483956</td>\n",
              "      <td>1.213593</td>\n",
              "      <td>0.413585</td>\n",
              "    </tr>\n",
              "    <tr>\n",
              "      <th>122</th>\n",
              "      <td>2.872465</td>\n",
              "      <td>0.211659</td>\n",
              "      <td>3.054900</td>\n",
              "      <td>3.143127</td>\n",
              "      <td>3.437093</td>\n",
              "      <td>3.452935</td>\n",
              "      <td>4.239858</td>\n",
              "      <td>3.924477</td>\n",
              "      <td>3.076431</td>\n",
              "    </tr>\n",
              "    <tr>\n",
              "      <th>504</th>\n",
              "      <td>-1.378895</td>\n",
              "      <td>-1.492582</td>\n",
              "      <td>-1.254334</td>\n",
              "      <td>-1.154228</td>\n",
              "      <td>4.766717</td>\n",
              "      <td>2.263828</td>\n",
              "      <td>0.106632</td>\n",
              "      <td>0.092799</td>\n",
              "      <td>2.066008</td>\n",
              "    </tr>\n",
              "  </tbody>\n",
              "</table>\n",
              "</div>"
            ],
            "text/plain": [
              "     radius_mean  texture_mean  ...  concave points_mean  symmetry_mean\n",
              "3      -0.768233      0.253509  ...             1.450431       2.864862\n",
              "105    -0.288671     -0.867151  ...             1.213593       0.413585\n",
              "122     2.872465      0.211659  ...             3.924477       3.076431\n",
              "504    -1.378895     -1.492582  ...             0.092799       2.066008\n",
              "\n",
              "[4 rows x 9 columns]"
            ]
          },
          "metadata": {
            "tags": []
          },
          "execution_count": 22
        }
      ]
    },
    {
      "cell_type": "code",
      "metadata": {
        "id": "m0euyUwuKfsh",
        "colab_type": "code",
        "colab": {}
      },
      "source": [
        ""
      ],
      "execution_count": 0,
      "outputs": []
    }
  ]
}