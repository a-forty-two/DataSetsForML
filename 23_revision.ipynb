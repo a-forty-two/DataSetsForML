{
  "nbformat": 4,
  "nbformat_minor": 0,
  "metadata": {
    "colab": {
      "name": "23 revision.ipynb",
      "provenance": [],
      "collapsed_sections": [],
      "authorship_tag": "ABX9TyNcIhsV3llWk/V2CNwMPB+T",
      "include_colab_link": true
    },
    "kernelspec": {
      "name": "python3",
      "display_name": "Python 3"
    }
  },
  "cells": [
    {
      "cell_type": "markdown",
      "metadata": {
        "id": "view-in-github",
        "colab_type": "text"
      },
      "source": [
        "<a href=\"https://colab.research.google.com/github/a-forty-two/DataSetsForML/blob/master/23_revision.ipynb\" target=\"_parent\"><img src=\"https://colab.research.google.com/assets/colab-badge.svg\" alt=\"Open In Colab\"/></a>"
      ]
    },
    {
      "cell_type": "code",
      "metadata": {
        "id": "Z8XDlphGfB1K",
        "colab_type": "code",
        "colab": {}
      },
      "source": [
        "# SAGEMAKER -> import data from S3 \n",
        "import boto3\n",
        "import pandas as pd\n",
        "from sagemaker import get_execution_role\n",
        "\n",
        "role = get_execution_role()\n",
        "bucket='my-bucket'\n",
        "data_key = 'train.csv'\n",
        "data_location = 's3://{}/{}'.format(bucket, data_key)\n",
        "\n",
        "pd.read_csv(data_location)\n",
        "\n",
        "# Autocorrelation <- corrleation with oneself <- a variable correlated with itself is always 1!\n",
        "# Autocorrelation steps the data on time axis! as a result you have latency between data \n",
        "# and itself. Then autocorrelation can be used to measure deviations from original data. \n",
        " "
      ],
      "execution_count": 0,
      "outputs": []
    },
    {
      "cell_type": "code",
      "metadata": {
        "id": "bCnY_nkKfMns",
        "colab_type": "code",
        "colab": {}
      },
      "source": [
        "# Spark -> MLLib\n",
        "https://towardsdatascience.com/building-a-linear-regression-with-pyspark-and-mllib-d065c3ba246a\n",
        "\n",
        "# Markov Chains -> sequential event probabilities "
      ],
      "execution_count": 0,
      "outputs": []
    },
    {
      "cell_type": "markdown",
      "metadata": {
        "id": "nfnx8gaHnsBv",
        "colab_type": "text"
      },
      "source": [
        "Computer Science Fundamentals - a quick review \n",
        "\n",
        "\n",
        "Computing is a branch under ELECTRICAL ENGINEERING. All concepts, formulae and derivation are fundamentally in EE. \n",
        "\n",
        "ON and OFF -> Light Bulb \n",
        "1      0\n",
        "\n",
        "ELECTRICAL SIGNALS COULD BE READ/WRITE at high speeds\n",
        "\n",
        "This lead to simple electrical circuits called GATES \n",
        "\n",
        "GATE: AND, OR, XOR, NOT \n",
        "\n",
        "https://whatis.techtarget.com/definition/logic-gate-AND-OR-XOR-NOT-NAND-NOR-and-XNOR\n",
        "\n",
        "\n",
        "Gates combinations became more and more complex, around same time, semiconductors were discovered \n",
        "\n",
        "Silicon -> high conductivity along with being able to change its conductivity state, allowed more state representations with help of SIMPLE gates becoming more and more complex. \n",
        "\n",
        "Gates -> from simple electrical circuits, they became SEMICONDUCTOR based circuits \n",
        "\n",
        "Adder/Counter, Register new types of gates!\n",
        "\n",
        "CPU = Control Unit (Gates) + Memory Unit (more gates) + Arithmetic-Logic Unit (even more gates)\n",
        "\n",
        "\n"
      ]
    },
    {
      "cell_type": "markdown",
      "metadata": {
        "id": "VSQSn0dpptf6",
        "colab_type": "text"
      },
      "source": [
        "The game changers: INTEL, nVidia, AMD, Qualcomm \n",
        "\n",
        "x86, x64 etc- different architectures of hardware- primarily registers (storage and computation gates), RAM (computation gates), ROM (read only gates)..\n",
        "\n"
      ]
    },
    {
      "cell_type": "markdown",
      "metadata": {
        "id": "pa5iTIvCqa_E",
        "colab_type": "text"
      },
      "source": [
        "A Microprocessor (pronounced mu-P mu is 1e-6) consists of a lot of PINS to collect input and provide output from/to other electrical devices. \n",
        "\n",
        "Any external device which has a wire output or input, can be connected to one of the PINS. these pings are called GPIO -> general purpose Input Output pins. \n",
        "\n",
        "They contain storage and calculation units called Registers. There are 6 types of registers:\n",
        "\n",
        "1) Accumulator -> CALCULATE + operation (sub-> addition in negative direction,multiplication is also addition! div is also addition (sub again and again) -> with help of just 1 operation, Accumulator can calculate ANYTHING. Operations happen ONE at a TIME. \n",
        "\n",
        "2) Basic register -> usually for temporary storage \n",
        "\n",
        "3) Counter register -> keeps a count of things, used for LOOPs, recursion, keeping counts \n",
        "\n",
        "4) DX register -> mainly for printint and user input \n",
        "\n",
        "5 and 6) SI and DI -> Stack Index and Data Index (POINTERS)\n",
        "\n",
        "\n",
        "REGISTERS are hardware. Than means, once built cannot be changed!!! \n",
        "\n",
        "They should be hold all kinds of data that exists in a computer. \n",
        "\n",
        "This is a problem! sizeof(int) != sizeof(double) \n",
        "\n",
        "\"Hello world\" is not of same size as 42. \n",
        "\n",
        "How do i create a storage unit that would have been able to store both types of data??\n",
        "\n",
        "Solution-> Don't store data in register. Store ONLY the address of data in register. BEcause doesn't matter  what type of data is, ADDRESS IS ALWAYS OF THE SAME SIZE!!\n",
        "\n",
        "house no, block no., road no., ZIP... cou <- your address structure-> EVERYBODY COULD FIT UNIFORMLY. \n",
        "\n",
        "THIS IS CALLED A POINTER. Pointer stores the address of starting of data. While rest of the data is actually store somewhere else where space is available in bulk (DISK!) \n",
        "\n"
      ]
    }
  ]
}