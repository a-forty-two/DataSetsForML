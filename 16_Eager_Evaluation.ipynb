{
  "nbformat": 4,
  "nbformat_minor": 0,
  "metadata": {
    "colab": {
      "name": "16 Eager Evaluation.ipynb",
      "provenance": [],
      "collapsed_sections": [],
      "authorship_tag": "ABX9TyOgCR3PIgf0zZTHNrDZ/JRk",
      "include_colab_link": true
    },
    "kernelspec": {
      "name": "python3",
      "display_name": "Python 3"
    }
  },
  "cells": [
    {
      "cell_type": "markdown",
      "metadata": {
        "id": "view-in-github",
        "colab_type": "text"
      },
      "source": [
        "<a href=\"https://colab.research.google.com/github/a-forty-two/DataSetsForML/blob/master/16_Eager_Evaluation.ipynb\" target=\"_parent\"><img src=\"https://colab.research.google.com/assets/colab-badge.svg\" alt=\"Open In Colab\"/></a>"
      ]
    },
    {
      "cell_type": "code",
      "metadata": {
        "id": "5HZ6HdAbpt6p",
        "colab_type": "code",
        "colab": {
          "base_uri": "https://localhost:8080/",
          "height": 34
        },
        "outputId": "35d82709-7a8e-408e-964f-1088ba70150f"
      },
      "source": [
        "# Tensorflow code execution is via tf SESSIONS which execute Directed Acyclic Graphs in the backend\n",
        "# Pytorch on the other hand, provided a rapid execution with statically forming a DAG\n",
        "# instead, it took a DYNAMIC COMPUTATION GRAPH approach where each layer or activation function was \n",
        "# just an actual FUNCTION CALL! just like numpy, most elements were treated like matrices \n",
        "# and layers could be formed by simple matmul and add\n",
        "\n",
        "# TF hence provides an easier method to prototype- this prototyping assumes that developer wants QUICK and DIRTY results\n",
        "# instead of creating a proper DAG, it just does simple numerical calculations that help with QUICK PROTOTYPING \n",
        "\n",
        "# DAG execution (native to TF, graph is formed)\n",
        "import tensorflow as tf\n",
        "import numpy as np\n",
        "x = tf.constant(np.array([[[1],[2]]]))\n",
        "x\n",
        "# output is the node on the GRAPH-> tf.Tensor 'Const:0' shape=(2,1) dtype=...\n",
        "# Const:0 -> STATIC CONSTANT VALUE-> once created, this node cannot be edited!!!"
      ],
      "execution_count": 2,
      "outputs": [
        {
          "output_type": "execute_result",
          "data": {
            "text/plain": [
              "<tf.Tensor 'Const:0' shape=(2, 1) dtype=int64>"
            ]
          },
          "metadata": {
            "tags": []
          },
          "execution_count": 2
        }
      ]
    },
    {
      "cell_type": "code",
      "metadata": {
        "id": "qgesu4bPrXCg",
        "colab_type": "code",
        "colab": {
          "base_uri": "https://localhost:8080/",
          "height": 113
        },
        "outputId": "09aae2a0-ef75-4424-9c50-7a7c7a7b6ecd"
      },
      "source": [
        "# eager execution (no graph formed)\n",
        "# the above and this block CANNOT run together! so in order to run this block, restart the RUNTIME\n",
        "import tensorflow as tf\n",
        "# enable eager execution\n",
        "tf.enable_eager_execution()\n",
        "import numpy as np\n",
        "x = tf.constant(np.array([[1],[2]]))\n",
        "x\n",
        "#running this block without restarting runtime will not be successful because- EITHER you create a Graph or you don't\n",
        "# you can't have both!!! \n",
        "# output: Actual value displayed because its no longer waiting for a graph to be created and executed in a tf.session\n",
        "# id : this is no longer static-> id is w.r.t. the local environment, and hence just a dynamic field (pointer)\n",
        "# id is not static! within an execution, id remains constant. but next execution, given the sequence\n",
        "# or shuffling, it may change"
      ],
      "execution_count": 1,
      "outputs": [
        {
          "output_type": "display_data",
          "data": {
            "text/html": [
              "<p style=\"color: red;\">\n",
              "The default version of TensorFlow in Colab will soon switch to TensorFlow 2.x.<br>\n",
              "We recommend you <a href=\"https://www.tensorflow.org/guide/migrate\" target=\"_blank\">upgrade</a> now \n",
              "or ensure your notebook will continue to use TensorFlow 1.x via the <code>%tensorflow_version 1.x</code> magic:\n",
              "<a href=\"https://colab.research.google.com/notebooks/tensorflow_version.ipynb\" target=\"_blank\">more info</a>.</p>\n"
            ],
            "text/plain": [
              "<IPython.core.display.HTML object>"
            ]
          },
          "metadata": {
            "tags": []
          }
        },
        {
          "output_type": "execute_result",
          "data": {
            "text/plain": [
              "<tf.Tensor: id=0, shape=(2, 1), dtype=int64, numpy=\n",
              "array([[1],\n",
              "       [2]])>"
            ]
          },
          "metadata": {
            "tags": []
          },
          "execution_count": 1
        }
      ]
    },
    {
      "cell_type": "code",
      "metadata": {
        "id": "izL_01givUVE",
        "colab_type": "code",
        "colab": {
          "base_uri": "https://localhost:8080/",
          "height": 113
        },
        "outputId": "d682e758-0841-4438-b2cc-89bebcfe52a9"
      },
      "source": [
        "import tensorflow as tf\n",
        "# enable eager execution\n",
        "tf.enable_eager_execution()\n",
        "import numpy as np\n",
        "x = tf.constant(np.array([[[1.],[2.]],[[3.],[4.]]]))\n",
        "x[0] \n",
        "# 3 -> 4\n",
        "# 2 -> 2\n",
        "# 1 -> 0, float-> 2 blocks, 1 block before decimal, 1 after"
      ],
      "execution_count": 2,
      "outputs": [
        {
          "output_type": "display_data",
          "data": {
            "text/html": [
              "<p style=\"color: red;\">\n",
              "The default version of TensorFlow in Colab will soon switch to TensorFlow 2.x.<br>\n",
              "We recommend you <a href=\"https://www.tensorflow.org/guide/migrate\" target=\"_blank\">upgrade</a> now \n",
              "or ensure your notebook will continue to use TensorFlow 1.x via the <code>%tensorflow_version 1.x</code> magic:\n",
              "<a href=\"https://colab.research.google.com/notebooks/tensorflow_version.ipynb\" target=\"_blank\">more info</a>.</p>\n"
            ],
            "text/plain": [
              "<IPython.core.display.HTML object>"
            ]
          },
          "metadata": {
            "tags": []
          }
        },
        {
          "output_type": "execute_result",
          "data": {
            "text/plain": [
              "<tf.Tensor: id=4, shape=(2, 1), dtype=float64, numpy=\n",
              "array([[1.],\n",
              "       [2.]])>"
            ]
          },
          "metadata": {
            "tags": []
          },
          "execution_count": 2
        }
      ]
    },
    {
      "cell_type": "code",
      "metadata": {
        "id": "zu_dgaQqvvAj",
        "colab_type": "code",
        "colab": {
          "base_uri": "https://localhost:8080/",
          "height": 67
        },
        "outputId": "2eb1b1e0-ca6b-4025-ed87-8509fd3869f3"
      },
      "source": [
        "# a lot more nodes were created in between hence id jumped so quickly\n",
        "# in eager mode\n",
        "(x[0])\n",
        "(x[1])\n",
        "# DYNAMIC MODE: OBSERVE that previously x[0] and x[1] had ids like 10, 11, 22. Now they have\n",
        "# id's like 30, 40 and so on\n",
        "# every diff datatype has diff memory allocation\n",
        "# memory consumed by 1 element = sizeof(element) X count(element)\n",
        "# if you had 2 KG pack of sugar, and 10 such packs, total sugar = 2 KG X 10 packs = 20 KG!\n",
        "# if i had to find an address, i can basically mention it as\n",
        "# Node_NAME Node_ID STARTING_ADDRESS       SIZE  # Address is usually hexadecimel, we are considering Decimel just for example\n",
        "#  X               1         100           int32-> 32 bits-> 1 block   # from block 100 to 149 -> 50 blocks are for abc.txt\n",
        "#  Y               2         101           int64-> 2 blocks    # from 150 to 169 -> 20 blocks for bc.txt \n",
        "#  Z               4         103           int64-> 2 blocks\n",
        "# next_var         6         105           int32-> 1 block\n",
        "# [a,b]            7         106           [int32,int32] -> int32 X 2 -> 1 block X 2 = 2 blocks\n",
        "# nexter_var       9         108 \n",
        "# .....\n",
        "# instead of variables, consider Nodes\n",
        "# NOT REUSING ANY STATIC GRAPH, it is just creating variables dynamically one after the other\n",
        "# hence id will keep on increasing "
      ],
      "execution_count": 6,
      "outputs": [
        {
          "output_type": "execute_result",
          "data": {
            "text/plain": [
              "<tf.Tensor: id=28, shape=(2, 1), dtype=float64, numpy=\n",
              "array([[3.],\n",
              "       [4.]])>"
            ]
          },
          "metadata": {
            "tags": []
          },
          "execution_count": 6
        }
      ]
    },
    {
      "cell_type": "code",
      "metadata": {
        "id": "Oz1hvuCMsY35",
        "colab_type": "code",
        "colab": {
          "base_uri": "https://localhost:8080/",
          "height": 79
        },
        "outputId": "2aa5355d-51cc-4902-dcc8-0a9873cb69b5"
      },
      "source": [
        "#increase dimensions\n",
        "import tensorflow as tf\n",
        "import numpy as np\n",
        "x = tf.constant(np.array([[[1],[2]],[[3],[4]]]))\n",
        "y = tf.constant(np.array([[[1],[3]],[[5],[4]]]))\n",
        "z = x + y\n",
        "z\n",
        "# if i made a mistake in calculating Z-> there is no way to find it till actually training the model and scoring it\n",
        "# thanks to dynamic (EAGER) evaluation, i will be able to see my outputs on the go, with better chances to avoid mistakes\n",
        "# GOOD FOR PROTYPING \n",
        "\n",
        "# id is generated dynamically -> proof that no static graph is being created \n",
        "# ERRORS can be detected early\n",
        "# add:0 is telling us that there is a static dictionary mantained for operation names "
      ],
      "execution_count": 1,
      "outputs": [
        {
          "output_type": "display_data",
          "data": {
            "text/html": [
              "<p style=\"color: red;\">\n",
              "The default version of TensorFlow in Colab will soon switch to TensorFlow 2.x.<br>\n",
              "We recommend you <a href=\"https://www.tensorflow.org/guide/migrate\" target=\"_blank\">upgrade</a> now \n",
              "or ensure your notebook will continue to use TensorFlow 1.x via the <code>%tensorflow_version 1.x</code> magic:\n",
              "<a href=\"https://colab.research.google.com/notebooks/tensorflow_version.ipynb\" target=\"_blank\">more info</a>.</p>\n"
            ],
            "text/plain": [
              "<IPython.core.display.HTML object>"
            ]
          },
          "metadata": {
            "tags": []
          }
        },
        {
          "output_type": "execute_result",
          "data": {
            "text/plain": [
              "<tf.Tensor 'add:0' shape=(2, 2, 1) dtype=int64>"
            ]
          },
          "metadata": {
            "tags": []
          },
          "execution_count": 1
        }
      ]
    },
    {
      "cell_type": "code",
      "metadata": {
        "id": "JNPjdauE1lLS",
        "colab_type": "code",
        "colab": {
          "base_uri": "https://localhost:8080/",
          "height": 34
        },
        "outputId": "018bd2a8-1452-4e67-80a0-4b0345c8d40b"
      },
      "source": [
        "z\n",
        "# observe that running z again did not increase the add:0 id of the node. \n",
        "# reason: this is from a STATIC graph-> node id is not going to change till you actually change the NN structure\n"
      ],
      "execution_count": 2,
      "outputs": [
        {
          "output_type": "execute_result",
          "data": {
            "text/plain": [
              "<tf.Tensor 'add:0' shape=(2, 2, 1) dtype=int64>"
            ]
          },
          "metadata": {
            "tags": []
          },
          "execution_count": 2
        }
      ]
    },
    {
      "cell_type": "code",
      "metadata": {
        "id": "coHthwxLwaE3",
        "colab_type": "code",
        "colab": {
          "base_uri": "https://localhost:8080/",
          "height": 163
        },
        "outputId": "39c635d3-4afd-4bd9-f0cc-799d08241ef3"
      },
      "source": [
        "import tensorflow as tf\n",
        "# enable eager execution\n",
        "tf.enable_eager_execution()\n",
        "import numpy as np\n",
        "x = tf.constant(np.array([[[1],[2]],[[3],[4]]])) # constants are not nodes on the graph, but inputs to the graph so declare\n",
        "# them are tf not tfe\n",
        "y = tf.constant(np.array([[[1],[3]],[[5],[4]]]))\n",
        "z = x + y\n",
        "z"
      ],
      "execution_count": 1,
      "outputs": [
        {
          "output_type": "display_data",
          "data": {
            "text/html": [
              "<p style=\"color: red;\">\n",
              "The default version of TensorFlow in Colab will soon switch to TensorFlow 2.x.<br>\n",
              "We recommend you <a href=\"https://www.tensorflow.org/guide/migrate\" target=\"_blank\">upgrade</a> now \n",
              "or ensure your notebook will continue to use TensorFlow 1.x via the <code>%tensorflow_version 1.x</code> magic:\n",
              "<a href=\"https://colab.research.google.com/notebooks/tensorflow_version.ipynb\" target=\"_blank\">more info</a>.</p>\n"
            ],
            "text/plain": [
              "<IPython.core.display.HTML object>"
            ]
          },
          "metadata": {
            "tags": []
          }
        },
        {
          "output_type": "execute_result",
          "data": {
            "text/plain": [
              "<tf.Tensor: id=2, shape=(2, 2, 1), dtype=int64, numpy=\n",
              "array([[[2],\n",
              "        [5]],\n",
              "\n",
              "       [[8],\n",
              "        [8]]])>"
            ]
          },
          "metadata": {
            "tags": []
          },
          "execution_count": 1
        }
      ]
    },
    {
      "cell_type": "code",
      "metadata": {
        "id": "By8K5lTC1-T0",
        "colab_type": "code",
        "colab": {
          "base_uri": "https://localhost:8080/",
          "height": 34
        },
        "outputId": "b7c38844-97bc-471d-efd2-04023e309df3"
      },
      "source": [
        "z = x+y\n",
        "z"
      ],
      "execution_count": 2,
      "outputs": [
        {
          "output_type": "execute_result",
          "data": {
            "text/plain": [
              "<tf.Tensor 'add_1:0' shape=(2, 2, 1) dtype=int64>"
            ]
          },
          "metadata": {
            "tags": []
          },
          "execution_count": 2
        }
      ]
    },
    {
      "cell_type": "code",
      "metadata": {
        "id": "MOk-Lffp2ZQW",
        "colab_type": "code",
        "colab": {
          "base_uri": "https://localhost:8080/",
          "height": 118
        },
        "outputId": "5cdd9964-3500-4666-ff49-31e182bb71f5"
      },
      "source": [
        "z=x+y # add operation is the node- not X and Y! hence the size is increasing only by sizeof(+ operation)!\n",
        "z"
      ],
      "execution_count": 6,
      "outputs": [
        {
          "output_type": "execute_result",
          "data": {
            "text/plain": [
              "<tf.Tensor: id=4, shape=(2, 2, 1), dtype=int64, numpy=\n",
              "array([[[2],\n",
              "        [5]],\n",
              "\n",
              "       [[8],\n",
              "        [8]]])>"
            ]
          },
          "metadata": {
            "tags": []
          },
          "execution_count": 6
        }
      ]
    },
    {
      "cell_type": "code",
      "metadata": {
        "id": "h1YA7A7J2aeY",
        "colab_type": "code",
        "colab": {
          "base_uri": "https://localhost:8080/",
          "height": 67
        },
        "outputId": "e1247d22-7d4f-426d-db64-99080ca8e0a5"
      },
      "source": [
        "x[0] # x[0] has bulk size \n",
        "# id no longer linear"
      ],
      "execution_count": 7,
      "outputs": [
        {
          "output_type": "execute_result",
          "data": {
            "text/plain": [
              "<tf.Tensor: id=8, shape=(2, 1), dtype=int64, numpy=\n",
              "array([[1],\n",
              "       [2]])>"
            ]
          },
          "metadata": {
            "tags": []
          },
          "execution_count": 7
        }
      ]
    },
    {
      "cell_type": "code",
      "metadata": {
        "id": "ELdyTG3S2zKt",
        "colab_type": "code",
        "colab": {
          "base_uri": "https://localhost:8080/",
          "height": 118
        },
        "outputId": "50a9c51a-2a78-4bc9-b045-a9a8e519f2f8"
      },
      "source": [
        "z=x+y # add operation is the node- not X and Y! hence the size is increasing only by sizeof(+ operation)!\n",
        "z"
      ],
      "execution_count": 8,
      "outputs": [
        {
          "output_type": "execute_result",
          "data": {
            "text/plain": [
              "<tf.Tensor: id=9, shape=(2, 2, 1), dtype=int64, numpy=\n",
              "array([[[2],\n",
              "        [5]],\n",
              "\n",
              "       [[8],\n",
              "        [8]]])>"
            ]
          },
          "metadata": {
            "tags": []
          },
          "execution_count": 8
        }
      ]
    },
    {
      "cell_type": "code",
      "metadata": {
        "id": "pDwJmctS22lQ",
        "colab_type": "code",
        "colab": {}
      },
      "source": [
        ""
      ],
      "execution_count": 0,
      "outputs": []
    },
    {
      "cell_type": "markdown",
      "metadata": {
        "id": "L7RVHkq_3Iou",
        "colab_type": "text"
      },
      "source": [
        "WHen to use Eager execution?\n",
        "\n",
        "1. When debugging your neural network - eager_eval is highly compatible with most python (and other few) debugging tools \n",
        "\n",
        "2. Immediate error logging \n",
        "\n",
        "3. Observing micro operations/dry-running complex structures like lambdas, recursions, loops\n",
        "\n",
        "Does this mean there will be no learning?\n",
        "\n",
        "Not really-> learning is the process of improving and making lesser mistakes\n",
        "\n",
        "For learning all you need is a gradient descend to update weights after calculation of loss\n",
        "\n",
        "Eager evaluation has inbuilt GD so that back propogration is automatically done everytime an operation executes. \n",
        "\n",
        "For a very large network, this may not be suitable, hence break down your code into small pieces of files so that you can switch between eager and lazy execution"
      ]
    },
    {
      "cell_type": "code",
      "metadata": {
        "id": "z3zi7aho54ut",
        "colab_type": "code",
        "colab": {
          "base_uri": "https://localhost:8080/",
          "height": 50
        },
        "outputId": "e2397c7d-fa35-4574-e6d3-48ca84cece37"
      },
      "source": [
        "import tensorflow as tf\n",
        "import numpy as np\n",
        "tf.enable_eager_execution()\n",
        "tfe = tf.contrib.eager\n",
        "w = tfe.Variable(tf.random_normal([1,1])) # NODES on graph are EAGER \n",
        "b = tfe.Variable(tf.random_normal([1]))\n",
        "print(w)\n",
        "print(b)\n",
        "# variables are nodes on the graph-> hence they can be executed eagerly! hence tfe can be used on variables "
      ],
      "execution_count": 4,
      "outputs": [
        {
          "output_type": "stream",
          "text": [
            "<tf.Variable 'Variable:0' shape=(1, 1) dtype=float32, numpy=array([[0.03777953]], dtype=float32)>\n",
            "<tf.Variable 'Variable:0' shape=(1,) dtype=float32, numpy=array([-0.29082152], dtype=float32)>\n"
          ],
          "name": "stdout"
        }
      ]
    },
    {
      "cell_type": "code",
      "metadata": {
        "id": "KdwkwDxx6HBN",
        "colab_type": "code",
        "colab": {
          "base_uri": "https://localhost:8080/",
          "height": 79
        },
        "outputId": "13b2e4df-c336-4c94-f17a-59f753eec41b"
      },
      "source": [
        "import tensorflow as tf\n",
        "import numpy as np\n",
        "w = tf.Variable(tf.random_normal([1,1]))\n",
        "b = tf.Variable(tf.random_normal([1]))\n",
        "w"
      ],
      "execution_count": 1,
      "outputs": [
        {
          "output_type": "display_data",
          "data": {
            "text/html": [
              "<p style=\"color: red;\">\n",
              "The default version of TensorFlow in Colab will soon switch to TensorFlow 2.x.<br>\n",
              "We recommend you <a href=\"https://www.tensorflow.org/guide/migrate\" target=\"_blank\">upgrade</a> now \n",
              "or ensure your notebook will continue to use TensorFlow 1.x via the <code>%tensorflow_version 1.x</code> magic:\n",
              "<a href=\"https://colab.research.google.com/notebooks/tensorflow_version.ipynb\" target=\"_blank\">more info</a>.</p>\n"
            ],
            "text/plain": [
              "<IPython.core.display.HTML object>"
            ]
          },
          "metadata": {
            "tags": []
          }
        },
        {
          "output_type": "execute_result",
          "data": {
            "text/plain": [
              "<tf.Variable 'Variable:0' shape=(1, 1) dtype=float32_ref>"
            ]
          },
          "metadata": {
            "tags": []
          },
          "execution_count": 1
        }
      ]
    },
    {
      "cell_type": "code",
      "metadata": {
        "id": "zJwf2fcS6hnr",
        "colab_type": "code",
        "colab": {
          "base_uri": "https://localhost:8080/",
          "height": 34
        },
        "outputId": "d242c655-a10d-4afc-a0bb-b7310380af3a"
      },
      "source": [
        "b"
      ],
      "execution_count": 2,
      "outputs": [
        {
          "output_type": "execute_result",
          "data": {
            "text/plain": [
              "<tf.Variable 'Variable_1:0' shape=(1,) dtype=float32_ref>"
            ]
          },
          "metadata": {
            "tags": []
          },
          "execution_count": 2
        }
      ]
    },
    {
      "cell_type": "code",
      "metadata": {
        "id": "rrWpOnAN7biJ",
        "colab_type": "code",
        "colab": {}
      },
      "source": [
        "# let's reassemble at 2:50"
      ],
      "execution_count": 0,
      "outputs": []
    }
  ]
}