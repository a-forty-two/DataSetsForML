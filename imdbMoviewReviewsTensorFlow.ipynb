{
  "nbformat": 4,
  "nbformat_minor": 0,
  "metadata": {
    "colab": {
      "name": "Untitled9.ipynb",
      "provenance": [],
      "authorship_tag": "ABX9TyOOT4nlT6EUPiAVwX0PNQ+A"
    },
    "kernelspec": {
      "name": "python3",
      "display_name": "Python 3"
    }
  },
  "cells": [
    {
      "cell_type": "code",
      "metadata": {
        "id": "0bffsfAy4p5X",
        "colab_type": "code",
        "colab": {
          "base_uri": "https://localhost:8080/",
          "height": 34
        },
        "outputId": "69073b3d-0ad6-4d0f-cd41-8f816e52dc52"
      },
      "source": [
        "import tensorflow as tf\n",
        "print(tf.__version__) # its underscore underscore (TWICE)"
      ],
      "execution_count": 24,
      "outputs": [
        {
          "output_type": "stream",
          "text": [
            "1.15.0\n"
          ],
          "name": "stdout"
        }
      ]
    },
    {
      "cell_type": "code",
      "metadata": {
        "id": "gVxJDbjI4vJz",
        "colab_type": "code",
        "colab": {}
      },
      "source": [
        "from tensorflow import keras\n",
        "import numpy as np\n",
        "imdb = keras.datasets.imdb"
      ],
      "execution_count": 0,
      "outputs": []
    },
    {
      "cell_type": "code",
      "metadata": {
        "id": "v6UJM47WJgK2",
        "colab_type": "code",
        "colab": {
          "base_uri": "https://localhost:8080/",
          "height": 54
        },
        "outputId": "cda03ac3-de28-42b2-f3b1-963485fe0f7c"
      },
      "source": [
        "(trainx,trainy),(testx,testy) = imdb.load_data(num_words=10000)\n",
        "print(trainx[0])"
      ],
      "execution_count": 26,
      "outputs": [
        {
          "output_type": "stream",
          "text": [
            "[1, 14, 22, 16, 43, 530, 973, 1622, 1385, 65, 458, 4468, 66, 3941, 4, 173, 36, 256, 5, 25, 100, 43, 838, 112, 50, 670, 2, 9, 35, 480, 284, 5, 150, 4, 172, 112, 167, 2, 336, 385, 39, 4, 172, 4536, 1111, 17, 546, 38, 13, 447, 4, 192, 50, 16, 6, 147, 2025, 19, 14, 22, 4, 1920, 4613, 469, 4, 22, 71, 87, 12, 16, 43, 530, 38, 76, 15, 13, 1247, 4, 22, 17, 515, 17, 12, 16, 626, 18, 2, 5, 62, 386, 12, 8, 316, 8, 106, 5, 4, 2223, 5244, 16, 480, 66, 3785, 33, 4, 130, 12, 16, 38, 619, 5, 25, 124, 51, 36, 135, 48, 25, 1415, 33, 6, 22, 12, 215, 28, 77, 52, 5, 14, 407, 16, 82, 2, 8, 4, 107, 117, 5952, 15, 256, 4, 2, 7, 3766, 5, 723, 36, 71, 43, 530, 476, 26, 400, 317, 46, 7, 4, 2, 1029, 13, 104, 88, 4, 381, 15, 297, 98, 32, 2071, 56, 26, 141, 6, 194, 7486, 18, 4, 226, 22, 21, 134, 476, 26, 480, 5, 144, 30, 5535, 18, 51, 36, 28, 224, 92, 25, 104, 4, 226, 65, 16, 38, 1334, 88, 12, 16, 283, 5, 16, 4472, 113, 103, 32, 15, 16, 5345, 19, 178, 32]\n"
          ],
          "name": "stdout"
        }
      ]
    },
    {
      "cell_type": "code",
      "metadata": {
        "id": "FS_4QnLgKCpU",
        "colab_type": "code",
        "colab": {
          "base_uri": "https://localhost:8080/",
          "height": 34
        },
        "outputId": "6fc73f12-a090-4d6f-ff2f-b2e611f18220"
      },
      "source": [
        "wordIndex = imdb.get_word_index()\n",
        "wordIndex = {word:(val+3) for word,val in wordIndex.items()}\n",
        "wordIndex[\"<PAD>\"] = 0\n",
        "wordIndex[\"<START>\"]=1\n",
        "wordIndex[\"UNK\"] = 2\n",
        "wordIndex[\"UNUSED\"]=4\n",
        "dictionary = {val:word for word,val in wordIndex.items()}\n",
        "print(dictionary[1])"
      ],
      "execution_count": 27,
      "outputs": [
        {
          "output_type": "stream",
          "text": [
            "<START>\n"
          ],
          "name": "stdout"
        }
      ]
    },
    {
      "cell_type": "code",
      "metadata": {
        "id": "tooUUXqXKUsB",
        "colab_type": "code",
        "colab": {}
      },
      "source": [
        "def decodeReview(review):\n",
        "  sentence = [dictionary.get(word) for word in review]\n",
        "  return \" \".join(sentence)"
      ],
      "execution_count": 0,
      "outputs": []
    },
    {
      "cell_type": "code",
      "metadata": {
        "id": "dWucPHEGL1mO",
        "colab_type": "code",
        "colab": {
          "base_uri": "https://localhost:8080/",
          "height": 709
        },
        "outputId": "ef75d758-27f7-4e1b-9777-ab03625fafb8"
      },
      "source": [
        "for x in range(20):\n",
        "  print(decodeReview(trainx[x]))\n",
        "  print(trainy[x])"
      ],
      "execution_count": 20,
      "outputs": [
        {
          "output_type": "stream",
          "text": [
            "<START> this film was just brilliant casting location scenery story direction everyone's really suited UNUSED part they played and you could just imagine being there robert UNK is an amazing actor and now UNUSED same being director UNK father came from UNUSED same scottish island as myself so i loved UNUSED fact there was a real connection with this film UNUSED witty remarks throughout UNUSED film were great it was just brilliant so much that i bought UNUSED film as soon as it was released for UNK and would recommend it to everyone to watch and UNUSED fly fishing was amazing really cried at UNUSED end it was so sad and you know what they say if you cry at a film it must have been good and this definitely was also UNK to UNUSED two little boy's that played UNUSED UNK of norman and paul they were just brilliant children are often left out of UNUSED UNK list i think because UNUSED stars that play them all grown up are such a big profile for UNUSED whole film but these children are amazing and should be praised for what they have done don't you think UNUSED whole story was so lovely because it was true and was someone's life after all that was shared with us all\n",
            "1\n",
            "<START> big hair big boobs bad music and a giant safety pin these are UNUSED words to best describe this terrible movie i love cheesy horror movies and i've seen hundreds but this had got to be on of UNUSED worst ever made UNUSED plot is paper thin and ridiculous UNUSED acting is an abomination UNUSED script is completely laughable UNUSED best is UNUSED end showdown with UNUSED cop and how he worked out who UNUSED killer is it's just so damn terribly written UNUSED clothes are sickening and funny in equal UNK UNUSED hair is big lots of boobs UNK men wear those cut UNK shirts that show off their UNK sickening that men actually wore them and UNUSED music is just UNK trash that plays over and over again in almost every scene there is trashy music boobs and UNK taking away bodies and UNUSED gym still doesn't close for UNK all joking aside this is a truly bad film whose only charm is to look back on UNUSED disaster that was UNUSED 80's and have a good old laugh at how bad everything was back then\n",
            "0\n",
            "<START> this has to be one of UNUSED worst films of UNUSED 1990s when my friends i were watching this film being UNUSED target audience it was aimed at we just sat watched UNUSED first half an hour with our jaws touching UNUSED floor at how bad it really was UNUSED rest of UNUSED time everyone else in UNUSED theatre just started talking to each other leaving or generally crying into their popcorn that they actually paid money they had UNK working to watch this feeble excuse for a film it must have looked like a great idea on paper but on film it looks like no one in UNUSED film has a clue what is going on crap acting crap costumes i can't get across how UNK this is to watch save yourself an hour a bit of your life\n",
            "0\n",
            "<START> UNUSED UNK UNK at storytelling UNUSED traditional sort many years after UNUSED event i can still see in my UNK eye an elderly lady my friend's mother retelling UNUSED battle of UNK she makes UNUSED characters come alive her passion is that of an eye witness one to UNUSED events on UNUSED UNK heath a mile or so from where she lives br br of course it happened many years before she was born but you wouldn't guess from UNUSED way she tells it UNUSED same story is told in bars UNUSED length and UNK of scotland as i discussed it with a friend one night in UNK a local cut in to give his version UNUSED discussion continued to closing time br br stories passed down like this become part of our being who doesn't remember UNUSED stories our parents told us when we were children they become our invisible world and as we grow older they maybe still serve as inspiration or as an emotional UNK fact and fiction blend with UNK role models warning stories UNK magic and mystery br br my name is UNK like my grandfather and his grandfather before him our protagonist introduces himself to us and also introduces UNUSED story that stretches back through generations it produces stories within stories stories that evoke UNUSED UNK wonder of scotland its rugged mountains UNK in UNK UNUSED stuff of legend yet UNK is UNK in reality this is what gives it its special charm it has a rough beauty and authenticity UNK with some of UNUSED finest UNK singing you will ever hear br br UNK UNK visits his grandfather in hospital shortly before his death he burns with frustration part of him UNK to be in UNUSED twenty first century to hang out in UNK but he is raised on UNUSED western UNK among a UNK speaking community br br yet there is a deeper conflict within him he UNK to know UNUSED truth UNUSED truth behind his UNK ancient stories where does fiction end and he wants to know UNUSED truth behind UNUSED death of his parents br br he is pulled to make a last UNK journey to UNUSED UNK of one of UNK most UNK mountains can UNUSED truth be told or is it all in stories br br in this story about stories we UNK bloody battles UNK lovers UNUSED UNK of old and UNUSED sometimes more UNK UNK of accepted truth in doing so we each connect with UNK as he lives UNUSED story of his own life br br UNK UNUSED UNK UNK is probably UNUSED most honest UNK and genuinely beautiful film of scotland ever made like UNK i got slightly annoyed with UNUSED UNK of hanging stories on more stories but also like UNK i UNK this once i saw UNUSED UNK picture ' forget UNUSED box office UNK of braveheart and its like you might even UNK UNUSED UNK famous UNK of UNUSED wicker man to see a film that is true to scotland this one is probably unique if you maybe UNK on it deeply enough you might even re UNK UNUSED power of storytelling and UNUSED age old question of whether there are some truths that cannot be told but only experienced\n",
            "1\n",
            "<START> worst mistake of my life br br i picked this movie up at target for 5 because i figured hey it's sandler i can get some cheap laughs i was wrong completely wrong mid way through UNUSED film all three of my friends were asleep and i was still suffering worst plot worst script worst movie i have ever seen i wanted to hit my head up against a wall for an hour then i'd stop and you know why because it felt damn good upon bashing my head in i stuck that damn movie in UNUSED UNK and watched it burn and that felt better than anything else i've ever done it took american psycho army of darkness and kill bill just to get over that crap i hate you sandler for actually going through with this and ruining a whole day of my life\n",
            "0\n",
            "<START> begins better than it ends funny that UNUSED russian submarine crew UNK all other actors it's like those scenes where documentary shots br br spoiler part UNUSED message UNK was contrary to UNUSED whole story it just does not UNK br br\n",
            "0\n",
            "<START> lavish production values and solid performances in this straightforward adaption of jane UNK satirical classic about UNUSED marriage game within and between UNUSED classes in UNK 18th century england northam and paltrow are a UNK mixture as friends who must pass through UNK and lies to discover that they love each other good humor is a UNK virtue which goes a long way towards explaining UNUSED UNK of UNUSED aged source material which has been toned down a bit in its harsh UNK i liked UNUSED look of UNUSED film and how shots were set up and i thought it didn't rely too much on UNK of head shots like most other films of UNUSED 80s and 90s do very good results\n",
            "1\n",
            "<START> UNUSED UNK tells UNUSED story of UNUSED four hamilton siblings teenager francis UNK UNK twins UNK joseph UNK UNK UNK UNK UNUSED UNK david samuel who is now UNUSED surrogate parent in charge UNUSED UNK move house a lot UNK is unsure why is unhappy with UNUSED way things are UNUSED fact that his brother's sister kidnap UNK murder people in UNUSED basement doesn't help relax or calm UNK nerves either francis UNK something just isn't right when he eventually finds out UNUSED truth things will never be UNUSED same again br br co written co produced directed by mitchell UNK phil UNK as UNUSED butcher brothers who's only other film director's credit so far is UNUSED april UNK day 2008 remake enough said this was one of UNUSED UNK to die UNK at UNUSED 2006 after dark UNK or whatever it's called in keeping with pretty much all UNUSED other's i've seen i thought UNUSED UNK was complete total utter crap i found UNUSED character's really poor very unlikable UNUSED slow moving story failed to capture my imagination or sustain my interest over it's 85 a half minute too long UNK minute duration UNUSED there's UNUSED awful twist at UNUSED end which had me laughing out loud there's this really big UNK build up to what's inside a UNK thing in UNUSED UNK basement it's eventually revealed to be a little boy with a teddy is that really supposed to scare us is that really supposed to shock us is that really something that is supposed to have us talking about it as UNUSED end credits roll is a harmless looking young boy UNUSED best UNK ending that UNUSED makers could come up with UNUSED boring plot UNK along it's never made clear where UNUSED UNK get all their money from to buy new houses since none of them seem to work except david in a UNK i doubt that pays much or why they haven't been caught before now UNUSED script tries to mix in every day drama with potent horror it just does a terrible job of combining UNUSED two to UNUSED extent that neither aspect is memorable or effective a really bad film that i am struggling to say anything good about br br despite being written directed by UNUSED extreme sounding butcher brothers there's no gore here there's a bit of blood splatter a few scenes of girls UNK up in a basement but nothing you couldn't do at home yourself with a bottle of UNK UNK a camcorder UNUSED film is neither scary since it's got a very middle class suburban setting there's zero atmosphere or mood there's a lesbian suggest incestuous kiss but UNUSED UNK is low on UNUSED exploitation scale there's not much here for UNUSED horror crowd br br filmed in UNK in california this has that modern low budget look about it it's not badly made but rather forgettable UNUSED acting by an unknown to me cast is nothing to write home about i can't say i ever felt anything for anyone br br UNUSED UNK commits UNUSED UNK sin of being both dull boring from which it never UNK add to that an ultra thin story no gore a rubbish ending character's who you don't give a toss about you have a film that did not impress me at all\n",
            "0\n",
            "<START> just got out and cannot believe what a brilliant documentary this is rarely do you walk out of a movie theater in such awe and UNK lately movies have become so over hyped that UNUSED thrill of discovering something truly special and unique rarely happens UNK UNK did this to me when it first came out and this movie is doing to me now i didn't know a thing about this before going into it and what a surprise if you hear UNUSED concept you might get UNUSED feeling that this is one of those UNK movies about an amazing triumph covered with over UNUSED top music and trying to have us fully convinced of what a great story it is telling but then not letting us in UNK this is not that movie UNUSED people tell UNUSED story this does such a good job of capturing every moment of their involvement while we enter their world and feel every second with them there is so much beyond UNUSED climb that makes everything they go through so much more tense touching UNUSED void was also a great doc about mountain climbing and showing UNUSED intensity in an engaging way but this film is much more of a human story i just saw it today but i will go and say that this is one of UNUSED best documentaries i have ever seen\n",
            "1\n",
            "<START> this movie has many problem associated with it that makes it come off like a low budget class project from someone in film school i have to give it credit on its UNK though many times throughout UNUSED movie i found myself laughing hysterically it was so bad at times that it was comical which made it a fun watch br br if you're looking for a low grade slasher movie with a twist of psychological horror and a dash of campy UNK then pop a bowl of popcorn invite some friends over and have some fun br br i agree with other comments that UNUSED sound is very bad dialog is next to impossible to follow much of UNUSED time and UNUSED soundtrack is kind of just there\n",
            "0\n",
            "<START> french horror cinema has seen something of a revival over UNUSED last couple of years with great films such as inside and UNK romance UNK on to UNUSED scene UNK UNK UNUSED revival just slightly but stands head and shoulders over most modern horror titles and is surely one of UNUSED best french horror films ever made UNK was obviously shot on a low budget but this is made up for in far more ways than one by UNUSED originality of UNUSED film and this in turn is UNK by UNUSED excellent writing and acting that ensure UNUSED film is a winner UNUSED plot focuses on two main ideas prison and black magic UNUSED central character is a man named UNK sent to prison for fraud he is put in a cell with three others UNUSED quietly insane UNK body building UNK marcus and his retarded boyfriend daisy after a short while in UNUSED cell together they stumble upon a hiding place in UNUSED wall that contains an old UNK after UNK part of it they soon realise its magical powers and realise they may be able to use it to break through UNUSED prison walls br br black magic is a very interesting topic and i'm actually quite surprised that there aren't more films based on it as there's so much scope for things to do with it it's fair to say that UNK makes UNUSED best of it's UNK as despite it's UNK UNUSED film never actually feels restrained and manages to flow well throughout director eric UNK provides a great atmosphere for UNUSED film UNUSED fact that most of it takes place inside UNUSED central prison cell UNK that UNUSED film feels very claustrophobic and this immensely benefits UNUSED central idea of UNUSED prisoners wanting to use magic to break out of UNUSED cell it's very easy to get behind them it's often said that UNUSED unknown is UNUSED thing that really UNK people and this film proves that as UNUSED director UNK that we can never really be sure of exactly what is round UNUSED corner and this helps to ensure that UNK actually does manage to be quite frightening UNUSED film is memorable for a lot of reasons outside UNUSED central plot UNUSED characters are all very interesting in their own way and UNUSED fact that UNUSED book itself almost takes on its own character is very well done anyone worried that UNUSED film won't deliver by UNUSED end won't be disappointed either as UNUSED ending both makes sense and manages to be quite horrifying overall UNK is a truly great horror film and one of UNUSED best of UNUSED decade highly recommended viewing\n",
            "1\n",
            "<START> when i rented this movie i had very low expectations but when i saw it i realized that UNUSED movie was less a lot less than what i expected UNUSED actors were bad UNUSED doctor's wife was one of UNUSED worst UNUSED story was so stupid it could work for a disney movie except for UNUSED murders but this one is not a comedy it is a laughable masterpiece of stupidity UNUSED title is well chosen except for one thing they could add stupid movie after dead husbands i give it 0 and a half out of 5\n",
            "0\n",
            "<START> i love cheesy horror flicks i don't care if UNUSED acting is sub par or whether UNUSED monsters look corny i liked this movie except for UNUSED UNK feeling all UNUSED way from UNUSED beginning of UNUSED film to UNUSED very end look i don't need a 10 page UNK or a sign with big letters explaining a plot to me but dark floors takes UNUSED what is this movie about thing to a whole new annoying level what is this movie about br br this isn't exceptionally scary or thrilling but if you have an hour and a half to kill and or you want to end up feeling frustrated and confused rent this winner\n",
            "0\n",
            "<START> anyone who could find redeeming value in this piece of crap ought to have their head examined we have UNUSED UNK heroin addicted part time hooker wife with UNK all over her body UNK received from repeated UNK by an abusive son now she is UNK breast milk all over UNUSED kitchen floor UNUSED release so gained somehow akin to helen UNK placing her hands in running water we have UNUSED husband who starts out by UNK a prostitute who just happens to be his daughter she's upset with him because he came too quickly and ends by murdering his female colleague having sex with her corpse and then UNK her up we have UNUSED kid who is relentlessly UNK by his classmates and who comes home and beats his mom you see it's all UNK deep huh UNUSED only decent moment in this horrendous pile of tripe is when UNUSED dad murders his son's UNK it's a good thing this turkey was shot on video because otherwise what a waste of expensive film it would be if that guy who thinks artists ought to be interested in this UNK is really serious no wonder most people think artists are insane we saw this lousy movie then put on zero woman UNUSED accused oh my god it was a UNK as to which one was worse what is going on in japan these days sick sick sick\n",
            "0\n",
            "<START> b movie at best sound effects are pretty good lame concept decent execution i suppose it's a rental br br you put some UNK oil in your mouth to save you from de poison UNK you cut de bite and suck out de UNK you gonna be ok tommy br br you stay by UNUSED UNK when agent harris calls you get me give me a fire UNK br br weapons we need weapons where's UNUSED UNK all we have is this UNK br br dr price is UNUSED snake expert br br local UNK can handle UNUSED occasional UNK alert every er in UNUSED UNK city area\n",
            "0\n",
            "<START> a total waste of time just throw in a few explosions non stop fighting exotic cars a deranged millionaire slow motion computer generated car crashes and last but not least a hugh UNK like character with wall to wall hot babes and mix in a UNK and you will have this sorry excuse for a movie i really got a laugh out of UNUSED dr evil like heavily UNK compound UNUSED plot was somewhere between preposterous and non existent how many UNK are willing to make a 25 million dollar bet on a car race answer 4 but didn't they become UNK through UNK responsibility this was written for UNK males it plays like a video game i did enjoy UNUSED UNK ii landing in UNUSED desert though\n",
            "0\n",
            "<START> laputa castle in UNUSED sky is UNUSED bomb UNUSED message is as strong as his newer works and more pure fantastic and flying pirates how could it be any better UNUSED art is totally amazing and UNUSED soundtrack which is UNK many times after this im not sure if this was UNUSED first time i heard it and evokes in me UNUSED most emotional sentimental response of any movie soundtrack UNK UNUSED female lead in this movie is totally awesome and UNUSED boy UNK is also a great role model he lives on his own UNUSED plot is classic miyazaki i won't give it away but UNUSED end is really great i rank this as one of miyazaki's three best with UNK and spirited away also you may want to check out UNK moving castle when it comes out sometime next year i hope if you like miyazaki check this one out as it readily available in UNUSED usa enjoy UNK a\n",
            "1\n",
            "<START> at UNUSED height of UNUSED UNK big UNK racism row in 2007 involving UNK UNK and UNUSED late UNK UNK i condemned on an internet forum those UNK b b ' fans who praised UNUSED show after years of bashing UNK UNK sitcoms such as UNK UNK UNK UNK UNK i thought they were being UNK and said so UNK ain't half hot UNK was then thrown into UNUSED argument with some pointing out it had starred an english actor UNK up well yes but michael bates had lived in india as a boy and spoke UNK UNK UNUSED show's UNK overlook UNUSED reality he brought to his performance as UNK UNK UNK UNUSED noted indian character actor UNK UNK said in a 1995 documentary UNK UNK UNUSED UNK that he was upset when he heard bates had landed UNUSED role but added no indian actor could have played that role as well as bates indeed br br UNK was perry and UNK companion show to UNK UNK also set in wartime UNUSED UNK english town of UNK on sea had been replaced by UNUSED hot steamy UNK of india in particularly a place called UNK where an army concert party puts on shows for UNUSED troops among them UNK UNK george UNK his first sitcom role since UNK in UNK camp UNK UNK UNK melvyn hayes UNK UNK UNK UNK UNK de UNK UNK graham john UNK and UNK UNK UNUSED late christopher mitchell UNK over this gang of UNK was UNUSED UNK sergeant major williams UNUSED brilliant UNK davies who regarded them all as UNK his frustration at not being able to lead his men up UNUSED jungle to engage UNUSED enemy in combat made him bitter and bullying though he was nice to UNK whom he thought was his UNK son then there was ever so english colonel reynolds donald UNK and UNK captain UNK michael UNK UNK was like a wise old UNK beginning each show by talking to UNUSED camera and closing them by UNK obscure UNK UNK he loved being UNK so much he came to regard himself as practically british his friends were UNUSED tea making UNK UNK UNUSED late UNK UNK who went on to UNK your UNK and UNUSED rope pulling UNK UNK UNK UNK so real indians featured in UNUSED show another point its UNK ignore UNK also provided what was described on UNUSED credits as UNK UNK similar to UNUSED UNK songs used as incidental music on UNK UNK each edition closed with him UNK UNK of hope UNK only to be UNK by a UNK up ' from williams UNUSED excellent opening theme was penned by jimmy perry and derek UNK br br though never quite UNK UNK UNK in UNUSED UNK affections UNK nevertheless was popular enough to run for a total of eight seasons in 1975 davies and UNK topped UNUSED UNK with a cover version of that old UNK UNK UNK they then recorded an entire album of old UNK entitled what else UNK UNK ' br br UNUSED show hit crisis point three years later when bates died of cancer rather than UNK UNUSED role of UNK UNUSED writers just let him be quietly forgotten when george UNK left UNUSED character of UNK took his place as UNK providing another source of comedy br br UNUSED last edition in 1981 saw UNUSED soldiers leave india by boat for UNK UNUSED UNK UNK watching them go with great sadness as did viewers br br repeats have been few and far between mainly on u k gold all because of its so called UNK reputation this is strange for one thing UNUSED show was not specifically about racism if a white man UNK up is so wrong why does david UNK 1984 film 'a passage to UNK still get shown on television it featured alec guinness as an indian and won two oscars it was derived from jimmy UNK own experiences some characters were based on real people UNUSED sergeant major really did refer to his men as UNK i take UNUSED view that if you are going to put history on television get it right UNK UNUSED past no matter how UNK it might seem to modern audiences is UNK UNK UNK was both funny and truthful and viewers saw this thank heavens for d v d 's i say time to stop this review as williams would say i'll have no UNK in this jungle\n",
            "1\n",
            "<START> i have only had UNUSED luxury of seeing this movie once when i was rather young so much of UNUSED movie is UNK in trying to remember it however i can say it was not as funny as a movie called killer tomatoes should have been and UNUSED most memorable things from this movie are UNUSED song and UNUSED scene with UNUSED elderly couple talking about poor timmy other than that UNUSED movie is really just scenes of little tomatoes and big tomatoes rolling around and people acting scared and overacting as people should do in a movie of this type however just having a very silly premise and a catchy theme song do not a good comedy make granted this movie is supposed to be a b movie nothing to be taken seriously however you should still make jokes that are funny and not try to UNK a mildly amusing premise into a full UNK movie perhaps a short would have been fine as UNUSED trailer showing UNUSED elderly couple mentioned above and a man desperately trying to gun down a larger UNK was actually pretty good UNUSED trailer itself looked like a mock trailer but no they indeed made a full movie and a rather weak one at that\n",
            "0\n",
            "<START> chances are is a charming romantic fantasy about a woman UNK shepherd whose husband christopher UNK is killed shortly after learning she is pregnant we then see UNUSED husband in heaven letting UNUSED powers that be know that he was taken too soon and that his wife needs him he is told he can return to earth but not as himself UNK 19 years where we see UNK daughter mary stuart masterson preparing to graduate from college and UNK a young man robert downey jr who it turns out is UNUSED reincarnation of her father UNUSED film is a little on UNUSED predictable side UNUSED story goes all UNUSED places you expect it to but it is so UNK played by an energetic cast especially shepherd and downey that you can't help but get wrapped up in UNUSED fun shepherd has rarely been seen on screen to better advantage and she and downey are backed by a talented group of character actors in supporting roles a lovely and charming fantasy that will UNK and UNK you\n",
            "1\n"
          ],
          "name": "stdout"
        }
      ]
    },
    {
      "cell_type": "code",
      "metadata": {
        "id": "qseudnwDMojk",
        "colab_type": "code",
        "colab": {
          "base_uri": "https://localhost:8080/",
          "height": 336
        },
        "outputId": "7606431e-413b-4ef6-88ef-a6f3bef66793"
      },
      "source": [
        "trainx = keras.preprocessing.sequence.pad_sequences(trainx, value=0, padding='post',maxlen=256)\n",
        "print(trainx[42])"
      ],
      "execution_count": 29,
      "outputs": [
        {
          "output_type": "stream",
          "text": [
            "[  84    5  138   29  494 6613  351   21   60   15  152   97   76  281\n",
            "   54   25   66  104   44   12   13  384  138  152   29  516 6579  488\n",
            " 3244  103   32   29   69 1784  677  153    8   81   12    5    4 2535\n",
            "  528  359   90   48 6613    9  351 6391   38  138  353    8  516   41\n",
            " 1386    7    4 2535   12    9  115  788   51   36   66  473   46    7\n",
            " 6613    5 3244   51    9   68 3359  138   81   36  858   38  196    8\n",
            "    2   89  100   36   30   38  252 6613   62  216  145   24   15    4\n",
            " 1527    8  101    7  134    5   85 1204   62   28   93    4    2  101\n",
            "   53 2211   25   62  131   28   78  411   66   78  116  572   34 6613\n",
            "  954  302    5  338  458 3466    4  381 3954   39   14   20    2 6613\n",
            "  515  435   23    8  323   11    2   19 1478 4956 6579  488 3244  435\n",
            "   23    8   30 2561   11 4193    7  503  102  400   11  120    4  350\n",
            "  531 4574    2   93    6 2446    7 4050 6233  699  102  208   56  366\n",
            "   27  341 3244    2  435   23    8   30    6   87  109  284   11    6\n",
            "  666  612    7  108 1593    2   37  256    6    2 1164    2 1909  946\n",
            "   93    4 1307  584   11    4    2    5    4  373    4    2  159 2660\n",
            "   83    4  108   29   47   77  804   18 1033   25   70 2134  600    7\n",
            "  134  381  126  181   68 4076    8  994    8    4  994  758    2  603\n",
            "  241   46    7  158]\n"
          ],
          "name": "stdout"
        }
      ]
    },
    {
      "cell_type": "code",
      "metadata": {
        "id": "aM2rtpUJQSr3",
        "colab_type": "code",
        "colab": {}
      },
      "source": [
        "testx = keras.preprocessing.sequence.pad_sequences(testx, value=0, padding='post',maxlen=256)"
      ],
      "execution_count": 0,
      "outputs": []
    },
    {
      "cell_type": "code",
      "metadata": {
        "id": "U9PxvKaoQw-5",
        "colab_type": "code",
        "colab": {
          "base_uri": "https://localhost:8080/",
          "height": 302
        },
        "outputId": "d28b42f7-3156-40d8-f789-ebd956dbb59f"
      },
      "source": [
        "HP_vocab = 10000\n",
        "HP_epochs = 50 \n",
        "HP_breakFirst = 16\n",
        "HP_breakSecond = 16\n",
        "model = keras.Sequential()\n",
        "model.add(keras.layers.Embedding(HP_vocab, HP_breakFirst))\n",
        "model.add(keras.layers.GlobalAveragePooling1D())\n",
        "model.add(keras.layers.Dense(HP_breakSecond, activation=tf.nn.relu))\n",
        "model.add(keras.layers.Dense(1, activation=tf.nn.sigmoid))\n",
        "\n",
        "print(model.summary())\n"
      ],
      "execution_count": 35,
      "outputs": [
        {
          "output_type": "stream",
          "text": [
            "Model: \"sequential_1\"\n",
            "_________________________________________________________________\n",
            "Layer (type)                 Output Shape              Param #   \n",
            "=================================================================\n",
            "embedding_1 (Embedding)      (None, None, 16)          160000    \n",
            "_________________________________________________________________\n",
            "global_average_pooling1d_1 ( (None, 16)                0         \n",
            "_________________________________________________________________\n",
            "dense_1 (Dense)              (None, 16)                272       \n",
            "_________________________________________________________________\n",
            "dense_2 (Dense)              (None, 1)                 17        \n",
            "=================================================================\n",
            "Total params: 160,289\n",
            "Trainable params: 160,289\n",
            "Non-trainable params: 0\n",
            "_________________________________________________________________\n",
            "None\n"
          ],
          "name": "stdout"
        }
      ]
    },
    {
      "cell_type": "code",
      "metadata": {
        "id": "g6rwrxkxRPZd",
        "colab_type": "code",
        "colab": {
          "base_uri": "https://localhost:8080/",
          "height": 87
        },
        "outputId": "d229d202-064a-4141-c630-1f3101c3c221"
      },
      "source": [
        "model.compile(loss='binary_crossentropy', metrics=['acc'], optimizer='adam')"
      ],
      "execution_count": 36,
      "outputs": [
        {
          "output_type": "stream",
          "text": [
            "WARNING:tensorflow:From /usr/local/lib/python3.6/dist-packages/tensorflow_core/python/ops/nn_impl.py:183: where (from tensorflow.python.ops.array_ops) is deprecated and will be removed in a future version.\n",
            "Instructions for updating:\n",
            "Use tf.where in 2.0, which has the same broadcast rule as np.where\n"
          ],
          "name": "stdout"
        }
      ]
    },
    {
      "cell_type": "code",
      "metadata": {
        "id": "Xz2xpiR-XMVP",
        "colab_type": "code",
        "colab": {}
      },
      "source": [
        "# validation data -> IMPROVES LEARNING PROCESS \n",
        "valx = testx[:8000]\n",
        "valy = testy[:8000]\n",
        "testx = testx[8000:]\n",
        "testy = testy[8000:]"
      ],
      "execution_count": 0,
      "outputs": []
    },
    {
      "cell_type": "code",
      "metadata": {
        "id": "ZbylKtTdYGN_",
        "colab_type": "code",
        "colab": {
          "base_uri": "https://localhost:8080/",
          "height": 726
        },
        "outputId": "187c9e46-5bd0-4acd-d0e6-018ec80295cf"
      },
      "source": [
        "HP_batchSize = 512\n",
        "history = model.fit(trainx, trainy, epochs=20, batch_size=HP_batchSize, validation_data=(valx,valy))"
      ],
      "execution_count": 39,
      "outputs": [
        {
          "output_type": "stream",
          "text": [
            "Train on 25000 samples, validate on 8000 samples\n",
            "Epoch 1/20\n",
            "25000/25000 [==============================] - 1s 46us/sample - loss: 0.0533 - acc: 0.9880 - val_loss: 0.4627 - val_acc: 0.8635\n",
            "Epoch 2/20\n",
            "25000/25000 [==============================] - 1s 46us/sample - loss: 0.0511 - acc: 0.9890 - val_loss: 0.4662 - val_acc: 0.8634\n",
            "Epoch 3/20\n",
            "25000/25000 [==============================] - 1s 48us/sample - loss: 0.0492 - acc: 0.9892 - val_loss: 0.4772 - val_acc: 0.8631\n",
            "Epoch 4/20\n",
            "25000/25000 [==============================] - 1s 47us/sample - loss: 0.0477 - acc: 0.9900 - val_loss: 0.4891 - val_acc: 0.8589\n",
            "Epoch 5/20\n",
            "25000/25000 [==============================] - 1s 46us/sample - loss: 0.0457 - acc: 0.9905 - val_loss: 0.4977 - val_acc: 0.8594\n",
            "Epoch 6/20\n",
            "25000/25000 [==============================] - 1s 48us/sample - loss: 0.0440 - acc: 0.9906 - val_loss: 0.5021 - val_acc: 0.8602\n",
            "Epoch 7/20\n",
            "25000/25000 [==============================] - 1s 48us/sample - loss: 0.0426 - acc: 0.9915 - val_loss: 0.5134 - val_acc: 0.8586\n",
            "Epoch 8/20\n",
            "25000/25000 [==============================] - 1s 47us/sample - loss: 0.0410 - acc: 0.9916 - val_loss: 0.5215 - val_acc: 0.8584\n",
            "Epoch 9/20\n",
            "25000/25000 [==============================] - 1s 48us/sample - loss: 0.0390 - acc: 0.9926 - val_loss: 0.5324 - val_acc: 0.8572\n",
            "Epoch 10/20\n",
            "25000/25000 [==============================] - 1s 47us/sample - loss: 0.0375 - acc: 0.9923 - val_loss: 0.5421 - val_acc: 0.8568\n",
            "Epoch 11/20\n",
            "25000/25000 [==============================] - 1s 47us/sample - loss: 0.0360 - acc: 0.9934 - val_loss: 0.5551 - val_acc: 0.8553\n",
            "Epoch 12/20\n",
            "25000/25000 [==============================] - 1s 47us/sample - loss: 0.0346 - acc: 0.9934 - val_loss: 0.5604 - val_acc: 0.8553\n",
            "Epoch 13/20\n",
            "25000/25000 [==============================] - 1s 46us/sample - loss: 0.0330 - acc: 0.9942 - val_loss: 0.5731 - val_acc: 0.8553\n",
            "Epoch 14/20\n",
            "25000/25000 [==============================] - 1s 47us/sample - loss: 0.0320 - acc: 0.9944 - val_loss: 0.5858 - val_acc: 0.8535\n",
            "Epoch 15/20\n",
            "25000/25000 [==============================] - 1s 47us/sample - loss: 0.0303 - acc: 0.9950 - val_loss: 0.5944 - val_acc: 0.8534\n",
            "Epoch 16/20\n",
            "25000/25000 [==============================] - 1s 50us/sample - loss: 0.0290 - acc: 0.9951 - val_loss: 0.5998 - val_acc: 0.8529\n",
            "Epoch 17/20\n",
            "25000/25000 [==============================] - 1s 47us/sample - loss: 0.0281 - acc: 0.9952 - val_loss: 0.6112 - val_acc: 0.8512\n",
            "Epoch 18/20\n",
            "25000/25000 [==============================] - 1s 47us/sample - loss: 0.0267 - acc: 0.9960 - val_loss: 0.6208 - val_acc: 0.8515\n",
            "Epoch 19/20\n",
            "25000/25000 [==============================] - 1s 48us/sample - loss: 0.0257 - acc: 0.9961 - val_loss: 0.6332 - val_acc: 0.8504\n",
            "Epoch 20/20\n",
            "25000/25000 [==============================] - 1s 47us/sample - loss: 0.0246 - acc: 0.9963 - val_loss: 0.6477 - val_acc: 0.8512\n"
          ],
          "name": "stdout"
        }
      ]
    },
    {
      "cell_type": "code",
      "metadata": {
        "id": "u7rQz3wxZPJZ",
        "colab_type": "code",
        "colab": {}
      },
      "source": [
        "predictions = model.predict(testx)"
      ],
      "execution_count": 0,
      "outputs": []
    },
    {
      "cell_type": "code",
      "metadata": {
        "id": "Hp4uhNTMY7sk",
        "colab_type": "code",
        "colab": {
          "base_uri": "https://localhost:8080/",
          "height": 1000
        },
        "outputId": "e0dbad6e-0d64-461f-af0b-49ed7a1a6723"
      },
      "source": [
        "for x in range(20):\n",
        "  print(decodeReview(testx[x]))\n",
        "  print(\"Actual=\"+str(testy[x]))\n",
        "  print(\"AI says=\"+str(predictions[x]))"
      ],
      "execution_count": 41,
      "outputs": [
        {
          "output_type": "stream",
          "text": [
            "to any style in UNK he UNK UNUSED UNK UNK style of UNK in pacific UNK he captures UNUSED subtle art of asian music into UNUSED woods knocks off UNUSED UNK bar disney style songs and UNK covers a history of american music here however he does wonders in making his score distinctly english from UNK songs to operatic UNK and UNK to society UNK to gilbert sullivan style UNK and yet still UNUSED show remains deadly serious even though it UNK more laughs than any musical comedy in it still is a grim warning on UNUSED UNK of taking revenge here is where this movie makes a mistake in cutting UNUSED UNK solo in which he himself out of guilt for his crimes without it UNUSED judge is just a conventional villain and this movie's point is that there are no straight villains both todd and UNUSED judge learn too late UNUSED horrors of having to accept responsibility for their actions and todd loses everything in his obsession this is well brought out by UNUSED chilling UNK of UNUSED grim yet UNK UNK of UNK todd ending UNUSED show with todd and UNK rising from UNUSED grave to tell us that UNUSED end is UNUSED same in a world full of vengeance UNK only vengeance attend UNUSED tale of UNK todd he served a dark and a vengeful god to seek revenge may lead to hell but everyone does it and seldom as well as UNK as UNK todd UNUSED demon UNK of fleet street\n",
            "Actual=1\n",
            "AI says=[0.9999957]\n",
            "relationships but he doesn't appear to be UNK by what was certainly a strange affair for a little boy br br when UNK was a young boy louis UNK died of a massive heart attack in UNUSED men's room of new UNK UNK station after returning from india where he had pitched one of his massive projects another one that was never built at that point his philadelphia firm was at least 500 000 in debt and had he lived a trip to UNUSED federal UNK court was probably in UNUSED UNK br br UNK left several monumental UNK of which UNUSED government building in UNK is clearly UNUSED biggest a UNK local architect UNK UNK for having created a building where democracy may and hopefully will UNK br br fellow architect UNK that there might have been something fitting in UNK suffering a mortal heart attack in a train station given his UNK UNK i disagree it's sadly ironic that UNK should die in UNUSED UNK replacement for one of america's true UNK gems UNUSED old UNK station UNK to make way for a UNK replacement with no character and no UNK of UNK memory br br there are a number of emotional moments filmed during UNUSED younger UNK journey including with his half sisters and his mother but they're genuine and moving not UNK and staged historians of architecture will always study UNK his son found reasons to remember him as a flawed but very UNK and ultimately private man br br 9 10\n",
            "Actual=1\n",
            "AI says=[0.9998815]\n",
            "<START> this is one of UNUSED most enjoyable teen movies i have ever seen and that i wished was released to video it was released UNUSED same year as another great comedy in which tim UNK played a role animal house which is probably why it was overlooked br br one of UNUSED most memorable parts of this film would definitely be UNUSED soundtrack which could have and should have been a UNK label release UNUSED soundtrack features a lesser known 70's act named high whose song we are UNUSED future played a UNK role in UNUSED movie's prom scene i remember UNK UNUSED UNK album out as a kid mainly because of UNUSED look of UNUSED girls and not necessarily for their musical talents br br UNUSED closing song is one of UNUSED best UNK i have ever heard and i can still hear it in my head i wish i knew UNUSED UNK name so that i could look for it somewhere in UNK br br if you liked films such as over UNUSED edge and rich kids i think this is one that you will enjoy as well <PAD> <PAD> <PAD> <PAD> <PAD> <PAD> <PAD> <PAD> <PAD> <PAD> <PAD> <PAD> <PAD> <PAD> <PAD> <PAD> <PAD> <PAD> <PAD> <PAD> <PAD> <PAD> <PAD> <PAD> <PAD> <PAD> <PAD> <PAD> <PAD> <PAD> <PAD> <PAD> <PAD> <PAD> <PAD> <PAD> <PAD> <PAD> <PAD> <PAD> <PAD> <PAD> <PAD> <PAD> <PAD> <PAD> <PAD> <PAD> <PAD> <PAD> <PAD> <PAD> <PAD> <PAD> <PAD> <PAD> <PAD> <PAD> <PAD> <PAD> <PAD> <PAD> <PAD> <PAD> <PAD>\n",
            "Actual=1\n",
            "AI says=[0.99718744]\n",
            "<START> tom UNK plays an UNK son to UNK pop don UNK and weary mom anne jackson making up for his UNK one UNK and taking them in after UNK has burned down his mobile home meanwhile job is UNK by UNUSED f b i his UNK are frozen his wife and kids leave him and his obnoxious sister and her UNK have come to stay UNK painted comedy of UNK is as out of touch with reality as UNK UNK old UNK perhaps a serious first draft with scenes such as UNK walking out into traffic with two UNK was UNK into a UNK second or third version with UNK getting UNK UNK UNK and eventually losing a toe and a UNK either way it's a painful experience and sudden dedication to his father makes little sense he around and UNK in pain but UNK his heart of UNK this movie is UNK from <PAD> <PAD> <PAD> <PAD> <PAD> <PAD> <PAD> <PAD> <PAD> <PAD> <PAD> <PAD> <PAD> <PAD> <PAD> <PAD> <PAD> <PAD> <PAD> <PAD> <PAD> <PAD> <PAD> <PAD> <PAD> <PAD> <PAD> <PAD> <PAD> <PAD> <PAD> <PAD> <PAD> <PAD> <PAD> <PAD> <PAD> <PAD> <PAD> <PAD> <PAD> <PAD> <PAD> <PAD> <PAD> <PAD> <PAD> <PAD> <PAD> <PAD> <PAD> <PAD> <PAD> <PAD> <PAD> <PAD> <PAD> <PAD> <PAD> <PAD> <PAD> <PAD> <PAD> <PAD> <PAD> <PAD> <PAD> <PAD> <PAD> <PAD> <PAD> <PAD> <PAD> <PAD> <PAD> <PAD> <PAD> <PAD> <PAD> <PAD> <PAD> <PAD> <PAD> <PAD> <PAD> <PAD> <PAD> <PAD> <PAD> <PAD> <PAD> <PAD> <PAD> <PAD> <PAD> <PAD> <PAD> <PAD> <PAD> <PAD> <PAD>\n",
            "Actual=0\n",
            "AI says=[0.0077624]\n",
            "<START> a wonderful family movie a beautiful horse movie 75 entertainment UNK buddy kelly UNK are very interesting and lovable characters UNUSED horses are real UNK br br has UNUSED horse racing as a backdrop for showing how luck is sometimes nothing but some good UNK shows how kids can do stupid things for stupid reasons shows how adults can do stupid things for selfish reasons UNUSED very realistically portrayed characters UNK UNUSED unrealistic theme of UNUSED film into something everyone can relate to br br andrew UNK puts in a wonderful performance as buddy UNUSED sensible elder brother somewhat reminded me of UNK quinn eyes speech delivery facial appearance br br UNK makes you fall in love with UNUSED character because of UNUSED UNK sarah blue is also nicely portrayed by UNK smith lloyd UNUSED father is played by walter matthau and he is UNUSED character br br though there is room for improvement in UNUSED movie its a very enjoyable feel good movie <PAD> <PAD> <PAD> <PAD> <PAD> <PAD> <PAD> <PAD> <PAD> <PAD> <PAD> <PAD> <PAD> <PAD> <PAD> <PAD> <PAD> <PAD> <PAD> <PAD> <PAD> <PAD> <PAD> <PAD> <PAD> <PAD> <PAD> <PAD> <PAD> <PAD> <PAD> <PAD> <PAD> <PAD> <PAD> <PAD> <PAD> <PAD> <PAD> <PAD> <PAD> <PAD> <PAD> <PAD> <PAD> <PAD> <PAD> <PAD> <PAD> <PAD> <PAD> <PAD> <PAD> <PAD> <PAD> <PAD> <PAD> <PAD> <PAD> <PAD> <PAD> <PAD> <PAD> <PAD> <PAD> <PAD> <PAD> <PAD> <PAD> <PAD> <PAD> <PAD> <PAD> <PAD> <PAD> <PAD> <PAD> <PAD> <PAD> <PAD> <PAD> <PAD> <PAD> <PAD> <PAD> <PAD> <PAD> <PAD> <PAD> <PAD> <PAD>\n",
            "Actual=1\n",
            "AI says=[0.99979913]\n",
            "force put on for UNUSED benefit of western politicians UNUSED UNK of UNUSED family are similar to that of UNUSED UNK UNK family in city of joy eventually UNUSED farmer finds work but he UNK his pride and honesty br br UNUSED UNK segment of UNUSED film has a particular relevance to today with UNUSED fight against UNUSED supporters of al and gives some understanding of UNUSED support for such movements among UNUSED UNK poor of UNK and afghanistan who rarely receive any of UNUSED money going into those countries UNUSED film makes a point that UNUSED UNK see barely 25 of UNUSED aid which is supposed to encourage them to grow other UNK br br with UNUSED american inability to see anything other than in terms of black and white good guys v bad guys it is interesting to see another view where there is no black and white only shades of grey br br possible spoiler ahead UNUSED only problem i had with UNUSED story was that rather than things continuing as they did before as they would in real life being a work of fiction they had to wrap it up with UNUSED bad guys getting what was coming to them other than that this was a fine piece of work of UNUSED kind we see all too rarely UNUSED cast was outstanding and UNUSED german and UNK locations helped give UNUSED film a different feel what a change it made seeing germans as something other than UNUSED villains in a wwii film\n",
            "Actual=1\n",
            "AI says=[0.9965956]\n",
            "<START> just like all of mel UNK other comedies men in UNK is hilarious but in seeing this as an outrageous comedy i think many fail to realize that UNUSED reason UNUSED movie is so funny is that UNUSED characters themselves are acted so well UNK is UNUSED well spoken former british noble lewis is an UNK annoyed king i hope it's worth all UNUSED UNK is a fantastic godfather roger UNK is a worried and cynical sheriff UNUSED actors and actresses are so loyal to their parts that UNUSED jokes flow forth with ease yes we've seen this kind of comedy before but UNUSED only comedy to achieve better character development in my opinion is UNUSED big UNK very very funny <PAD> <PAD> <PAD> <PAD> <PAD> <PAD> <PAD> <PAD> <PAD> <PAD> <PAD> <PAD> <PAD> <PAD> <PAD> <PAD> <PAD> <PAD> <PAD> <PAD> <PAD> <PAD> <PAD> <PAD> <PAD> <PAD> <PAD> <PAD> <PAD> <PAD> <PAD> <PAD> <PAD> <PAD> <PAD> <PAD> <PAD> <PAD> <PAD> <PAD> <PAD> <PAD> <PAD> <PAD> <PAD> <PAD> <PAD> <PAD> <PAD> <PAD> <PAD> <PAD> <PAD> <PAD> <PAD> <PAD> <PAD> <PAD> <PAD> <PAD> <PAD> <PAD> <PAD> <PAD> <PAD> <PAD> <PAD> <PAD> <PAD> <PAD> <PAD> <PAD> <PAD> <PAD> <PAD> <PAD> <PAD> <PAD> <PAD> <PAD> <PAD> <PAD> <PAD> <PAD> <PAD> <PAD> <PAD> <PAD> <PAD> <PAD> <PAD> <PAD> <PAD> <PAD> <PAD> <PAD> <PAD> <PAD> <PAD> <PAD> <PAD> <PAD> <PAD> <PAD> <PAD> <PAD> <PAD> <PAD> <PAD> <PAD> <PAD> <PAD> <PAD> <PAD> <PAD> <PAD> <PAD> <PAD> <PAD> <PAD> <PAD> <PAD> <PAD> <PAD> <PAD> <PAD> <PAD> <PAD> <PAD> <PAD> <PAD> <PAD> <PAD> <PAD>\n",
            "Actual=1\n",
            "AI says=[0.9994339]\n",
            "territory and become so bad i think i'll go and see what's on UNUSED other channels br br one case in point is UNUSED first scene featuring UNUSED UNK cushing and UNK UNK a monster it's painfully obvious UNUSED monster is an average sized man dressed up as a rubber monster being made to look over twenty foot tall via overblown back projection it becomes even more painfully obvious that our heroes are trying to escape UNUSED monster by running on UNUSED spot have i mentioned that this is one of UNUSED more convincing set pieces no really this looks like it was filmed in UNK living room with UNUSED spare change left over from that year's doctor who budget even former doctor who peter cushing is bland and what should have been an amusing line you can't me i'm british is delivered in a very flat way a very similar line is spoken by cushing in horror express in a script devoid of characterisation plotting and memorable dialogue it's not just UNUSED fact that UNUSED dialogue is UNK it's also UNK and rare since UNUSED monsters don't speak wouldn't it have been better having UNUSED chief bad guys UNK like in UNK of atlantis so that they could explain UNUSED plot does anyone here know what UNUSED plot actually is br br a very tedious british movie that even UNUSED twin talents of caroline UNK can not save UNUSED whole mood of UNUSED movie is summed up by UNUSED final sequence featuring two UNK cops\n",
            "Actual=0\n",
            "AI says=[3.2782555e-07]\n",
            "<START> UNUSED most enjoyable pet movie since scooby doo and garfield UNUSED story revolves around a 23 year old UNK named brian foster whose systems at his UNK company seems to keep failing brian is also dating UNUSED UNK daughter named UNK but brian secretly invented a robotic dog named UNK UNK after his own dog UNK but UNK is no UNK dog he is as fast as a UNK he has x ray vision can leap about 6 feet and has a strength of 20 men UNUSED new invention UNK his boss and makes his business a success but when UNUSED company rivals hear about UNK they try to find a way to capture him can UNK UNK them before its too late this movie is a classic for all ages <PAD> <PAD> <PAD> <PAD> <PAD> <PAD> <PAD> <PAD> <PAD> <PAD> <PAD> <PAD> <PAD> <PAD> <PAD> <PAD> <PAD> <PAD> <PAD> <PAD> <PAD> <PAD> <PAD> <PAD> <PAD> <PAD> <PAD> <PAD> <PAD> <PAD> <PAD> <PAD> <PAD> <PAD> <PAD> <PAD> <PAD> <PAD> <PAD> <PAD> <PAD> <PAD> <PAD> <PAD> <PAD> <PAD> <PAD> <PAD> <PAD> <PAD> <PAD> <PAD> <PAD> <PAD> <PAD> <PAD> <PAD> <PAD> <PAD> <PAD> <PAD> <PAD> <PAD> <PAD> <PAD> <PAD> <PAD> <PAD> <PAD> <PAD> <PAD> <PAD> <PAD> <PAD> <PAD> <PAD> <PAD> <PAD> <PAD> <PAD> <PAD> <PAD> <PAD> <PAD> <PAD> <PAD> <PAD> <PAD> <PAD> <PAD> <PAD> <PAD> <PAD> <PAD> <PAD> <PAD> <PAD> <PAD> <PAD> <PAD> <PAD> <PAD> <PAD> <PAD> <PAD> <PAD> <PAD> <PAD> <PAD> <PAD> <PAD> <PAD> <PAD> <PAD> <PAD> <PAD> <PAD> <PAD> <PAD> <PAD> <PAD> <PAD> <PAD> <PAD>\n",
            "Actual=1\n",
            "AI says=[0.99970794]\n",
            "begins to tag along after them and UNUSED case is forgotten for UNUSED next half hour while and his friends trade unfunny insults with each other and with strangers eventually UNUSED thread of UNUSED case is picked up again but proceeds slowly almost UNK following UNUSED UNK pattern already established br br sometimes in movies like this UNUSED location shooting provides a kind of atmosphere that UNK for UNUSED UNK of UNUSED story but not here UNUSED houses of UNUSED french village are attached to one another in long UNK UNUSED house UNK UNK UNUSED UNK directly with no steps UNUSED UNK show virtually no decoration and are pretty much UNK UNUSED flat are UNK what might have been one of UNUSED more interesting episodes a visit to a stone UNK on UNUSED coast UNK UNUSED trio until they begin behaving like and are asked to leave br br UNUSED acting is minimal nobody seems particularly anxious to say anything no jokes are made nothing amusing happens UNUSED policeman has a face almost as interesting as randy UNK UNUSED babe a tall UNK blonde looks like UNUSED kind of shot UNK on UNK that UNUSED east germans used to field at UNUSED olympic games br br i sat through more than an hour of it before giving it up maybe i'll take a crack at it some other time unless i've missed something or unless it turns into some deranged monty python routine towards UNUSED end i don't think you'll get much out of renting it\n",
            "Actual=0\n",
            "AI says=[0.]\n",
            "<START> eric UNK UNK janet it should have been almost impossible to go wrong of course it has some funny moments UNUSED scene in UNUSED UNK when UNK echoes UNK UNK UNK ghastly werewolf line i can't help myself is hilarious but ultimately UNUSED plot script and direction are flat as a UNK and as tired as a 90 year old nun after UNK UNK mary s when i was a child carry on films filled this UNK slightly better which is a really sad UNK of a film with such a promising cast <PAD> <PAD> <PAD> <PAD> <PAD> <PAD> <PAD> <PAD> <PAD> <PAD> <PAD> <PAD> <PAD> <PAD> <PAD> <PAD> <PAD> <PAD> <PAD> <PAD> <PAD> <PAD> <PAD> <PAD> <PAD> <PAD> <PAD> <PAD> <PAD> <PAD> <PAD> <PAD> <PAD> <PAD> <PAD> <PAD> <PAD> <PAD> <PAD> <PAD> <PAD> <PAD> <PAD> <PAD> <PAD> <PAD> <PAD> <PAD> <PAD> <PAD> <PAD> <PAD> <PAD> <PAD> <PAD> <PAD> <PAD> <PAD> <PAD> <PAD> <PAD> <PAD> <PAD> <PAD> <PAD> <PAD> <PAD> <PAD> <PAD> <PAD> <PAD> <PAD> <PAD> <PAD> <PAD> <PAD> <PAD> <PAD> <PAD> <PAD> <PAD> <PAD> <PAD> <PAD> <PAD> <PAD> <PAD> <PAD> <PAD> <PAD> <PAD> <PAD> <PAD> <PAD> <PAD> <PAD> <PAD> <PAD> <PAD> <PAD> <PAD> <PAD> <PAD> <PAD> <PAD> <PAD> <PAD> <PAD> <PAD> <PAD> <PAD> <PAD> <PAD> <PAD> <PAD> <PAD> <PAD> <PAD> <PAD> <PAD> <PAD> <PAD> <PAD> <PAD> <PAD> <PAD> <PAD> <PAD> <PAD> <PAD> <PAD> <PAD> <PAD> <PAD> <PAD> <PAD> <PAD> <PAD> <PAD> <PAD> <PAD> <PAD> <PAD> <PAD> <PAD> <PAD> <PAD> <PAD> <PAD> <PAD> <PAD> <PAD> <PAD> <PAD> <PAD> <PAD> <PAD> <PAD> <PAD> <PAD> <PAD> <PAD>\n",
            "Actual=0\n",
            "AI says=[4.4226646e-05]\n",
            "of UNUSED balance created between UNUSED parallel stories and now do i really need to mention UNUSED stellar cast and even stellar er that is a word from now performances from them a special mention goes to mr for UNUSED best debut ever in any movie on this earth every actor in this movie had been very carefully chosen and UNUSED role were UNK made for them and for their age too i must add still looks like she's 18 and wow man with that figure i would have raped her too are you wondering where did this rape thing come in suddenly yes a rape is what UNUSED premises of this movie is based on and that is so not like your average bollywood type movies if you are an UNK or an UNK by any chance this movie is again a must for you because this movie can UNK your faith i don't think it'd even be going too far saying that this movie can cure cancer only UNUSED people who need it UNUSED most fail to appreciate its power charm and UNK beauty so unfortunate br br only flaw in this movie in your dreams baby this was flawless br br only minor complain UNUSED director failed to star UNK da as well br br i won't ruin it for you any further just go and watch it today and if you like it here are some more recommendation from me UNK UNUSED old UNK brothers horror movies UNK UNUSED tiger and UNK\n",
            "Actual=1\n",
            "AI says=[0.9999099]\n",
            "UNK saying i've never UNK in me life UNK can get on UNUSED nerves when she UNK over and over in some films but here she is delightfully lovable and her pairing with is very charming br br it is obvious in UNUSED romance department that UNK UNK is not barbara UNK cup of tea especially when she meets handsome dennis morgan who is a bit UNK when bathing UNUSED baby which eats soap causing stanwyck to get a bit UNK he should suspect something instantly but doesn't but it doesn't matter UNUSED film is so charming with UNUSED country setting filled with snow an abundance of UNK UNK and a dog running towards them as UNUSED UNK comes up living in new york city after 25 years in los angeles after growing up in a small town on UNUSED western side of new york state made me miss this kind of christmas while central park is beautiful after a first snow and UNUSED christmas tree at UNK center is too there is something about looking out at a snow covered field of trees and catch an occasional glimpse of deer UNK or other wild life br br this is a great holiday film that can also bring on UNUSED christmas spirit out of season and makes a great pairing with another barbara stanwyck country christmas film remember UNUSED night an underrated gem add on UNUSED big city christmas of meet john UNK and you've found perhaps one of UNUSED UNK stars of holiday films around\n",
            "Actual=1\n",
            "AI says=[0.99983454]\n",
            "<START> why UNK petty was cast as tank girl i'll never know her acting performance is lack UNK her voice is grating it's almost impossible for me to put into words how bad this movie is br br there are several modern pop references in UNUSED film which i found to be very strange given that UNUSED movie was supposed to take place far in UNUSED future it wouldn't have been hard to make this premise interesting either some better writing would have helped loads br br UNK UNK makes an appearance in it as a mild mannered UNK geek i think they should have probably switched roles br br i'll never know why anyone would like this movie unless they were a petty fan br br try not to see this movie total waste of time <PAD> <PAD> <PAD> <PAD> <PAD> <PAD> <PAD> <PAD> <PAD> <PAD> <PAD> <PAD> <PAD> <PAD> <PAD> <PAD> <PAD> <PAD> <PAD> <PAD> <PAD> <PAD> <PAD> <PAD> <PAD> <PAD> <PAD> <PAD> <PAD> <PAD> <PAD> <PAD> <PAD> <PAD> <PAD> <PAD> <PAD> <PAD> <PAD> <PAD> <PAD> <PAD> <PAD> <PAD> <PAD> <PAD> <PAD> <PAD> <PAD> <PAD> <PAD> <PAD> <PAD> <PAD> <PAD> <PAD> <PAD> <PAD> <PAD> <PAD> <PAD> <PAD> <PAD> <PAD> <PAD> <PAD> <PAD> <PAD> <PAD> <PAD> <PAD> <PAD> <PAD> <PAD> <PAD> <PAD> <PAD> <PAD> <PAD> <PAD> <PAD> <PAD> <PAD> <PAD> <PAD> <PAD> <PAD> <PAD> <PAD> <PAD> <PAD> <PAD> <PAD> <PAD> <PAD> <PAD> <PAD> <PAD> <PAD> <PAD> <PAD> <PAD> <PAD> <PAD> <PAD> <PAD> <PAD> <PAD> <PAD> <PAD> <PAD> <PAD> <PAD> <PAD> <PAD> <PAD> <PAD> <PAD> <PAD>\n",
            "Actual=0\n",
            "AI says=[2.8550625e-05]\n",
            "<START> an under appreciated unseen gem UNK does a remarkable job of UNK in poignant heartbreaking fashion UNUSED tension that UNK between a son who's been to hell and back and his parents who can't begin to understand UNUSED emotional UNK left behind it's not unlike born on UNUSED fourth of july in that it deals with a UNK emotional and mental breakdown after serving in vietnam but while that one focused more on UNUSED politics of post vietnam anti war speeches etc this one deals with a much more personal topic family one man's struggle to return to UNK after a life UNK experience and his parents' failure to see UNUSED change that has occurred br br UNK delivers a UNK performance as jeremy UNK you can sense UNUSED pain and frustration UNK beneath surface there to match him inch for inch is his real life father martin sheen it's a trip watching these two act off of each other as you get UNUSED sense that they're constantly trying to one up one another it's like UNUSED presence of each other inspired UNUSED pair to do their best and their performances triumph because of it br br recommended to anyone who UNK solid acting writing and directing and to any vietnam war buff br br 8 10 <PAD> <PAD> <PAD> <PAD> <PAD> <PAD> <PAD> <PAD> <PAD> <PAD> <PAD> <PAD> <PAD> <PAD> <PAD> <PAD> <PAD> <PAD> <PAD> <PAD> <PAD> <PAD> <PAD> <PAD> <PAD> <PAD> <PAD> <PAD> <PAD> <PAD> <PAD> <PAD> <PAD> <PAD> <PAD> <PAD> <PAD> <PAD>\n",
            "Actual=1\n",
            "AI says=[0.99999964]\n",
            "let me warn chess players about UNUSED dvd as well UNUSED jacket promises you that UNUSED extras include UNUSED games with analysis is this UNK analysis which people like us might find interesting no it is UNUSED UNK computer voice UNK analysis from some version of that tells you when a piece is attacked and a UNK gets isolated and that you are in UNUSED UNK defense main line br br someone might then come along and say well clearly this movie is meant to UNK UNUSED match for UNUSED non player and so it's unfair to be UNK with it but actually it doesn't do a very good job of reaching out to UNUSED non player either it UNK over some points that a true UNK would really want to have explained for example it says that UNK could have gotten UNK check in UNUSED second game but it doesn't explain what that is or show what it would have looked like on UNUSED board which would have been interesting it flashes back to UNUSED UNK matches but doesn't explain why there were two of them or who organized them etc i didn't need this information myself but i'm familiar with it if you don't already have chess experience there are places where you are going to be confused and this is just a UNK in UNUSED film br br ultimately i can't recommend UNUSED movie which like UNUSED itself is not what it UNK to be a documentary but more of a stage illusion\n",
            "Actual=0\n",
            "AI says=[0.10093769]\n",
            "youth in reality it was little more than an exploitation film based mostly around shock value UNK edge was promoted as a teen exploitation flick but was in UNK much better UNUSED only times it goes from being disturbing to UNK is UNUSED constant image of UNUSED dead nude body outside of that UNUSED film is thought provoking and for all its minor flaws quite realistic br br keanu reeves known for being a particularly wooden performer gives his best performance as a burned out teenager UNK UNK is equally sympathetic and likable dennis hopper on UNUSED comeback trail with this blue UNK and UNK gives a great performance as UNUSED creepy yet pathetic hippie generation UNK UNK glover while always entertaining to watch seems a bit out of place as UNUSED manic UNK and leader of UNUSED group UNUSED best performance however is definitely daniel UNK as UNUSED murderer john UNK is UNK UNK its a shame he didn't become a bigger star as hes a much better actor than reeves br br UNUSED film is overall fantastic and daring don't mistake this for another lame john hughes clichéd high school flick such as UNUSED breakfast club this is a shocking piece of UNK that UNK with UNUSED viewer fans of this movie are advised to check out a canadian film from 1981 called out of UNUSED blue directed by dennis hopper its another shockingly bleak examination of UNUSED generation gap and despite its obscurity may have been an influence on UNK edge 7 10\n",
            "Actual=1\n",
            "AI says=[0.99998426]\n",
            "<START> a bunch of medical student UNK get together in their spare time to hook each other to UNUSED UNK UNK and die then they stand around counting UNUSED time before brain death and then start UNK and heart UNK and bring each other back to life UNUSED fact that julia roberts was in this movie should say it all is like group ghost everyone wants to see their dead relatives and visit their old dead buddies so what better way to do it than have a bunch of medical students kill you for five minutes and then bring you back to life UNUSED rest of UNUSED movie has UNUSED predictable relationship issues plus UNUSED predictable gee maybe if we keep killing each other one of these days one of us will stay dead UNK this movie should have been called brain dead UNUSED fact that UNUSED characters were depicted as being medical students made me wonder if they had gone to a foreign UNK school to get their degrees UNUSED only thing that kept this film from being a total laugh was that they did not just stick their fingers into UNK UNK in order to die this film would have been a great three stooges comedy movie <PAD> <PAD> <PAD> <PAD> <PAD> <PAD> <PAD> <PAD> <PAD> <PAD> <PAD> <PAD> <PAD> <PAD> <PAD> <PAD> <PAD> <PAD> <PAD> <PAD> <PAD> <PAD> <PAD> <PAD> <PAD> <PAD> <PAD> <PAD> <PAD> <PAD> <PAD> <PAD> <PAD> <PAD> <PAD> <PAD> <PAD> <PAD> <PAD> <PAD> <PAD> <PAD> <PAD> <PAD> <PAD> <PAD> <PAD>\n",
            "Actual=0\n",
            "AI says=[5.3435564e-05]\n",
            "<START> i saw UNUSED movie in original italian it must be said that UNUSED acting and interpretation is most heavily UNK by UNUSED tv generated trend to speak in a severely UNK voice not moving lips UNK tones as emerged in UNUSED that's real life productions and let's raise our audience with a few tears screen UNK UNUSED late UNK UNK towers upon UNUSED other characters for intensity clarity of expression and intellectual honesty UNUSED movie has some good hints but as in another comment before mine it lacks a UNK point and UNK away in many plot lets of lesser and lesser relevance another trend dragged in from UNUSED tv productions well known to italians a few drops in style could be UNK to UNUSED public such as UNUSED drag charm and UNK of cooking plus sensual of UNK see UNK UNK lunch etc and UNUSED UNK are definitely more truthful seems that UNK has learned UNUSED tune of italy in UNUSED early UNK and is UNK along i'll give him a last chance though <PAD> <PAD> <PAD> <PAD> <PAD> <PAD> <PAD> <PAD> <PAD> <PAD> <PAD> <PAD> <PAD> <PAD> <PAD> <PAD> <PAD> <PAD> <PAD> <PAD> <PAD> <PAD> <PAD> <PAD> <PAD> <PAD> <PAD> <PAD> <PAD> <PAD> <PAD> <PAD> <PAD> <PAD> <PAD> <PAD> <PAD> <PAD> <PAD> <PAD> <PAD> <PAD> <PAD> <PAD> <PAD> <PAD> <PAD> <PAD> <PAD> <PAD> <PAD> <PAD> <PAD> <PAD> <PAD> <PAD> <PAD> <PAD> <PAD> <PAD> <PAD> <PAD> <PAD> <PAD> <PAD> <PAD> <PAD> <PAD> <PAD> <PAD> <PAD> <PAD> <PAD> <PAD> <PAD> <PAD> <PAD> <PAD> <PAD> <PAD>\n",
            "Actual=0\n",
            "AI says=[0.812498]\n",
            "<START> as a huge fan of horror i had given up on UNUSED vampire sub genre due to UNUSED fact that in most vampire flicks UNUSED vampire has become feminine and non threatening UNK and basically weak this was UNUSED attitude i brought to a viewing of midnight and i am happy to say that UNUSED vampires in this film at least have UNUSED UNK to kill old ladies and sacrifice babies UNK UNK one of my favorite actors of all time was born to play UNUSED charming vampire with savage intensity br br another thing that interested me is that UNUSED central location is UNUSED hotel that is cool because and i went back to my high school copy to look this up in dracula UNUSED pass is where jonathan UNK must pass to get to UNK castle br br finally my hats off to whoever made UNUSED decision to make UNUSED creature a real effect and not a darn cgi that's UNUSED one thing great about many low budget movies they cannot afford UNUSED garbage computer effects that plague many hollywood UNK br br bottom line this is better than underworld for sure especially if you are a vampire UNK cheers UNK <PAD> <PAD> <PAD> <PAD> <PAD> <PAD> <PAD> <PAD> <PAD> <PAD> <PAD> <PAD> <PAD> <PAD> <PAD> <PAD> <PAD> <PAD> <PAD> <PAD> <PAD> <PAD> <PAD> <PAD> <PAD> <PAD> <PAD> <PAD> <PAD> <PAD> <PAD> <PAD> <PAD> <PAD> <PAD> <PAD> <PAD> <PAD> <PAD> <PAD> <PAD> <PAD> <PAD> <PAD> <PAD> <PAD> <PAD> <PAD> <PAD> <PAD> <PAD> <PAD>\n",
            "Actual=1\n",
            "AI says=[0.9900272]\n"
          ],
          "name": "stdout"
        }
      ]
    },
    {
      "cell_type": "code",
      "metadata": {
        "id": "hxFghpXQaS2_",
        "colab_type": "code",
        "colab": {
          "base_uri": "https://localhost:8080/",
          "height": 70
        },
        "outputId": "76307923-751d-44fd-ef52-491622b31cf6"
      },
      "source": [
        "results = model.evaluate(testx, testy)\n",
        "print(results)"
      ],
      "execution_count": 42,
      "outputs": [
        {
          "output_type": "stream",
          "text": [
            "17000/17000 [==============================] - 1s 41us/sample - loss: 0.7165 - acc: 0.8439\n",
            "[0.7165301485903123, 0.84394115]\n"
          ],
          "name": "stdout"
        }
      ]
    },
    {
      "cell_type": "code",
      "metadata": {
        "id": "jEdVx1vLa69k",
        "colab_type": "code",
        "colab": {}
      },
      "source": [
        "model.save('pikachu.h5')"
      ],
      "execution_count": 0,
      "outputs": []
    },
    {
      "cell_type": "code",
      "metadata": {
        "id": "-ZllX_9vbbLY",
        "colab_type": "code",
        "colab": {}
      },
      "source": [
        ""
      ],
      "execution_count": 0,
      "outputs": []
    }
  ]
}