{
  "nbformat": 4,
  "nbformat_minor": 0,
  "metadata": {
    "colab": {
      "name": "10 Pooling Ops.ipynb",
      "provenance": [],
      "collapsed_sections": [],
      "authorship_tag": "ABX9TyOjXTyWbyt0QKNmOj6jlZpI",
      "include_colab_link": true
    },
    "kernelspec": {
      "name": "python3",
      "display_name": "Python 3"
    }
  },
  "cells": [
    {
      "cell_type": "markdown",
      "metadata": {
        "id": "view-in-github",
        "colab_type": "text"
      },
      "source": [
        "<a href=\"https://colab.research.google.com/github/a-forty-two/DataSetsForML/blob/master/10_Pooling_Ops.ipynb\" target=\"_parent\"><img src=\"https://colab.research.google.com/assets/colab-badge.svg\" alt=\"Open In Colab\"/></a>"
      ]
    },
    {
      "cell_type": "code",
      "metadata": {
        "id": "83Jntxr_nnIP",
        "colab_type": "code",
        "colab": {
          "base_uri": "https://localhost:8080/",
          "height": 81
        },
        "outputId": "29c90d92-d65e-4169-915e-b3f10bd6a6e6"
      },
      "source": [
        "# THIS is not in your test for tomorrow \n",
        "\n",
        "import tensorflow as tf\n",
        "temp = [0.,0., 1., 0.,0.,0., 1.5, 2.6]\n",
        "# lets break it into n dimensions\n",
        "# 5 dimensions for example\n",
        "values = tf.reshape(temp, [1,1,2,2,2]) # 1 list-> 1 list -> 2 lists-> 2 list -> 2 list\n",
        "values # a node on my DIrected Acyclic Graph \n",
        "# Lazy Evaluation-> nothing is actually done till it is needed\n"
      ],
      "execution_count": 1,
      "outputs": [
        {
          "output_type": "display_data",
          "data": {
            "text/html": [
              "<p style=\"color: red;\">\n",
              "The default version of TensorFlow in Colab will soon switch to TensorFlow 2.x.<br>\n",
              "We recommend you <a href=\"https://www.tensorflow.org/guide/migrate\" target=\"_blank\">upgrade</a> now \n",
              "or ensure your notebook will continue to use TensorFlow 1.x via the <code>%tensorflow_version 1.x</code> magic:\n",
              "<a href=\"https://colab.research.google.com/notebooks/tensorflow_version.ipynb\" target=\"_blank\">more info</a>.</p>\n"
            ],
            "text/plain": [
              "<IPython.core.display.HTML object>"
            ]
          },
          "metadata": {
            "tags": []
          }
        },
        {
          "output_type": "execute_result",
          "data": {
            "text/plain": [
              "<tf.Tensor 'Reshape:0' shape=(1, 1, 2, 2, 2) dtype=float32>"
            ]
          },
          "metadata": {
            "tags": []
          },
          "execution_count": 1
        }
      ]
    },
    {
      "cell_type": "code",
      "metadata": {
        "id": "MoLWKGw8osYG",
        "colab_type": "code",
        "colab": {}
      },
      "source": [
        "avgpool = tf.nn.pool(input = values, window_shape=(2,2,2), pooling_type='AVG', padding=\"SAME\")# padding makes all tensors of same size\n",
        "maxpool = tf.nn.pool(input=values, window_shape=(2,2,2), pooling_type='MAX', padding=\"SAME\")\n"
      ],
      "execution_count": 0,
      "outputs": []
    },
    {
      "cell_type": "code",
      "metadata": {
        "id": "R4OcdFjts7kT",
        "colab_type": "code",
        "colab": {}
      },
      "source": [
        ""
      ],
      "execution_count": 0,
      "outputs": []
    },
    {
      "cell_type": "code",
      "metadata": {
        "id": "47VAA4X7pq9L",
        "colab_type": "code",
        "colab": {
          "base_uri": "https://localhost:8080/",
          "height": 334
        },
        "outputId": "bb886739-4c7b-40a4-f252-f9c36b97c7f4"
      },
      "source": [
        "# run a session and apply data to these pooling layers\n",
        "session = tf.Session()\n",
        "print('Original Data')\n",
        "print(session.run(values))\n",
        "print('Avg Pool') # Bluring colors, NLP-> sentiment analysis\n",
        "print(session.run(avgpool))\n",
        "print('Max Pool') # most prominent pixel, NLP->the most word in NLP\n",
        "print(session.run(maxpool))\n",
        "\n",
        "session.close()"
      ],
      "execution_count": 3,
      "outputs": [
        {
          "output_type": "stream",
          "text": [
            "Original Data\n",
            "[[[[[0.  0. ]\n",
            "    [1.  0. ]]\n",
            "\n",
            "   [[0.  0. ]\n",
            "    [1.5 2.6]]]]]\n",
            "Avg Pool\n",
            "[[[[[0.625 0.65 ]\n",
            "    [1.25  1.3  ]]\n",
            "\n",
            "   [[0.75  1.3  ]\n",
            "    [1.5   2.6  ]]]]]\n",
            "Max Pool\n",
            "[[[[[1.5 2.6]\n",
            "    [1.5 2.6]]\n",
            "\n",
            "   [[1.5 2.6]\n",
            "    [1.5 2.6]]]]]\n"
          ],
          "name": "stdout"
        }
      ]
    },
    {
      "cell_type": "code",
      "metadata": {
        "id": "qAv52UV4qrw-",
        "colab_type": "code",
        "colab": {}
      },
      "source": [
        "\n",
        "# EPOCHS -> Neural networks are time bound -> so they get only limited time to look at your data\n",
        "# hence it is important to look at data again and again, and continue learning-> DON\"T START FROM SCRATCH\n",
        "# This timeline of single learning and storing the result so that it can be used again, is called EPOCH\n",
        "# TOO MANY EPOCHS -> OVERFITTING, TOO FEW-> Underfitting \n",
        "# TIME -> STEP"
      ],
      "execution_count": 0,
      "outputs": []
    }
  ]
}