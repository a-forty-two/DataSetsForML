{
  "nbformat": 4,
  "nbformat_minor": 0,
  "metadata": {
    "colab": {
      "name": "08 IntroToTF.ipynb",
      "provenance": [],
      "collapsed_sections": [],
      "authorship_tag": "ABX9TyO7CckD3/83RXeujgw+SFBg",
      "include_colab_link": true
    },
    "kernelspec": {
      "name": "python3",
      "display_name": "Python 3"
    }
  },
  "cells": [
    {
      "cell_type": "markdown",
      "metadata": {
        "id": "view-in-github",
        "colab_type": "text"
      },
      "source": [
        "<a href=\"https://colab.research.google.com/github/a-forty-two/DataSetsForML/blob/master/08_IntroToTF.ipynb\" target=\"_parent\"><img src=\"https://colab.research.google.com/assets/colab-badge.svg\" alt=\"Open In Colab\"/></a>"
      ]
    },
    {
      "cell_type": "code",
      "metadata": {
        "id": "2dLpwvmSYLbP",
        "colab_type": "code",
        "colab": {
          "base_uri": "https://localhost:8080/",
          "height": 63
        },
        "outputId": "263d2959-d379-4e43-eaf2-010c7744dac2"
      },
      "source": [
        "# CREATE A DIRECTED ACYCLIC GRAPH \n",
        "# ONCE THIS GRAPH IS CREATED, it needs to run in a session \n",
        "# this 1 run is called an epoch \n",
        "# this 1 run is divided into many steps \n",
        "\n",
        "import tensorflow as tf\n",
        "# color classification problem\n",
        "# generate some random RGB color values, and their classes \n",
        "inputs = [[200,0,1],[215,70,4],[0,0,200],[5,0,230]]\n",
        "ouputs = [[1],[1],[0],[0]]\n",
        "# TENSORFLOW ONLY ACCEPTS TENSORS \n",
        "# LISTSET => VALUES ONE AFTER THE OTHER, lists can even contain more lists\n",
        "# each list depth is a new dimension\n",
        "trainingInputs = tf.convert_to_tensor(value=inputs, dtype=tf.int8) # nos upto 1 byte long\n",
        "\n"
      ],
      "execution_count": 1,
      "outputs": [
        {
          "output_type": "display_data",
          "data": {
            "text/html": [
              "<p style=\"color: red;\">\n",
              "The default version of TensorFlow in Colab will soon switch to TensorFlow 2.x.<br>\n",
              "We recommend you <a href=\"https://www.tensorflow.org/guide/migrate\" target=\"_blank\">upgrade</a> now \n",
              "or ensure your notebook will continue to use TensorFlow 1.x via the <code>%tensorflow_version 1.x</code> magic:\n",
              "<a href=\"https://colab.research.google.com/notebooks/tensorflow_version.ipynb\" target=\"_blank\">more info</a>.</p>\n"
            ],
            "text/plain": [
              "<IPython.core.display.HTML object>"
            ]
          },
          "metadata": {
            "tags": []
          }
        }
      ]
    },
    {
      "cell_type": "code",
      "metadata": {
        "id": "ZayXzgZ0ZdKn",
        "colab_type": "code",
        "colab": {
          "base_uri": "https://localhost:8080/",
          "height": 52
        },
        "outputId": "9b274ba3-797d-495a-cecf-95688389208c"
      },
      "source": [
        "session = tf.Session()\n",
        "print(session.run(fetches=trainingInputs))\n",
        "session.close()"
      ],
      "execution_count": 3,
      "outputs": [
        {
          "output_type": "stream",
          "text": [
            "[[-56  98  17]\n",
            " [ 15  70 114]]\n"
          ],
          "name": "stdout"
        }
      ]
    },
    {
      "cell_type": "code",
      "metadata": {
        "id": "km98iMLVaP_p",
        "colab_type": "code",
        "colab": {}
      },
      "source": [
        "#import tensorflow as tf\n",
        "# color classification problem\n",
        "# generate some random RGB color values, and their classes \n",
        "#inputs = [[200,0,1],[215,70,4],[0,0,200],[5,0,230]]\n",
        "#ouputs = [[1],[1],[0],[0]]\n",
        "# TENSORFLOW ONLY ACCEPTS TENSORS \n",
        "# LISTSET => VALUES ONE AFTER THE OTHER, lists can even contain more lists\n",
        "# each list depth is a new dimension\n",
        "\n",
        "\n",
        "\n",
        "\n",
        "\n",
        "\n",
        "#trainingInputs = tf.convert_to_tensor(value=inputs, dtype=tf.int8) # nos upto 1 byte long\n",
        "#session = tf.Session()\n",
        "#session.run(tf.global_variables_initializer())\n",
        "#for step in range(100):\n",
        "  #\n",
        "\n",
        "\n",
        "#print(session.run(fetches=trainingInputs))\n",
        "#session.close()"
      ],
      "execution_count": 0,
      "outputs": []
    },
    {
      "cell_type": "code",
      "metadata": {
        "id": "BGsqYN46cxmR",
        "colab_type": "code",
        "colab": {}
      },
      "source": [
        "import tensorflow as tf\n",
        "# let's discuss only a single layer\n",
        "# 3-d input, 1-d output\n",
        "# 3 weights, 1 bias\n",
        "traininginputs = tf.placeholder(shape=[None,3], dtype=tf.float32)\n",
        "trainingoutputs = tf.placeholder(shape=[None,1], dtype=tf.float32)\n",
        "weights = tf.Variable(initial_value=[[0.3],[0.1],[0.7]], dtype=tf.float32)\n",
        "bias = tf.Variable(initial_value=[[1]], dtype=tf.float32)\n",
        "\n",
        "\n",
        "# PLACEHOLDER ->During execution, this value is used again and again\n",
        "# VARIABLES -> During execution, this value changes frequently/per step\n",
        "# weights, biases -> tf.variable\n",
        "# ip/op -> tf.placeholder "
      ],
      "execution_count": 0,
      "outputs": []
    },
    {
      "cell_type": "code",
      "metadata": {
        "id": "tSABG0n2erz2",
        "colab_type": "code",
        "colab": {
          "base_uri": "https://localhost:8080/",
          "height": 34
        },
        "outputId": "6e3e1fd9-705b-4f79-b96b-6b61fee689a4"
      },
      "source": [
        "# SINGLE LAYER MODEL\n",
        "# y = f(x) = mx + c\n",
        "y = tf.matmul(traininginputs, weights) + bias\n",
        "predictions = tf.nn.sigmoid(y)\n",
        "prediction_error = tf.reduce_sum(trainingoutputs - predictions)\n",
        "train_op = tf.train.GradientDescentOptimizer(learning_rate=0.05).minimize(prediction_error)\n",
        "# LEARNING RATE SHOULD BE A HYPERPARAMETER\n",
        "prediction_error # THIS IS JUST A FUNCTION/NODE/TRANSFORMATION on the Directed Acyclic Graph\n",
        "# it is NOT a real value\n",
        "# ONLY EXECUTED ON RUN TIME! no compile time execution possible\n",
        "# weights and biases are calculated only on RUNTIME \n",
        "\n",
        "# what if you wanted a hard-coded, non-dynamic, non-static, quick calculation, use TF.EAGER\n",
        "# it does an EAGER evaluation instead of LAZY evaluation \n",
        "# it does not wait for a DAG to be created, it forms a direct equation"
      ],
      "execution_count": 6,
      "outputs": [
        {
          "output_type": "execute_result",
          "data": {
            "text/plain": [
              "<tf.Tensor 'Sum_1:0' shape=() dtype=float32>"
            ]
          },
          "metadata": {
            "tags": []
          },
          "execution_count": 6
        }
      ]
    },
    {
      "cell_type": "code",
      "metadata": {
        "id": "9LDFmGBVi1wk",
        "colab_type": "code",
        "colab": {
          "base_uri": "https://localhost:8080/",
          "height": 122
        },
        "outputId": "59227307-4b0c-47a7-ac85-ae8f790bbb90"
      },
      "source": [
        "session = tf.Session()\n",
        "# when using placeholder and variables, initialize them in beginning of run\n",
        "session.run(tf.global_variables_initializer())\n",
        "inputs = [[200,0,1],[215,70,4],[0,0,200],[5,0,230]]\n",
        "outputs = [[1],[1],[0],[0]]\n",
        "for step in range(1000):\n",
        "  session.run(fetches=[train_op], feed_dict={traininginputs:inputs, trainingoutputs:outputs})\n",
        "print(session.run(weights))\n",
        "print(session.run(bias))\n",
        "print(session.run(fetches=predictions, feed_dict={traininginputs:[[254,0,0],[0,0,230]]}))\n",
        "session.close()\n",
        "# NO NEW LEARNING \n"
      ],
      "execution_count": 11,
      "outputs": [
        {
          "output_type": "stream",
          "text": [
            "[[0.3]\n",
            " [0.1]\n",
            " [0.7]]\n",
            "[[1.]]\n",
            "[[1.]\n",
            " [1.]]\n"
          ],
          "name": "stdout"
        }
      ]
    },
    {
      "cell_type": "code",
      "metadata": {
        "id": "C6XJ1pUjfiOn",
        "colab_type": "code",
        "colab": {
          "base_uri": "https://localhost:8080/",
          "height": 34
        },
        "outputId": "b83bcb6f-2153-4c9b-d830-0b55dfc76c44"
      },
      "source": [
        "def abc():\n",
        "  return 'hello'\n",
        "\n",
        "abc"
      ],
      "execution_count": 7,
      "outputs": [
        {
          "output_type": "execute_result",
          "data": {
            "text/plain": [
              "<function __main__.abc>"
            ]
          },
          "metadata": {
            "tags": []
          },
          "execution_count": 7
        }
      ]
    },
    {
      "cell_type": "code",
      "metadata": {
        "id": "SBXFzHh9h3qE",
        "colab_type": "code",
        "colab": {}
      },
      "source": [
        ""
      ],
      "execution_count": 0,
      "outputs": []
    }
  ]
}