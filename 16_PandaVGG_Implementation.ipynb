{
  "nbformat": 4,
  "nbformat_minor": 0,
  "metadata": {
    "colab": {
      "name": "16 PandaVGG Implementation.ipynb",
      "provenance": [],
      "collapsed_sections": [],
      "authorship_tag": "ABX9TyPUBj7Jii49EQb/MqhSrvr9",
      "include_colab_link": true
    },
    "kernelspec": {
      "name": "python3",
      "display_name": "Python 3"
    }
  },
  "cells": [
    {
      "cell_type": "markdown",
      "metadata": {
        "id": "view-in-github",
        "colab_type": "text"
      },
      "source": [
        "<a href=\"https://colab.research.google.com/github/a-forty-two/DataSetsForML/blob/master/16_PandaVGG_Implementation.ipynb\" target=\"_parent\"><img src=\"https://colab.research.google.com/assets/colab-badge.svg\" alt=\"Open In Colab\"/></a>"
      ]
    },
    {
      "cell_type": "code",
      "metadata": {
        "id": "1891QBk3PJJE",
        "colab_type": "code",
        "colab": {
          "base_uri": "https://localhost:8080/",
          "height": 1000
        },
        "outputId": "dc54711d-ec19-41b0-d33e-b91bba210585"
      },
      "source": [
        "# Our very own version of VGG implementation\n",
        "# First let's check out how VGG looks like \n",
        "from keras.applications.vgg19 import VGG19\n",
        "import numpy as np\n",
        "\n",
        "model = VGG19()\n",
        "model.summary()"
      ],
      "execution_count": 4,
      "outputs": [
        {
          "output_type": "stream",
          "text": [
            "Downloading data from https://github.com/fchollet/deep-learning-models/releases/download/v0.1/vgg19_weights_tf_dim_ordering_tf_kernels.h5\n",
            "574717952/574710816 [==============================] - 6s 0us/step\n",
            "Model: \"vgg19\"\n",
            "_________________________________________________________________\n",
            "Layer (type)                 Output Shape              Param #   \n",
            "=================================================================\n",
            "input_3 (InputLayer)         (None, 224, 224, 3)       0         \n",
            "_________________________________________________________________\n",
            "block1_conv1 (Conv2D)        (None, 224, 224, 64)      1792      \n",
            "_________________________________________________________________\n",
            "block1_conv2 (Conv2D)        (None, 224, 224, 64)      36928     \n",
            "_________________________________________________________________\n",
            "block1_pool (MaxPooling2D)   (None, 112, 112, 64)      0         \n",
            "_________________________________________________________________\n",
            "block2_conv1 (Conv2D)        (None, 112, 112, 128)     73856     \n",
            "_________________________________________________________________\n",
            "block2_conv2 (Conv2D)        (None, 112, 112, 128)     147584    \n",
            "_________________________________________________________________\n",
            "block2_pool (MaxPooling2D)   (None, 56, 56, 128)       0         \n",
            "_________________________________________________________________\n",
            "block3_conv1 (Conv2D)        (None, 56, 56, 256)       295168    \n",
            "_________________________________________________________________\n",
            "block3_conv2 (Conv2D)        (None, 56, 56, 256)       590080    \n",
            "_________________________________________________________________\n",
            "block3_conv3 (Conv2D)        (None, 56, 56, 256)       590080    \n",
            "_________________________________________________________________\n",
            "block3_conv4 (Conv2D)        (None, 56, 56, 256)       590080    \n",
            "_________________________________________________________________\n",
            "block3_pool (MaxPooling2D)   (None, 28, 28, 256)       0         \n",
            "_________________________________________________________________\n",
            "block4_conv1 (Conv2D)        (None, 28, 28, 512)       1180160   \n",
            "_________________________________________________________________\n",
            "block4_conv2 (Conv2D)        (None, 28, 28, 512)       2359808   \n",
            "_________________________________________________________________\n",
            "block4_conv3 (Conv2D)        (None, 28, 28, 512)       2359808   \n",
            "_________________________________________________________________\n",
            "block4_conv4 (Conv2D)        (None, 28, 28, 512)       2359808   \n",
            "_________________________________________________________________\n",
            "block4_pool (MaxPooling2D)   (None, 14, 14, 512)       0         \n",
            "_________________________________________________________________\n",
            "block5_conv1 (Conv2D)        (None, 14, 14, 512)       2359808   \n",
            "_________________________________________________________________\n",
            "block5_conv2 (Conv2D)        (None, 14, 14, 512)       2359808   \n",
            "_________________________________________________________________\n",
            "block5_conv3 (Conv2D)        (None, 14, 14, 512)       2359808   \n",
            "_________________________________________________________________\n",
            "block5_conv4 (Conv2D)        (None, 14, 14, 512)       2359808   \n",
            "_________________________________________________________________\n",
            "block5_pool (MaxPooling2D)   (None, 7, 7, 512)         0         \n",
            "_________________________________________________________________\n",
            "flatten (Flatten)            (None, 25088)             0         \n",
            "_________________________________________________________________\n",
            "fc1 (Dense)                  (None, 4096)              102764544 \n",
            "_________________________________________________________________\n",
            "fc2 (Dense)                  (None, 4096)              16781312  \n",
            "_________________________________________________________________\n",
            "predictions (Dense)          (None, 1000)              4097000   \n",
            "=================================================================\n",
            "Total params: 143,667,240\n",
            "Trainable params: 143,667,240\n",
            "Non-trainable params: 0\n",
            "_________________________________________________________________\n"
          ],
          "name": "stdout"
        }
      ]
    },
    {
      "cell_type": "code",
      "metadata": {
        "id": "J67VcEIPRE8p",
        "colab_type": "code",
        "colab": {}
      },
      "source": [
        "# Directory structure to follow for production training of model\n",
        "# Objective: Lowest latency : Training is usually done in clusters -> data is distributed as well-> so keeping their names\n",
        "# highly organized becomes very important to quickly reference them \n",
        "# Solution: keep data highly structured \n",
        "# Objective: Ease of bug detection\n",
        "# Solution: follow hierarchy \n",
        "# Objective: Highly mobile code\n",
        "# Solution: mention dependencies \n"
      ],
      "execution_count": 0,
      "outputs": []
    },
    {
      "cell_type": "code",
      "metadata": {
        "id": "ryY57boeUyi3",
        "colab_type": "code",
        "colab": {
          "base_uri": "https://localhost:8080/",
          "height": 34
        },
        "outputId": "0746a00e-fc51-4c31-fdb4-50cf178d4690"
      },
      "source": [
        "!ls"
      ],
      "execution_count": 5,
      "outputs": [
        {
          "output_type": "stream",
          "text": [
            "'16 cogni Directory for portable model training.PNG'   sample_data\n"
          ],
          "name": "stdout"
        }
      ]
    },
    {
      "cell_type": "code",
      "metadata": {
        "id": "ABp2ux4womqU",
        "colab_type": "code",
        "colab": {
          "base_uri": "https://localhost:8080/",
          "height": 286
        },
        "outputId": "35f96bea-38eb-4fac-b8bc-77e867760d0c"
      },
      "source": [
        "# Directory structure for pipeline\n",
        "import cv2\n",
        "x = cv2.imread('16 cogni Directory for portable model training.PNG')\n",
        "import matplotlib.pyplot as plt\n",
        "plt.imshow(x)"
      ],
      "execution_count": 14,
      "outputs": [
        {
          "output_type": "execute_result",
          "data": {
            "text/plain": [
              "<matplotlib.image.AxesImage at 0x7fcb86e4a358>"
            ]
          },
          "metadata": {
            "tags": []
          },
          "execution_count": 14
        },
        {
          "output_type": "display_data",
          "data": {
            "image/png": "[encoded data removed]",
            "text/plain": [
              "<Figure size 432x288 with 1 Axes>"
            ]
          },
          "metadata": {
            "tags": []
          }
        }
      ]
    },
    {
      "cell_type": "code",
      "metadata": {
        "id": "SnV5cTSWo3a2",
        "colab_type": "code",
        "colab": {
          "base_uri": "https://localhost:8080/",
          "height": 163
        },
        "outputId": "2118038f-44d2-4d89-885b-8af2a63252ec"
      },
      "source": [
        "#inside a pipeline folder\n",
        "import cv2\n",
        "x = cv2.imread('16 cogni Directory for portable model training 1.PNG')\n",
        "import matplotlib.pyplot as plt\n",
        "plt.imshow(x)"
      ],
      "execution_count": 15,
      "outputs": [
        {
          "output_type": "execute_result",
          "data": {
            "text/plain": [
              "<matplotlib.image.AxesImage at 0x7fcb86e1dc50>"
            ]
          },
          "metadata": {
            "tags": []
          },
          "execution_count": 15
        },
        {
          "output_type": "display_data",
          "data": {
            "image/png": "[encoded data removed]",
            "text/plain": [
              "<Figure size 432x288 with 1 Axes>"
            ]
          },
          "metadata": {
            "tags": []
          }
        }
      ]
    },
    {
      "cell_type": "code",
      "metadata": {
        "id": "CTb5iodjU0Rw",
        "colab_type": "code",
        "colab": {
          "base_uri": "https://localhost:8080/",
          "height": 286
        },
        "outputId": "5fd5fa05-78d2-4372-ec77-b9cbc9d34114"
      },
      "source": [
        "# Directory structure for standalone cleaning and training\n",
        "import cv2\n",
        "x = cv2.imread('16 cogni Directory for portable model training.PNG')\n",
        "import matplotlib.pyplot as plt\n",
        "plt.imshow(x)"
      ],
      "execution_count": 7,
      "outputs": [
        {
          "output_type": "execute_result",
          "data": {
            "text/plain": [
              "<matplotlib.image.AxesImage at 0x7fcb86faf0b8>"
            ]
          },
          "metadata": {
            "tags": []
          },
          "execution_count": 7
        },
        {
          "output_type": "display_data",
          "data": {
            "image/png": "[encoded data removed]",
            "text/plain": [
              "<Figure size 432x288 with 1 Axes>"
            ]
          },
          "metadata": {
            "tags": []
          }
        }
      ]
    },
    {
      "cell_type": "markdown",
      "metadata": {
        "id": "XwQgd01CVAZd",
        "colab_type": "text"
      },
      "source": [
        "#Directory Structure (Diagram above)\n",
        "\n",
        "Config.py/ install.py : all installations, properties, constants, global variables, required for libraries used in program\n",
        "\n",
        "example: !pip install tensorflow keras\n",
        "\n",
        "example: import numpy as np\n",
        "\n",
        "example: PI=3.1\n",
        "\n",
        "example: system.globalvars.PATH = system.globalvars.PATH + 'some new dependency path' <example only>\n",
        "\n",
        "train.py : actual program that uses 'MODEL class' and generates a 'MODEL object' as a result of training \n",
        "\n",
        "test.py : actual program that Scores the model after training\n",
        "\n",
        "eval.py : Evaluates the model post training\n",
        "\n",
        "data folder-> all our raw data (CSV, images, audio, text, URLs for HTTP written in excel or text files everything!)\n",
        "\n",
        "This should be highly structured and hierarchial (more folders and more division, the better- more columns the better)\n",
        "\n",
        "bin folder -> output of your activities- all your plots, the model.h5 or model.pickle, any other artifacts of training, cleaned data \n",
        "\n",
        "if cleaned data is too much -> created different folders inside data-> dirty and clean \n",
        "\n",
        "First keep data by default in dirty-> after transformations/manual cleaning/magic no. removal/outlier removal/ image augmentation/ encoding etc etc.. move to CLEAN data \n",
        "\n",
        "\n",
        "CLEAN DATA should contain data that can be used for ML/DL as it is. \n",
        "\n",
        "Test Data should contain CLEAN data for model testing \n",
        "\n",
        "Val Data -> validation data (if any)\n",
        "\n",
        "\n",
        "\n"
      ]
    },
    {
      "cell_type": "code",
      "metadata": {
        "id": "F-YFqDI7fN7B",
        "colab_type": "code",
        "colab": {
          "base_uri": "https://localhost:8080/",
          "height": 67
        },
        "outputId": "95722196-c3ce-48bd-9668-65abc4ba66ba"
      },
      "source": [
        "!ls\n"
      ],
      "execution_count": 11,
      "outputs": [
        {
          "output_type": "stream",
          "text": [
            "'16 cogni Directory for portable model training.PNG'   preprocess_pipeline\n",
            " data\t\t\t\t\t\t       sample_data\n",
            " pipeline_part1_handleNull.py\t\t\t       train.py\n"
          ],
          "name": "stdout"
        }
      ]
    },
    {
      "cell_type": "code",
      "metadata": {
        "id": "MzLGXQnqfRyu",
        "colab_type": "code",
        "colab": {}
      },
      "source": [
        "# Creating a model for consumption\n",
        "# In local machine: c:/prod/pandaVGG/PandaVGG.py\n",
        "# ONLY the code to design the model- nothing else\n",
        "# This is not tensorflow.keras, this is KERAS API\n",
        "# its a wrapper on top of libraries like TF, Theano, CNTK\n",
        "import numpy as np\n",
        "from keras import backend\n",
        "from keras.layers.core import Dense, Dropout, Flatten, Activation\n",
        "from keras.layers.convolutional import Conv2D, MaxPooling2D\n",
        "from keras.layers.normalization import BatchNormalization\n",
        "from keras.models import Sequential\n",
        "# for very large algos, such as VGG, running many instances of your algorithm can damange ram and other h/w also\n",
        "# very least, other programs will suffer and face depleted performance \n",
        "# that is why we make sure that only 1 instance of such programs runs at any given time \n",
        "# such classes are called SINGLETONS \n",
        "# In python, singletons can be implemented by STATIC method\n",
        "# ANY programming language -> STATIC -> your variable has the same lifecycle as rest of the program- unlike other variables\n",
        "# it will not be deallocated when no longer needed\n",
        "# as a result, its in shared memory and only 1 instance of it can exit\n",
        "# even if many objects are created, they will still share only 1 common instance in the SHARED memory \n",
        "class PandaVGG: # model.fit(), model.predict() ; for them you need object\n",
        "  # observe: static method-> does not have 'self' object as reference. This is because self is to associate class with\n",
        "  # current instance of method. SInce this is static and shared, it is not associated with 1 particular object. Hence\n",
        "  # no self is required in static method. \n",
        "  # So given Input (w,h,d) and output (classes), we are designing our NN\n",
        "  @staticmethod\n",
        "  def create(width, height, depth, classes): # TF was CHANNELS_LAST -> depth is mentioned as the last value, after w&h\n",
        "    model = Sequential()\n",
        "    inputShape = (height, width, depth) # the expected shape as per TF\n",
        "    # but what if this program is then run on some other framework? which follows channels_first instead?\n",
        "    chanDim = -1 # CHANNELS_LAST set as default \n",
        "    # now check if some other library except TF or CNTK is running\n",
        "    if backend.image_data_format() == \"channels_first\":\n",
        "      inputShape = (depth, height, width)\n",
        "      chanDim = 1 # for Theano (if tf or CNTK is not running)\n",
        "      # this chan_dim is a measure of DEPTH of data-> so makes sense only for multidimension data, such as image or video\n",
        "      # any backend (TF, THEANO, CNTK) running in backend, would have been able to run this code\n",
        "      # as long as they were receiving params in their desired shapes and formats\n",
        "    # IDEA behind designing our CNN \n",
        "    # FIRST -> LEARN pattern on all the data (via filters or convolutions), and break it into multi dimensions\n",
        "    # some of those weights could be negative (BUT IMAGES DON't HAVE NEGATIVE PIXELS)! \n",
        "    # SECOND -> ADD a RELU layer to deactivate all negative values \n",
        "    # weights will be on various scales (thats how conv layer's math is built)\n",
        "    # THIRD -> NORMALIZE the data \n",
        "    # COMPRESS THE IMAGE [THIS IS VERY CRITICAL. LOSE some amount of data, and keep only important features back]\n",
        "    # FOURTH-> MaxPooling (COMPRESSION)\n",
        "    # FIFTH -> DO THIS A FEW MORE TIMES, learning finer patterns on only important features\n",
        "    # in next step, only the most important of important features will survive, and so on for every block of\n",
        "    # repeatation added \n",
        "    # FINALLY, once happy with amount of filters and patterns understood on images, do the classification on \n",
        "    # the filtered data \n",
        "\n",
        "    \n",
        "    # REGULAR IMAGE CLASSIFICATION (WEEK 2,Day 1): Flattening -> Dense(Relu) -> Dense( SOFTMAX )\n",
        "    # GENERATE lots and lots of features with help of layers & layers of convolutions. \n",
        "    # Then just do a Flat->Dense(Relu)->Dense(Softmax) the general image classification \n",
        "\n",
        "    # what about images that are of different sizes, shapes, textures, formats etc etc?\n",
        "    # NOT NN's problem-> NN is handcoded, cannot be a global people pleaser. Instead it will perform good for\n",
        "    # a fixed type of input size\n",
        "    # hence before passing images to this NN, we should manually clean and manipulate images \n",
        " \n",
        "\n",
        "    \n"
      ],
      "execution_count": 0,
      "outputs": []
    },
    {
      "cell_type": "code",
      "metadata": {
        "id": "a0jOWPQSj06F",
        "colab_type": "code",
        "colab": {}
      },
      "source": [
        ""
      ],
      "execution_count": 0,
      "outputs": []
    }
  ]
}