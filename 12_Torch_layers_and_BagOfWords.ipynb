{
  "nbformat": 4,
  "nbformat_minor": 0,
  "metadata": {
    "colab": {
      "name": "12 Torch layers and BagOfWords.ipynb",
      "provenance": [],
      "collapsed_sections": [],
      "authorship_tag": "ABX9TyO7c1qIzzR8rooLB3sAmOw6",
      "include_colab_link": true
    },
    "kernelspec": {
      "name": "python3",
      "display_name": "Python 3"
    }
  },
  "cells": [
    {
      "cell_type": "markdown",
      "metadata": {
        "id": "view-in-github",
        "colab_type": "text"
      },
      "source": [
        "<a href=\"https://colab.research.google.com/github/a-forty-two/DataSetsForML/blob/master/12_Torch_layers_and_BagOfWords.ipynb\" target=\"_parent\"><img src=\"https://colab.research.google.com/assets/colab-badge.svg\" alt=\"Open In Colab\"/></a>"
      ]
    },
    {
      "cell_type": "markdown",
      "metadata": {
        "id": "pypLg4DJsCrN",
        "colab_type": "text"
      },
      "source": [
        "y = mx + c, Machine Learning\n",
        "\n",
        "TF---builds ---> Directed Acyclic Graph-> collection of neurons \n",
        "\n",
        "output = weights * input + bias \n",
        "\n",
        "\n",
        "Pytorch----builds---> Affine Map -> collection of neurons \n",
        "\n",
        "output = Affinity * input + bias "
      ]
    },
    {
      "cell_type": "code",
      "metadata": {
        "id": "xAkAgk5Kso-s",
        "colab_type": "code",
        "colab": {
          "base_uri": "https://localhost:8080/",
          "height": 34
        },
        "outputId": "cd91b4f4-85fa-41c9-c612-115a509b71fa"
      },
      "source": [
        "import torch\n",
        "import torch.nn as nn\n",
        "import torch.nn.functional as F\n",
        "import torch.optim as optim\n",
        "torch.manual_seed(42)"
      ],
      "execution_count": 25,
      "outputs": [
        {
          "output_type": "execute_result",
          "data": {
            "text/plain": [
              "<torch._C.Generator at 0x7f6fbaa67050>"
            ]
          },
          "metadata": {
            "tags": []
          },
          "execution_count": 25
        }
      ]
    },
    {
      "cell_type": "code",
      "metadata": {
        "id": "HfqD4P_Gs5jy",
        "colab_type": "code",
        "colab": {
          "base_uri": "https://localhost:8080/",
          "height": 193
        },
        "outputId": "c212413f-1bdc-43b3-c94b-8b4854033f3f"
      },
      "source": [
        "layer = nn.Linear(1,1) # maps 1 input to 1 output, single layer of neuron = ML \n",
        "data = torch.randn(5,1)\n",
        "print(data)\n",
        "print(layer(data)) "
      ],
      "execution_count": 3,
      "outputs": [
        {
          "output_type": "stream",
          "text": [
            "tensor([[ 1.1103],\n",
            "        [-1.6898],\n",
            "        [-0.9890],\n",
            "        [ 0.9580],\n",
            "        [ 1.3221]])\n",
            "tensor([[0.2124],\n",
            "        [1.3497],\n",
            "        [1.0650],\n",
            "        [0.2743],\n",
            "        [0.1264]], grad_fn=<AddmmBackward>)\n"
          ],
          "name": "stdout"
        }
      ]
    },
    {
      "cell_type": "code",
      "metadata": {
        "id": "3gCx8h1ltNPb",
        "colab_type": "code",
        "colab": {
          "base_uri": "https://localhost:8080/",
          "height": 158
        },
        "outputId": "263f4240-0683-43f6-8183-ac518b3380b3"
      },
      "source": [
        "data = torch.randn(4,4)\n",
        "print(data)\n",
        "print(F.relu(data))"
      ],
      "execution_count": 6,
      "outputs": [
        {
          "output_type": "stream",
          "text": [
            "tensor([[ 0.3466, -0.1973, -1.0546,  1.2780],\n",
            "        [ 0.1453,  0.2311,  0.0087, -0.1423],\n",
            "        [ 0.5750, -0.6417, -2.2064, -0.7508],\n",
            "        [ 2.8140,  0.3598, -0.0898,  0.4584]])\n",
            "tensor([[0.3466, 0.0000, 0.0000, 1.2780],\n",
            "        [0.1453, 0.2311, 0.0087, 0.0000],\n",
            "        [0.5750, 0.0000, 0.0000, 0.0000],\n",
            "        [2.8140, 0.3598, 0.0000, 0.4584]])\n"
          ],
          "name": "stdout"
        }
      ]
    },
    {
      "cell_type": "code",
      "metadata": {
        "id": "l7lmxdROuhoK",
        "colab_type": "code",
        "colab": {
          "base_uri": "https://localhost:8080/",
          "height": 70
        },
        "outputId": "e0403126-c16c-4e3b-d1b0-4b54443606be"
      },
      "source": [
        "# SOFTMAX  exp(x_i)/sum(exp(x_j))\n",
        "data = torch.randn(5)\n",
        "print(data)\n",
        "print(F.softmax(data, dim=0))\n",
        "print(F.log_softmax(data, dim=0))\n"
      ],
      "execution_count": 8,
      "outputs": [
        {
          "output_type": "stream",
          "text": [
            "tensor([-0.3417,  0.3040, -0.6890, -1.1267, -0.2858])\n",
            "tensor([0.1950, 0.3720, 0.1378, 0.0890, 0.2062])\n",
            "tensor([-1.6346, -0.9889, -1.9819, -2.4197, -1.5787])\n"
          ],
          "name": "stdout"
        }
      ]
    },
    {
      "cell_type": "code",
      "metadata": {
        "id": "v01LPj5YveO2",
        "colab_type": "code",
        "colab": {}
      },
      "source": [
        "# Use BagOfWord for text classification in PyTorch\n",
        "# Bag of Words\n",
        "# SET of Words -> no REPEATING!!! only unique elements\n",
        "# Hello world, and hello sparrow! -> { hello:2, world:1, and:1, sparrow:1} BAG of Words \n",
        "# We'll log regression on encoded bag of words for classification\n",
        "\n",
        "# y = log_Softmax(Ax+b) -> A is affinity, x is data, b is bias \n",
        "\n",
        "trainx = [(\"Como estais amigo? No habla espanol\".split(), \"SPANISH\"),\n",
        "          (\"Buffalo is black. Night is black.\".split(),\"ENGLISH\"),\n",
        "          (\"No creo que sea una buena idea\".split(),\"SPANISH\"),\n",
        "          (\"Buffalo is green. Night is green.\".split(),\"ENGLISH\")]\n",
        "testx = [(\"Yo creo que si, que pasa?\".split(),\"SPANISH\"),\n",
        "         (\"Night is buffalo. Green is black.\".split(),\"ENGLISH\")]\n"
      ],
      "execution_count": 0,
      "outputs": []
    },
    {
      "cell_type": "code",
      "metadata": {
        "id": "O4o4-d45xy5L",
        "colab_type": "code",
        "colab": {
          "base_uri": "https://localhost:8080/",
          "height": 404
        },
        "outputId": "40e919eb-3cf7-4d20-9262-47671c122788"
      },
      "source": [
        "# A set of all the words\n",
        "wordidx = {}\n",
        "for sent, _ in trainx+testx:\n",
        "  for word in sent:\n",
        "    if word not in wordidx:\n",
        "      wordidx[word] = len(wordidx)\n",
        "wordidx"
      ],
      "execution_count": 27,
      "outputs": [
        {
          "output_type": "execute_result",
          "data": {
            "text/plain": [
              "{'Buffalo': 6,\n",
              " 'Como': 0,\n",
              " 'Green': 21,\n",
              " 'Night': 9,\n",
              " 'No': 3,\n",
              " 'Yo': 17,\n",
              " 'amigo?': 2,\n",
              " 'black.': 8,\n",
              " 'buena': 14,\n",
              " 'buffalo.': 20,\n",
              " 'creo': 10,\n",
              " 'espanol': 5,\n",
              " 'estais': 1,\n",
              " 'green.': 16,\n",
              " 'habla': 4,\n",
              " 'idea': 15,\n",
              " 'is': 7,\n",
              " 'pasa?': 19,\n",
              " 'que': 11,\n",
              " 'sea': 12,\n",
              " 'si,': 18,\n",
              " 'una': 13}"
            ]
          },
          "metadata": {
            "tags": []
          },
          "execution_count": 27
        }
      ]
    },
    {
      "cell_type": "code",
      "metadata": {
        "id": "lskq3q3TydM-",
        "colab_type": "code",
        "colab": {}
      },
      "source": [
        "VOCAB_SIZE = len(wordidx)\n",
        "NUM_LABELS = 2\n",
        "# Object Oriented (CLASS is the MODEL definition)\n",
        "class BoWClassifier(nn.Module):  # Class is inheriting for nn.Module and becoming a NN\n",
        "  def __init__(this, num_labels, vocab_size):\n",
        "    super(BoWClassifier, this).__init__() # this invokes init of the parent \n",
        "    # dense(tf) are Linear (pt)\n",
        "    this.linear = nn.Linear(vocab_size, num_labels)\n",
        "  def forward(this, bow_vec):\n",
        "    val = F.softmax(this.linear(bow_vec), dim=1)\n",
        "    return val\n",
        "# Inheritence -> Parents give their public, protected, private everything to children who inherit them \n",
        "# so whatever functions, lambdas,etc that model.nn has will now be available for BoWClassifier as well\n",
        "\n"
      ],
      "execution_count": 0,
      "outputs": []
    },
    {
      "cell_type": "code",
      "metadata": {
        "id": "1uGeIYbB01bF",
        "colab_type": "code",
        "colab": {
          "base_uri": "https://localhost:8080/",
          "height": 354
        },
        "outputId": "8bb3e834-49e8-4355-ecf2-ceec64fe4983"
      },
      "source": [
        "#Bag of words\n",
        "import cv2\n",
        "import matplotlib.pyplot as plt\n",
        "x = cv2.imread('bow.jpg')\n",
        "plt.figure(figsize=(17,12))\n",
        "plt.imshow(x)\n"
      ],
      "execution_count": 16,
      "outputs": [
        {
          "output_type": "execute_result",
          "data": {
            "text/plain": [
              "<matplotlib.image.AxesImage at 0x7f6f68612080>"
            ]
          },
          "metadata": {
            "tags": []
          },
          "execution_count": 16
        },
        {
          "output_type": "display_data",
          "data": {
            "image/png": "[encoded data removed]",
            "text/plain": [
              "<Figure size 1224x864 with 1 Axes>"
            ]
          },
          "metadata": {
            "tags": []
          }
        }
      ]
    },
    {
      "cell_type": "code",
      "metadata": {
        "id": "gX5no7oG4BEh",
        "colab_type": "code",
        "colab": {
          "base_uri": "https://localhost:8080/",
          "height": 193
        },
        "outputId": "6fa9cc2c-7a0f-42a4-bfce-8f2015f510ef"
      },
      "source": [
        "def createVector(sentence, wordidx):\n",
        "  vec = torch.zeros(len(wordidx))\n",
        "  for word in sentence:\n",
        "    vec[wordidx[word]] += 1\n",
        "  return vec.view(1,-1) # -1 infer rest of the dimensions automatically \n",
        "  # .view reshapes the data into desired dimensions\n",
        "\n",
        "def createLabel(label, labelidx):\n",
        "  return torch.LongTensor([labelidx[label]]) # Float, Int, Long, Float16,Int16...\n",
        "\n",
        "model = BoWClassifier(NUM_LABELS, VOCAB_SIZE)\n",
        "for param in model.parameters():\n",
        "  print(param)"
      ],
      "execution_count": 53,
      "outputs": [
        {
          "output_type": "stream",
          "text": [
            "Parameter containing:\n",
            "tensor([[ 0.0610, -0.0466,  0.0830, -0.1750,  0.1583, -0.1565, -0.0368,  0.0445,\n",
            "          0.1101,  0.1721,  0.1942, -0.1691,  0.0537, -0.0917, -0.0234, -0.1596,\n",
            "          0.1942, -0.1565,  0.1139,  0.0749,  0.0693, -0.1153],\n",
            "        [ 0.1938,  0.0469,  0.0274, -0.1879,  0.0895, -0.0320, -0.0977,  0.1831,\n",
            "          0.0475, -0.1180, -0.1079, -0.0102,  0.1190, -0.0545, -0.1216, -0.0730,\n",
            "         -0.1593,  0.0760,  0.1650, -0.2007,  0.0495,  0.1101]],\n",
            "       requires_grad=True)\n",
            "Parameter containing:\n",
            "tensor([ 0.0387, -0.0759], requires_grad=True)\n"
          ],
          "name": "stdout"
        }
      ]
    },
    {
      "cell_type": "code",
      "metadata": {
        "id": "OADUpRdL6aOe",
        "colab_type": "code",
        "colab": {
          "base_uri": "https://localhost:8080/",
          "height": 193
        },
        "outputId": "57e145b3-5431-465e-c8c6-38387f089968"
      },
      "source": [
        ""
      ],
      "execution_count": 36,
      "outputs": [
        {
          "output_type": "stream",
          "text": [
            "Parameter containing:\n",
            "tensor([[ 0.1231,  0.0381,  0.1083, -0.1299, -0.2110, -0.0824, -0.1635,  0.1749,\n",
            "          0.0614,  0.0883,  0.0674, -0.0037,  0.1669, -0.1515,  0.0134, -0.1455,\n",
            "          0.0657, -0.0734,  0.0653, -0.0444,  0.1768, -0.1264],\n",
            "        [-0.1272, -0.1272,  0.1918,  0.0710,  0.2052, -0.1759, -0.2115, -0.1668,\n",
            "         -0.1434,  0.0864,  0.0763,  0.1772, -0.1101, -0.1453,  0.1131, -0.0862,\n",
            "          0.1294, -0.0506,  0.1220, -0.1657, -0.1076,  0.0650]],\n",
            "       requires_grad=True)\n",
            "Parameter containing:\n",
            "tensor([ 0.0451, -0.0544], requires_grad=True)\n"
          ],
          "name": "stdout"
        }
      ]
    },
    {
      "cell_type": "code",
      "metadata": {
        "id": "3wZrX8ty63fP",
        "colab_type": "code",
        "colab": {
          "base_uri": "https://localhost:8080/",
          "height": 70
        },
        "outputId": "ba3718ce-1f22-4a1f-934e-4d7b3101d882"
      },
      "source": [
        "\n",
        "# to run the model, we will take BoW vector and pass it to our creator\n",
        "with torch.no_grad():\n",
        "  sample = trainx[1]\n",
        "  bowvector = createVector(sample[0], wordidx)\n",
        "  print(bowvector)\n",
        "  log_probs = model(bowvector)\n",
        "  print(log_probs)"
      ],
      "execution_count": 54,
      "outputs": [
        {
          "output_type": "stream",
          "text": [
            "tensor([[0., 0., 0., 0., 0., 0., 1., 2., 2., 1., 0., 0., 0., 0., 0., 0., 0., 0.,\n",
            "         0., 0., 0., 0.]])\n",
            "tensor([[0.5777, 0.4223]])\n"
          ],
          "name": "stdout"
        }
      ]
    },
    {
      "cell_type": "code",
      "metadata": {
        "id": "576k5mL68KXf",
        "colab_type": "code",
        "colab": {}
      },
      "source": [
        ""
      ],
      "execution_count": 0,
      "outputs": []
    },
    {
      "cell_type": "code",
      "metadata": {
        "id": "CArnuKTeDp_V",
        "colab_type": "code",
        "colab": {
          "base_uri": "https://localhost:8080/",
          "height": 87
        },
        "outputId": "c5753c25-994f-4edb-8575-0aed9c7442fb"
      },
      "source": [
        "# Learning \n",
        "import numpy as np\n",
        "HP_epoch = 100\n",
        "labelidx = {\"SPANISH\":0, \"ENGLISH\":1}\n",
        "loss_fn = nn.NLLLoss()\n",
        "opt = optim.SGD(model.parameters(), lr=0.1)\n",
        "for epoch in range(HP_epoch):\n",
        "  for instance, label in trainx:\n",
        "    model.zero_grad() # resets the accumulated graidents, IMP: not weights, the GRADIENTS are being set to 0\n",
        "    bowvector = createVector(instance, wordidx)\n",
        "    target = createLabel(label, labelidx)\n",
        "    log_prob = model(bowvector)\n",
        "    loss = loss_fn(log_probs, target)\n",
        "    loss.requires_grad = True\n",
        "    # after calculating loss, update the weights \n",
        "    loss.backward()\n",
        "    opt.step()\n",
        "oppTrans = {0:'Spanish', 1:'English'}\n",
        "with torch.no_grad():\n",
        "  for instance, label in testx:\n",
        "    bowvector = createVector(instance, wordidx)\n",
        "    log_prob = model(bowvector)\n",
        "    print((oppTrans.get(np.argmax(log_prob).item())))\n",
        "\n",
        "\n",
        "val_data = [('que pasa?'.split(),'SPANISH')]\n",
        "with torch.no_grad():\n",
        "  for instance, label in val_data:\n",
        "    bowvector = createVector(instance, wordidx)\n",
        "    log_prob = model(bowvector)\n",
        "    print(instance)\n",
        "    print((oppTrans.get(np.argmax(log_prob).item())))\n",
        "\n"
      ],
      "execution_count": 65,
      "outputs": [
        {
          "output_type": "stream",
          "text": [
            "Spanish\n",
            "English\n",
            "['que', 'pasa?']\n",
            "Spanish\n"
          ],
          "name": "stdout"
        }
      ]
    },
    {
      "cell_type": "code",
      "metadata": {
        "id": "0Y0gXEQmFlXy",
        "colab_type": "code",
        "colab": {}
      },
      "source": [
        ""
      ],
      "execution_count": 0,
      "outputs": []
    }
  ]
}