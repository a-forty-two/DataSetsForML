{
  "nbformat": 4,
  "nbformat_minor": 0,
  "metadata": {
    "colab": {
      "name": "TimeSeriesAnalysis.ipynb",
      "provenance": [],
      "collapsed_sections": [],
      "authorship_tag": "ABX9TyM4ulm+jpW1mUcynktjr/1B",
      "include_colab_link": true
    },
    "kernelspec": {
      "name": "python3",
      "display_name": "Python 3"
    }
  },
  "cells": [
    {
      "cell_type": "markdown",
      "metadata": {
        "id": "view-in-github",
        "colab_type": "text"
      },
      "source": [
        "<a href=\"https://colab.research.google.com/github/a-forty-two/DataSetsForML/blob/master/TimeSeriesAnalysis.ipynb\" target=\"_parent\"><img src=\"https://colab.research.google.com/assets/colab-badge.svg\" alt=\"Open In Colab\"/></a>"
      ]
    },
    {
      "cell_type": "code",
      "metadata": {
        "id": "zkec9CxKMuEJ",
        "colab_type": "code",
        "colab": {
          "base_uri": "https://localhost:8080/",
          "height": 34
        },
        "outputId": "6f110939-f5f9-4f8b-8cf4-ee0f38f44b70"
      },
      "source": [
        "# No normalization\n",
        "!ls"
      ],
      "execution_count": 1,
      "outputs": [
        {
          "output_type": "stream",
          "text": [
            " sample_data  'Sample - Superstore (1).xls'\n"
          ],
          "name": "stdout"
        }
      ]
    },
    {
      "cell_type": "code",
      "metadata": {
        "id": "uxbfU8D8QNs_",
        "colab_type": "code",
        "colab": {}
      },
      "source": [
        "import warnings # only if time is left-> supress warning \n",
        "import itertools \n",
        "import numpy as np\n",
        "import pandas as pd\n",
        "import matplotlib.pyplot as plt\n",
        "import matplotlib\n",
        "import statsmodels.api as sm \n",
        "warnings.filterwarnings(\"ignore\") # for production\n"
      ],
      "execution_count": 0,
      "outputs": []
    },
    {
      "cell_type": "code",
      "metadata": {
        "id": "vd8CYSPHRPp7",
        "colab_type": "code",
        "colab": {}
      },
      "source": [
        "df = pd.read_excel(\"Sample - Superstore (1).xls\")\n",
        "data = df.loc[df['Category']=='Furniture'] # row filtering by name, could be by index also using iloc and col no."
      ],
      "execution_count": 0,
      "outputs": []
    },
    {
      "cell_type": "code",
      "metadata": {
        "id": "QZlZj1AvRagW",
        "colab_type": "code",
        "colab": {
          "base_uri": "https://localhost:8080/",
          "height": 34
        },
        "outputId": "1c5136bc-c4d2-4ffb-e6cf-0b2b0bc29beb"
      },
      "source": [
        "data['Order Date'].min()"
      ],
      "execution_count": 7,
      "outputs": [
        {
          "output_type": "execute_result",
          "data": {
            "text/plain": [
              "Timestamp('2014-01-06 00:00:00')"
            ]
          },
          "metadata": {
            "tags": []
          },
          "execution_count": 7
        }
      ]
    },
    {
      "cell_type": "code",
      "metadata": {
        "id": "g07w6Sg0TpI1",
        "colab_type": "code",
        "colab": {
          "base_uri": "https://localhost:8080/",
          "height": 34
        },
        "outputId": "1da3e705-7210-4b25-c474-798308ea68b4"
      },
      "source": [
        "data['Order Date'].max()"
      ],
      "execution_count": 8,
      "outputs": [
        {
          "output_type": "execute_result",
          "data": {
            "text/plain": [
              "Timestamp('2017-12-30 00:00:00')"
            ]
          },
          "metadata": {
            "tags": []
          },
          "execution_count": 8
        }
      ]
    },
    {
      "cell_type": "code",
      "metadata": {
        "id": "EeL6sHnJUBmT",
        "colab_type": "code",
        "colab": {
          "base_uri": "https://localhost:8080/",
          "height": 195
        },
        "outputId": "686fba74-9074-41bd-8d49-b43e94673f4b"
      },
      "source": [
        "#data.info()\n",
        "# MISSING values are not just null, but if there are factual missing data! dates missing!\n",
        "# some days where no order was placed?\n",
        "# Multiple orders could be placed on same date!!\n",
        "# Just for clarity, group by order date\n",
        "data_grouped = data.groupby('Order Date') # SQL operations -> GROUPBY, SUM, MUL, JOIN\n",
        "data_grouped = data_grouped['Sales'].sum().reset_index() # TOTAL SALES, hence sum \n",
        "# average if average sales/per order\n",
        "data_grouped.head() "
      ],
      "execution_count": 15,
      "outputs": [
        {
          "output_type": "execute_result",
          "data": {
            "text/html": [
              "<div>\n",
              "<style scoped>\n",
              "    .dataframe tbody tr th:only-of-type {\n",
              "        vertical-align: middle;\n",
              "    }\n",
              "\n",
              "    .dataframe tbody tr th {\n",
              "        vertical-align: top;\n",
              "    }\n",
              "\n",
              "    .dataframe thead th {\n",
              "        text-align: right;\n",
              "    }\n",
              "</style>\n",
              "<table border=\"1\" class=\"dataframe\">\n",
              "  <thead>\n",
              "    <tr style=\"text-align: right;\">\n",
              "      <th></th>\n",
              "      <th>Order Date</th>\n",
              "      <th>Sales</th>\n",
              "    </tr>\n",
              "  </thead>\n",
              "  <tbody>\n",
              "    <tr>\n",
              "      <th>0</th>\n",
              "      <td>2014-01-06</td>\n",
              "      <td>2573.820</td>\n",
              "    </tr>\n",
              "    <tr>\n",
              "      <th>1</th>\n",
              "      <td>2014-01-07</td>\n",
              "      <td>76.728</td>\n",
              "    </tr>\n",
              "    <tr>\n",
              "      <th>2</th>\n",
              "      <td>2014-01-10</td>\n",
              "      <td>51.940</td>\n",
              "    </tr>\n",
              "    <tr>\n",
              "      <th>3</th>\n",
              "      <td>2014-01-11</td>\n",
              "      <td>9.940</td>\n",
              "    </tr>\n",
              "    <tr>\n",
              "      <th>4</th>\n",
              "      <td>2014-01-13</td>\n",
              "      <td>879.939</td>\n",
              "    </tr>\n",
              "  </tbody>\n",
              "</table>\n",
              "</div>"
            ],
            "text/plain": [
              "  Order Date     Sales\n",
              "0 2014-01-06  2573.820\n",
              "1 2014-01-07    76.728\n",
              "2 2014-01-10    51.940\n",
              "3 2014-01-11     9.940\n",
              "4 2014-01-13   879.939"
            ]
          },
          "metadata": {
            "tags": []
          },
          "execution_count": 15
        }
      ]
    },
    {
      "cell_type": "code",
      "metadata": {
        "id": "rtK8qG70UFXQ",
        "colab_type": "code",
        "colab": {}
      },
      "source": [
        "data_grouped.set_index('Order Date', inplace=True)\n",
        "# its not just about nulls, what about dates not in record?\n",
        "# COMBINE my data to month level"
      ],
      "execution_count": 0,
      "outputs": []
    },
    {
      "cell_type": "code",
      "metadata": {
        "id": "9A5TObKNV0lu",
        "colab_type": "code",
        "colab": {
          "base_uri": "https://localhost:8080/",
          "height": 140
        },
        "outputId": "a3ccd0fc-87b8-4ac0-f89e-7a005f6b96c5"
      },
      "source": [
        "# for monthly sales, i should take average \n",
        "y = data_grouped['Sales'].resample('MS').mean()\n",
        "y.head()"
      ],
      "execution_count": 19,
      "outputs": [
        {
          "output_type": "execute_result",
          "data": {
            "text/plain": [
              "Order Date\n",
              "2014-01-01    480.194231\n",
              "2014-02-01    367.931600\n",
              "2014-03-01    857.291529\n",
              "2014-04-01    567.488357\n",
              "2014-05-01    432.049187\n",
              "Freq: MS, Name: Sales, dtype: float64"
            ]
          },
          "metadata": {
            "tags": []
          },
          "execution_count": 19
        }
      ]
    },
    {
      "cell_type": "code",
      "metadata": {
        "id": "PChkmYwwWcSz",
        "colab_type": "code",
        "colab": {
          "base_uri": "https://localhost:8080/",
          "height": 263
        },
        "outputId": "2525c00c-3e4a-44f6-fd03-675c01a36800"
      },
      "source": [
        "y['2017':] # just a peek into our data"
      ],
      "execution_count": 22,
      "outputs": [
        {
          "output_type": "execute_result",
          "data": {
            "text/plain": [
              "Order Date\n",
              "2017-01-01     397.602133\n",
              "2017-02-01     528.179800\n",
              "2017-03-01     544.672240\n",
              "2017-04-01     453.297905\n",
              "2017-05-01     678.302328\n",
              "2017-06-01     826.460291\n",
              "2017-07-01     562.524857\n",
              "2017-08-01     857.881889\n",
              "2017-09-01    1209.508583\n",
              "2017-10-01     875.362728\n",
              "2017-11-01    1277.817759\n",
              "2017-12-01    1256.298672\n",
              "Freq: MS, Name: Sales, dtype: float64"
            ]
          },
          "metadata": {
            "tags": []
          },
          "execution_count": 22
        }
      ]
    },
    {
      "cell_type": "code",
      "metadata": {
        "id": "Isxf2v8-X--I",
        "colab_type": "code",
        "colab": {
          "base_uri": "https://localhost:8080/",
          "height": 291
        },
        "outputId": "57b0466c-9889-49b6-faa5-0c4ed9d50e3d"
      },
      "source": [
        "y.plot(figsize=(10,4))\n",
        "plt.show()"
      ],
      "execution_count": 24,
      "outputs": [
        {
          "output_type": "display_data",
          "data": {
            "image/png": "[encoded data removed]",
            "text/plain": [
              "<Figure size 720x288 with 1 Axes>"
            ]
          },
          "metadata": {
            "tags": []
          }
        }
      ]
    },
    {
      "cell_type": "code",
      "metadata": {
        "id": "asDSxx3VYTN8",
        "colab_type": "code",
        "colab": {
          "base_uri": "https://localhost:8080/",
          "height": 299
        },
        "outputId": "d6f9a71b-fee6-467b-f61b-d49372eb9342"
      },
      "source": [
        "decomposition = sm.tsa.seasonal_decompose(y, model='additive') # Original = Season + Trend + Residue\n",
        "fig = decomposition.plot()\n",
        "plt.show() # SARIMA -> Seasons "
      ],
      "execution_count": 25,
      "outputs": [
        {
          "output_type": "display_data",
          "data": {
            "image/png": "[encoded data removed]",
            "text/plain": [
              "<Figure size 432x288 with 4 Axes>"
            ]
          },
          "metadata": {
            "tags": []
          }
        }
      ]
    },
    {
      "cell_type": "code",
      "metadata": {
        "id": "oX3FdwS6j3mp",
        "colab_type": "code",
        "colab": {
          "base_uri": "https://localhost:8080/",
          "height": 422
        },
        "outputId": "0345764c-9b90-498f-dc77-3d012cc49c29"
      },
      "source": [
        "# GRID SEARCH FOR EXHAUSTIVE MODELS \n",
        "# PLEASE NOTE: all models may not successfull -> often divide by 0 situation occur\n",
        "# NOT ALL combinations of (p,d,q) and S,T,R may be successful.\n",
        "# grid search will throw exception in such cases\n",
        "# our code should be well exception handled when grid searching \n",
        "\n",
        "p=d=q=range(0,2)\n",
        "pdq = list(itertools.product(p,d,q)) # similar to ARIMA \n",
        "# here we will insert seasonal combinations into our pdq\n",
        "seasons = 12 # because i have arranged data monthly, pattern cycle is 1 year-> hence season set to 1 year = 12 month\n",
        "seasonal_pdq = [(x[0],x[1],x[2],seasons) for x in pdq]\n",
        "# MERGE all combinations all PDQ with SEASONAL_PDQ\n",
        "print('SARIMAX individual model= {} X {}'.format(pdq[2],seasonal_pdq[3]))\n"
      ],
      "execution_count": 32,
      "outputs": [
        {
          "output_type": "stream",
          "text": [
            "SARIMAX individual model= (0, 1, 0) X (0, 1, 1, 12)\n",
            "Order Date\n",
            "2014-01-01     480.194231\n",
            "2014-02-01     367.931600\n",
            "2014-03-01     857.291529\n",
            "2014-04-01     567.488357\n",
            "2014-05-01     432.049187\n",
            "2014-06-01     695.059242\n",
            "2014-07-01     601.169500\n",
            "2014-08-01     457.521656\n",
            "2014-09-01     992.353367\n",
            "2014-10-01     769.015437\n",
            "2014-11-01     980.221486\n",
            "2014-12-01    1532.298325\n",
            "2015-01-01     978.328467\n",
            "2015-02-01     522.395667\n",
            "2015-03-01     781.236437\n",
            "2015-04-01     805.822962\n",
            "2015-05-01     624.996700\n",
            "2015-06-01     428.565500\n",
            "2015-07-01     719.706316\n",
            "2015-08-01     602.412012\n",
            "Freq: MS, Name: Sales, dtype: float64\n"
          ],
          "name": "stdout"
        }
      ]
    },
    {
      "cell_type": "code",
      "metadata": {
        "id": "d0Vy3czSlm_c",
        "colab_type": "code",
        "colab": {
          "base_uri": "https://localhost:8080/",
          "height": 1000
        },
        "outputId": "f89aad15-6711-4955-ce8d-52c65477c3cb"
      },
      "source": [
        "# GRID search and compare Akaike IC for each model\n",
        "for param in pdq:\n",
        "  for param_s in seasonal_pdq:\n",
        "    try:\n",
        "      model = sm.tsa.statespace.SARIMAX(y, order=param, seasonal_order=param_s, enforce_stationarity=False, enforce_invertibility=False)\n",
        "      predictions = model.fit()\n",
        "      print('SARIMAX individual model= {} X {}. AIC= {}'.format(param,param_s, predictions.aic))\n",
        "    except Exception as e:\n",
        "      print(e)\n",
        "      continue\n",
        "\n",
        "\n"
      ],
      "execution_count": 33,
      "outputs": [
        {
          "output_type": "stream",
          "text": [
            "SARIMAX individual model= (0, 0, 0) X (0, 0, 0, 12). AIC= 769.0817523205916\n",
            "SARIMAX individual model= (0, 0, 0) X (0, 0, 1, 12). AIC= 1478.4829845115771\n",
            "SARIMAX individual model= (0, 0, 0) X (0, 1, 0, 12). AIC= 477.71701309202774\n",
            "maxlag should be < nobs\n",
            "SARIMAX individual model= (0, 0, 0) X (1, 0, 0, 12). AIC= 497.2314433418337\n",
            "SARIMAX individual model= (0, 0, 0) X (1, 0, 1, 12). AIC= 1284.058367274109\n",
            "SARIMAX individual model= (0, 0, 0) X (1, 1, 0, 12). AIC= 318.0047199116341\n",
            "maxlag should be < nobs\n",
            "SARIMAX individual model= (0, 0, 1) X (0, 0, 0, 12). AIC= 720.9252270758101\n",
            "SARIMAX individual model= (0, 0, 1) X (0, 0, 1, 12). AIC= 3151.7661575378966\n",
            "SARIMAX individual model= (0, 0, 1) X (0, 1, 0, 12). AIC= 466.56074298091676\n",
            "maxlag should be < nobs\n",
            "SARIMAX individual model= (0, 0, 1) X (1, 0, 0, 12). AIC= 499.58288234908053\n",
            "SARIMAX individual model= (0, 0, 1) X (1, 0, 1, 12). AIC= 354243.3332148463\n",
            "SARIMAX individual model= (0, 0, 1) X (1, 1, 0, 12). AIC= 319.9884876946871\n",
            "maxlag should be < nobs\n",
            "SARIMAX individual model= (0, 1, 0) X (0, 0, 0, 12). AIC= 677.894766859465\n",
            "SARIMAX individual model= (0, 1, 0) X (0, 0, 1, 12). AIC= 1337.3478246551238\n",
            "SARIMAX individual model= (0, 1, 0) X (0, 1, 0, 12). AIC= 486.63785671879367\n",
            "maxlag should be < nobs\n",
            "SARIMAX individual model= (0, 1, 0) X (1, 0, 0, 12). AIC= 497.78896630044073\n",
            "SARIMAX individual model= (0, 1, 0) X (1, 0, 1, 12). AIC= 1288.7471922943844\n",
            "SARIMAX individual model= (0, 1, 0) X (1, 1, 0, 12). AIC= 319.7714068109211\n",
            "maxlag should be < nobs\n",
            "SARIMAX individual model= (0, 1, 1) X (0, 0, 0, 12). AIC= 649.9056176817185\n",
            "SARIMAX individual model= (0, 1, 1) X (0, 0, 1, 12). AIC= 2720.375037566438\n",
            "SARIMAX individual model= (0, 1, 1) X (0, 1, 0, 12). AIC= 458.8705548482636\n",
            "maxlag should be < nobs\n",
            "SARIMAX individual model= (0, 1, 1) X (1, 0, 0, 12). AIC= 486.18329774427485\n",
            "SARIMAX individual model= (0, 1, 1) X (1, 0, 1, 12). AIC= 2580.4648793520846\n",
            "SARIMAX individual model= (0, 1, 1) X (1, 1, 0, 12). AIC= 310.757436841719\n",
            "maxlag should be < nobs\n",
            "SARIMAX individual model= (1, 0, 0) X (0, 0, 0, 12). AIC= 692.1645522067712\n",
            "SARIMAX individual model= (1, 0, 0) X (0, 0, 1, 12). AIC= 1384.324523349358\n",
            "SARIMAX individual model= (1, 0, 0) X (0, 1, 0, 12). AIC= 479.46321478521355\n",
            "maxlag should be < nobs\n",
            "SARIMAX individual model= (1, 0, 0) X (1, 0, 0, 12). AIC= 480.9259367935196\n",
            "SARIMAX individual model= (1, 0, 0) X (1, 0, 1, 12). AIC= 1480.5365328669084\n",
            "SARIMAX individual model= (1, 0, 0) X (1, 1, 0, 12). AIC= 304.46646750846014\n",
            "maxlag should be < nobs\n",
            "SARIMAX individual model= (1, 0, 1) X (0, 0, 0, 12). AIC= 665.7794442185792\n",
            "SARIMAX individual model= (1, 0, 1) X (0, 0, 1, 12). AIC= 82127.29509766627\n",
            "SARIMAX individual model= (1, 0, 1) X (0, 1, 0, 12). AIC= 468.36851958141426\n",
            "maxlag should be < nobs\n",
            "SARIMAX individual model= (1, 0, 1) X (1, 0, 0, 12). AIC= 482.5763323876977\n",
            "SARIMAX individual model= (1, 0, 1) X (1, 0, 1, 12). AIC= 15008.560980242759\n",
            "SARIMAX individual model= (1, 0, 1) X (1, 1, 0, 12). AIC= 306.0156002152007\n",
            "maxlag should be < nobs\n",
            "SARIMAX individual model= (1, 1, 0) X (0, 0, 0, 12). AIC= 671.2513547541902\n",
            "SARIMAX individual model= (1, 1, 0) X (0, 0, 1, 12). AIC= 1222.3294534285433\n",
            "SARIMAX individual model= (1, 1, 0) X (0, 1, 0, 12). AIC= 479.2003422281135\n",
            "maxlag should be < nobs\n",
            "SARIMAX individual model= (1, 1, 0) X (1, 0, 0, 12). AIC= 475.3403658784892\n",
            "SARIMAX individual model= (1, 1, 0) X (1, 0, 1, 12). AIC= 1990.3094063453434\n",
            "SARIMAX individual model= (1, 1, 0) X (1, 1, 0, 12). AIC= 300.6270901345398\n",
            "maxlag should be < nobs\n",
            "SARIMAX individual model= (1, 1, 1) X (0, 0, 0, 12). AIC= 649.0318019835073\n",
            "SARIMAX individual model= (1, 1, 1) X (0, 0, 1, 12). AIC= 2583.6576862754373\n",
            "SARIMAX individual model= (1, 1, 1) X (0, 1, 0, 12). AIC= 460.4762687610653\n",
            "maxlag should be < nobs\n",
            "SARIMAX individual model= (1, 1, 1) X (1, 0, 0, 12). AIC= 469.52503546608216\n",
            "SARIMAX individual model= (1, 1, 1) X (1, 0, 1, 12). AIC= 3121.0642337973254\n",
            "SARIMAX individual model= (1, 1, 1) X (1, 1, 0, 12). AIC= 297.78754395408083\n",
            "maxlag should be < nobs\n"
          ],
          "name": "stdout"
        }
      ]
    },
    {
      "cell_type": "code",
      "metadata": {
        "id": "EiuTnrkwpK3_",
        "colab_type": "code",
        "colab": {}
      },
      "source": [
        "model = sm.tsa.statespace.SARIMAX(y, order=(1,1,1), seasonal_order=(1,1,0,12), enforce_stationarity=False, enforce_invertibility=False)"
      ],
      "execution_count": 0,
      "outputs": []
    },
    {
      "cell_type": "code",
      "metadata": {
        "id": "E-kQcKVXqqb3",
        "colab_type": "code",
        "colab": {
          "base_uri": "https://localhost:8080/",
          "height": 158
        },
        "outputId": "14cac3c0-82f7-46d7-8e02-523d8be17930"
      },
      "source": [
        "# USER PROVIDES me sales data-> furniture sales data-> PARAMETERS\n",
        "# EVERYTHING ELSE THAT DEVELOPERS SET that can impact your MDOEL-> HYPERPARAMETER\n",
        "# GRID search is extensively used for Hyperparameter search or tuning\n",
        "results = model.fit()\n",
        "print(results.summary().tables[1])"
      ],
      "execution_count": 35,
      "outputs": [
        {
          "output_type": "stream",
          "text": [
            "==============================================================================\n",
            "                 coef    std err          z      P>|z|      [0.025      0.975]\n",
            "------------------------------------------------------------------------------\n",
            "ar.L1          0.0146      0.342      0.043      0.966      -0.655       0.684\n",
            "ma.L1         -1.0000      0.360     -2.781      0.005      -1.705      -0.295\n",
            "ar.S.L12      -0.0253      0.042     -0.609      0.543      -0.107       0.056\n",
            "sigma2      2.958e+04   1.22e-05   2.43e+09      0.000    2.96e+04    2.96e+04\n",
            "==============================================================================\n"
          ],
          "name": "stdout"
        }
      ]
    },
    {
      "cell_type": "code",
      "metadata": {
        "id": "_4gn2VobrKSc",
        "colab_type": "code",
        "colab": {}
      },
      "source": [
        "\n"
      ],
      "execution_count": 0,
      "outputs": []
    }
  ]
}